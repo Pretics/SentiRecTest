{
 "cells": [
  {
   "cell_type": "markdown",
   "metadata": {},
   "source": [
    "## Global Settings and Imports"
   ]
  },
  {
   "cell_type": "code",
   "execution_count": 1,
   "metadata": {},
   "outputs": [],
   "source": [
    "# jupyter notebook에서 import 해서 쓰는 모듈의 코드가 변경될 시, 변동 사항을 자동으로 반영해주는 기능 켜기\n",
    "%load_ext autoreload\n",
    "%autoreload 2"
   ]
  },
  {
   "cell_type": "code",
   "execution_count": 2,
   "metadata": {},
   "outputs": [],
   "source": [
    "from utils.model_manager import ModelManager, ManagerArgs"
   ]
  },
  {
   "cell_type": "markdown",
   "metadata": {},
   "source": [
    "## Prepare parameters"
   ]
  },
  {
   "cell_type": "code",
   "execution_count": 3,
   "metadata": {},
   "outputs": [],
   "source": [
    "args = ManagerArgs(\n",
    "    config_path = \"config/model/sentirec/vader_manual1.yaml\"\n",
    "    # resume_ckpt_path = None\n",
    "    # test_ckpt_path = None\n",
    ")"
   ]
  },
  {
   "cell_type": "markdown",
   "metadata": {},
   "source": [
    "## 1. train 모드로 시작"
   ]
  },
  {
   "cell_type": "code",
   "execution_count": 4,
   "metadata": {},
   "outputs": [
    {
     "name": "stderr",
     "output_type": "stream",
     "text": [
      "Seed set to 1234\n",
      "100%|██████████| 3246/3246 [00:00<00:00, 22425.66it/s]\n",
      "100%|██████████| 235/235 [00:00<00:00, 16045.28it/s]\n",
      "100%|██████████| 1/1 [00:00<00:00, 997.46it/s]\n",
      "100%|██████████| 235/235 [00:00<00:00, 20422.71it/s]\n",
      "100%|██████████| 1/1 [00:00<00:00, 992.50it/s]\n",
      "GPU available: True (cuda), used: True\n",
      "TPU available: False, using: 0 TPU cores\n",
      "HPU available: False, using: 0 HPUs\n"
     ]
    }
   ],
   "source": [
    "model_manager = ModelManager(args, \"train\")"
   ]
  },
  {
   "cell_type": "code",
   "execution_count": 5,
   "metadata": {},
   "outputs": [
    {
     "data": {
      "text/plain": [
       "BaseConfig(name='sentirec', dataset_size='manual', preprocess_data_dir='data/preprocessed_data/manual', seed=1234, train_behavior='train/train_behavior.tsv', val_behavior='train/val_behavior.tsv', test_behavior='test/test_behavior.tsv', train_news='train/parsed_news.tsv', test_news='test/parsed_news.tsv', user2int='train/user2int.tsv', word2int='test/word2int.tsv', category2int='train/category2int.tsv', embedding_weights='test/embedding_weights.csv', max_history=200, num_words_title=100, num_words_abstract=100, num_categories=275, learning_rate=0.0001, dropout_probability=0.2, query_vector_dim=200, num_attention_heads=15, word_embedding_dim=300, freeze_word_embeddings=False, checkpoint=CheckpointConfig(dirpath='logs/lightning_logs/checkpoints/sentirec/vader_manual1', filename='{epoch}-{val_auc_epoch:.4f}', save_top_k=3, verbose=True, monitor='val_auc_epoch', mode='max', save_last=True), logger=LoggerConfig(save_dir='logs/lightning_logs/tensorboard', name='sentirec', version='vader_manual1'), early_stop=EarlyStopConfig(monitor='val_auc_epoch', min_delta=0.0001, patience=5, strict=False, verbose=True, mode='max'), train_dataloader=DataLoaderConfig(num_workers=0, persistent_workers=False, batch_size=1, drop_last=True), val_dataloader=DataLoaderConfig(num_workers=0, persistent_workers=False, batch_size=1, drop_last=False), test_dataloader=DataLoaderConfig(num_workers=0, persistent_workers=False, batch_size=1, drop_last=False), trainer=TrainerConfig(max_epochs=100, devices=1, accelerator='gpu', strategy='auto', fast_dev_run=False), find_unused_parameters=False, sentiment_regularization=True, sentiment_classifier='vader_sentiment', sentiment_prediction_loss_coeff=0.4, sentiment_diversity_loss_coeff=10)"
      ]
     },
     "execution_count": 5,
     "metadata": {},
     "output_type": "execute_result"
    }
   ],
   "source": [
    "model_manager.config"
   ]
  },
  {
   "cell_type": "code",
   "execution_count": null,
   "metadata": {},
   "outputs": [],
   "source": [
    "model_manager.fit()"
   ]
  },
  {
   "cell_type": "code",
   "execution_count": 7,
   "metadata": {},
   "outputs": [
    {
     "data": {
      "text/plain": [
       "'C:\\\\Users\\\\USER\\\\Desktop\\\\projects\\\\python\\\\newsrecommend\\\\SentiRecTest\\\\project\\\\logs\\\\lightning_logs\\\\checkpoints\\\\sentirec\\\\vader_manual1\\\\epoch=12-val_auc_epoch=0.8667-v9.ckpt'"
      ]
     },
     "execution_count": 7,
     "metadata": {},
     "output_type": "execute_result"
    }
   ],
   "source": [
    "model_manager.checkpoint_callback.best_model_path"
   ]
  },
  {
   "cell_type": "markdown",
   "metadata": {},
   "source": [
    "## 2. test 모드로 변경"
   ]
  },
  {
   "cell_type": "code",
   "execution_count": 8,
   "metadata": {},
   "outputs": [
    {
     "ename": "AttributeError",
     "evalue": "'dict' object has no attribute 'dirpath'",
     "output_type": "error",
     "traceback": [
      "\u001b[1;31m---------------------------------------------------------------------------\u001b[0m",
      "\u001b[1;31mAttributeError\u001b[0m                            Traceback (most recent call last)",
      "Cell \u001b[1;32mIn[8], line 2\u001b[0m\n\u001b[0;32m      1\u001b[0m ckpt_filename \u001b[38;5;241m=\u001b[39m \u001b[38;5;124m\"\u001b[39m\u001b[38;5;124mepoch=12-val_auc_epoch=0.8667-v8.ckpt\u001b[39m\u001b[38;5;124m\"\u001b[39m\n\u001b[1;32m----> 2\u001b[0m \u001b[43mmodel_manager\u001b[49m\u001b[38;5;241;43m.\u001b[39;49m\u001b[43mchange_to_test\u001b[49m\u001b[43m(\u001b[49m\u001b[43mckpt_filename\u001b[49m\u001b[43m)\u001b[49m\n",
      "File \u001b[1;32mc:\\Users\\USER\\Desktop\\projects\\python\\newsrecommend\\SentiRecTest\\project\\utils\\model_manager.py:76\u001b[0m, in \u001b[0;36mModelManager.change_to_test\u001b[1;34m(self, ckpt_filename)\u001b[0m\n\u001b[0;32m     75\u001b[0m \u001b[38;5;28;01mdef\u001b[39;00m\u001b[38;5;250m \u001b[39m\u001b[38;5;21mchange_to_test\u001b[39m(\u001b[38;5;28mself\u001b[39m, ckpt_filename):\n\u001b[1;32m---> 76\u001b[0m     \u001b[38;5;28mself\u001b[39m\u001b[38;5;241m.\u001b[39mcurrent_args\u001b[38;5;241m.\u001b[39mtest_ckpt_path \u001b[38;5;241m=\u001b[39m path\u001b[38;5;241m.\u001b[39mjoin(\u001b[38;5;28;43mself\u001b[39;49m\u001b[38;5;241;43m.\u001b[39;49m\u001b[43mconfig\u001b[49m\u001b[38;5;241;43m.\u001b[39;49m\u001b[43mcheckpoint\u001b[49m\u001b[38;5;241;43m.\u001b[39;49m\u001b[43mdirpath\u001b[49m, ckpt_filename)\n\u001b[0;32m     77\u001b[0m     \u001b[38;5;28mself\u001b[39m\u001b[38;5;241m.\u001b[39mmode \u001b[38;5;241m=\u001b[39m \u001b[38;5;124m\"\u001b[39m\u001b[38;5;124mtest\u001b[39m\u001b[38;5;124m\"\u001b[39m\n\u001b[0;32m     78\u001b[0m     \u001b[38;5;28mself\u001b[39m\u001b[38;5;241m.\u001b[39mupdate()\n",
      "\u001b[1;31mAttributeError\u001b[0m: 'dict' object has no attribute 'dirpath'"
     ]
    }
   ],
   "source": [
    "ckpt_filename = \"epoch=12-val_auc_epoch=0.8667-v8.ckpt\"\n",
    "model_manager.change_to_test(ckpt_filename)"
   ]
  },
  {
   "cell_type": "code",
   "execution_count": 10,
   "metadata": {},
   "outputs": [
    {
     "name": "stderr",
     "output_type": "stream",
     "text": [
      "LOCAL_RANK: 0 - CUDA_VISIBLE_DEVICES: [0]\n",
      "c:\\Users\\USER\\anaconda3\\envs\\newsrec\\lib\\site-packages\\pytorch_lightning\\trainer\\connectors\\data_connector.py:425: The 'test_dataloader' does not have many workers which may be a bottleneck. Consider increasing the value of the `num_workers` argument` to `num_workers=11` in the `DataLoader` to improve performance.\n"
     ]
    },
    {
     "data": {
      "application/vnd.jupyter.widget-view+json": {
       "model_id": "2281784013004bc687832171fe7e9dbe",
       "version_major": 2,
       "version_minor": 0
      },
      "text/plain": [
       "Testing: |          | 0/? [00:00<?, ?it/s]"
      ]
     },
     "metadata": {},
     "output_type": "display_data"
    },
    {
     "name": "stdout",
     "output_type": "stream",
     "text": [
      "────────────────────────────────────────────────────────────────────────────────────────────────────────────────────────\n",
      "         Test metric                 DataLoader 0\n",
      "────────────────────────────────────────────────────────────────────────────────────────────────────────────────────────\n",
      "       test_auc_epoch             0.7777777910232544\n",
      "test_ils_senti@10_bert_epoch      0.43403464555740356\n",
      "test_ils_senti@10_vader_epoch     0.22488000988960266\n",
      " test_ils_senti@5_bert_epoch      0.5201636552810669\n",
      "test_ils_senti@5_vader_epoch      0.16557000577449799\n",
      "   test_ils_topic@10_epoch        0.08888886123895645\n",
      "   test_ils_topic@5_epoch                 0.0\n",
      "       test_mrr_epoch             0.3333333432674408\n",
      "     test_ndcg@10_epoch                   0.5\n",
      "      test_ndcg@5_epoch                   0.5\n",
      "  test_senti@10_bert_epoch        0.11298489570617676\n",
      "  test_senti@10_vader_epoch               0.0\n",
      "   test_senti@5_bert_epoch       0.045690715312957764\n",
      "  test_senti@5_vader_epoch      0.00020492337353061885\n",
      "  test_senti_mrr_bert_epoch      0.021202029660344124\n",
      " test_senti_mrr_vader_epoch               0.0\n",
      "   test_topic_div@10_epoch        0.6666666865348816\n",
      "   test_topic_div@5_epoch         0.43481317162513733\n",
      "    test_topic_mrr_epoch          0.3810868561267853\n",
      "────────────────────────────────────────────────────────────────────────────────────────────────────────────────────────\n"
     ]
    },
    {
     "data": {
      "text/plain": [
       "[{'test_auc_epoch': 0.7777777910232544,\n",
       "  'test_mrr_epoch': 0.3333333432674408,\n",
       "  'test_ndcg@10_epoch': 0.5,\n",
       "  'test_ndcg@5_epoch': 0.5,\n",
       "  'test_senti@10_vader_epoch': 0.0,\n",
       "  'test_senti@5_vader_epoch': 0.00020492337353061885,\n",
       "  'test_senti_mrr_vader_epoch': 0.0,\n",
       "  'test_senti@10_bert_epoch': 0.11298489570617676,\n",
       "  'test_senti@5_bert_epoch': 0.045690715312957764,\n",
       "  'test_senti_mrr_bert_epoch': 0.021202029660344124,\n",
       "  'test_topic_div@10_epoch': 0.6666666865348816,\n",
       "  'test_topic_div@5_epoch': 0.43481317162513733,\n",
       "  'test_topic_mrr_epoch': 0.3810868561267853,\n",
       "  'test_ils_senti@10_vader_epoch': 0.22488000988960266,\n",
       "  'test_ils_senti@5_vader_epoch': 0.16557000577449799,\n",
       "  'test_ils_senti@10_bert_epoch': 0.43403464555740356,\n",
       "  'test_ils_senti@5_bert_epoch': 0.5201636552810669,\n",
       "  'test_ils_topic@10_epoch': 0.08888886123895645,\n",
       "  'test_ils_topic@5_epoch': 0.0}]"
      ]
     },
     "execution_count": 10,
     "metadata": {},
     "output_type": "execute_result"
    }
   ],
   "source": [
    "model_manager.test()"
   ]
  }
 ],
 "metadata": {
  "kernelspec": {
   "display_name": "newsrec",
   "language": "python",
   "name": "python3"
  },
  "language_info": {
   "codemirror_mode": {
    "name": "ipython",
    "version": 3
   },
   "file_extension": ".py",
   "mimetype": "text/x-python",
   "name": "python",
   "nbconvert_exporter": "python",
   "pygments_lexer": "ipython3",
   "version": "3.9.21"
  }
 },
 "nbformat": 4,
 "nbformat_minor": 2
}
