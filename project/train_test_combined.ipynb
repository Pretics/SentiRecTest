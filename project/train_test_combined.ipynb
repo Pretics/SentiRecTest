{
 "cells": [
  {
   "cell_type": "markdown",
   "metadata": {},
   "source": [
    "## Global Settings and Imports"
   ]
  },
  {
   "cell_type": "code",
   "execution_count": 1,
   "metadata": {},
   "outputs": [],
   "source": [
    "# jupyter notebook에서 import 해서 쓰는 모듈의 코드가 변경될 시, 변동 사항을 자동으로 반영해주는 기능 켜기\n",
    "%load_ext autoreload\n",
    "%autoreload 2"
   ]
  },
  {
   "cell_type": "code",
   "execution_count": 3,
   "metadata": {},
   "outputs": [],
   "source": [
    "from utils.model_manager import ModelManager, ManagerArgs"
   ]
  },
  {
   "cell_type": "markdown",
   "metadata": {},
   "source": [
    "## Prepare parameters"
   ]
  },
  {
   "cell_type": "code",
   "execution_count": 4,
   "metadata": {},
   "outputs": [],
   "source": [
    "args = ManagerArgs(\n",
    "    config_path = \"config/model/sentirec/vader_manual1.yaml\"\n",
    "    # resume_ckpt_path = None\n",
    "    # test_ckpt_path = None\n",
    ")"
   ]
  },
  {
   "cell_type": "markdown",
   "metadata": {},
   "source": [
    "## 1. train 모드로 시작"
   ]
  },
  {
   "cell_type": "code",
   "execution_count": 5,
   "metadata": {},
   "outputs": [
    {
     "name": "stderr",
     "output_type": "stream",
     "text": [
      "Seed set to 1234\n",
      "100%|██████████| 3246/3246 [00:00<00:00, 22292.59it/s]\n",
      "100%|██████████| 235/235 [00:00<00:00, 20423.14it/s]\n",
      "100%|██████████| 1/1 [00:00<00:00, 1003.66it/s]\n",
      "100%|██████████| 235/235 [00:00<00:00, 18789.54it/s]\n",
      "100%|██████████| 1/1 [00:00<00:00, 662.71it/s]\n",
      "GPU available: True (cuda), used: True\n",
      "TPU available: False, using: 0 TPU cores\n",
      "HPU available: False, using: 0 HPUs\n"
     ]
    }
   ],
   "source": [
    "model_manager = ModelManager(args, \"train\")"
   ]
  },
  {
   "cell_type": "code",
   "execution_count": 6,
   "metadata": {},
   "outputs": [
    {
     "name": "stderr",
     "output_type": "stream",
     "text": [
      "c:\\Users\\USER\\anaconda3\\envs\\newsrec\\lib\\site-packages\\pytorch_lightning\\callbacks\\model_checkpoint.py:654: Checkpoint directory C:\\Users\\USER\\Desktop\\projects\\python\\newsrecommend\\SentiRecTest\\project\\logs\\lightning_logs\\checkpoints\\sentirec\\vader_manual1 exists and is not empty.\n",
      "LOCAL_RANK: 0 - CUDA_VISIBLE_DEVICES: [0]\n",
      "\n",
      "   | Name                                   | Type             | Params | Mode \n",
      "-------------------------------------------------------------------------------------\n",
      "0  | news_encoder                           | TimeDistributed  | 1.4 M  | train\n",
      "1  | user_encoder                           | UserEncoder      | 421 K  | train\n",
      "2  | sentiment_predictor                    | Linear           | 301    | train\n",
      "3  | val_performance_metrics                | MetricCollection | 0      | train\n",
      "4  | val_sentiment_diversity_metrics_vader  | MetricCollection | 0      | train\n",
      "5  | val_sentiment_diversity_metrics_bert   | MetricCollection | 0      | train\n",
      "6  | test_performance_metrics               | MetricCollection | 0      | train\n",
      "7  | test_sentiment_diversity_metrics_vader | MetricCollection | 0      | train\n",
      "8  | test_sentiment_diversity_metrics_bert  | MetricCollection | 0      | train\n",
      "9  | test_topic_diversity_metrics           | MetricCollection | 0      | train\n",
      "10 | test_ils_senti_metrics_vader           | MetricCollection | 0      | train\n",
      "11 | test_ils_senti_metrics_bert            | MetricCollection | 0      | train\n",
      "12 | test_ils_topic_metrics                 | MetricCollection | 0      | train\n",
      "-------------------------------------------------------------------------------------\n",
      "1.8 M     Trainable params\n",
      "0         Non-trainable params\n",
      "1.8 M     Total params\n",
      "7.269     Total estimated model params size (MB)\n",
      "52        Modules in train mode\n",
      "0         Modules in eval mode\n"
     ]
    },
    {
     "data": {
      "application/vnd.jupyter.widget-view+json": {
       "model_id": "92d3629645154f99b1873cb6159fe008",
       "version_major": 2,
       "version_minor": 0
      },
      "text/plain": [
       "Sanity Checking: |          | 0/? [00:00<?, ?it/s]"
      ]
     },
     "metadata": {},
     "output_type": "display_data"
    },
    {
     "name": "stderr",
     "output_type": "stream",
     "text": [
      "c:\\Users\\USER\\anaconda3\\envs\\newsrec\\lib\\site-packages\\pytorch_lightning\\trainer\\connectors\\data_connector.py:425: The 'val_dataloader' does not have many workers which may be a bottleneck. Consider increasing the value of the `num_workers` argument` to `num_workers=11` in the `DataLoader` to improve performance.\n",
      "c:\\Users\\USER\\anaconda3\\envs\\newsrec\\lib\\site-packages\\pytorch_lightning\\trainer\\connectors\\data_connector.py:425: The 'train_dataloader' does not have many workers which may be a bottleneck. Consider increasing the value of the `num_workers` argument` to `num_workers=11` in the `DataLoader` to improve performance.\n",
      "c:\\Users\\USER\\anaconda3\\envs\\newsrec\\lib\\site-packages\\pytorch_lightning\\loops\\fit_loop.py:310: The number of training batches (1) is smaller than the logging interval Trainer(log_every_n_steps=50). Set a lower value for log_every_n_steps if you want to see logs for the training epoch.\n"
     ]
    },
    {
     "data": {
      "application/vnd.jupyter.widget-view+json": {
       "model_id": "dce3874986464bb7929e1effbb860d0e",
       "version_major": 2,
       "version_minor": 0
      },
      "text/plain": [
       "Training: |          | 0/? [00:00<?, ?it/s]"
      ]
     },
     "metadata": {},
     "output_type": "display_data"
    },
    {
     "data": {
      "application/vnd.jupyter.widget-view+json": {
       "model_id": "2b2f022fe463480587470c1c6acb5032",
       "version_major": 2,
       "version_minor": 0
      },
      "text/plain": [
       "Validation: |          | 0/? [00:00<?, ?it/s]"
      ]
     },
     "metadata": {},
     "output_type": "display_data"
    },
    {
     "name": "stderr",
     "output_type": "stream",
     "text": [
      "Metric val_auc_epoch improved. New best score: 0.178\n",
      "Epoch 0, global step 1: 'val_auc_epoch' reached 0.17778 (best 0.17778), saving model to 'C:\\\\Users\\\\USER\\\\Desktop\\\\projects\\\\python\\\\newsrecommend\\\\SentiRecTest\\\\project\\\\logs\\\\lightning_logs\\\\checkpoints\\\\sentirec\\\\vader_manual1\\\\epoch=0-val_auc_epoch=0.1778.ckpt' as top 3\n"
     ]
    },
    {
     "data": {
      "application/vnd.jupyter.widget-view+json": {
       "model_id": "482ef491905643deb1229ac8006b7318",
       "version_major": 2,
       "version_minor": 0
      },
      "text/plain": [
       "Validation: |          | 0/? [00:00<?, ?it/s]"
      ]
     },
     "metadata": {},
     "output_type": "display_data"
    },
    {
     "name": "stderr",
     "output_type": "stream",
     "text": [
      "Metric val_auc_epoch improved by 0.044 >= min_delta = 0.0001. New best score: 0.222\n",
      "Epoch 1, global step 2: 'val_auc_epoch' reached 0.22222 (best 0.22222), saving model to 'C:\\\\Users\\\\USER\\\\Desktop\\\\projects\\\\python\\\\newsrecommend\\\\SentiRecTest\\\\project\\\\logs\\\\lightning_logs\\\\checkpoints\\\\sentirec\\\\vader_manual1\\\\epoch=1-val_auc_epoch=0.2222.ckpt' as top 3\n"
     ]
    },
    {
     "data": {
      "application/vnd.jupyter.widget-view+json": {
       "model_id": "901ab763b7ab48a68c73fbbe8908d48c",
       "version_major": 2,
       "version_minor": 0
      },
      "text/plain": [
       "Validation: |          | 0/? [00:00<?, ?it/s]"
      ]
     },
     "metadata": {},
     "output_type": "display_data"
    },
    {
     "name": "stderr",
     "output_type": "stream",
     "text": [
      "Metric val_auc_epoch improved by 0.156 >= min_delta = 0.0001. New best score: 0.378\n",
      "Epoch 2, global step 3: 'val_auc_epoch' reached 0.37778 (best 0.37778), saving model to 'C:\\\\Users\\\\USER\\\\Desktop\\\\projects\\\\python\\\\newsrecommend\\\\SentiRecTest\\\\project\\\\logs\\\\lightning_logs\\\\checkpoints\\\\sentirec\\\\vader_manual1\\\\epoch=2-val_auc_epoch=0.3778.ckpt' as top 3\n"
     ]
    },
    {
     "data": {
      "application/vnd.jupyter.widget-view+json": {
       "model_id": "8e2e224e39d245e78dfabdb0f597e485",
       "version_major": 2,
       "version_minor": 0
      },
      "text/plain": [
       "Validation: |          | 0/? [00:00<?, ?it/s]"
      ]
     },
     "metadata": {},
     "output_type": "display_data"
    },
    {
     "name": "stderr",
     "output_type": "stream",
     "text": [
      "Metric val_auc_epoch improved by 0.311 >= min_delta = 0.0001. New best score: 0.689\n",
      "Epoch 3, global step 4: 'val_auc_epoch' reached 0.68889 (best 0.68889), saving model to 'C:\\\\Users\\\\USER\\\\Desktop\\\\projects\\\\python\\\\newsrecommend\\\\SentiRecTest\\\\project\\\\logs\\\\lightning_logs\\\\checkpoints\\\\sentirec\\\\vader_manual1\\\\epoch=3-val_auc_epoch=0.6889.ckpt' as top 3\n"
     ]
    },
    {
     "data": {
      "application/vnd.jupyter.widget-view+json": {
       "model_id": "f07c1983f9e74b09bab3a3f5c321c526",
       "version_major": 2,
       "version_minor": 0
      },
      "text/plain": [
       "Validation: |          | 0/? [00:00<?, ?it/s]"
      ]
     },
     "metadata": {},
     "output_type": "display_data"
    },
    {
     "name": "stderr",
     "output_type": "stream",
     "text": [
      "Metric val_auc_epoch improved by 0.044 >= min_delta = 0.0001. New best score: 0.733\n",
      "Epoch 4, global step 5: 'val_auc_epoch' reached 0.73333 (best 0.73333), saving model to 'C:\\\\Users\\\\USER\\\\Desktop\\\\projects\\\\python\\\\newsrecommend\\\\SentiRecTest\\\\project\\\\logs\\\\lightning_logs\\\\checkpoints\\\\sentirec\\\\vader_manual1\\\\epoch=4-val_auc_epoch=0.7333.ckpt' as top 3\n"
     ]
    },
    {
     "data": {
      "application/vnd.jupyter.widget-view+json": {
       "model_id": "a70e7d8fd4f3430fbdbe8763d58b58d3",
       "version_major": 2,
       "version_minor": 0
      },
      "text/plain": [
       "Validation: |          | 0/? [00:00<?, ?it/s]"
      ]
     },
     "metadata": {},
     "output_type": "display_data"
    },
    {
     "name": "stderr",
     "output_type": "stream",
     "text": [
      "Metric val_auc_epoch improved by 0.044 >= min_delta = 0.0001. New best score: 0.778\n",
      "Epoch 5, global step 6: 'val_auc_epoch' reached 0.77778 (best 0.77778), saving model to 'C:\\\\Users\\\\USER\\\\Desktop\\\\projects\\\\python\\\\newsrecommend\\\\SentiRecTest\\\\project\\\\logs\\\\lightning_logs\\\\checkpoints\\\\sentirec\\\\vader_manual1\\\\epoch=5-val_auc_epoch=0.7778.ckpt' as top 3\n"
     ]
    },
    {
     "data": {
      "application/vnd.jupyter.widget-view+json": {
       "model_id": "42c42754eea74d6eabcefb1556f1739a",
       "version_major": 2,
       "version_minor": 0
      },
      "text/plain": [
       "Validation: |          | 0/? [00:00<?, ?it/s]"
      ]
     },
     "metadata": {},
     "output_type": "display_data"
    },
    {
     "name": "stderr",
     "output_type": "stream",
     "text": [
      "Metric val_auc_epoch improved by 0.044 >= min_delta = 0.0001. New best score: 0.822\n",
      "Epoch 6, global step 7: 'val_auc_epoch' reached 0.82222 (best 0.82222), saving model to 'C:\\\\Users\\\\USER\\\\Desktop\\\\projects\\\\python\\\\newsrecommend\\\\SentiRecTest\\\\project\\\\logs\\\\lightning_logs\\\\checkpoints\\\\sentirec\\\\vader_manual1\\\\epoch=6-val_auc_epoch=0.8222.ckpt' as top 3\n"
     ]
    },
    {
     "data": {
      "application/vnd.jupyter.widget-view+json": {
       "model_id": "372b8fba5567445a8826c874f50b4bbf",
       "version_major": 2,
       "version_minor": 0
      },
      "text/plain": [
       "Validation: |          | 0/? [00:00<?, ?it/s]"
      ]
     },
     "metadata": {},
     "output_type": "display_data"
    },
    {
     "name": "stderr",
     "output_type": "stream",
     "text": [
      "Epoch 7, global step 8: 'val_auc_epoch' reached 0.82222 (best 0.82222), saving model to 'C:\\\\Users\\\\USER\\\\Desktop\\\\projects\\\\python\\\\newsrecommend\\\\SentiRecTest\\\\project\\\\logs\\\\lightning_logs\\\\checkpoints\\\\sentirec\\\\vader_manual1\\\\epoch=7-val_auc_epoch=0.8222.ckpt' as top 3\n"
     ]
    },
    {
     "data": {
      "application/vnd.jupyter.widget-view+json": {
       "model_id": "497a124482a949c1a167fb3f3c20af25",
       "version_major": 2,
       "version_minor": 0
      },
      "text/plain": [
       "Validation: |          | 0/? [00:00<?, ?it/s]"
      ]
     },
     "metadata": {},
     "output_type": "display_data"
    },
    {
     "name": "stderr",
     "output_type": "stream",
     "text": [
      "Epoch 8, global step 9: 'val_auc_epoch' reached 0.82222 (best 0.82222), saving model to 'C:\\\\Users\\\\USER\\\\Desktop\\\\projects\\\\python\\\\newsrecommend\\\\SentiRecTest\\\\project\\\\logs\\\\lightning_logs\\\\checkpoints\\\\sentirec\\\\vader_manual1\\\\epoch=8-val_auc_epoch=0.8222.ckpt' as top 3\n"
     ]
    },
    {
     "data": {
      "application/vnd.jupyter.widget-view+json": {
       "model_id": "6231fcd20c4c4cc28d5cb41d0e8b974a",
       "version_major": 2,
       "version_minor": 0
      },
      "text/plain": [
       "Validation: |          | 0/? [00:00<?, ?it/s]"
      ]
     },
     "metadata": {},
     "output_type": "display_data"
    },
    {
     "name": "stderr",
     "output_type": "stream",
     "text": [
      "Metric val_auc_epoch improved by 0.022 >= min_delta = 0.0001. New best score: 0.844\n",
      "Epoch 9, global step 10: 'val_auc_epoch' reached 0.84444 (best 0.84444), saving model to 'C:\\\\Users\\\\USER\\\\Desktop\\\\projects\\\\python\\\\newsrecommend\\\\SentiRecTest\\\\project\\\\logs\\\\lightning_logs\\\\checkpoints\\\\sentirec\\\\vader_manual1\\\\epoch=9-val_auc_epoch=0.8444.ckpt' as top 3\n"
     ]
    },
    {
     "data": {
      "application/vnd.jupyter.widget-view+json": {
       "model_id": "c46870e39ecb45eabb88b8dc1af1f105",
       "version_major": 2,
       "version_minor": 0
      },
      "text/plain": [
       "Validation: |          | 0/? [00:00<?, ?it/s]"
      ]
     },
     "metadata": {},
     "output_type": "display_data"
    },
    {
     "name": "stderr",
     "output_type": "stream",
     "text": [
      "Epoch 10, global step 11: 'val_auc_epoch' reached 0.84444 (best 0.84444), saving model to 'C:\\\\Users\\\\USER\\\\Desktop\\\\projects\\\\python\\\\newsrecommend\\\\SentiRecTest\\\\project\\\\logs\\\\lightning_logs\\\\checkpoints\\\\sentirec\\\\vader_manual1\\\\epoch=10-val_auc_epoch=0.8444-v8.ckpt' as top 3\n"
     ]
    },
    {
     "data": {
      "application/vnd.jupyter.widget-view+json": {
       "model_id": "8151ff4b283942fbbdc2b21846494005",
       "version_major": 2,
       "version_minor": 0
      },
      "text/plain": [
       "Validation: |          | 0/? [00:00<?, ?it/s]"
      ]
     },
     "metadata": {},
     "output_type": "display_data"
    },
    {
     "name": "stderr",
     "output_type": "stream",
     "text": [
      "Epoch 11, global step 12: 'val_auc_epoch' reached 0.84444 (best 0.84444), saving model to 'C:\\\\Users\\\\USER\\\\Desktop\\\\projects\\\\python\\\\newsrecommend\\\\SentiRecTest\\\\project\\\\logs\\\\lightning_logs\\\\checkpoints\\\\sentirec\\\\vader_manual1\\\\epoch=11-val_auc_epoch=0.8444-v8.ckpt' as top 3\n"
     ]
    },
    {
     "data": {
      "application/vnd.jupyter.widget-view+json": {
       "model_id": "481ffc12bb8442d5a2ed6029b12efa68",
       "version_major": 2,
       "version_minor": 0
      },
      "text/plain": [
       "Validation: |          | 0/? [00:00<?, ?it/s]"
      ]
     },
     "metadata": {},
     "output_type": "display_data"
    },
    {
     "name": "stderr",
     "output_type": "stream",
     "text": [
      "Metric val_auc_epoch improved by 0.022 >= min_delta = 0.0001. New best score: 0.867\n",
      "Epoch 12, global step 13: 'val_auc_epoch' reached 0.86667 (best 0.86667), saving model to 'C:\\\\Users\\\\USER\\\\Desktop\\\\projects\\\\python\\\\newsrecommend\\\\SentiRecTest\\\\project\\\\logs\\\\lightning_logs\\\\checkpoints\\\\sentirec\\\\vader_manual1\\\\epoch=12-val_auc_epoch=0.8667-v8.ckpt' as top 3\n"
     ]
    },
    {
     "data": {
      "application/vnd.jupyter.widget-view+json": {
       "model_id": "3d62e252fec244398a466758ff4e75e2",
       "version_major": 2,
       "version_minor": 0
      },
      "text/plain": [
       "Validation: |          | 0/? [00:00<?, ?it/s]"
      ]
     },
     "metadata": {},
     "output_type": "display_data"
    },
    {
     "name": "stderr",
     "output_type": "stream",
     "text": [
      "Epoch 13, global step 14: 'val_auc_epoch' was not in top 3\n"
     ]
    },
    {
     "data": {
      "application/vnd.jupyter.widget-view+json": {
       "model_id": "d433d4d627154aaab95be1be5b023a47",
       "version_major": 2,
       "version_minor": 0
      },
      "text/plain": [
       "Validation: |          | 0/? [00:00<?, ?it/s]"
      ]
     },
     "metadata": {},
     "output_type": "display_data"
    },
    {
     "name": "stderr",
     "output_type": "stream",
     "text": [
      "Epoch 14, global step 15: 'val_auc_epoch' was not in top 3\n"
     ]
    },
    {
     "data": {
      "application/vnd.jupyter.widget-view+json": {
       "model_id": "5cfb883ff3f7495ea7d453c8b0a7f9ec",
       "version_major": 2,
       "version_minor": 0
      },
      "text/plain": [
       "Validation: |          | 0/? [00:00<?, ?it/s]"
      ]
     },
     "metadata": {},
     "output_type": "display_data"
    },
    {
     "name": "stderr",
     "output_type": "stream",
     "text": [
      "Epoch 15, global step 16: 'val_auc_epoch' was not in top 3\n"
     ]
    },
    {
     "data": {
      "application/vnd.jupyter.widget-view+json": {
       "model_id": "4319924ed8a04a74a2387ec0c251ce57",
       "version_major": 2,
       "version_minor": 0
      },
      "text/plain": [
       "Validation: |          | 0/? [00:00<?, ?it/s]"
      ]
     },
     "metadata": {},
     "output_type": "display_data"
    },
    {
     "name": "stderr",
     "output_type": "stream",
     "text": [
      "Epoch 16, global step 17: 'val_auc_epoch' was not in top 3\n"
     ]
    },
    {
     "data": {
      "application/vnd.jupyter.widget-view+json": {
       "model_id": "e5e19d5086744258af540222b0ee2e62",
       "version_major": 2,
       "version_minor": 0
      },
      "text/plain": [
       "Validation: |          | 0/? [00:00<?, ?it/s]"
      ]
     },
     "metadata": {},
     "output_type": "display_data"
    },
    {
     "name": "stderr",
     "output_type": "stream",
     "text": [
      "Monitored metric val_auc_epoch did not improve in the last 5 records. Best score: 0.867. Signaling Trainer to stop.\n",
      "Epoch 17, global step 18: 'val_auc_epoch' was not in top 3\n"
     ]
    }
   ],
   "source": [
    "model_manager.fit()"
   ]
  },
  {
   "cell_type": "code",
   "execution_count": 7,
   "metadata": {},
   "outputs": [
    {
     "data": {
      "text/plain": [
       "'C:\\\\Users\\\\USER\\\\Desktop\\\\projects\\\\python\\\\newsrecommend\\\\SentiRecTest\\\\project\\\\logs\\\\lightning_logs\\\\checkpoints\\\\sentirec\\\\vader_manual1\\\\epoch=12-val_auc_epoch=0.8667-v8.ckpt'"
      ]
     },
     "execution_count": 7,
     "metadata": {},
     "output_type": "execute_result"
    }
   ],
   "source": [
    "model_manager.checkpoint_callback.best_model_path"
   ]
  },
  {
   "cell_type": "markdown",
   "metadata": {},
   "source": [
    "## 2. test 모드로 변경"
   ]
  },
  {
   "cell_type": "code",
   "execution_count": null,
   "metadata": {},
   "outputs": [
    {
     "name": "stderr",
     "output_type": "stream",
     "text": [
      "Seed set to 1234\n",
      "100%|██████████| 3246/3246 [00:00<00:00, 22455.33it/s]\n",
      "100%|██████████| 24/24 [00:00<00:00, 11959.52it/s]\n",
      "100%|██████████| 1/1 [00:00<00:00, 1000.79it/s]\n",
      "GPU available: True (cuda), used: True\n",
      "TPU available: False, using: 0 TPU cores\n",
      "HPU available: False, using: 0 HPUs\n"
     ]
    }
   ],
   "source": [
    "ckpt_filename = \"epoch=12-val_auc_epoch=0.8667-v6.ckpt\"\n",
    "model_manager.change_to_test(ckpt_filename)"
   ]
  },
  {
   "cell_type": "code",
   "execution_count": 10,
   "metadata": {},
   "outputs": [
    {
     "name": "stderr",
     "output_type": "stream",
     "text": [
      "LOCAL_RANK: 0 - CUDA_VISIBLE_DEVICES: [0]\n",
      "c:\\Users\\USER\\anaconda3\\envs\\newsrec\\lib\\site-packages\\pytorch_lightning\\trainer\\connectors\\data_connector.py:425: The 'test_dataloader' does not have many workers which may be a bottleneck. Consider increasing the value of the `num_workers` argument` to `num_workers=11` in the `DataLoader` to improve performance.\n"
     ]
    },
    {
     "data": {
      "application/vnd.jupyter.widget-view+json": {
       "model_id": "2281784013004bc687832171fe7e9dbe",
       "version_major": 2,
       "version_minor": 0
      },
      "text/plain": [
       "Testing: |          | 0/? [00:00<?, ?it/s]"
      ]
     },
     "metadata": {},
     "output_type": "display_data"
    },
    {
     "name": "stdout",
     "output_type": "stream",
     "text": [
      "────────────────────────────────────────────────────────────────────────────────────────────────────────────────────────\n",
      "         Test metric                 DataLoader 0\n",
      "────────────────────────────────────────────────────────────────────────────────────────────────────────────────────────\n",
      "       test_auc_epoch             0.7777777910232544\n",
      "test_ils_senti@10_bert_epoch      0.43403464555740356\n",
      "test_ils_senti@10_vader_epoch     0.22488000988960266\n",
      " test_ils_senti@5_bert_epoch      0.5201636552810669\n",
      "test_ils_senti@5_vader_epoch      0.16557000577449799\n",
      "   test_ils_topic@10_epoch        0.08888886123895645\n",
      "   test_ils_topic@5_epoch                 0.0\n",
      "       test_mrr_epoch             0.3333333432674408\n",
      "     test_ndcg@10_epoch                   0.5\n",
      "      test_ndcg@5_epoch                   0.5\n",
      "  test_senti@10_bert_epoch        0.11298489570617676\n",
      "  test_senti@10_vader_epoch               0.0\n",
      "   test_senti@5_bert_epoch       0.045690715312957764\n",
      "  test_senti@5_vader_epoch      0.00020492337353061885\n",
      "  test_senti_mrr_bert_epoch      0.021202029660344124\n",
      " test_senti_mrr_vader_epoch               0.0\n",
      "   test_topic_div@10_epoch        0.6666666865348816\n",
      "   test_topic_div@5_epoch         0.43481317162513733\n",
      "    test_topic_mrr_epoch          0.3810868561267853\n",
      "────────────────────────────────────────────────────────────────────────────────────────────────────────────────────────\n"
     ]
    },
    {
     "data": {
      "text/plain": [
       "[{'test_auc_epoch': 0.7777777910232544,\n",
       "  'test_mrr_epoch': 0.3333333432674408,\n",
       "  'test_ndcg@10_epoch': 0.5,\n",
       "  'test_ndcg@5_epoch': 0.5,\n",
       "  'test_senti@10_vader_epoch': 0.0,\n",
       "  'test_senti@5_vader_epoch': 0.00020492337353061885,\n",
       "  'test_senti_mrr_vader_epoch': 0.0,\n",
       "  'test_senti@10_bert_epoch': 0.11298489570617676,\n",
       "  'test_senti@5_bert_epoch': 0.045690715312957764,\n",
       "  'test_senti_mrr_bert_epoch': 0.021202029660344124,\n",
       "  'test_topic_div@10_epoch': 0.6666666865348816,\n",
       "  'test_topic_div@5_epoch': 0.43481317162513733,\n",
       "  'test_topic_mrr_epoch': 0.3810868561267853,\n",
       "  'test_ils_senti@10_vader_epoch': 0.22488000988960266,\n",
       "  'test_ils_senti@5_vader_epoch': 0.16557000577449799,\n",
       "  'test_ils_senti@10_bert_epoch': 0.43403464555740356,\n",
       "  'test_ils_senti@5_bert_epoch': 0.5201636552810669,\n",
       "  'test_ils_topic@10_epoch': 0.08888886123895645,\n",
       "  'test_ils_topic@5_epoch': 0.0}]"
      ]
     },
     "execution_count": 10,
     "metadata": {},
     "output_type": "execute_result"
    }
   ],
   "source": [
    "model_manager.test()"
   ]
  }
 ],
 "metadata": {
  "kernelspec": {
   "display_name": "newsrec",
   "language": "python",
   "name": "python3"
  },
  "language_info": {
   "codemirror_mode": {
    "name": "ipython",
    "version": 3
   },
   "file_extension": ".py",
   "mimetype": "text/x-python",
   "name": "python",
   "nbconvert_exporter": "python",
   "pygments_lexer": "ipython3",
   "version": "3.9.21"
  }
 },
 "nbformat": 4,
 "nbformat_minor": 2
}
