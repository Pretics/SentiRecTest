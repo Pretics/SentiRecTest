{
 "cells": [
  {
   "cell_type": "markdown",
   "metadata": {},
   "source": [
    "## Global Settings and Imports"
   ]
  },
  {
   "cell_type": "code",
   "execution_count": 1,
   "metadata": {},
   "outputs": [],
   "source": [
    "# jupyter notebook에서 import 해서 쓰는 모듈의 코드가 변경될 시, 변동 사항을 자동으로 반영해주는 기능 켜기\n",
    "%load_ext autoreload\n",
    "%autoreload 2"
   ]
  },
  {
   "cell_type": "code",
   "execution_count": 2,
   "metadata": {},
   "outputs": [],
   "source": [
    "from os import path\n",
    "from utils.model_manager import ModelManager, ModelArgs"
   ]
  },
  {
   "cell_type": "markdown",
   "metadata": {},
   "source": [
    "## Prepare parameters"
   ]
  },
  {
   "cell_type": "code",
   "execution_count": 3,
   "metadata": {},
   "outputs": [],
   "source": [
    "args = ModelArgs(\n",
    "    config = \"config/model/sentirec/vader_manual1.yaml\",\n",
    "    resume = None,\n",
    "    ckpt = None\n",
    ")"
   ]
  },
  {
   "cell_type": "markdown",
   "metadata": {},
   "source": [
    "## 1. train 모드로 시작"
   ]
  },
  {
   "cell_type": "code",
   "execution_count": 4,
   "metadata": {},
   "outputs": [
    {
     "name": "stderr",
     "output_type": "stream",
     "text": [
      "Seed set to 1234\n",
      "100%|██████████| 3246/3246 [00:00<00:00, 23003.22it/s]\n",
      "100%|██████████| 235/235 [00:00<00:00, 20413.83it/s]\n",
      "100%|██████████| 1/1 [00:00<00:00, 1002.70it/s]\n",
      "100%|██████████| 235/235 [00:00<00:00, 17328.48it/s]\n",
      "100%|██████████| 1/1 [00:00<00:00, 1002.22it/s]\n",
      "GPU available: True (cuda), used: True\n",
      "TPU available: False, using: 0 TPU cores\n",
      "HPU available: False, using: 0 HPUs\n"
     ]
    }
   ],
   "source": [
    "model_manager = ModelManager(args, \"train\")"
   ]
  },
  {
   "cell_type": "code",
   "execution_count": null,
   "metadata": {},
   "outputs": [],
   "source": [
    "model_manager.fit()"
   ]
  },
  {
   "cell_type": "markdown",
   "metadata": {},
   "source": [
    "## 2. test 모드로 변경"
   ]
  },
  {
   "cell_type": "code",
   "execution_count": null,
   "metadata": {},
   "outputs": [
    {
     "name": "stderr",
     "output_type": "stream",
     "text": [
      "Seed set to 1234\n",
      "100%|██████████| 3246/3246 [00:00<00:00, 22455.33it/s]\n",
      "100%|██████████| 24/24 [00:00<00:00, 11959.52it/s]\n",
      "100%|██████████| 1/1 [00:00<00:00, 1000.79it/s]\n",
      "GPU available: True (cuda), used: True\n",
      "TPU available: False, using: 0 TPU cores\n",
      "HPU available: False, using: 0 HPUs\n"
     ]
    }
   ],
   "source": [
    "ckpt_filename = \"epoch=12-val_auc_epoch=0.8667-v6.ckpt\"\n",
    "model_manager.change_to_test(ckpt_filename)"
   ]
  },
  {
   "cell_type": "code",
   "execution_count": 10,
   "metadata": {},
   "outputs": [
    {
     "name": "stderr",
     "output_type": "stream",
     "text": [
      "LOCAL_RANK: 0 - CUDA_VISIBLE_DEVICES: [0]\n",
      "c:\\Users\\USER\\anaconda3\\envs\\newsrec\\lib\\site-packages\\pytorch_lightning\\trainer\\connectors\\data_connector.py:425: The 'test_dataloader' does not have many workers which may be a bottleneck. Consider increasing the value of the `num_workers` argument` to `num_workers=11` in the `DataLoader` to improve performance.\n"
     ]
    },
    {
     "data": {
      "application/vnd.jupyter.widget-view+json": {
       "model_id": "2281784013004bc687832171fe7e9dbe",
       "version_major": 2,
       "version_minor": 0
      },
      "text/plain": [
       "Testing: |          | 0/? [00:00<?, ?it/s]"
      ]
     },
     "metadata": {},
     "output_type": "display_data"
    },
    {
     "name": "stdout",
     "output_type": "stream",
     "text": [
      "────────────────────────────────────────────────────────────────────────────────────────────────────────────────────────\n",
      "         Test metric                 DataLoader 0\n",
      "────────────────────────────────────────────────────────────────────────────────────────────────────────────────────────\n",
      "       test_auc_epoch             0.7777777910232544\n",
      "test_ils_senti@10_bert_epoch      0.43403464555740356\n",
      "test_ils_senti@10_vader_epoch     0.22488000988960266\n",
      " test_ils_senti@5_bert_epoch      0.5201636552810669\n",
      "test_ils_senti@5_vader_epoch      0.16557000577449799\n",
      "   test_ils_topic@10_epoch        0.08888886123895645\n",
      "   test_ils_topic@5_epoch                 0.0\n",
      "       test_mrr_epoch             0.3333333432674408\n",
      "     test_ndcg@10_epoch                   0.5\n",
      "      test_ndcg@5_epoch                   0.5\n",
      "  test_senti@10_bert_epoch        0.11298489570617676\n",
      "  test_senti@10_vader_epoch               0.0\n",
      "   test_senti@5_bert_epoch       0.045690715312957764\n",
      "  test_senti@5_vader_epoch      0.00020492337353061885\n",
      "  test_senti_mrr_bert_epoch      0.021202029660344124\n",
      " test_senti_mrr_vader_epoch               0.0\n",
      "   test_topic_div@10_epoch        0.6666666865348816\n",
      "   test_topic_div@5_epoch         0.43481317162513733\n",
      "    test_topic_mrr_epoch          0.3810868561267853\n",
      "────────────────────────────────────────────────────────────────────────────────────────────────────────────────────────\n"
     ]
    },
    {
     "data": {
      "text/plain": [
       "[{'test_auc_epoch': 0.7777777910232544,\n",
       "  'test_mrr_epoch': 0.3333333432674408,\n",
       "  'test_ndcg@10_epoch': 0.5,\n",
       "  'test_ndcg@5_epoch': 0.5,\n",
       "  'test_senti@10_vader_epoch': 0.0,\n",
       "  'test_senti@5_vader_epoch': 0.00020492337353061885,\n",
       "  'test_senti_mrr_vader_epoch': 0.0,\n",
       "  'test_senti@10_bert_epoch': 0.11298489570617676,\n",
       "  'test_senti@5_bert_epoch': 0.045690715312957764,\n",
       "  'test_senti_mrr_bert_epoch': 0.021202029660344124,\n",
       "  'test_topic_div@10_epoch': 0.6666666865348816,\n",
       "  'test_topic_div@5_epoch': 0.43481317162513733,\n",
       "  'test_topic_mrr_epoch': 0.3810868561267853,\n",
       "  'test_ils_senti@10_vader_epoch': 0.22488000988960266,\n",
       "  'test_ils_senti@5_vader_epoch': 0.16557000577449799,\n",
       "  'test_ils_senti@10_bert_epoch': 0.43403464555740356,\n",
       "  'test_ils_senti@5_bert_epoch': 0.5201636552810669,\n",
       "  'test_ils_topic@10_epoch': 0.08888886123895645,\n",
       "  'test_ils_topic@5_epoch': 0.0}]"
      ]
     },
     "execution_count": 10,
     "metadata": {},
     "output_type": "execute_result"
    }
   ],
   "source": [
    "model_manager.test()"
   ]
  }
 ],
 "metadata": {
  "kernelspec": {
   "display_name": "newsrec",
   "language": "python",
   "name": "python3"
  },
  "language_info": {
   "codemirror_mode": {
    "name": "ipython",
    "version": 3
   },
   "file_extension": ".py",
   "mimetype": "text/x-python",
   "name": "python",
   "nbconvert_exporter": "python",
   "pygments_lexer": "ipython3",
   "version": "3.9.21"
  }
 },
 "nbformat": 4,
 "nbformat_minor": 2
}
