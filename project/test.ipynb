{
 "cells": [
  {
   "cell_type": "markdown",
   "metadata": {},
   "source": [
    "## Global Settings and Imports"
   ]
  },
  {
   "cell_type": "code",
   "execution_count": 1,
   "metadata": {},
   "outputs": [],
   "source": [
    "# jupyter notebook에서 import 해서 쓰는 모듈의 코드가 변경될 시, 변동 사항을 자동으로 반영해주는 기능 켜기\n",
    "%load_ext autoreload\n",
    "%autoreload 2"
   ]
  },
  {
   "cell_type": "code",
   "execution_count": 2,
   "metadata": {},
   "outputs": [],
   "source": [
    "import argparse\n",
    "import yaml\n",
    "from dotmap import DotMap\n",
    "from os import path\n",
    "import numpy as np\n",
    "import torch\n",
    "from torch.utils.data import DataLoader\n",
    "import pytorch_lightning as pl\n",
    "from pytorch_lightning.callbacks import ModelCheckpoint, EarlyStopping\n",
    "from pytorch_lightning.loggers import TensorBoardLogger\n",
    "from pytorch_lightning import Trainer\n",
    "from models.lstur import LSTUR\n",
    "from models.nrms import NRMS\n",
    "from models.naml import NAML\n",
    "from models.naml_simple import NAML_Simple\n",
    "from models.sentirec import SENTIREC\n",
    "from models.robust_sentirec import ROBUST_SENTIREC\n",
    "from data.dataset import BaseDataset\n",
    "from tqdm import tqdm"
   ]
  },
  {
   "cell_type": "markdown",
   "metadata": {},
   "source": [
    "## Prepare parameters"
   ]
  },
  {
   "cell_type": "code",
   "execution_count": 7,
   "metadata": {},
   "outputs": [
    {
     "name": "stderr",
     "output_type": "stream",
     "text": [
      "Seed set to 1234\n"
     ]
    }
   ],
   "source": [
    "args = argparse.Namespace(\n",
    "    config = \"config/model/nrms/exp_manual1.yaml\",\n",
    "    ckpt = \"logs/lightning_logs/checkpoints/nrms/exp1/epoch=11-val_auc_epoch=0.9333.ckpt\"\n",
    ")\n",
    "\n",
    "with open(args.config, 'r') as ymlfile:\n",
    "    config = yaml.load(ymlfile, Loader=yaml.FullLoader)\n",
    "    config = DotMap(config)\n",
    "\n",
    "assert(config.name in [\"lstur\", \"nrms\", \"naml\", \"naml_simple\", \"sentirec\", \"robust_sentirec\"])\n",
    "\n",
    "pl.seed_everything(1234)\n",
    "\n",
    "logger = TensorBoardLogger(\n",
    "    **config.logger\n",
    ")"
   ]
  },
  {
   "cell_type": "markdown",
   "metadata": {},
   "source": [
    "## Load data"
   ]
  },
  {
   "cell_type": "code",
   "execution_count": 4,
   "metadata": {},
   "outputs": [
    {
     "name": "stderr",
     "output_type": "stream",
     "text": [
      "100%|██████████| 85/85 [00:00<00:00, 21233.82it/s]\n",
      "100%|██████████| 2/2 [00:00<00:00, 1166.22it/s]\n"
     ]
    }
   ],
   "source": [
    "preprocess_path = f\"{config.preprocess_data_path}/{config.dataset_size}/\"\n",
    "\n",
    "test_dataset = BaseDataset(\n",
    "    path.join(preprocess_path + config.test_behavior),\n",
    "    path.join(preprocess_path + config.test_news), \n",
    "    config)\n",
    "test_loader = DataLoader(\n",
    "    test_dataset,\n",
    "    **config.test_dataloader)"
   ]
  },
  {
   "cell_type": "code",
   "execution_count": 5,
   "metadata": {},
   "outputs": [
    {
     "name": "stderr",
     "output_type": "stream",
     "text": [
      "100%|██████████| 3685/3685 [00:00<00:00, 19879.70it/s]\n"
     ]
    }
   ],
   "source": [
    "# load embedding pre-trained embedding weights\n",
    "embedding_weights=[]\n",
    "with open(path.join(preprocess_path + config.embedding_weights), 'r') as file: \n",
    "    lines = file.readlines()\n",
    "    for line in tqdm(lines):\n",
    "        weights = [float(w) for w in line.split(\" \")]\n",
    "        embedding_weights.append(weights)\n",
    "pretrained_word_embedding = torch.from_numpy(\n",
    "    np.array(embedding_weights, dtype=np.float32)\n",
    ")"
   ]
  },
  {
   "cell_type": "markdown",
   "metadata": {},
   "source": [
    "## Load model from checkpoint"
   ]
  },
  {
   "cell_type": "code",
   "execution_count": 8,
   "metadata": {},
   "outputs": [
    {
     "name": "stdout",
     "output_type": "stream",
     "text": [
      "nrms\n"
     ]
    }
   ],
   "source": [
    "print(config.name)\n",
    "if config.name == \"lstur\":\n",
    "    model = LSTUR.load_from_checkpoint(\n",
    "        args.ckpt, \n",
    "        config=config, \n",
    "        pretrained_word_embedding=pretrained_word_embedding\n",
    "    )\n",
    "elif config.name == \"nrms\":\n",
    "    model = NRMS.load_from_checkpoint(\n",
    "        args.ckpt, \n",
    "        config=config, \n",
    "        pretrained_word_embedding=pretrained_word_embedding\n",
    "    )\n",
    "elif config.name == \"naml\":\n",
    "    model = NAML.load_from_checkpoint(\n",
    "        args.ckpt, \n",
    "        config=config, \n",
    "        pretrained_word_embedding=pretrained_word_embedding\n",
    "    )\n",
    "elif config.name == \"naml_simple\":\n",
    "    model = NAML_Simple.load_from_checkpoint(\n",
    "        args.ckpt, \n",
    "        config=config, \n",
    "        pretrained_word_embedding=pretrained_word_embedding\n",
    "    )\n",
    "elif config.name == \"sentirec\":\n",
    "    model = SENTIREC.load_from_checkpoint(\n",
    "        args.ckpt, \n",
    "        config=config, \n",
    "        pretrained_word_embedding=pretrained_word_embedding\n",
    "    )\n",
    "elif config.name == \"robust_sentirec\":\n",
    "    model = ROBUST_SENTIREC.load_from_checkpoint(\n",
    "        args.ckpt, \n",
    "        config=config, \n",
    "        pretrained_word_embedding=pretrained_word_embedding\n",
    "    )\n",
    "# elif:\n",
    "    # UPCOMING MODELS"
   ]
  },
  {
   "cell_type": "markdown",
   "metadata": {},
   "source": [
    "## Test model"
   ]
  },
  {
   "cell_type": "code",
   "execution_count": 9,
   "metadata": {},
   "outputs": [
    {
     "name": "stderr",
     "output_type": "stream",
     "text": [
      "GPU available: True (cuda), used: False\n",
      "TPU available: False, using: 0 TPU cores\n",
      "HPU available: False, using: 0 HPUs\n",
      "c:\\Users\\USER\\anaconda3\\envs\\newsrec\\lib\\site-packages\\pytorch_lightning\\trainer\\setup.py:177: GPU available but not used. You can set it by doing `Trainer(accelerator='gpu')`.\n"
     ]
    }
   ],
   "source": [
    "trainer = Trainer(\n",
    "    **config.trainer,\n",
    "    logger=logger\n",
    ")"
   ]
  },
  {
   "cell_type": "code",
   "execution_count": 11,
   "metadata": {},
   "outputs": [
    {
     "name": "stderr",
     "output_type": "stream",
     "text": [
      "c:\\Users\\USER\\anaconda3\\envs\\newsrec\\lib\\site-packages\\pytorch_lightning\\trainer\\connectors\\data_connector.py:425: The 'test_dataloader' does not have many workers which may be a bottleneck. Consider increasing the value of the `num_workers` argument` to `num_workers=11` in the `DataLoader` to improve performance.\n"
     ]
    },
    {
     "data": {
      "application/vnd.jupyter.widget-view+json": {
       "model_id": "1c58babf0cf14f20bccdcd71e6768a2e",
       "version_major": 2,
       "version_minor": 0
      },
      "text/plain": [
       "Testing: |          | 0/? [00:00<?, ?it/s]"
      ]
     },
     "metadata": {},
     "output_type": "display_data"
    },
    {
     "name": "stdout",
     "output_type": "stream",
     "text": [
      "────────────────────────────────────────────────────────────────────────────────────────────────────────────────────────\n",
      "         Test metric                 DataLoader 0\n",
      "────────────────────────────────────────────────────────────────────────────────────────────────────────────────────────\n",
      "       test_auc_epoch             0.4750000238418579\n",
      "test_ils_senti@10_bert_epoch       0.465101420879364\n",
      "test_ils_senti@10_vader_epoch     0.19995611906051636\n",
      " test_ils_senti@5_bert_epoch      0.49809348583221436\n",
      "test_ils_senti@5_vader_epoch      0.15544500946998596\n",
      "   test_ils_topic@10_epoch        0.0555555485188961\n",
      "   test_ils_topic@5_epoch         0.07500000298023224\n",
      "       test_mrr_epoch              0.148326575756073\n",
      "     test_ndcg@10_epoch           0.21533828973770142\n",
      "      test_ndcg@5_epoch           0.21533828973770142\n",
      "  test_senti@10_bert_epoch        0.45023995637893677\n",
      "  test_senti@10_vader_epoch               0.0\n",
      "   test_senti@5_bert_epoch        0.22032491862773895\n",
      "  test_senti@5_vader_epoch       0.000652424874715507\n",
      "  test_senti_mrr_bert_epoch       0.20886826515197754\n",
      " test_senti_mrr_vader_epoch      0.008578971028327942\n",
      "   test_topic_div@10_epoch        0.4423099160194397\n",
      "   test_topic_div@5_epoch         0.17028963565826416\n",
      "    test_topic_mrr_epoch           0.349043071269989\n",
      "────────────────────────────────────────────────────────────────────────────────────────────────────────────────────────\n"
     ]
    }
   ],
   "source": [
    "test_result = trainer.test(\n",
    "    model=model, \n",
    "    dataloaders=test_loader\n",
    ")"
   ]
  },
  {
   "cell_type": "markdown",
   "metadata": {},
   "source": [
    "## 기타 실험용 코드"
   ]
  },
  {
   "cell_type": "code",
   "execution_count": null,
   "metadata": {},
   "outputs": [],
   "source": [
    "test_dataset[0]"
   ]
  },
  {
   "cell_type": "code",
   "execution_count": null,
   "metadata": {},
   "outputs": [],
   "source": [
    "test_dataset[0]['c_title']"
   ]
  },
  {
   "cell_type": "code",
   "execution_count": null,
   "metadata": {},
   "outputs": [
    {
     "data": {
      "image/png": "[encoded data removed]",
      "text/plain": [
       "<Figure size 800x600 with 1 Axes>"
      ]
     },
     "metadata": {},
     "output_type": "display_data"
    }
   ],
   "source": [
    "# 간단한 시각화\n",
    "import matplotlib.pyplot as plt\n",
    "\n",
    "metrics = test_result[0]\n",
    "keys = metrics.keys()\n",
    "values = metrics.values()\n",
    "\n",
    "# 그림 크기 설정\n",
    "plt.figure(figsize=(8, 6))\n",
    "\n",
    "# 막대 그래프\n",
    "plt.bar(keys, values)\n",
    "\n",
    "# 레이블 회전 + 정렬\n",
    "plt.xticks(rotation=90)\n",
    "plt.ylabel(\"Metric Score\")\n",
    "plt.title(\"Test Results by Metric\")\n",
    "\n",
    "# 레이아웃 깔끔하게\n",
    "plt.tight_layout()\n",
    "\n",
    "# 출력\n",
    "plt.show()"
   ]
  }
 ],
 "metadata": {
  "kernelspec": {
   "display_name": "newsrec",
   "language": "python",
   "name": "python3"
  },
  "language_info": {
   "codemirror_mode": {
    "name": "ipython",
    "version": 3
   },
   "file_extension": ".py",
   "mimetype": "text/x-python",
   "name": "python",
   "nbconvert_exporter": "python",
   "pygments_lexer": "ipython3",
   "version": "3.9.21"
  }
 },
 "nbformat": 4,
 "nbformat_minor": 2
}
