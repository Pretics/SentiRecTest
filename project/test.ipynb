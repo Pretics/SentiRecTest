{
 "cells": [
  {
   "cell_type": "markdown",
   "metadata": {},
   "source": [
    "## Global Settings and Imports"
   ]
  },
  {
   "cell_type": "code",
   "execution_count": 2,
   "metadata": {},
   "outputs": [],
   "source": [
    "# jupyter notebook에서 import 해서 쓰는 모듈의 코드가 변경될 시, 변동 사항을 자동으로 반영해주는 기능 켜기\n",
    "%load_ext autoreload\n",
    "%autoreload 2"
   ]
  },
  {
   "cell_type": "code",
   "execution_count": null,
   "metadata": {},
   "outputs": [],
   "source": [
    "from test_manager import TestManager, TestArgs"
   ]
  },
  {
   "cell_type": "markdown",
   "metadata": {},
   "source": [
    "## Prepare parameters"
   ]
  },
  {
   "cell_type": "code",
   "execution_count": 2,
   "metadata": {},
   "outputs": [],
   "source": [
    "args = TestArgs(\n",
    "    config = \"config/model/sentirec/vader_manual1.yaml\",\n",
    "    ckpt = \"logs/lightning_logs/checkpoints/sentirec/vader_manual1/epoch=12-val_auc_epoch=0.8667-v3.ckpt\"\n",
    ")"
   ]
  },
  {
   "cell_type": "markdown",
   "metadata": {},
   "source": [
    "## 1. 원클릭 테스트"
   ]
  },
  {
   "cell_type": "code",
   "execution_count": null,
   "metadata": {},
   "outputs": [
    {
     "name": "stderr",
     "output_type": "stream",
     "text": [
      "Seed set to 1234\n",
      "100%|██████████| 24/24 [00:00<00:00, 9377.99it/s]\n",
      "100%|██████████| 1/1 [00:00<00:00, 664.71it/s]\n",
      "100%|██████████| 3246/3246 [00:00<00:00, 19486.08it/s]\n",
      "GPU available: True (cuda), used: True\n",
      "TPU available: False, using: 0 TPU cores\n",
      "HPU available: False, using: 0 HPUs\n"
     ]
    }
   ],
   "source": [
    "# TestManager 생성\n",
    "# 해당 클래스는 args를 인자로 받으면 __init__() 함수에서\n",
    "# test 시작 전에 해야하는 모든 세팅을 알아서 진행함\n",
    "test_manager = TestManager(args)"
   ]
  },
  {
   "cell_type": "code",
   "execution_count": null,
   "metadata": {},
   "outputs": [],
   "source": [
    "# 불러온 모델 평가 시작\n",
    "# 해당 함수는 학습에 필요한 변수들이 인스턴스 내부에 미리 정의되어 있어야 함\n",
    "test_manager.test()"
   ]
  },
  {
   "cell_type": "markdown",
   "metadata": {},
   "source": [
    "## 2. 좀 더 자세히 보기"
   ]
  },
  {
   "cell_type": "markdown",
   "metadata": {},
   "source": [
    "## Load data"
   ]
  },
  {
   "cell_type": "code",
   "execution_count": null,
   "metadata": {},
   "outputs": [
    {
     "name": "stderr",
     "output_type": "stream",
     "text": [
      "100%|██████████| 24/24 [00:00<00:00, 23950.34it/s]\n",
      "100%|██████████| 1/1 [00:00<00:00, 1000.07it/s]\n"
     ]
    }
   ],
   "source": [
    "# load configs\n",
    "config = test_manager.load_model_config(args)\n",
    "logger = test_manager.create_logger(config)\n",
    "\n",
    "# load data\n",
    "test_dataset, test_loader = test_manager.create_dataloader(config)\n",
    "\n",
    "# load embedding pre-trained embedding weights\n",
    "pretrained_word_embedding = test_manager.load_embedding_weights(config)"
   ]
  },
  {
   "cell_type": "markdown",
   "metadata": {},
   "source": [
    "## Load model from checkpoint"
   ]
  },
  {
   "cell_type": "code",
   "execution_count": null,
   "metadata": {},
   "outputs": [
    {
     "name": "stdout",
     "output_type": "stream",
     "text": [
      "sentirec\n"
     ]
    }
   ],
   "source": [
    "print(config.name)\n",
    "model = test_manager.load_model_from_checkpoint(args, config, pretrained_word_embedding)"
   ]
  },
  {
   "cell_type": "markdown",
   "metadata": {},
   "source": [
    "## Test model"
   ]
  },
  {
   "cell_type": "code",
   "execution_count": null,
   "metadata": {},
   "outputs": [
    {
     "name": "stderr",
     "output_type": "stream",
     "text": [
      "GPU available: True (cuda), used: True\n",
      "TPU available: False, using: 0 TPU cores\n",
      "HPU available: False, using: 0 HPUs\n"
     ]
    }
   ],
   "source": [
    "trainer = test_manager.create_trainer(config, logger)"
   ]
  },
  {
   "cell_type": "code",
   "execution_count": null,
   "metadata": {},
   "outputs": [
    {
     "name": "stderr",
     "output_type": "stream",
     "text": [
      "LOCAL_RANK: 0 - CUDA_VISIBLE_DEVICES: [0]\n",
      "c:\\Users\\USER\\anaconda3\\envs\\newsrec\\lib\\site-packages\\pytorch_lightning\\trainer\\connectors\\data_connector.py:425: The 'test_dataloader' does not have many workers which may be a bottleneck. Consider increasing the value of the `num_workers` argument` to `num_workers=11` in the `DataLoader` to improve performance.\n"
     ]
    },
    {
     "data": {
      "application/vnd.jupyter.widget-view+json": {
       "model_id": "d5877c5647bb40d28df31ed6ce7a4203",
       "version_major": 2,
       "version_minor": 0
      },
      "text/plain": [
       "Testing: |          | 0/? [00:00<?, ?it/s]"
      ]
     },
     "metadata": {},
     "output_type": "display_data"
    },
    {
     "name": "stdout",
     "output_type": "stream",
     "text": [
      "────────────────────────────────────────────────────────────────────────────────────────────────────────────────────────\n",
      "         Test metric                 DataLoader 0\n",
      "────────────────────────────────────────────────────────────────────────────────────────────────────────────────────────\n",
      "       test_auc_epoch             0.7777777910232544\n",
      "test_ils_senti@10_bert_epoch      0.43403464555740356\n",
      "test_ils_senti@10_vader_epoch     0.22488000988960266\n",
      " test_ils_senti@5_bert_epoch      0.5201636552810669\n",
      "test_ils_senti@5_vader_epoch      0.16557000577449799\n",
      "   test_ils_topic@10_epoch        0.08888886123895645\n",
      "   test_ils_topic@5_epoch                 0.0\n",
      "       test_mrr_epoch             0.3333333432674408\n",
      "     test_ndcg@10_epoch                   0.5\n",
      "      test_ndcg@5_epoch                   0.5\n",
      "  test_senti@10_bert_epoch        0.11298489570617676\n",
      "  test_senti@10_vader_epoch               0.0\n",
      "   test_senti@5_bert_epoch       0.045690715312957764\n",
      "  test_senti@5_vader_epoch      0.00020492337353061885\n",
      "  test_senti_mrr_bert_epoch      0.021202029660344124\n",
      " test_senti_mrr_vader_epoch               0.0\n",
      "   test_topic_div@10_epoch        0.6666666865348816\n",
      "   test_topic_div@5_epoch         0.43481317162513733\n",
      "    test_topic_mrr_epoch          0.3810868561267853\n",
      "────────────────────────────────────────────────────────────────────────────────────────────────────────────────────────\n"
     ]
    }
   ],
   "source": [
    "test_result = test_manager.start_test(trainer, model, test_loader)"
   ]
  },
  {
   "cell_type": "markdown",
   "metadata": {},
   "source": [
    "## 기타 실험용 코드"
   ]
  },
  {
   "cell_type": "code",
   "execution_count": null,
   "metadata": {},
   "outputs": [],
   "source": [
    "test_dataset[0]"
   ]
  },
  {
   "cell_type": "code",
   "execution_count": 28,
   "metadata": {},
   "outputs": [
    {
     "data": {
      "text/plain": [
       "tensor(3240)"
      ]
     },
     "execution_count": 28,
     "metadata": {},
     "output_type": "execute_result"
    }
   ],
   "source": [
    "test_dataset[0]['h_title'].max()"
   ]
  },
  {
   "cell_type": "code",
   "execution_count": 12,
   "metadata": {},
   "outputs": [
    {
     "data": {
      "image/png": "[encoded data removed]",
      "text/plain": [
       "<Figure size 800x600 with 1 Axes>"
      ]
     },
     "metadata": {},
     "output_type": "display_data"
    }
   ],
   "source": [
    "# 간단한 시각화\n",
    "import matplotlib.pyplot as plt\n",
    "\n",
    "metrics = test_result[0]\n",
    "keys = metrics.keys()\n",
    "values = metrics.values()\n",
    "\n",
    "# 그림 크기 설정\n",
    "plt.figure(figsize=(8, 6))\n",
    "\n",
    "# 막대 그래프\n",
    "plt.bar(keys, values)\n",
    "\n",
    "# 레이블 회전 + 정렬\n",
    "plt.xticks(rotation=90)\n",
    "plt.ylabel(\"Metric Score\")\n",
    "plt.title(\"Test Results by Metric\")\n",
    "\n",
    "# 레이아웃 깔끔하게\n",
    "plt.tight_layout()\n",
    "\n",
    "# 출력\n",
    "plt.show()"
   ]
  }
 ],
 "metadata": {
  "kernelspec": {
   "display_name": "newsrec",
   "language": "python",
   "name": "python3"
  },
  "language_info": {
   "codemirror_mode": {
    "name": "ipython",
    "version": 3
   },
   "file_extension": ".py",
   "mimetype": "text/x-python",
   "name": "python",
   "nbconvert_exporter": "python",
   "pygments_lexer": "ipython3",
   "version": "3.9.21"
  }
 },
 "nbformat": 4,
 "nbformat_minor": 2
}
