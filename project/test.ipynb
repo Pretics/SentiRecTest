{
 "cells": [
  {
   "cell_type": "markdown",
   "metadata": {},
   "source": [
    "## Global Settings and Imports"
   ]
  },
  {
   "cell_type": "code",
   "execution_count": 1,
   "metadata": {},
   "outputs": [],
   "source": [
    "# jupyter notebook에서 import 해서 쓰는 .py 모듈의 코드가 변경될 시, 변동 사항을 자동으로 반영해주는 기능 ON\n",
    "%load_ext autoreload\n",
    "%autoreload 2"
   ]
  },
  {
   "cell_type": "code",
   "execution_count": 2,
   "metadata": {},
   "outputs": [],
   "source": [
    "import argparse\n",
    "import yaml\n",
    "from dotmap import DotMap\n",
    "from os import path\n",
    "import numpy as np\n",
    "import torch\n",
    "from torch.utils.data import DataLoader\n",
    "import pytorch_lightning as pl\n",
    "from pytorch_lightning.callbacks import ModelCheckpoint, EarlyStopping\n",
    "from pytorch_lightning.loggers import TensorBoardLogger\n",
    "from pytorch_lightning import Trainer\n",
    "from models.lstur import LSTUR\n",
    "from models.nrms import NRMS\n",
    "from models.naml import NAML\n",
    "from models.naml_simple import NAML_Simple\n",
    "from models.sentirec import SENTIREC\n",
    "from models.robust_sentirec import ROBUST_SENTIREC\n",
    "from data.dataset import BaseDataset\n",
    "from tqdm import tqdm"
   ]
  },
  {
   "cell_type": "markdown",
   "metadata": {},
   "source": [
    "## Prepare parameters"
   ]
  },
  {
   "cell_type": "code",
   "execution_count": 3,
   "metadata": {},
   "outputs": [
    {
     "name": "stderr",
     "output_type": "stream",
     "text": [
      "Seed set to 1234\n"
     ]
    }
   ],
   "source": [
    "args = argparse.Namespace(\n",
    "    config = \"config/model/sentirec/vader_lambda0p4_mu10.yaml\",\n",
    "    ckpt = \"logs/lightning_logs/checkpoints/sentirec/vader_lambda0p4_mu10/epoch=20-val_auc_epoch=0.6618.ckpt\"\n",
    ")\n",
    "\n",
    "with open(args.config, 'r') as ymlfile:\n",
    "    config = yaml.load(ymlfile, Loader=yaml.FullLoader)\n",
    "    config = DotMap(config)\n",
    "\n",
    "assert(config.name in [\"lstur\", \"nrms\", \"naml\", \"naml_simple\", \"sentirec\", \"robust_sentirec\"])\n",
    "\n",
    "pl.seed_everything(1234)\n",
    "\n",
    "logger = TensorBoardLogger(\n",
    "    **config.logger\n",
    ")"
   ]
  },
  {
   "cell_type": "markdown",
   "metadata": {},
   "source": [
    "## Load data"
   ]
  },
  {
   "cell_type": "code",
   "execution_count": 4,
   "metadata": {},
   "outputs": [
    {
     "name": "stderr",
     "output_type": "stream",
     "text": [
      "100%|██████████| 18723/18723 [00:01<00:00, 14035.01it/s]\n",
      "100%|██████████| 7538/7538 [00:05<00:00, 1391.57it/s]\n"
     ]
    }
   ],
   "source": [
    "preprocess_path = f\"{config.preprocess_data_path}/{config.dataset_size}/\"\n",
    "\n",
    "test_dataset = BaseDataset(\n",
    "    path.join(preprocess_path + config.test_behavior),\n",
    "    path.join(preprocess_path + config.test_news), \n",
    "    config)\n",
    "test_loader = DataLoader(\n",
    "    test_dataset,\n",
    "    **config.test_dataloader)"
   ]
  },
  {
   "cell_type": "code",
   "execution_count": 5,
   "metadata": {},
   "outputs": [
    {
     "name": "stderr",
     "output_type": "stream",
     "text": [
      "100%|██████████| 42562/42562 [00:03<00:00, 13440.62it/s]\n"
     ]
    }
   ],
   "source": [
    "# load embedding pre-trained embedding weights\n",
    "embedding_weights=[]\n",
    "with open(path.join(preprocess_path + config.embedding_weights), 'r') as file: \n",
    "    lines = file.readlines()\n",
    "    for line in tqdm(lines):\n",
    "        weights = [float(w) for w in line.split(\" \")]\n",
    "        embedding_weights.append(weights)\n",
    "pretrained_word_embedding = torch.from_numpy(\n",
    "    np.array(embedding_weights, dtype=np.float32)\n",
    ")"
   ]
  },
  {
   "cell_type": "markdown",
   "metadata": {},
   "source": [
    "## Load model from checkpoint"
   ]
  },
  {
   "cell_type": "code",
   "execution_count": 9,
   "metadata": {},
   "outputs": [],
   "source": [
    "if config.name == \"lstur\":\n",
    "    model = LSTUR.load_from_checkpoint(\n",
    "        args.ckpt, \n",
    "        config=config, \n",
    "        pretrained_word_embedding=pretrained_word_embedding\n",
    "    )\n",
    "elif config.name == \"nrms\":\n",
    "    model = NRMS.load_from_checkpoint(\n",
    "        args.ckpt, \n",
    "        config=config, \n",
    "        pretrained_word_embedding=pretrained_word_embedding\n",
    "    )\n",
    "elif config.name == \"naml\":\n",
    "    model = NAML.load_from_checkpoint(\n",
    "        args.ckpt, \n",
    "        config=config, \n",
    "        pretrained_word_embedding=pretrained_word_embedding\n",
    "    )\n",
    "elif config.name == \"naml_simple\":\n",
    "    model = NAML_Simple.load_from_checkpoint(\n",
    "        args.ckpt, \n",
    "        config=config, \n",
    "        pretrained_word_embedding=pretrained_word_embedding\n",
    "    )\n",
    "elif config.name == \"sentirec\":\n",
    "    model = SENTIREC.load_from_checkpoint(\n",
    "        args.ckpt, \n",
    "        config=config, \n",
    "        pretrained_word_embedding=pretrained_word_embedding\n",
    "    )\n",
    "elif config.name == \"robust_sentirec\":\n",
    "    model = ROBUST_SENTIREC.load_from_checkpoint(\n",
    "        args.ckpt, \n",
    "        config=config, \n",
    "        pretrained_word_embedding=pretrained_word_embedding\n",
    "    )\n",
    "# elif:\n",
    "    # UPCOMING MODELS"
   ]
  },
  {
   "cell_type": "markdown",
   "metadata": {},
   "source": [
    "## Test model"
   ]
  },
  {
   "cell_type": "code",
   "execution_count": 10,
   "metadata": {},
   "outputs": [
    {
     "name": "stderr",
     "output_type": "stream",
     "text": [
      "GPU available: True (cuda), used: True\n",
      "TPU available: False, using: 0 TPU cores\n",
      "HPU available: False, using: 0 HPUs\n"
     ]
    }
   ],
   "source": [
    "trainer = Trainer(\n",
    "    **config.trainer,\n",
    "    logger=logger\n",
    ")"
   ]
  },
  {
   "cell_type": "code",
   "execution_count": 11,
   "metadata": {},
   "outputs": [
    {
     "name": "stderr",
     "output_type": "stream",
     "text": [
      "You are using a CUDA device ('NVIDIA GeForce RTX 4060 Laptop GPU') that has Tensor Cores. To properly utilize them, you should set `torch.set_float32_matmul_precision('medium' | 'high')` which will trade-off precision for performance. For more details, read https://pytorch.org/docs/stable/generated/torch.set_float32_matmul_precision.html#torch.set_float32_matmul_precision\n",
      "LOCAL_RANK: 0 - CUDA_VISIBLE_DEVICES: [0]\n",
      "c:\\Users\\nclud\\anaconda3\\envs\\newsrec\\lib\\site-packages\\pytorch_lightning\\trainer\\connectors\\data_connector.py:425: The 'test_dataloader' does not have many workers which may be a bottleneck. Consider increasing the value of the `num_workers` argument` to `num_workers=15` in the `DataLoader` to improve performance.\n"
     ]
    },
    {
     "name": "stdout",
     "output_type": "stream",
     "text": [
      "Testing DataLoader 0: 100%|██████████| 7538/7538 [07:34<00:00, 16.60it/s]\n",
      "────────────────────────────────────────────────────────────────────────────────────────────────────────────────────────\n",
      "         Test metric                 DataLoader 0\n",
      "────────────────────────────────────────────────────────────────────────────────────────────────────────────────────────\n",
      "       test_auc_epoch             0.5661918520927429\n",
      "test_ils_senti@10_bert_epoch       0.480234831571579\n",
      "test_ils_senti@10_vader_epoch     0.22790543735027313\n",
      " test_ils_senti@5_bert_epoch      0.46508610248565674\n",
      "test_ils_senti@5_vader_epoch      0.22426888346672058\n",
      "   test_ils_topic@10_epoch        0.08412498235702515\n",
      "   test_ils_topic@5_epoch         0.09400947391986847\n",
      "       test_mrr_epoch             0.24936088919639587\n",
      "     test_ndcg@10_epoch           0.33303865790367126\n",
      "      test_ndcg@5_epoch           0.26616060733795166\n",
      "  test_senti@10_bert_epoch        0.46898961067199707\n",
      "  test_senti@10_vader_epoch       0.04810909926891327\n",
      "   test_senti@5_bert_epoch        0.3051859736442566\n",
      "  test_senti@5_vader_epoch       0.036427032202482224\n",
      "  test_senti_mrr_bert_epoch       0.19709980487823486\n",
      " test_senti_mrr_vader_epoch      0.024893416091799736\n",
      "   test_topic_div@10_epoch        0.4452049136161804\n",
      "   test_topic_div@5_epoch         0.36226359009742737\n",
      "    test_topic_mrr_epoch          0.43979042768478394\n",
      "────────────────────────────────────────────────────────────────────────────────────────────────────────────────────────\n"
     ]
    },
    {
     "data": {
      "text/plain": [
       "[{'test_auc_epoch': 0.5661918520927429,\n",
       "  'test_mrr_epoch': 0.24936088919639587,\n",
       "  'test_ndcg@10_epoch': 0.33303865790367126,\n",
       "  'test_ndcg@5_epoch': 0.26616060733795166,\n",
       "  'test_senti@10_vader_epoch': 0.04810909926891327,\n",
       "  'test_senti@5_vader_epoch': 0.036427032202482224,\n",
       "  'test_senti_mrr_vader_epoch': 0.024893416091799736,\n",
       "  'test_senti@10_bert_epoch': 0.46898961067199707,\n",
       "  'test_senti@5_bert_epoch': 0.3051859736442566,\n",
       "  'test_senti_mrr_bert_epoch': 0.19709980487823486,\n",
       "  'test_topic_div@10_epoch': 0.4452049136161804,\n",
       "  'test_topic_div@5_epoch': 0.36226359009742737,\n",
       "  'test_topic_mrr_epoch': 0.43979042768478394,\n",
       "  'test_ils_senti@10_vader_epoch': 0.22790543735027313,\n",
       "  'test_ils_senti@5_vader_epoch': 0.22426888346672058,\n",
       "  'test_ils_senti@10_bert_epoch': 0.480234831571579,\n",
       "  'test_ils_senti@5_bert_epoch': 0.46508610248565674,\n",
       "  'test_ils_topic@10_epoch': 0.08412498235702515,\n",
       "  'test_ils_topic@5_epoch': 0.09400947391986847}]"
      ]
     },
     "execution_count": 11,
     "metadata": {},
     "output_type": "execute_result"
    }
   ],
   "source": [
    "trainer.test(\n",
    "    model=model, \n",
    "    dataloaders=test_loader\n",
    ")"
   ]
  },
  {
   "cell_type": "code",
   "execution_count": 1,
   "metadata": {},
   "outputs": [
    {
     "ename": "NameError",
     "evalue": "name 'test_dataset' is not defined",
     "output_type": "error",
     "traceback": [
      "\u001b[1;31m---------------------------------------------------------------------------\u001b[0m",
      "\u001b[1;31mNameError\u001b[0m                                 Traceback (most recent call last)",
      "Cell \u001b[1;32mIn[1], line 1\u001b[0m\n\u001b[1;32m----> 1\u001b[0m \u001b[43mtest_dataset\u001b[49m[\u001b[38;5;241m0\u001b[39m]\n",
      "\u001b[1;31mNameError\u001b[0m: name 'test_dataset' is not defined"
     ]
    }
   ],
   "source": [
    "test_dataset[0]"
   ]
  },
  {
   "cell_type": "code",
   "execution_count": 30,
   "metadata": {},
   "outputs": [
    {
     "data": {
      "text/plain": [
       "tensor([[ 2679,  4349,  4726,  2851,   550,    29,  5067,   164,  3585, 10645,\n",
       "          2250,  1471,     0,     0,     0,     0,     0,     0,     0,     0],\n",
       "        [  887,   128,  3392,  1401,  1764,   126,  4545,     0,     0,     0,\n",
       "             0,     0,     0,     0,     0,     0,     0,     0,     0,     0]])"
      ]
     },
     "execution_count": 30,
     "metadata": {},
     "output_type": "execute_result"
    }
   ],
   "source": [
    "test_dataset[11]['c_title']"
   ]
  }
 ],
 "metadata": {
  "kernelspec": {
   "display_name": "newsrec",
   "language": "python",
   "name": "python3"
  },
  "language_info": {
   "codemirror_mode": {
    "name": "ipython",
    "version": 3
   },
   "file_extension": ".py",
   "mimetype": "text/x-python",
   "name": "python",
   "nbconvert_exporter": "python",
   "pygments_lexer": "ipython3",
   "version": "3.9.21"
  }
 },
 "nbformat": 4,
 "nbformat_minor": 2
}
