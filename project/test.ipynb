{
 "cells": [
  {
   "cell_type": "markdown",
   "metadata": {},
   "source": [
    "## Global Settings and Imports"
   ]
  },
  {
   "cell_type": "code",
   "execution_count": 1,
   "metadata": {},
   "outputs": [],
   "source": [
    "# jupyter notebook에서 import 해서 쓰는 모듈의 코드가 변경될 시, 변동 사항을 자동으로 반영해주는 기능 켜기\n",
    "%load_ext autoreload\n",
    "%autoreload 2"
   ]
  },
  {
   "cell_type": "code",
   "execution_count": 2,
   "metadata": {},
   "outputs": [],
   "source": [
    "import argparse\n",
    "import yaml\n",
    "from dotmap import DotMap\n",
    "from os import path\n",
    "import numpy as np\n",
    "import torch\n",
    "from torch.utils.data import DataLoader\n",
    "import pytorch_lightning as pl\n",
    "from pytorch_lightning.callbacks import ModelCheckpoint, EarlyStopping\n",
    "from pytorch_lightning.loggers import TensorBoardLogger\n",
    "from pytorch_lightning import Trainer\n",
    "from models.lstur import LSTUR\n",
    "from models.nrms import NRMS\n",
    "from models.naml import NAML\n",
    "from models.naml_simple import NAML_Simple\n",
    "from models.sentirec import SENTIREC\n",
    "from models.robust_sentirec import ROBUST_SENTIREC\n",
    "from data.dataset import BaseDataset\n",
    "from tqdm import tqdm"
   ]
  },
  {
   "cell_type": "markdown",
   "metadata": {},
   "source": [
    "## Prepare parameters"
   ]
  },
  {
   "cell_type": "code",
   "execution_count": 4,
   "metadata": {},
   "outputs": [
    {
     "name": "stderr",
     "output_type": "stream",
     "text": [
      "Seed set to 1234\n"
     ]
    }
   ],
   "source": [
    "args = argparse.Namespace(\n",
    "    config = \"config/model/nrms/exp1.yaml\",\n",
    "    ckpt = \"logs/lightning_logs/checkpoints/nrms/exp1/epoch=9-val_auc_epoch=0.6697.ckpt\"\n",
    ")\n",
    "\n",
    "with open(args.config, 'r') as ymlfile:\n",
    "    config = yaml.load(ymlfile, Loader=yaml.FullLoader)\n",
    "    config = DotMap(config)\n",
    "\n",
    "assert(config.name in [\"lstur\", \"nrms\", \"naml\", \"naml_simple\", \"sentirec\", \"robust_sentirec\"])\n",
    "\n",
    "pl.seed_everything(1234)\n",
    "\n",
    "logger = TensorBoardLogger(\n",
    "    **config.logger\n",
    ")"
   ]
  },
  {
   "cell_type": "markdown",
   "metadata": {},
   "source": [
    "## Load data"
   ]
  },
  {
   "cell_type": "code",
   "execution_count": 5,
   "metadata": {},
   "outputs": [
    {
     "name": "stderr",
     "output_type": "stream",
     "text": [
      "100%|██████████| 18723/18723 [00:00<00:00, 26686.43it/s]\n",
      "100%|██████████| 7538/7538 [00:02<00:00, 2757.52it/s]\n"
     ]
    }
   ],
   "source": [
    "preprocess_path = f\"{config.preprocess_data_path}/{config.dataset_size}/\"\n",
    "\n",
    "test_dataset = BaseDataset(\n",
    "    path.join(preprocess_path + config.test_behavior),\n",
    "    path.join(preprocess_path + config.test_news), \n",
    "    config)\n",
    "test_loader = DataLoader(\n",
    "    test_dataset,\n",
    "    **config.test_dataloader)"
   ]
  },
  {
   "cell_type": "code",
   "execution_count": 6,
   "metadata": {},
   "outputs": [
    {
     "name": "stderr",
     "output_type": "stream",
     "text": [
      "100%|██████████| 42562/42562 [00:02<00:00, 19540.68it/s]\n"
     ]
    }
   ],
   "source": [
    "# load embedding pre-trained embedding weights\n",
    "embedding_weights=[]\n",
    "with open(path.join(preprocess_path + config.embedding_weights), 'r') as file: \n",
    "    lines = file.readlines()\n",
    "    for line in tqdm(lines):\n",
    "        weights = [float(w) for w in line.split(\" \")]\n",
    "        embedding_weights.append(weights)\n",
    "pretrained_word_embedding = torch.from_numpy(\n",
    "    np.array(embedding_weights, dtype=np.float32)\n",
    ")"
   ]
  },
  {
   "cell_type": "markdown",
   "metadata": {},
   "source": [
    "## Load model from checkpoint"
   ]
  },
  {
   "cell_type": "code",
   "execution_count": 7,
   "metadata": {},
   "outputs": [
    {
     "name": "stdout",
     "output_type": "stream",
     "text": [
      "nrms\n"
     ]
    }
   ],
   "source": [
    "print(config.name)\n",
    "if config.name == \"lstur\":\n",
    "    model = LSTUR.load_from_checkpoint(\n",
    "        args.ckpt, \n",
    "        config=config, \n",
    "        pretrained_word_embedding=pretrained_word_embedding\n",
    "    )\n",
    "elif config.name == \"nrms\":\n",
    "    model = NRMS.load_from_checkpoint(\n",
    "        args.ckpt, \n",
    "        config=config, \n",
    "        pretrained_word_embedding=pretrained_word_embedding\n",
    "    )\n",
    "elif config.name == \"naml\":\n",
    "    model = NAML.load_from_checkpoint(\n",
    "        args.ckpt, \n",
    "        config=config, \n",
    "        pretrained_word_embedding=pretrained_word_embedding\n",
    "    )\n",
    "elif config.name == \"naml_simple\":\n",
    "    model = NAML_Simple.load_from_checkpoint(\n",
    "        args.ckpt, \n",
    "        config=config, \n",
    "        pretrained_word_embedding=pretrained_word_embedding\n",
    "    )\n",
    "elif config.name == \"sentirec\":\n",
    "    model = SENTIREC.load_from_checkpoint(\n",
    "        args.ckpt, \n",
    "        config=config, \n",
    "        pretrained_word_embedding=pretrained_word_embedding\n",
    "    )\n",
    "elif config.name == \"robust_sentirec\":\n",
    "    model = ROBUST_SENTIREC.load_from_checkpoint(\n",
    "        args.ckpt, \n",
    "        config=config, \n",
    "        pretrained_word_embedding=pretrained_word_embedding\n",
    "    )\n",
    "# elif:\n",
    "    # UPCOMING MODELS"
   ]
  },
  {
   "cell_type": "markdown",
   "metadata": {},
   "source": [
    "## Test model"
   ]
  },
  {
   "cell_type": "code",
   "execution_count": 8,
   "metadata": {},
   "outputs": [
    {
     "name": "stderr",
     "output_type": "stream",
     "text": [
      "GPU available: True (cuda), used: True\n",
      "TPU available: False, using: 0 TPU cores\n",
      "HPU available: False, using: 0 HPUs\n"
     ]
    }
   ],
   "source": [
    "trainer = Trainer(\n",
    "    **config.trainer,\n",
    "    logger=logger\n",
    ")"
   ]
  },
  {
   "cell_type": "code",
   "execution_count": 9,
   "metadata": {},
   "outputs": [
    {
     "name": "stderr",
     "output_type": "stream",
     "text": [
      "LOCAL_RANK: 0 - CUDA_VISIBLE_DEVICES: [0]\n",
      "c:\\Users\\USER\\anaconda3\\envs\\newsrec\\lib\\site-packages\\pytorch_lightning\\trainer\\connectors\\data_connector.py:425: The 'test_dataloader' does not have many workers which may be a bottleneck. Consider increasing the value of the `num_workers` argument` to `num_workers=11` in the `DataLoader` to improve performance.\n"
     ]
    },
    {
     "data": {
      "application/vnd.jupyter.widget-view+json": {
       "model_id": "79a0cd5e119f404a8f3504ce11f7e721",
       "version_major": 2,
       "version_minor": 0
      },
      "text/plain": [
       "Testing: |          | 0/? [00:00<?, ?it/s]"
      ]
     },
     "metadata": {},
     "output_type": "display_data"
    },
    {
     "name": "stdout",
     "output_type": "stream",
     "text": [
      "────────────────────────────────────────────────────────────────────────────────────────────────────────────────────────\n",
      "         Test metric                 DataLoader 0\n",
      "────────────────────────────────────────────────────────────────────────────────────────────────────────────────────────\n",
      "       test_auc_epoch             0.5560961365699768\n",
      "test_ils_senti@10_bert_epoch      0.4856659173965454\n",
      "test_ils_senti@10_vader_epoch     0.2443128377199173\n",
      " test_ils_senti@5_bert_epoch      0.47626766562461853\n",
      "test_ils_senti@5_vader_epoch      0.25722575187683105\n",
      "   test_ils_topic@10_epoch        0.09298563003540039\n",
      "   test_ils_topic@5_epoch         0.12804388999938965\n",
      "       test_mrr_epoch             0.24117176234722137\n",
      "     test_ndcg@10_epoch           0.3258844017982483\n",
      "      test_ndcg@5_epoch           0.25681784749031067\n",
      "  test_senti@10_bert_epoch        0.3998955190181732\n",
      "  test_senti@10_vader_epoch       0.02770446240901947\n",
      "   test_senti@5_bert_epoch        0.26882338523864746\n",
      "  test_senti@5_vader_epoch        0.02272985316812992\n",
      "  test_senti_mrr_bert_epoch       0.18272240459918976\n",
      " test_senti_mrr_vader_epoch       0.01998109742999077\n",
      "   test_topic_div@10_epoch        0.4310603439807892\n",
      "   test_topic_div@5_epoch         0.3462444245815277\n",
      "    test_topic_mrr_epoch          0.4286380708217621\n",
      "────────────────────────────────────────────────────────────────────────────────────────────────────────────────────────\n"
     ]
    },
    {
     "data": {
      "text/plain": [
       "[{'test_auc_epoch': 0.5560961365699768,\n",
       "  'test_mrr_epoch': 0.24117176234722137,\n",
       "  'test_ndcg@10_epoch': 0.3258844017982483,\n",
       "  'test_ndcg@5_epoch': 0.25681784749031067,\n",
       "  'test_senti@10_vader_epoch': 0.02770446240901947,\n",
       "  'test_senti@5_vader_epoch': 0.02272985316812992,\n",
       "  'test_senti_mrr_vader_epoch': 0.01998109742999077,\n",
       "  'test_senti@10_bert_epoch': 0.3998955190181732,\n",
       "  'test_senti@5_bert_epoch': 0.26882338523864746,\n",
       "  'test_senti_mrr_bert_epoch': 0.18272240459918976,\n",
       "  'test_topic_div@10_epoch': 0.4310603439807892,\n",
       "  'test_topic_div@5_epoch': 0.3462444245815277,\n",
       "  'test_topic_mrr_epoch': 0.4286380708217621,\n",
       "  'test_ils_senti@10_vader_epoch': 0.2443128377199173,\n",
       "  'test_ils_senti@5_vader_epoch': 0.25722575187683105,\n",
       "  'test_ils_senti@10_bert_epoch': 0.4856659173965454,\n",
       "  'test_ils_senti@5_bert_epoch': 0.47626766562461853,\n",
       "  'test_ils_topic@10_epoch': 0.09298563003540039,\n",
       "  'test_ils_topic@5_epoch': 0.12804388999938965}]"
      ]
     },
     "execution_count": 9,
     "metadata": {},
     "output_type": "execute_result"
    }
   ],
   "source": [
    "trainer.test(\n",
    "    model=model, \n",
    "    dataloaders=test_loader\n",
    ")"
   ]
  },
  {
   "cell_type": "code",
   "execution_count": 1,
   "metadata": {},
   "outputs": [
    {
     "ename": "NameError",
     "evalue": "name 'test_dataset' is not defined",
     "output_type": "error",
     "traceback": [
      "\u001b[1;31m---------------------------------------------------------------------------\u001b[0m",
      "\u001b[1;31mNameError\u001b[0m                                 Traceback (most recent call last)",
      "Cell \u001b[1;32mIn[1], line 1\u001b[0m\n\u001b[1;32m----> 1\u001b[0m \u001b[43mtest_dataset\u001b[49m[\u001b[38;5;241m0\u001b[39m]\n",
      "\u001b[1;31mNameError\u001b[0m: name 'test_dataset' is not defined"
     ]
    }
   ],
   "source": [
    "test_dataset[0]"
   ]
  },
  {
   "cell_type": "code",
   "execution_count": 30,
   "metadata": {},
   "outputs": [
    {
     "data": {
      "text/plain": [
       "tensor([[ 2679,  4349,  4726,  2851,   550,    29,  5067,   164,  3585, 10645,\n",
       "          2250,  1471,     0,     0,     0,     0,     0,     0,     0,     0],\n",
       "        [  887,   128,  3392,  1401,  1764,   126,  4545,     0,     0,     0,\n",
       "             0,     0,     0,     0,     0,     0,     0,     0,     0,     0]])"
      ]
     },
     "execution_count": 30,
     "metadata": {},
     "output_type": "execute_result"
    }
   ],
   "source": [
    "test_dataset[11]['c_title']"
   ]
  }
 ],
 "metadata": {
  "kernelspec": {
   "display_name": "newsrec",
   "language": "python",
   "name": "python3"
  },
  "language_info": {
   "codemirror_mode": {
    "name": "ipython",
    "version": 3
   },
   "file_extension": ".py",
   "mimetype": "text/x-python",
   "name": "python",
   "nbconvert_exporter": "python",
   "pygments_lexer": "ipython3",
   "version": "3.9.21"
  }
 },
 "nbformat": 4,
 "nbformat_minor": 2
}
