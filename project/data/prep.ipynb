{
 "cells": [
  {
   "cell_type": "markdown",
   "metadata": {},
   "source": [
    "# Data Processing"
   ]
  },
  {
   "cell_type": "markdown",
   "metadata": {},
   "source": [
    "## 1. Global Settings"
   ]
  },
  {
   "cell_type": "markdown",
   "metadata": {},
   "source": [
    "순서 파악파기\n",
    "\n",
    "python parse_behavior.py --in-file \"$datasetTrainPath/behaviors.tsv\" --out-dir \"$preTrainPath\" --mode train\n",
    "\n",
    "python parse_behavior.py --in-file \"$datasetTestPath/behaviors.tsv\" --out-dir \"$preTestPath\" --mode test --user2int \"$preTrainPath/user2int.tsv\"\n",
    "\n",
    "python parse_news.py --in-file \"$datasetTrainPath/news.tsv\" --out-dir \"$preTrainPath\" --mode train --word-embeddings \"$wordEmbeddingPath/glove.840B.300d.txt\"\n",
    "\n",
    "python parse_news.py --in-file \"$datasetTestPath/news.tsv\" --out-dir \"$preTestPath\" --mode test --word-embeddings \"$wordEmbeddingPath/glove.840B.300d.txt\" --embedding-weights \"$preTrainPath/embedding_weights.csv\" --word2int \"$preTrainPath/word2int.tsv\" --category2int \"$preTrainPath/category2int.tsv\"\n",
    "\n",
    "parse_behavior.py 먼저 진행\n",
    "\n",
    "parse_news는 glove 임베딩 파일 필요"
   ]
  },
  {
   "cell_type": "code",
   "execution_count": null,
   "metadata": {},
   "outputs": [],
   "source": [
    "from sklearn.model_selection import train_test_split\n",
    "\n",
    "import argparse\n",
    "import parse_behavior\n",
    "import parse_news"
   ]
  },
  {
   "cell_type": "code",
   "execution_count": null,
   "metadata": {},
   "outputs": [],
   "source": [
    "size = \"demo\"\n",
    "\n",
    "datasetPath = f\"MIND/{size}\"\n",
    "datasetTrainPath = f\"{datasetPath}/train\"\n",
    "datasetTestPath = f\"{datasetPath}/test\"\n",
    "wordEmbeddingPath = \"word_embeddings\"\n",
    "\n",
    "processedDataPath = \"processed\"\n",
    "preTrainPath = f\"{processedDataPath}/{size}/train\"\n",
    "preTestPath = f\"{processedDataPath}/{size}/test\"\n",
    "\n",
    "user2int = f\"{preTrainPath}/user2int.tsv\"\n",
    "\n",
    "word_embeddings = f\"{wordEmbeddingPath}/glove.840B.300d.txt\"\n",
    "word2int = f\"{preTrainPath}/word2int.tsv\""
   ]
  },
  {
   "cell_type": "code",
   "execution_count": null,
   "metadata": {},
   "outputs": [],
   "source": [
    "args = argparse.Namespace(\n",
    "    config = \"config/model/nrms/exp1.yaml\",\n",
    "    mode = \"train\"\n",
    ")"
   ]
  },
  {
   "cell_type": "code",
   "execution_count": null,
   "metadata": {},
   "outputs": [],
   "source": [
    "# train/test behaviors.tsv 전처리\n",
    "\n",
    "if(args.mode == \"train\"):\n",
    "    with open(args.in_file, 'r') as in_file:\n",
    "        behavior = in_file.readlines()\n",
    "        if (args.split == 0):\n",
    "            parse_behavior.generate_training_data(behavior, args.out_dir)\n",
    "        else:\n",
    "            train_behavior, val_behavior = train_test_split(behavior,test_size=args.split, random_state=1234)\n",
    "            user2int = parse_behavior.generate_training_data(train_behavior, args.out_dir)\n",
    "            parse_behavior.generate_eval_data(val_behavior, args.out_dir, \"val_behavior.tsv\", user2int)\n",
    "elif(args.mode == \"test\"):\n",
    "    user2int = parse_behavior.load_idx_map_as_dict(args.user2int)\n",
    "    with open(args.in_file, 'r') as in_file:\n",
    "        behavior = in_file.readlines()\n",
    "        parse_behavior.generate_eval_data(behavior, args.out_dir, \"test_behavior.tsv\", user2int)\n",
    "else:\n",
    "    print(\"Wrong mode!\")"
   ]
  }
 ],
 "metadata": {
  "kernelspec": {
   "display_name": "newsrec",
   "language": "python",
   "name": "python3"
  },
  "language_info": {
   "name": "python",
   "version": "3.9.21"
  }
 },
 "nbformat": 4,
 "nbformat_minor": 2
}
