{
 "cells": [
  {
   "cell_type": "markdown",
   "metadata": {},
   "source": [
    "# Data Processing"
   ]
  },
  {
   "cell_type": "markdown",
   "metadata": {},
   "source": [
    "## 1. Global Settings"
   ]
  },
  {
   "cell_type": "code",
   "execution_count": 1,
   "metadata": {},
   "outputs": [],
   "source": [
    "# jupyter notebook에서 import 해서 쓰는 모듈의 코드가 변경될 시, 변동 사항을 자동으로 반영해주는 기능 켜기\n",
    "%load_ext autoreload\n",
    "%autoreload 2"
   ]
  },
  {
   "cell_type": "code",
   "execution_count": null,
   "metadata": {},
   "outputs": [],
   "source": [
    "import argparse\n",
    "import os\n",
    "from sklearn.model_selection import train_test_split\n",
    "from preprocess import prep_behavior\n",
    "from preprocess import prep_news"
   ]
  },
  {
   "cell_type": "code",
   "execution_count": null,
   "metadata": {},
   "outputs": [],
   "source": [
    "size = \"demo\"\n",
    "\n",
    "datasetPath = f\"MIND/{size}\"\n",
    "datasetTrainDir = f\"{datasetPath}/train\"\n",
    "datasetTestDir = f\"{datasetPath}/test\"\n",
    "trainBehaviorsPath = f\"{datasetTrainDir}/behaviors.tsv\"\n",
    "testBehaviorsPath = f\"{datasetTestDir}/behaviors.tsv\"\n",
    "trainNewsPath = f\"{datasetTrainDir}/news.tsv\"\n",
    "testNewsPath = f\"{datasetTestDir}/news.tsv\"\n",
    "\n",
    "processedDataPath = \"preprocessed_data\"\n",
    "preTrainDir = f\"{processedDataPath}/{size}/train\"\n",
    "preTestDir = f\"{processedDataPath}/{size}/test\"\n",
    "\n",
    "user2intPath = f\"{preTrainDir}/user2int.tsv\"\n",
    "word2intPath = f\"{preTrainDir}/word2int.tsv\"\n",
    "category2intPath = f\"{preTrainDir}/category2int.tsv\"\n",
    "\n",
    "wordEmbeddingDir = \"word_embeddings\"\n",
    "wordEmbeddingPath = f\"{wordEmbeddingDir}/glove.840B.300d.txt\""
   ]
  },
  {
   "cell_type": "markdown",
   "metadata": {},
   "source": [
    "#### 1. python parse_behavior.py --in-file \"$datasetTrainPath/behaviors.tsv\" --out-dir \"$preTrainPath\" --mode train"
   ]
  },
  {
   "cell_type": "code",
   "execution_count": null,
   "metadata": {},
   "outputs": [
    {
     "name": "stdout",
     "output_type": "stream",
     "text": [
      "preparing training data\n"
     ]
    },
    {
     "name": "stderr",
     "output_type": "stream",
     "text": [
      "100%|██████████| 19830/19830 [00:00<00:00, 39633.16it/s]\n"
     ]
    },
    {
     "name": "stdout",
     "output_type": "stream",
     "text": [
      "preparing eval data\n"
     ]
    },
    {
     "name": "stderr",
     "output_type": "stream",
     "text": [
      "100%|██████████| 2204/2204 [00:00<00:00, 47973.96it/s]\n"
     ]
    }
   ],
   "source": [
    "# train behaviors.tsv 전처리\n",
    "\n",
    "args = argparse.Namespace(\n",
    "    in_file = trainBehaviorsPath,\n",
    "    split = 0.1,\n",
    "    out_dir = preTrainDir,\n",
    "    n_negative = 4\n",
    ")\n",
    "\n",
    "os.makedirs(args.out_dir, exist_ok=True)\n",
    "\n",
    "with open(args.in_file, 'r') as trainBehaviors:\n",
    "    behavior = trainBehaviors.readlines()\n",
    "    if (args.split == 0):\n",
    "        prep_behavior.generate_training_data(args, behavior, args.out_dir)\n",
    "    else:\n",
    "        train_behavior, val_behavior = train_test_split(behavior,test_size=args.split, random_state=1234)\n",
    "        user2intPath = prep_behavior.generate_training_data(args, train_behavior, args.out_dir)\n",
    "        prep_behavior.generate_eval_data(val_behavior, args.out_dir, \"val_behavior.tsv\", user2intPath)"
   ]
  },
  {
   "cell_type": "markdown",
   "metadata": {},
   "source": [
    "#### 2. python parse_behavior.py --in-file \"$datasetTestPath/behaviors.tsv\" --out-dir \"$preTestPath\" --mode test --user2int \"$preTrainPath/user2int.tsv\""
   ]
  },
  {
   "cell_type": "code",
   "execution_count": null,
   "metadata": {},
   "outputs": [
    {
     "name": "stderr",
     "output_type": "stream",
     "text": [
      "100%|██████████| 4880/4880 [00:00<00:00, 2441632.29it/s]\n"
     ]
    },
    {
     "name": "stdout",
     "output_type": "stream",
     "text": [
      "preparing eval data\n"
     ]
    },
    {
     "name": "stderr",
     "output_type": "stream",
     "text": [
      "100%|██████████| 7538/7538 [00:00<00:00, 55018.03it/s]\n"
     ]
    }
   ],
   "source": [
    "# test behaviors.tsv 전처리\n",
    "\n",
    "#parse_behavior.py용 args\n",
    "args = argparse.Namespace(\n",
    "    in_file = testBehaviorsPath,\n",
    "    user2int = f\"{preTrainDir}/user2int.tsv\",\n",
    "    out_dir = preTestDir\n",
    ")\n",
    "\n",
    "os.makedirs(args.out_dir, exist_ok=True)\n",
    "\n",
    "user2intPath = prep_behavior.load_idx_map_as_dict(args.user2int)\n",
    "with open(args.in_file, 'r') as in_file:\n",
    "    behavior = in_file.readlines()\n",
    "    prep_behavior.generate_eval_data(behavior, args.out_dir, \"test_behavior.tsv\", user2intPath)"
   ]
  },
  {
   "cell_type": "markdown",
   "metadata": {},
   "source": [
    "#### 3. python parse_news.py --in-file \"$datasetTrainPath/news.tsv\" --out-dir \"$preTrainPath\" --mode train --word-embeddings \"$wordEmbeddingPath/glove.840B.300d.txt\""
   ]
  },
  {
   "cell_type": "code",
   "execution_count": null,
   "metadata": {},
   "outputs": [],
   "source": [
    "#parse_news.py용 args\n",
    "args = argparse.Namespace(\n",
    "    in_file = trainNewsPath,\n",
    "    out_dir = preTrainDir,\n",
    "    mode = \"train\",\n",
    "    word_embeddings = wordEmbeddingPath,\n",
    "    max_title = 20,\n",
    "    max_abstract = 50\n",
    ")"
   ]
  },
  {
   "cell_type": "code",
   "execution_count": null,
   "metadata": {},
   "outputs": [
    {
     "name": "stdout",
     "output_type": "stream",
     "text": [
      "preparing/processing word-embeddings\n"
     ]
    },
    {
     "name": "stderr",
     "output_type": "stream",
     "text": [
      "100%|██████████| 2196018/2196018 [00:27<00:00, 78857.79it/s]\n"
     ]
    }
   ],
   "source": [
    "# prep embedings/vocab\n",
    "embeddings = prep_news.process_word_embeddings(args.word_embeddings)"
   ]
  },
  {
   "cell_type": "code",
   "execution_count": null,
   "metadata": {},
   "outputs": [],
   "source": [
    "print(type(embeddings))\n",
    "print(len(embeddings))\n",
    "print(type(embeddings[\"hello\"]))\n",
    "print(embeddings[\"hello\"])"
   ]
  },
  {
   "cell_type": "code",
   "execution_count": null,
   "metadata": {},
   "outputs": [
    {
     "name": "stderr",
     "output_type": "stream",
     "text": [
      "No model was supplied, defaulted to distilbert/distilbert-base-uncased-finetuned-sst-2-english and revision 714eb0f (https://huggingface.co/distilbert/distilbert-base-uncased-finetuned-sst-2-english).\n",
      "Using a pipeline without specifying a model name and revision in production is not recommended.\n"
     ]
    },
    {
     "name": "stdout",
     "output_type": "stream",
     "text": [
      "preparing/processing train news content\n"
     ]
    },
    {
     "name": "stderr",
     "output_type": "stream",
     "text": [
      "Device set to use cuda:0\n",
      "100%|██████████| 26740/26740 [02:18<00:00, 193.36it/s]\n",
      "No model was supplied, defaulted to distilbert/distilbert-base-uncased-finetuned-sst-2-english and revision 714eb0f (https://huggingface.co/distilbert/distilbert-base-uncased-finetuned-sst-2-english).\n",
      "Using a pipeline without specifying a model name and revision in production is not recommended.\n"
     ]
    },
    {
     "name": "stdout",
     "output_type": "stream",
     "text": [
      "preparing/processing test news content\n"
     ]
    },
    {
     "name": "stderr",
     "output_type": "stream",
     "text": [
      "Device set to use cuda:0\n",
      "100%|██████████| 18723/18723 [01:36<00:00, 194.76it/s]\n"
     ]
    }
   ],
   "source": [
    "prep_news.prep_news(args, embeddings)"
   ]
  },
  {
   "cell_type": "markdown",
   "metadata": {},
   "source": [
    "#### 4. python parse_news.py --in-file \"$datasetTestPath/news.tsv\" --out-dir \"$preTestPath\" --mode test --word-embeddings \"$wordEmbeddingPath/glove.840B.300d.txt\" --embedding-weights \"$preTrainPath/embedding_weights.csv\" --word2int \"$preTrainPath/word2int.tsv\" --category2int \"$preTrainPath/category2int.tsv\""
   ]
  },
  {
   "cell_type": "code",
   "execution_count": null,
   "metadata": {},
   "outputs": [],
   "source": [
    "#parse_news.py용 args\n",
    "args = argparse.Namespace(\n",
    "    in_file = testNewsPath,\n",
    "    out_dir = preTestDir,\n",
    "    mode = \"test\",\n",
    "    word_embeddings = wordEmbeddingDir,\n",
    "    embedding_weights = f\"{preTrainDir}/embedding_weights.csv\",\n",
    "    word2int = word2intPath,\n",
    "    category2int = category2intPath,\n",
    "    max_title = 20,\n",
    "    max_abstract = 50\n",
    ")"
   ]
  },
  {
   "cell_type": "code",
   "execution_count": 11,
   "metadata": {},
   "outputs": [
    {
     "name": "stderr",
     "output_type": "stream",
     "text": [
      "No model was supplied, defaulted to distilbert/distilbert-base-uncased-finetuned-sst-2-english and revision 714eb0f (https://huggingface.co/distilbert/distilbert-base-uncased-finetuned-sst-2-english).\n",
      "Using a pipeline without specifying a model name and revision in production is not recommended.\n"
     ]
    },
    {
     "name": "stdout",
     "output_type": "stream",
     "text": [
      "preparing/processing news content\n"
     ]
    },
    {
     "name": "stderr",
     "output_type": "stream",
     "text": [
      "Device set to use cuda:0\n",
      "100%|██████████| 247/247 [00:00<?, ?it/s]\n",
      "100%|██████████| 41366/41366 [00:00<00:00, 2425035.35it/s]\n",
      "100%|██████████| 41367/41367 [00:00<00:00, 3935531.42it/s]\n",
      "100%|██████████| 18723/18723 [01:39<00:00, 188.66it/s]\n"
     ]
    }
   ],
   "source": [
    "prep_news.prep_news(args, embeddings)"
   ]
  }
 ],
 "metadata": {
  "kernelspec": {
   "display_name": "newsrec",
   "language": "python",
   "name": "python3"
  },
  "language_info": {
   "codemirror_mode": {
    "name": "ipython",
    "version": 3
   },
   "file_extension": ".py",
   "mimetype": "text/x-python",
   "name": "python",
   "nbconvert_exporter": "python",
   "pygments_lexer": "ipython3",
   "version": "3.9.21"
  }
 },
 "nbformat": 4,
 "nbformat_minor": 2
}
