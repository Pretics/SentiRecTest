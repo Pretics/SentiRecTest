{
 "cells": [
  {
   "cell_type": "markdown",
   "metadata": {},
   "source": [
    "# Data Processing"
   ]
  },
  {
   "cell_type": "markdown",
   "metadata": {},
   "source": [
    "## Global Settings"
   ]
  },
  {
   "cell_type": "code",
   "execution_count": 1,
   "metadata": {},
   "outputs": [],
   "source": [
    "# jupyter notebook에서 import 해서 쓰는 모듈의 코드가 변경될 시, 변동 사항을 자동으로 반영해주는 기능 켜기\n",
    "%load_ext autoreload\n",
    "%autoreload 2"
   ]
  },
  {
   "cell_type": "code",
   "execution_count": 2,
   "metadata": {},
   "outputs": [],
   "source": [
    "import os\n",
    "from preprocess import prep_behavior_combined\n",
    "from preprocess import prep_news_combined\n",
    "from preprocess.prep_behavior_combined import PrepBehaviorArgs\n",
    "from preprocess.prep_news_combined import PrepNewsArgs"
   ]
  },
  {
   "cell_type": "code",
   "execution_count": 3,
   "metadata": {},
   "outputs": [],
   "source": [
    "\"\"\"\n",
    "경로가 폴더를 나타낼 경우 Dir, 파일일 경우 Path로 명명\n",
    "\"\"\"\n",
    "\n",
    "size = \"manual\"\n",
    "\n",
    "datasetPath = f\"MIND/{size}\"\n",
    "datasetTrainPath = f\"{datasetPath}/train\"\n",
    "datasetTestPath = f\"{datasetPath}/test\"\n",
    "trainBehaviorsPath = f\"{datasetTrainPath}/behaviors.tsv\"\n",
    "testBehaviorsPath = f\"{datasetTestPath}/behaviors.tsv\"\n",
    "trainNewsPath = f\"{datasetTrainPath}/news.tsv\"\n",
    "testNewsPath = f\"{datasetTestPath}/news.tsv\"\n",
    "\n",
    "processedDataPath = \"preprocessed_data\"\n",
    "preTrainDir = f\"{processedDataPath}/{size}/train\"\n",
    "preTestDir = f\"{processedDataPath}/{size}/test\"\n",
    "\n",
    "user2intPath = f\"{preTrainDir}/user2int.tsv\"\n",
    "word2intPath = f\"{preTrainDir}/word2int.tsv\"\n",
    "category2intPath = f\"{preTrainDir}/category2int.tsv\"\n",
    "\n",
    "wordEmbeddingDir = \"word_embeddings\"\n",
    "wordEmbeddingPath = f\"{wordEmbeddingDir}/glove.840B.300d.txt\""
   ]
  },
  {
   "cell_type": "markdown",
   "metadata": {},
   "source": [
    "## 1. Train/Test 데이터셋 behaviors.tsv 전처리\n",
    "\n",
    "### 생성되는 파일\n",
    "##### Train\n",
    "1. train_behavior.tsv\n",
    "2. user2int.tsv\n",
    "3. val_behavior.tsv\n",
    "##### Test\n",
    "1. test_behavior.tsv"
   ]
  },
  {
   "cell_type": "code",
   "execution_count": 4,
   "metadata": {},
   "outputs": [],
   "source": [
    "args = PrepBehaviorArgs(\n",
    "    train_behavior_path = trainBehaviorsPath,\n",
    "    test_behavior_path = testBehaviorsPath,\n",
    "    train_out_dir = preTrainDir,\n",
    "    test_out_dir = preTestDir,\n",
    "    user2int_path = f\"{preTrainDir}/user2int.tsv\",\n",
    "    split_test_size = 0.1,\n",
    "    n_negative = 4\n",
    ")"
   ]
  },
  {
   "cell_type": "code",
   "execution_count": 5,
   "metadata": {},
   "outputs": [
    {
     "name": "stdout",
     "output_type": "stream",
     "text": [
      "preparing training data\n"
     ]
    },
    {
     "name": "stderr",
     "output_type": "stream",
     "text": [
      "100%|██████████| 1/1 [00:00<?, ?it/s]\n"
     ]
    },
    {
     "name": "stdout",
     "output_type": "stream",
     "text": [
      "preparing eval data\n"
     ]
    },
    {
     "name": "stderr",
     "output_type": "stream",
     "text": [
      "100%|██████████| 1/1 [00:00<?, ?it/s]\n",
      "100%|██████████| 1/1 [00:00<?, ?it/s]\n"
     ]
    },
    {
     "name": "stdout",
     "output_type": "stream",
     "text": [
      "preparing eval data\n"
     ]
    },
    {
     "name": "stderr",
     "output_type": "stream",
     "text": [
      "100%|██████████| 1/1 [00:00<?, ?it/s]\n"
     ]
    }
   ],
   "source": [
    "os.makedirs(args.train_out_dir, exist_ok=True)\n",
    "os.makedirs(args.test_out_dir, exist_ok=True)\n",
    "\n",
    "prep_behavior_combined.prep_behavior_combined(args)"
   ]
  },
  {
   "cell_type": "markdown",
   "metadata": {},
   "source": [
    "## 2. Train/Test 데이터셋 news.tsv 전처리\n",
    "\n",
    "### 생성되는 파일\n",
    "##### Train\n",
    "1. parsed_news.tsv\n",
    "2. category2int.tsv\n",
    "3. embedding_weights.csv\n",
    "4. word2int.tsv\n",
    "##### Test\n",
    "1. parsed_news.tsv\n",
    "2. embedding_weights.csv\n",
    "3. word2int.tsv"
   ]
  },
  {
   "cell_type": "code",
   "execution_count": 6,
   "metadata": {},
   "outputs": [],
   "source": [
    "#parse_news_combined.py용 args\n",
    "args = PrepNewsArgs(\n",
    "    train_news_path = trainNewsPath,\n",
    "    test_news_path = testNewsPath,\n",
    "    train_out_dir = preTrainDir,\n",
    "    test_out_dir = preTestDir,\n",
    "    word_embedding_path = wordEmbeddingPath,\n",
    "    max_title = 100,\n",
    "    max_abstract = 100\n",
    ")"
   ]
  },
  {
   "cell_type": "code",
   "execution_count": 7,
   "metadata": {},
   "outputs": [
    {
     "name": "stdout",
     "output_type": "stream",
     "text": [
      "preparing/processing word-embeddings\n"
     ]
    },
    {
     "name": "stderr",
     "output_type": "stream",
     "text": [
      "100%|██████████| 2196018/2196018 [00:29<00:00, 75087.10it/s]\n"
     ]
    }
   ],
   "source": [
    "# prep embedings/vocab\n",
    "embeddings = prep_news_combined.process_word_embeddings(args.word_embedding_path)"
   ]
  },
  {
   "cell_type": "code",
   "execution_count": 8,
   "metadata": {},
   "outputs": [
    {
     "name": "stderr",
     "output_type": "stream",
     "text": [
      "No model was supplied, defaulted to distilbert/distilbert-base-uncased-finetuned-sst-2-english and revision 714eb0f (https://huggingface.co/distilbert/distilbert-base-uncased-finetuned-sst-2-english).\n",
      "Using a pipeline without specifying a model name and revision in production is not recommended.\n"
     ]
    },
    {
     "name": "stdout",
     "output_type": "stream",
     "text": [
      "preparing/processing train news content\n"
     ]
    },
    {
     "name": "stderr",
     "output_type": "stream",
     "text": [
      "Device set to use cuda:0\n",
      "  0%|          | 1/235 [00:00<00:31,  7.53it/s]You seem to be using the pipelines sequentially on GPU. In order to maximize efficiency please use a dataset\n",
      "100%|██████████| 235/235 [00:01<00:00, 162.11it/s]\n",
      "No model was supplied, defaulted to distilbert/distilbert-base-uncased-finetuned-sst-2-english and revision 714eb0f (https://huggingface.co/distilbert/distilbert-base-uncased-finetuned-sst-2-english).\n",
      "Using a pipeline without specifying a model name and revision in production is not recommended.\n"
     ]
    },
    {
     "name": "stdout",
     "output_type": "stream",
     "text": [
      "preparing/processing test news content\n"
     ]
    },
    {
     "name": "stderr",
     "output_type": "stream",
     "text": [
      "Device set to use cuda:0\n",
      "100%|██████████| 24/24 [00:00<00:00, 179.84it/s]\n"
     ]
    }
   ],
   "source": [
    "prep_news_combined.prep_news_combined(args, embeddings)"
   ]
  },
  {
   "cell_type": "markdown",
   "metadata": {},
   "source": [
    "## 기타 테스트 코드"
   ]
  },
  {
   "cell_type": "code",
   "execution_count": 8,
   "metadata": {},
   "outputs": [
    {
     "name": "stdout",
     "output_type": "stream",
     "text": [
      "<class 'dict'>\n",
      "2196017\n",
      "<class 'str'>\n",
      "0.25233 0.10176 -0.67485 0.21117 0.43492 0.16542 0.48261 -0.81222 0.041321 0.78502 -0.077857 -0.66324 0.1464 -0.29289 -0.25488 0.019293 -0.20265 0.98232 0.028312 -0.081276 -0.1214 0.13126 -0.17648 0.13556 -0.16361 -0.22574 0.055006 -0.20308 0.20718 0.095785 0.22481 0.21537 -0.32982 -0.12241 -0.40031 -0.079381 -0.19958 -0.015083 -0.079139 -0.18132 0.20681 -0.36196 -0.30744 -0.24422 -0.23113 0.09798 0.1463 -0.062738 0.42934 -0.078038 -0.19627 0.65093 -0.22807 -0.30308 -0.12483 -0.17568 -0.14651 0.15361 -0.29518 0.15099 -0.51726 -0.033564 -0.23109 -0.7833 0.018029 -0.15719 0.02293 0.49639 0.029225 0.05669 0.14616 -0.19195 0.16244 0.23898 0.36431 0.45263 0.2456 0.23803 0.31399 0.3487 -0.035791 0.56108 -0.25345 0.051964 -0.10618 -0.30962 1.0585 -0.42025 0.18216 -0.11256 0.40576 0.11784 -0.19705 -0.075292 0.080723 -0.02782 -0.15617 -0.44681 -0.15165 0.1692 0.098255 -0.031894 0.087143 0.26082 0.002706 0.1319 0.34439 -0.37894 -0.4114 0.081571 -0.11674 -0.43711 0.011144 0.099353 0.26612 0.40025 0.18895 -0.18438 -0.30355 -0.2725 0.22468 -0.40614 0.15618 -0.16043 0.47147 0.0080203 0.56858 0.21934 -0.11181 0.79925 0.10714 -0.50146 0.063593 0.069465 0.15292 -0.2747 -0.20989 0.20737 -0.10681 0.40651 -2.6438 -0.31139 -0.32157 -0.26458 -0.35625 0.070013 -0.18838 0.48773 -0.26167 -0.020805 0.17819 0.15758 -0.13752 0.056464 0.30766 -0.066136 0.4748 -0.27335 0.09732 -0.20832 0.0039332 0.346 -0.08702 -0.54924 -0.18759 -0.17174 0.060324 -0.13521 0.10419 0.30165 0.05798 0.21872 -0.073594 -0.20423 -0.25279 -0.10471 -0.32163 0.12525 -0.31281 0.0097207 -0.26777 -0.61121 -0.11089 -0.13652 0.035135 -0.4939 0.084857 -0.15494 -0.063509 -0.23935 0.28272 0.10849 -0.3365 -0.60764 0.38576 -0.0095438 0.17499 -0.52723 0.62211 0.19544 -0.48977 0.036582 -0.128 -0.016827 0.25647 -0.31698 0.48257 -0.14184 0.11046 -0.3098 -0.63141 -0.37268 0.23183 -0.14268 -0.02341 0.022255 -0.044662 -0.16404 -0.25848 0.1629 0.024751 0.23348 0.27933 0.38998 -0.058968 0.11355 0.15673 0.18583 -0.19814 -0.48123 -0.035084 0.078458 -0.49833 0.10855 -0.20133 0.05292 -0.11583 -0.16009 0.16768 0.42362 -0.23106 0.082465 0.24296 -0.16786 0.0080409 0.085947 0.38033 0.072981 0.1633 0.24704 -0.11094 0.15115 -0.22068 -0.061944 -0.037091 -0.087923 -0.23181 0.15035 -0.19093 -0.19113 -0.11894 0.094908 -0.0043347 0.15362 -0.41201 -0.3073 0.18375 0.40206 -0.0034793 -0.10917 -0.69522 0.10161 -0.079256 0.40329 0.22285 -0.19374 -0.13315 0.073231 0.099832 0.11685 -0.21643 -0.1108 0.10341 0.097286 0.11196 -0.3894 -0.0089363 0.28809 -0.10792 0.028811 0.32545 0.26052 -0.038941 0.075204 0.46031 -0.06293 0.21661 0.17869 -0.51917 0.33591\n",
      "\n"
     ]
    }
   ],
   "source": [
    "# embeddings 테스트\n",
    "print(type(embeddings))\n",
    "print(len(embeddings))\n",
    "print(type(embeddings[\"hello\"]))\n",
    "print(embeddings[\"hello\"])"
   ]
  }
 ],
 "metadata": {
  "kernelspec": {
   "display_name": "newsrec",
   "language": "python",
   "name": "python3"
  },
  "language_info": {
   "codemirror_mode": {
    "name": "ipython",
    "version": 3
   },
   "file_extension": ".py",
   "mimetype": "text/x-python",
   "name": "python",
   "nbconvert_exporter": "python",
   "pygments_lexer": "ipython3",
   "version": "3.9.21"
  }
 },
 "nbformat": 4,
 "nbformat_minor": 2
}
