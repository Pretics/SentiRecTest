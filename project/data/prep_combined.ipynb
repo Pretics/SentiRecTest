{
 "cells": [
  {
   "cell_type": "markdown",
   "metadata": {},
   "source": [
    "# Data Processing"
   ]
  },
  {
   "cell_type": "markdown",
   "metadata": {},
   "source": [
    "## Global Settings"
   ]
  },
  {
   "cell_type": "code",
   "execution_count": 1,
   "metadata": {},
   "outputs": [],
   "source": [
    "# jupyter notebook에서 import 해서 쓰는 모듈의 코드가 변경될 시, 변동 사항을 자동으로 반영해주는 기능 켜기\n",
    "%load_ext autoreload\n",
    "%autoreload 2"
   ]
  },
  {
   "cell_type": "code",
   "execution_count": null,
   "metadata": {},
   "outputs": [],
   "source": [
    "import argparse\n",
    "import os\n",
    "from preprocess import prep_behavior_combined\n",
    "from preprocess import prep_news_combined"
   ]
  },
  {
   "cell_type": "code",
   "execution_count": null,
   "metadata": {},
   "outputs": [],
   "source": [
    "\"\"\"\n",
    "경로가 폴더를 나타낼 경우 Dir, 파일일 경우 Path로 명명\n",
    "\"\"\"\n",
    "\n",
    "size = \"demo\"\n",
    "\n",
    "datasetPath = f\"MIND/{size}\"\n",
    "datasetTrainPath = f\"{datasetPath}/train\"\n",
    "datasetTestPath = f\"{datasetPath}/test\"\n",
    "trainBehaviorsPath = f\"{datasetTrainPath}/behaviors.tsv\"\n",
    "testBehaviorsPath = f\"{datasetTestPath}/behaviors.tsv\"\n",
    "trainNewsPath = f\"{datasetTrainPath}/news.tsv\"\n",
    "testNewsPath = f\"{datasetTestPath}/news.tsv\"\n",
    "\n",
    "processedDataPath = \"preprocessed_data\"\n",
    "preTrainDir = f\"{processedDataPath}/{size}/train\"\n",
    "preTestDir = f\"{processedDataPath}/{size}/test\"\n",
    "\n",
    "user2intPath = f\"{preTrainDir}/user2int.tsv\"\n",
    "word2intPath = f\"{preTrainDir}/word2int.tsv\"\n",
    "category2intPath = f\"{preTrainDir}/category2int.tsv\"\n",
    "\n",
    "wordEmbeddingDir = \"word_embeddings\"\n",
    "wordEmbeddingPath = f\"{wordEmbeddingDir}/glove.840B.300d.txt\""
   ]
  },
  {
   "cell_type": "markdown",
   "metadata": {},
   "source": [
    "## 1. Train/Test 데이터셋 behaviors.tsv 전처리\n",
    "\n",
    "### 생성되는 파일\n",
    "##### Train\n",
    "1. train_behavior.tsv\n",
    "2. user2int.tsv\n",
    "3. val_behavior.tsv\n",
    "##### Test\n",
    "1. test_behavior.tsv"
   ]
  },
  {
   "cell_type": "code",
   "execution_count": 4,
   "metadata": {},
   "outputs": [],
   "source": [
    "args = argparse.Namespace(\n",
    "    train_behavior_path = trainBehaviorsPath,\n",
    "    test_behavior_path = testBehaviorsPath,\n",
    "    train_out_dir = preTrainDir,\n",
    "    test_out_dir = preTestDir,\n",
    "    user2int_path = f\"{preTrainDir}/user2int.tsv\",\n",
    "    split_test_size = 0.1,\n",
    "    n_negative = 4\n",
    ")"
   ]
  },
  {
   "cell_type": "code",
   "execution_count": 5,
   "metadata": {},
   "outputs": [
    {
     "name": "stdout",
     "output_type": "stream",
     "text": [
      "preparing training data\n"
     ]
    },
    {
     "name": "stderr",
     "output_type": "stream",
     "text": [
      "100%|██████████| 19830/19830 [00:00<00:00, 43072.48it/s]\n"
     ]
    },
    {
     "name": "stdout",
     "output_type": "stream",
     "text": [
      "preparing eval data\n"
     ]
    },
    {
     "name": "stderr",
     "output_type": "stream",
     "text": [
      "100%|██████████| 2204/2204 [00:00<00:00, 50197.09it/s]\n",
      "100%|██████████| 4880/4880 [00:00<00:00, 2439304.44it/s]\n"
     ]
    },
    {
     "name": "stdout",
     "output_type": "stream",
     "text": [
      "preparing eval data\n"
     ]
    },
    {
     "name": "stderr",
     "output_type": "stream",
     "text": [
      "100%|██████████| 7538/7538 [00:00<00:00, 58717.92it/s]\n"
     ]
    }
   ],
   "source": [
    "os.makedirs(args.train_out_dir, exist_ok=True)\n",
    "os.makedirs(args.test_out_dir, exist_ok=True)\n",
    "\n",
    "prep_behavior_combined.prep_behavior_combined(args)"
   ]
  },
  {
   "cell_type": "markdown",
   "metadata": {},
   "source": [
    "## 2. Train/Test 데이터셋 news.tsv 전처리\n",
    "\n",
    "### 생성되는 파일\n",
    "##### Train\n",
    "1. parsed_news.tsv\n",
    "2. category2int.tsv\n",
    "3. embedding_weights.csv\n",
    "4. word2int.tsv\n",
    "##### Test\n",
    "1. parsed_news.tsv\n",
    "2. embedding_weights.csv\n",
    "3. word2int.tsv"
   ]
  },
  {
   "cell_type": "code",
   "execution_count": null,
   "metadata": {},
   "outputs": [],
   "source": [
    "#parse_news_combined.py용 args\n",
    "args = argparse.Namespace(\n",
    "    train_news_path = trainNewsPath,\n",
    "    test_news_path = testNewsPath,\n",
    "    train_out_dir = preTrainDir,\n",
    "    test_out_dir = preTestDir,\n",
    "    word_embedding_path = wordEmbeddingPath,\n",
    "    max_title = 20,\n",
    "    max_abstract = 50\n",
    ")"
   ]
  },
  {
   "cell_type": "code",
   "execution_count": null,
   "metadata": {},
   "outputs": [
    {
     "name": "stdout",
     "output_type": "stream",
     "text": [
      "preparing/processing word-embeddings\n"
     ]
    },
    {
     "name": "stderr",
     "output_type": "stream",
     "text": [
      "100%|██████████| 2196018/2196018 [00:28<00:00, 77164.71it/s]\n"
     ]
    }
   ],
   "source": [
    "# prep embedings/vocab\n",
    "embeddings = prep_news_combined.process_word_embeddings(args.word_embedding_path)"
   ]
  },
  {
   "cell_type": "code",
   "execution_count": 8,
   "metadata": {},
   "outputs": [
    {
     "name": "stderr",
     "output_type": "stream",
     "text": [
      "No model was supplied, defaulted to distilbert/distilbert-base-uncased-finetuned-sst-2-english and revision 714eb0f (https://huggingface.co/distilbert/distilbert-base-uncased-finetuned-sst-2-english).\n",
      "Using a pipeline without specifying a model name and revision in production is not recommended.\n"
     ]
    },
    {
     "name": "stdout",
     "output_type": "stream",
     "text": [
      "preparing/processing train news content\n"
     ]
    },
    {
     "name": "stderr",
     "output_type": "stream",
     "text": [
      "Device set to use cuda:0\n",
      "  0%|          | 1/26740 [00:00<1:02:04,  7.18it/s]You seem to be using the pipelines sequentially on GPU. In order to maximize efficiency please use a dataset\n",
      "100%|██████████| 26740/26740 [02:21<00:00, 189.04it/s]\n",
      "No model was supplied, defaulted to distilbert/distilbert-base-uncased-finetuned-sst-2-english and revision 714eb0f (https://huggingface.co/distilbert/distilbert-base-uncased-finetuned-sst-2-english).\n",
      "Using a pipeline without specifying a model name and revision in production is not recommended.\n"
     ]
    },
    {
     "name": "stdout",
     "output_type": "stream",
     "text": [
      "preparing/processing test news content\n"
     ]
    },
    {
     "name": "stderr",
     "output_type": "stream",
     "text": [
      "Device set to use cuda:0\n",
      "100%|██████████| 18723/18723 [01:53<00:00, 165.18it/s]\n"
     ]
    }
   ],
   "source": [
    "prep_news_combined.prep_news_combined(args, embeddings)"
   ]
  },
  {
   "cell_type": "markdown",
   "metadata": {},
   "source": [
    "## 기타 테스트 코드"
   ]
  },
  {
   "cell_type": "code",
   "execution_count": null,
   "metadata": {},
   "outputs": [],
   "source": [
    "# embeddings 테스트\n",
    "print(type(embeddings))\n",
    "print(len(embeddings))\n",
    "print(type(embeddings[\"hello\"]))\n",
    "print(embeddings[\"hello\"])"
   ]
  }
 ],
 "metadata": {
  "kernelspec": {
   "display_name": "newsrec",
   "language": "python",
   "name": "python3"
  },
  "language_info": {
   "codemirror_mode": {
    "name": "ipython",
    "version": 3
   },
   "file_extension": ".py",
   "mimetype": "text/x-python",
   "name": "python",
   "nbconvert_exporter": "python",
   "pygments_lexer": "ipython3",
   "version": "3.9.21"
  }
 },
 "nbformat": 4,
 "nbformat_minor": 2
}
