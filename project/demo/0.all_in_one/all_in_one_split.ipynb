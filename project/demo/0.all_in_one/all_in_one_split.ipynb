{
 "cells": [
  {
   "cell_type": "markdown",
   "metadata": {},
   "source": [
    "동작 테스트만 간단하게 진행 가능하도록 최대한 간략하게 유지하는 노트북입니다."
   ]
  },
  {
   "cell_type": "markdown",
   "metadata": {},
   "source": [
    "# Global Settings"
   ]
  },
  {
   "cell_type": "code",
   "execution_count": 1,
   "metadata": {},
   "outputs": [],
   "source": [
    "import os\n",
    "from os import path\n",
    "import sys\n",
    "\n",
    "PROJECT_DIR = path.abspath(path.join(os.getcwd(), \"..\", \"..\"))\n",
    "sys.path.append(PROJECT_DIR)\n",
    "DATA_DIR = path.join(PROJECT_DIR, \"data\")"
   ]
  },
  {
   "cell_type": "markdown",
   "metadata": {},
   "source": [
    "# 1. prepare_dataset"
   ]
  },
  {
   "cell_type": "code",
   "execution_count": null,
   "metadata": {},
   "outputs": [],
   "source": [
    "from utils import resize_dataset\n",
    "\n",
    "size = \"onlyone\"\n",
    "original_size = \"demo\"\n",
    "\n",
    "datasetDir = path.join(DATA_DIR, \"MIND\", size)\n",
    "datasetOriginalDir = path.join(DATA_DIR, \"MIND\", original_size)\n",
    "\n",
    "os.makedirs(path.join(datasetDir, \"train\"), exist_ok=True)\n",
    "os.makedirs(path.join(datasetDir, \"test\"), exist_ok=True)\n",
    "\n",
    "train_data_number = 2\n",
    "test_data_number = 1\n",
    "random_seed = 5"
   ]
  },
  {
   "cell_type": "code",
   "execution_count": 3,
   "metadata": {},
   "outputs": [
    {
     "name": "stderr",
     "output_type": "stream",
     "text": [
      "100%|██████████| 2/2 [00:00<?, ?it/s]\n",
      "100%|██████████| 1/1 [00:00<?, ?it/s]\n",
      "100%|██████████| 2/2 [00:00<?, ?it/s]\n",
      "100%|██████████| 1/1 [00:00<?, ?it/s]\n"
     ]
    }
   ],
   "source": [
    "resize_dataset.resize_dataset(datasetDir, datasetOriginalDir, train_data_number, test_data_number, random_seed)"
   ]
  },
  {
   "cell_type": "markdown",
   "metadata": {},
   "source": [
    "# 2. processing_data"
   ]
  },
  {
   "cell_type": "code",
   "execution_count": null,
   "metadata": {},
   "outputs": [
    {
     "name": "stderr",
     "output_type": "stream",
     "text": [
      "c:\\Users\\USER\\anaconda3\\envs\\newsrec\\lib\\site-packages\\tqdm\\auto.py:21: TqdmWarning: IProgress not found. Please update jupyter and ipywidgets. See https://ipywidgets.readthedocs.io/en/stable/user_install.html\n",
      "  from .autonotebook import tqdm as notebook_tqdm\n"
     ]
    },
    {
     "name": "stdout",
     "output_type": "stream",
     "text": [
      "preparing/processing word-embeddings\n"
     ]
    },
    {
     "name": "stderr",
     "output_type": "stream",
     "text": [
      "100%|██████████| 2196018/2196018 [01:18<00:00, 28077.23it/s]\n"
     ]
    },
    {
     "name": "stdout",
     "output_type": "stream",
     "text": [
      "load word-embeddings\n"
     ]
    },
    {
     "name": "stderr",
     "output_type": "stream",
     "text": [
      "100%|██████████| 2196017/2196017 [00:01<00:00, 1159753.57it/s]\n"
     ]
    }
   ],
   "source": [
    "from data.preprocess.prep_news import PrepNews\n",
    "\n",
    "wordEmbeddingPath = path.join(DATA_DIR, \"word_embeddings\", \"glove.840B.300d.txt\")\n",
    "npy_path = path.join(DATA_DIR, \"word_embeddings\", \"glove.840B.300d.npy\")\n",
    "word2int_path = path.join(DATA_DIR, \"word_embeddings\", \"glove.840B.300d.tokens.tsv\")\n",
    "\n",
    "PrepNews.process_word_embeddings_to_npy(wordEmbeddingPath, npy_path, word2int_path)"
   ]
  },
  {
   "cell_type": "code",
   "execution_count": 3,
   "metadata": {},
   "outputs": [
    {
     "name": "stdout",
     "output_type": "stream",
     "text": [
      "preparing training data\n"
     ]
    },
    {
     "name": "stderr",
     "output_type": "stream",
     "text": [
      "100%|██████████| 1/1 [00:00<?, ?it/s]\n"
     ]
    },
    {
     "name": "stdout",
     "output_type": "stream",
     "text": [
      "preparing eval data\n"
     ]
    },
    {
     "name": "stderr",
     "output_type": "stream",
     "text": [
      "100%|██████████| 1/1 [00:00<?, ?it/s]\n",
      "100%|██████████| 1/1 [00:00<?, ?it/s]\n"
     ]
    },
    {
     "name": "stdout",
     "output_type": "stream",
     "text": [
      "preparing eval data\n"
     ]
    },
    {
     "name": "stderr",
     "output_type": "stream",
     "text": [
      "100%|██████████| 1/1 [00:00<00:00, 999.83it/s]"
     ]
    },
    {
     "name": "stdout",
     "output_type": "stream",
     "text": [
      "load word-embeddings\n"
     ]
    },
    {
     "name": "stderr",
     "output_type": "stream",
     "text": [
      "\n",
      "100%|██████████| 2196017/2196017 [00:01<00:00, 1413018.78it/s]\n",
      "No model was supplied, defaulted to distilbert/distilbert-base-uncased-finetuned-sst-2-english and revision 714eb0f (https://huggingface.co/distilbert/distilbert-base-uncased-finetuned-sst-2-english).\n",
      "Using a pipeline without specifying a model name and revision in production is not recommended.\n"
     ]
    },
    {
     "name": "stdout",
     "output_type": "stream",
     "text": [
      "preparing/processing train news content\n"
     ]
    },
    {
     "name": "stderr",
     "output_type": "stream",
     "text": [
      "Device set to use cuda:0\n",
      " 11%|█         | 9/84 [00:00<00:02, 26.89it/s]You seem to be using the pipelines sequentially on GPU. In order to maximize efficiency please use a dataset\n",
      "100%|██████████| 84/84 [00:00<00:00, 103.58it/s]\n",
      "No model was supplied, defaulted to distilbert/distilbert-base-uncased-finetuned-sst-2-english and revision 714eb0f (https://huggingface.co/distilbert/distilbert-base-uncased-finetuned-sst-2-english).\n",
      "Using a pipeline without specifying a model name and revision in production is not recommended.\n"
     ]
    },
    {
     "name": "stdout",
     "output_type": "stream",
     "text": [
      "preparing/processing test news content\n"
     ]
    },
    {
     "name": "stderr",
     "output_type": "stream",
     "text": [
      "Device set to use cuda:0\n",
      "100%|██████████| 26/26 [00:00<00:00, 213.12it/s]\n"
     ]
    }
   ],
   "source": [
    "from data.preprocess.prep_dataset import PrepDataset, PrepDatasetArgs\n",
    "\n",
    "args = PrepDatasetArgs(\n",
    "    size = \"onlyone\",\n",
    "    split_test_size = 0.1,\n",
    "    n_negative = 4,\n",
    "    max_title = 40,\n",
    "    max_abstract = 80\n",
    ")\n",
    "prep_dataset = PrepDataset(args)\n",
    "prep_dataset.pre_processing_dataset()"
   ]
  },
  {
   "cell_type": "markdown",
   "metadata": {},
   "source": [
    "# 3. train_and_test"
   ]
  },
  {
   "cell_type": "code",
   "execution_count": 2,
   "metadata": {},
   "outputs": [
    {
     "name": "stderr",
     "output_type": "stream",
     "text": [
      "c:\\Users\\USER\\anaconda3\\envs\\newsrec\\lib\\site-packages\\tqdm\\auto.py:21: TqdmWarning: IProgress not found. Please update jupyter and ipywidgets. See https://ipywidgets.readthedocs.io/en/stable/user_install.html\n",
      "  from .autonotebook import tqdm as notebook_tqdm\n",
      "Seed set to 1234\n",
      "100%|██████████| 1772/1772 [00:00<00:00, 20607.63it/s]\n",
      "100%|██████████| 84/84 [00:00<00:00, 663.02it/s]\n",
      "100%|██████████| 1/1 [00:00<00:00, 42.50it/s]\n",
      "100%|██████████| 84/84 [00:00<00:00, 2533.92it/s]\n",
      "100%|██████████| 1/1 [00:00<00:00, 999.60it/s]\n",
      "GPU available: True (cuda), used: False\n",
      "TPU available: False, using: 0 TPU cores\n",
      "HPU available: False, using: 0 HPUs\n",
      "c:\\Users\\USER\\anaconda3\\envs\\newsrec\\lib\\site-packages\\pytorch_lightning\\trainer\\setup.py:177: GPU available but not used. You can set it by doing `Trainer(accelerator='gpu')`.\n",
      "c:\\Users\\USER\\anaconda3\\envs\\newsrec\\lib\\site-packages\\pytorch_lightning\\callbacks\\model_checkpoint.py:654: Checkpoint directory C:\\Users\\USER\\Desktop\\projects\\python\\newsrecommend\\SentiRecTest\\project\\logs\\lightning_logs\\checkpoints\\nrms\\exp_onlyone1 exists and is not empty.\n",
      "\n",
      "   | Name                                   | Type             | Params | Mode \n",
      "-------------------------------------------------------------------------------------\n",
      "0  | news_encoder                           | TimeDistributed  | 953 K  | train\n",
      "1  | user_encoder                           | UserEncoder      | 421 K  | train\n",
      "2  | val_performance_metrics                | MetricCollection | 0      | train\n",
      "3  | val_sentiment_diversity_metrics_vader  | MetricCollection | 0      | train\n",
      "4  | val_sentiment_diversity_metrics_bert   | MetricCollection | 0      | train\n",
      "5  | test_performance_metrics               | MetricCollection | 0      | train\n",
      "6  | test_sentiment_diversity_metrics_vader | MetricCollection | 0      | train\n",
      "7  | test_sentiment_diversity_metrics_bert  | MetricCollection | 0      | train\n",
      "8  | test_topic_diversity_metrics           | MetricCollection | 0      | train\n",
      "9  | test_ils_senti_metrics_vader           | MetricCollection | 0      | train\n",
      "10 | test_ils_senti_metrics_bert            | MetricCollection | 0      | train\n",
      "11 | test_ils_topic_metrics                 | MetricCollection | 0      | train\n",
      "-------------------------------------------------------------------------------------\n",
      "1.4 M     Trainable params\n",
      "0         Non-trainable params\n",
      "1.4 M     Total params\n",
      "5.499     Total estimated model params size (MB)\n",
      "51        Modules in train mode\n",
      "0         Modules in eval mode\n"
     ]
    },
    {
     "name": "stdout",
     "output_type": "stream",
     "text": [
      "                                                                           "
     ]
    },
    {
     "name": "stderr",
     "output_type": "stream",
     "text": [
      "c:\\Users\\USER\\anaconda3\\envs\\newsrec\\lib\\site-packages\\pytorch_lightning\\trainer\\connectors\\data_connector.py:425: The 'val_dataloader' does not have many workers which may be a bottleneck. Consider increasing the value of the `num_workers` argument` to `num_workers=11` in the `DataLoader` to improve performance.\n",
      "c:\\Users\\USER\\anaconda3\\envs\\newsrec\\lib\\site-packages\\pytorch_lightning\\trainer\\connectors\\data_connector.py:425: The 'train_dataloader' does not have many workers which may be a bottleneck. Consider increasing the value of the `num_workers` argument` to `num_workers=11` in the `DataLoader` to improve performance.\n",
      "c:\\Users\\USER\\anaconda3\\envs\\newsrec\\lib\\site-packages\\pytorch_lightning\\loops\\fit_loop.py:310: The number of training batches (1) is smaller than the logging interval Trainer(log_every_n_steps=50). Set a lower value for log_every_n_steps if you want to see logs for the training epoch.\n"
     ]
    },
    {
     "name": "stdout",
     "output_type": "stream",
     "text": [
      "Epoch 0: 100%|██████████| 1/1 [00:00<00:00,  9.59it/s, v_num=one1]"
     ]
    },
    {
     "name": "stderr",
     "output_type": "stream",
     "text": [
      "Metric val_auc_epoch improved. New best score: 0.625\n",
      "Epoch 0, global step 1: 'val_auc_epoch' reached 0.62500 (best 0.62500), saving model to 'C:\\\\Users\\\\USER\\\\Desktop\\\\projects\\\\python\\\\newsrecommend\\\\SentiRecTest\\\\project\\\\logs\\\\lightning_logs\\\\checkpoints\\\\nrms\\\\exp_onlyone1\\\\epoch=0-val_auc_epoch=0.6250-v1.ckpt' as top 3\n"
     ]
    },
    {
     "name": "stdout",
     "output_type": "stream",
     "text": [
      "Epoch 1: 100%|██████████| 1/1 [00:00<00:00,  9.13it/s, v_num=one1]"
     ]
    },
    {
     "name": "stderr",
     "output_type": "stream",
     "text": [
      "Epoch 1, global step 2: 'val_auc_epoch' reached 0.62500 (best 0.62500), saving model to 'C:\\\\Users\\\\USER\\\\Desktop\\\\projects\\\\python\\\\newsrecommend\\\\SentiRecTest\\\\project\\\\logs\\\\lightning_logs\\\\checkpoints\\\\nrms\\\\exp_onlyone1\\\\epoch=1-val_auc_epoch=0.6250-v1.ckpt' as top 3\n"
     ]
    },
    {
     "name": "stdout",
     "output_type": "stream",
     "text": [
      "Epoch 2: 100%|██████████| 1/1 [00:00<00:00,  9.73it/s, v_num=one1]"
     ]
    },
    {
     "name": "stderr",
     "output_type": "stream",
     "text": [
      "Epoch 2, global step 3: 'val_auc_epoch' reached 0.62500 (best 0.62500), saving model to 'C:\\\\Users\\\\USER\\\\Desktop\\\\projects\\\\python\\\\newsrecommend\\\\SentiRecTest\\\\project\\\\logs\\\\lightning_logs\\\\checkpoints\\\\nrms\\\\exp_onlyone1\\\\epoch=2-val_auc_epoch=0.6250-v1.ckpt' as top 3\n"
     ]
    },
    {
     "name": "stdout",
     "output_type": "stream",
     "text": [
      "Epoch 3: 100%|██████████| 1/1 [00:00<00:00,  9.60it/s, v_num=one1]"
     ]
    },
    {
     "name": "stderr",
     "output_type": "stream",
     "text": [
      "Epoch 3, global step 4: 'val_auc_epoch' was not in top 3\n"
     ]
    },
    {
     "name": "stdout",
     "output_type": "stream",
     "text": [
      "Epoch 4: 100%|██████████| 1/1 [00:00<00:00, 10.01it/s, v_num=one1]"
     ]
    },
    {
     "name": "stderr",
     "output_type": "stream",
     "text": [
      "Epoch 4, global step 5: 'val_auc_epoch' was not in top 3\n"
     ]
    },
    {
     "name": "stdout",
     "output_type": "stream",
     "text": [
      "Epoch 5: 100%|██████████| 1/1 [00:00<00:00, 10.01it/s, v_num=one1]"
     ]
    },
    {
     "name": "stderr",
     "output_type": "stream",
     "text": [
      "Monitored metric val_auc_epoch did not improve in the last 5 records. Best score: 0.625. Signaling Trainer to stop.\n",
      "Epoch 5, global step 6: 'val_auc_epoch' was not in top 3\n"
     ]
    },
    {
     "name": "stdout",
     "output_type": "stream",
     "text": [
      "Epoch 5: 100%|██████████| 1/1 [00:00<00:00,  4.97it/s, v_num=one1]"
     ]
    },
    {
     "name": "stderr",
     "output_type": "stream",
     "text": [
      "Seed set to 1234\n"
     ]
    },
    {
     "name": "stdout",
     "output_type": "stream",
     "text": [
      "\n"
     ]
    },
    {
     "name": "stderr",
     "output_type": "stream",
     "text": [
      "100%|██████████| 1772/1772 [00:00<00:00, 13758.72it/s]\n",
      "100%|██████████| 26/26 [00:00<00:00, 2730.46it/s]\n",
      "100%|██████████| 1/1 [00:00<00:00, 499.80it/s]\n",
      "GPU available: True (cuda), used: False\n",
      "TPU available: False, using: 0 TPU cores\n",
      "HPU available: False, using: 0 HPUs\n",
      "c:\\Users\\USER\\anaconda3\\envs\\newsrec\\lib\\site-packages\\pytorch_lightning\\trainer\\connectors\\data_connector.py:425: The 'test_dataloader' does not have many workers which may be a bottleneck. Consider increasing the value of the `num_workers` argument` to `num_workers=11` in the `DataLoader` to improve performance.\n"
     ]
    },
    {
     "name": "stdout",
     "output_type": "stream",
     "text": [
      "Testing DataLoader 0: 100%|██████████| 1/1 [00:00<00:00, 17.82it/s]\n",
      "────────────────────────────────────────────────────────────────────────────────────────────────────────────────────────\n",
      "         Test metric                 DataLoader 0\n",
      "────────────────────────────────────────────────────────────────────────────────────────────────────────────────────────\n",
      "       test_auc_epoch             0.3181818127632141\n",
      "test_ils_senti@10_bert_epoch      0.4899059236049652\n",
      "test_ils_senti@10_vader_epoch      0.21966552734375\n",
      " test_ils_senti@5_bert_epoch      0.32343438267707825\n",
      "test_ils_senti@5_vader_epoch      0.21803000569343567\n",
      "   test_ils_topic@10_epoch        0.02222222276031971\n",
      "   test_ils_topic@5_epoch         0.10000000149011612\n",
      "       test_mrr_epoch                   0.0625\n",
      "     test_ndcg@10_epoch                   0.0\n",
      "      test_ndcg@5_epoch                   0.0\n",
      "  test_senti@10_bert_epoch                0.0\n",
      "  test_senti@10_vader_epoch               0.0\n",
      "   test_senti@5_bert_epoch                0.0\n",
      "  test_senti@5_vader_epoch                0.0\n",
      "  test_senti_mrr_bert_epoch               0.0\n",
      " test_senti_mrr_vader_epoch               0.0\n",
      "   test_topic_div@10_epoch        0.4364357590675354\n",
      "   test_topic_div@5_epoch         0.5714285373687744\n",
      "    test_topic_mrr_epoch          0.7611308097839355\n",
      "────────────────────────────────────────────────────────────────────────────────────────────────────────────────────────\n"
     ]
    }
   ],
   "source": [
    "from utils.model_manager import ModelManager, ManagerArgs\n",
    "\n",
    "args = [\n",
    "    ManagerArgs(\n",
    "        config_path = path.join(PROJECT_DIR, \"config/model/nrms/exp_onlyone1.yaml\")\n",
    "    )\n",
    "]\n",
    "model_manager = ModelManager(PROJECT_DIR, args, \"train\", False)\n",
    "test_results = model_manager.train_test_all()"
   ]
  },
  {
   "cell_type": "markdown",
   "metadata": {},
   "source": [
    "# 4. Visualization"
   ]
  },
  {
   "cell_type": "code",
   "execution_count": 3,
   "metadata": {},
   "outputs": [
    {
     "data": {
      "image/png": "[encoded data removed]",
      "text/plain": [
       "<Figure size 1000x600 with 1 Axes>"
      ]
     },
     "metadata": {},
     "output_type": "display_data"
    }
   ],
   "source": [
    "from utils.test_metrics_viewer import TestMetricsViewer\n",
    "\n",
    "result_viewer = TestMetricsViewer(test_results)\n",
    "result_viewer.show()"
   ]
  },
  {
   "cell_type": "markdown",
   "metadata": {},
   "source": [
    "# 5. Using Model"
   ]
  },
  {
   "cell_type": "code",
   "execution_count": 5,
   "metadata": {},
   "outputs": [
    {
     "name": "stderr",
     "output_type": "stream",
     "text": [
      "Seed set to 1234\n",
      "100%|██████████| 42561/42561 [00:02<00:00, 20367.13it/s]\n",
      "100%|██████████| 18723/18723 [00:04<00:00, 4182.19it/s]\n",
      "100%|██████████| 7538/7538 [00:06<00:00, 1205.02it/s]\n",
      "GPU available: True (cuda), used: True\n",
      "TPU available: False, using: 0 TPU cores\n",
      "HPU available: False, using: 0 HPUs\n"
     ]
    },
    {
     "name": "stdout",
     "output_type": "stream",
     "text": [
      "Rank    Score    Label  index \n",
      "--------------------------------\n",
      "1      21.96449    0      8   \n",
      "2      21.63985    0      21  \n",
      "3      14.37056    0      20  \n",
      "4      13.39139    0      22  \n",
      "5      7.60424     0      17  \n",
      "6      4.49830     0      26  \n",
      "7      3.25125     0      23  \n",
      "8      2.46181     0      0   \n",
      "9      0.83084     0      1   \n",
      "10     0.31242     0      11  \n",
      "11     0.16820     0      16  \n",
      "12     -0.67941    0      27  \n",
      "13     -3.86770    1      9   \n",
      "14     -5.43905    0      25  \n",
      "15     -6.06323    0      18  \n",
      "16     -8.16474    0      24  \n",
      "17     -8.50863    0      5   \n",
      "18     -8.97648    0      10  \n",
      "19     -9.31507    0      6   \n",
      "20    -10.63651    0      15  \n",
      "21    -11.07256    0      14  \n",
      "22    -12.26732    0      13  \n",
      "23    -12.92857    0      3   \n",
      "24    -12.96733    0      12  \n",
      "25    -13.71577    0      19  \n",
      "26    -17.14813    0      2   \n",
      "27    -24.28173    0      7   \n",
      "28    -29.99214    0      4   \n"
     ]
    }
   ],
   "source": [
    "from utils.model_manager import ModelManager\n",
    "from utils.base_manager import ManagerArgs\n",
    "\n",
    "args = ManagerArgs(\n",
    "    config_path = path.join(PROJECT_DIR, \"config/model/nrms/exp_demo1.yaml\"),\n",
    "    test_ckpt_path = path.join(PROJECT_DIR, \"logs/lightning_logs/checkpoints/nrms/exp_demo1/epoch=24-val_auc_epoch=0.6996.ckpt\")\n",
    ")\n",
    "\n",
    "model_manager = ModelManager(PROJECT_DIR, args, \"test\")\n",
    "result = model_manager.show_result(0)"
   ]
  },
  {
   "cell_type": "code",
   "execution_count": 11,
   "metadata": {},
   "outputs": [
    {
     "name": "stdout",
     "output_type": "stream",
     "text": [
      "[7613, 204, 1136, 104, 7096, 273, 131, 310, 1104, 801, 372, 1807, 46, 29, 12290, 24, 1534, 1115, 0, 0]\n",
      "bridge has definitely been burned ' : williams says redskins have smeared him in aftermath of cancer diagnosis\n"
     ]
    }
   ],
   "source": [
    "word2int = model_manager.get_word2int()\n",
    "word2int.set_index('word_index', inplace=True)\n",
    "\n",
    "# 1. history의 맨 마지막 뉴스\n",
    "batch_data = model_manager.get_batch_from_dataloader(0)\n",
    "h_title = batch_data['h_title'][0]\n",
    "title_len = h_title.shape[0]\n",
    "title: list = h_title[title_len-1].tolist()\n",
    "print(title)\n",
    "\n",
    "def get_str_from_index_list(word2int, index_list):\n",
    "    words = []\n",
    "    for index in index_list:\n",
    "        if index == 0:\n",
    "            continue\n",
    "        word = word2int.loc[index]['word']\n",
    "        words.append(word)\n",
    "\n",
    "    sentence = ' '.join(words)\n",
    "    return sentence\n",
    "\n",
    "sentence = get_str_from_index_list(word2int, title)\n",
    "print(sentence)"
   ]
  }
 ],
 "metadata": {
  "kernelspec": {
   "display_name": "newsrec",
   "language": "python",
   "name": "python3"
  },
  "language_info": {
   "codemirror_mode": {
    "name": "ipython",
    "version": 3
   },
   "file_extension": ".py",
   "mimetype": "text/x-python",
   "name": "python",
   "nbconvert_exporter": "python",
   "pygments_lexer": "ipython3",
   "version": "3.9.21"
  }
 },
 "nbformat": 4,
 "nbformat_minor": 2
}
