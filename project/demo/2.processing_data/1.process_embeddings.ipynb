{
 "cells": [
  {
   "cell_type": "code",
   "execution_count": 1,
   "metadata": {},
   "outputs": [],
   "source": [
    "# jupyter notebook에서 import 해서 쓰는 모듈의 코드가 변경될 시, 변동 사항을 자동으로 반영해주는 기능 켜기\n",
    "%load_ext autoreload\n",
    "%autoreload 2"
   ]
  },
  {
   "cell_type": "code",
   "execution_count": 1,
   "metadata": {},
   "outputs": [
    {
     "name": "stderr",
     "output_type": "stream",
     "text": [
      "c:\\Users\\USER\\anaconda3\\envs\\newsrec\\lib\\site-packages\\tqdm\\auto.py:21: TqdmWarning: IProgress not found. Please update jupyter and ipywidgets. See https://ipywidgets.readthedocs.io/en/stable/user_install.html\n",
      "  from .autonotebook import tqdm as notebook_tqdm\n"
     ]
    }
   ],
   "source": [
    "import os\n",
    "from os import path\n",
    "import sys\n",
    "\n",
    "PROJECT_DIR = path.abspath(path.join(os.getcwd(), \"..\", \"..\"))\n",
    "sys.path.append(PROJECT_DIR)\n",
    "DATA_DIR = path.join(PROJECT_DIR, \"data\")\n",
    "\n",
    "from data.preprocess import prep_news"
   ]
  },
  {
   "cell_type": "code",
   "execution_count": 2,
   "metadata": {},
   "outputs": [],
   "source": [
    "wordEmbeddingDir = path.join(DATA_DIR, \"word_embeddings\")\n",
    "wordEmbeddingPath = path.join(wordEmbeddingDir, \"glove.840B.300d.txt\")\n",
    "npy_path = path.join(wordEmbeddingDir, \"glove.840B.300d.npy\")\n",
    "word2int_path = path.join(wordEmbeddingDir, \"glove.840B.300d.tokens.tsv\")"
   ]
  },
  {
   "cell_type": "markdown",
   "metadata": {},
   "source": [
    "## 1. 전처리\n",
    "과정)\n",
    "1. `.txt` 불러와서 `list[str]`로 저장\n",
    "2. list 순회 돌면서 token은 word2int 형태(`dict[str, int]`)로, 해당 토큰에 해당하는 embedding vector는 `ndarray`로 변환 후 `list[ndarray]` 형태로 차곡차곡 저장 \n",
    "3. 순회 종료 후 `list[ndarray]` -> `ndarray[ndarray]` 형태로 변경\n",
    "4. `ndarray[ndarray]` -> `.npy`, `dict[str, int]` -> `.tsv`로 저장"
   ]
  },
  {
   "cell_type": "code",
   "execution_count": 3,
   "metadata": {},
   "outputs": [
    {
     "name": "stdout",
     "output_type": "stream",
     "text": [
      "preparing/processing word-embeddings\n"
     ]
    },
    {
     "name": "stderr",
     "output_type": "stream",
     "text": [
      "100%|██████████| 2196018/2196018 [01:17<00:00, 28339.02it/s]\n"
     ]
    }
   ],
   "source": [
    "prep_news.process_word_embeddings_to_npy(wordEmbeddingPath, npy_path, word2int_path)"
   ]
  },
  {
   "cell_type": "markdown",
   "metadata": {},
   "source": [
    "## 2. 불러오기 (.npy & .tsv -> dict[str, nparray])\n",
    "\n",
    "과정)\n",
    "1. `.npy` -> np.load()로 불러와서 저장 (type:`nparray[nparray]`)\n",
    "2. `.tsv` 불러와서 (type:`list[str]`) 순회 시작\n",
    "3. `str` -> `.split('\\t')`로 token(type:`str`), index(type:`str`->`int`형변환) 분리\n",
    "4. 아까 `.npy`파일 불러와서 저장한 nparray 변수에서 index로 token에 해당하는 embedding_weight 찾기\n",
    "4. `{{token: embedding_weight}, ...}` 형태(type:`dict[str, nparray]`)로 매핑\n",
    "5. 최종 결과 반환"
   ]
  },
  {
   "cell_type": "code",
   "execution_count": 4,
   "metadata": {},
   "outputs": [
    {
     "name": "stdout",
     "output_type": "stream",
     "text": [
      "load word-embeddings\n"
     ]
    },
    {
     "name": "stderr",
     "output_type": "stream",
     "text": [
      "100%|██████████| 2196017/2196017 [00:01<00:00, 1361034.10it/s]\n"
     ]
    }
   ],
   "source": [
    "embeddings = prep_news.load_word_embeddings_by_npy(npy_path, word2int_path)"
   ]
  },
  {
   "cell_type": "markdown",
   "metadata": {},
   "source": [
    "### 기타 테스트 코드"
   ]
  },
  {
   "cell_type": "code",
   "execution_count": 20,
   "metadata": {},
   "outputs": [
    {
     "name": "stdout",
     "output_type": "stream",
     "text": [
      "<class 'dict'>\n",
      "<class 'str'>\n",
      "<class 'numpy.ndarray'>\n",
      "\n",
      "2196017\n",
      "300\n"
     ]
    }
   ],
   "source": [
    "first_key = list(embeddings.keys())[0]\n",
    "first_value = embeddings[first_key] # or list(embeddings.values())[0]\n",
    "\n",
    "print(type(embeddings))\n",
    "print(type(first_key))\n",
    "print(type(first_value))\n",
    "print()\n",
    "print(len(embeddings))\n",
    "print(len(first_value))"
   ]
  },
  {
   "cell_type": "code",
   "execution_count": 17,
   "metadata": {},
   "outputs": [
    {
     "name": "stdout",
     "output_type": "stream",
     "text": [
      ",\n",
      "\n",
      "[-0.082752   0.67204   -0.14987   -0.064983   0.056491   0.40228\n",
      "  0.0027747 -0.3311    -0.30691    2.0817     0.031819   0.013643\n",
      "  0.30265    0.0071297 -0.5819    -0.2774    -0.062254   1.1451\n",
      " -0.24232    0.1235    -0.12243    0.33152   -0.006162  -0.30541\n",
      " -0.13057   -0.054601   0.037083  -0.070552   0.5893    -0.30385\n",
      "  0.2898    -0.14653   -0.27052    0.37161    0.32031   -0.29125\n",
      "  0.0052483 -0.13212   -0.052736   0.087349  -0.26668   -0.16897\n",
      "  0.015162  -0.0083746 -0.14871    0.23413   -0.20719   -0.091386\n",
      "  0.40075   -0.17223    0.18145    0.37586   -0.28682    0.37289\n",
      " -0.16185    0.18008    0.3032    -0.13216    0.18352    0.095759\n",
      "  0.094916   0.008289   0.11761    0.34046    0.03677   -0.29077\n",
      "  0.058303  -0.027814   0.082941   0.1862    -0.031494   0.27985\n",
      " -0.074412  -0.13762   -0.21866    0.18138    0.040855  -0.113\n",
      "  0.24107    0.3657    -0.27525   -0.05684    0.34872    0.011884\n",
      "  0.14517   -0.71395    0.48497    0.14807    0.62287    0.20599\n",
      "  0.58379   -0.13438    0.40207    0.18311    0.28021   -0.42349\n",
      " -0.25626    0.17715   -0.54095    0.16596   -0.036058   0.08499\n",
      " -0.64989    0.075549  -0.28831    0.40626   -0.2802     0.094062\n",
      "  0.32406    0.28437   -0.26341    0.11553    0.071918  -0.47215\n",
      " -0.18366   -0.34709    0.29964   -0.66514    0.002516  -0.42333\n",
      "  0.27512    0.36012    0.16311    0.23964   -0.05923    0.3261\n",
      "  0.20559    0.038677  -0.045816   0.089764   0.43151   -0.15954\n",
      "  0.08532   -0.26572   -0.15001    0.084286  -0.16714   -0.43004\n",
      "  0.060807   0.13121   -0.24112    0.66554    0.4453    -0.18019\n",
      " -0.13919    0.56252    0.21457   -0.46443   -0.012211   0.029988\n",
      " -0.051094  -0.20135    0.80788    0.47377   -0.057647   0.46216\n",
      "  0.16084   -0.20954   -0.05452    0.15572   -0.13712    0.12972\n",
      " -0.011936  -0.003378  -0.13595   -0.080711   0.20065    0.054056\n",
      "  0.046816   0.059539   0.046265   0.17754   -0.31094    0.28119\n",
      " -0.24355    0.085252  -0.21011   -0.19472    0.0027297 -0.46341\n",
      "  0.14789   -0.31517   -0.065939   0.036106   0.42903   -0.33759\n",
      "  0.16432    0.32568   -0.050392  -0.054297   0.24074    0.41923\n",
      "  0.13012   -0.17167   -0.37808   -0.23089   -0.019477  -0.29291\n",
      " -0.30824    0.30297   -0.22659    0.081574  -0.18516   -0.21408\n",
      "  0.40616   -0.28974    0.074174  -0.17795    0.28595   -0.039626\n",
      " -0.2339    -0.36054   -0.067503  -0.091065   0.23438   -0.0041331\n",
      "  0.003232   0.0072134  0.008697   0.21614    0.049904   0.35582\n",
      "  0.13748    0.073361   0.14166    0.2412    -0.013322   0.15613\n",
      "  0.083381   0.088146  -0.019357   0.43795    0.083961   0.45309\n",
      " -0.50489   -0.10865   -0.2527    -0.18251    0.20441    0.13319\n",
      "  0.1294     0.050594  -0.15612   -0.39543    0.12538    0.24881\n",
      " -0.1927    -0.31847   -0.12719    0.4341     0.31177   -0.0040946\n",
      " -0.2094    -0.079961   0.1161    -0.050794   0.015266  -0.2803\n",
      " -0.12486    0.23587    0.2339    -0.14023    0.028462   0.56923\n",
      " -0.1649    -0.036429   0.010051  -0.17107   -0.042608   0.044965\n",
      " -0.4393    -0.26137    0.30088   -0.060772  -0.45312   -0.19076\n",
      " -0.20288    0.27694   -0.060888   0.11944    0.62206   -0.19343\n",
      "  0.47849   -0.30113    0.059389   0.074901   0.061068  -0.4662\n",
      "  0.40054   -0.19099   -0.14331    0.018267  -0.18643    0.20709\n",
      " -0.35598    0.05338   -0.050821  -0.1918    -0.37846   -0.06589  ]\n"
     ]
    }
   ],
   "source": [
    "print(first_key)\n",
    "print()\n",
    "print(first_value)"
   ]
  }
 ],
 "metadata": {
  "kernelspec": {
   "display_name": "newsrec",
   "language": "python",
   "name": "python3"
  },
  "language_info": {
   "codemirror_mode": {
    "name": "ipython",
    "version": 3
   },
   "file_extension": ".py",
   "mimetype": "text/x-python",
   "name": "python",
   "nbconvert_exporter": "python",
   "pygments_lexer": "ipython3",
   "version": "3.9.21"
  }
 },
 "nbformat": 4,
 "nbformat_minor": 2
}
