{
 "cells": [
  {
   "cell_type": "markdown",
   "metadata": {},
   "source": [
    "## Manual 버전 데이터셋 제작\n",
    "\n",
    "해당 코드는 설정한 갯수의 데이터를 기존의 데이터셋(demo/small/large)에서 랜덤하게 가져와 새로운 사이즈(manual - 이름 자유롭게 설정 가능)의 데이터셋을 생성합니다."
   ]
  },
  {
   "cell_type": "markdown",
   "metadata": {},
   "source": [
    "## Global Settings"
   ]
  },
  {
   "cell_type": "code",
   "execution_count": 1,
   "metadata": {},
   "outputs": [],
   "source": [
    "import os\n",
    "from os import path\n",
    "import sys\n",
    "\n",
    "PROJECT_DIR = path.abspath(path.join(os.getcwd(), \"..\", \"..\"))\n",
    "sys.path.append(PROJECT_DIR)\n",
    "DATA_DIR = path.join(PROJECT_DIR, \"data\")\n",
    "\n",
    "from utils import resize_dataset"
   ]
  },
  {
   "cell_type": "code",
   "execution_count": 2,
   "metadata": {},
   "outputs": [],
   "source": [
    "\"\"\"\n",
    "경로가 폴더를 나타낼 경우 Dir, 파일일 경우 Path로 명명\n",
    "\n",
    "size: 새로 만들 데이터셋의 크기 (자유롭게 설정 가능)\n",
    "original_size: 데이터를 가져올 기존 데이터셋의 크기 (demo, small, large 등 이미 있는 것)\n",
    "\"\"\"\n",
    "\n",
    "size = \"onlyone\"\n",
    "original_size = \"demo\"\n",
    "\n",
    "datasetDir = path.join(DATA_DIR, \"MIND\", size)\n",
    "datasetOriginalDir = path.join(DATA_DIR, \"MIND\", original_size)\n",
    "\n",
    "os.makedirs(path.join(datasetDir, \"train\"), exist_ok=True)\n",
    "os.makedirs(path.join(datasetDir, \"test\"), exist_ok=True)"
   ]
  },
  {
   "cell_type": "markdown",
   "metadata": {},
   "source": [
    "## Prepare parameters"
   ]
  },
  {
   "cell_type": "code",
   "execution_count": 15,
   "metadata": {},
   "outputs": [],
   "source": [
    "\"\"\"\n",
    "※중요: train_data_number는 2 이상으로 설정해야 합니다.\n",
    "나중에 데이터 전처리 과정에서 train_test_split()을 통해 train 데이터셋을 train/val로 쪼개기 때문입니다.\n",
    "\"\"\"\n",
    "train_data_number = 2\n",
    "test_data_number = 1\n",
    "random_seed = 5"
   ]
  },
  {
   "cell_type": "markdown",
   "metadata": {},
   "source": [
    "### 1. manual Train/Test behaviors.tsv 생성"
   ]
  },
  {
   "cell_type": "code",
   "execution_count": null,
   "metadata": {},
   "outputs": [
    {
     "name": "stderr",
     "output_type": "stream",
     "text": [
      "100%|██████████| 2/2 [00:00<?, ?it/s]\n",
      "100%|██████████| 1/1 [00:00<?, ?it/s]\n"
     ]
    }
   ],
   "source": []
  },
  {
   "cell_type": "markdown",
   "metadata": {},
   "source": [
    "### 2. manual Train/Test news.tsv 생성"
   ]
  },
  {
   "cell_type": "code",
   "execution_count": 17,
   "metadata": {},
   "outputs": [
    {
     "name": "stderr",
     "output_type": "stream",
     "text": [
      "100%|██████████| 2/2 [00:00<?, ?it/s]\n",
      "100%|██████████| 1/1 [00:00<?, ?it/s]\n"
     ]
    }
   ],
   "source": [
    "train_news_df = resize_dataset.generate_news_dataset(\n",
    "    path.join(datasetDir, \"train\", \"behaviors.tsv\"),\n",
    "    path.join(datasetOriginalDir, \"train\", \"news.tsv\"),\n",
    "    path.join(datasetDir, \"train\", \"news.tsv\")\n",
    ")\n",
    "test_news_df = resize_dataset.generate_news_dataset(\n",
    "    path.join(datasetDir, \"test\", \"behaviors.tsv\"),\n",
    "    path.join(datasetOriginalDir, \"test\", \"news.tsv\"),\n",
    "    path.join(datasetDir, \"test\", \"news.tsv\")\n",
    ")"
   ]
  },
  {
   "cell_type": "markdown",
   "metadata": {},
   "source": [
    "### 기타 테스트 코드"
   ]
  },
  {
   "cell_type": "code",
   "execution_count": 18,
   "metadata": {},
   "outputs": [
    {
     "name": "stdout",
     "output_type": "stream",
     "text": [
      "(84, 7)\n",
      "(26, 7)\n"
     ]
    }
   ],
   "source": [
    "print(train_news_df.shape)\n",
    "print(test_news_df.shape)"
   ]
  }
 ],
 "metadata": {
  "kernelspec": {
   "display_name": "newsrec",
   "language": "python",
   "name": "python3"
  },
  "language_info": {
   "codemirror_mode": {
    "name": "ipython",
    "version": 3
   },
   "file_extension": ".py",
   "mimetype": "text/x-python",
   "name": "python",
   "nbconvert_exporter": "python",
   "pygments_lexer": "ipython3",
   "version": "3.9.21"
  }
 },
 "nbformat": 4,
 "nbformat_minor": 2
}
