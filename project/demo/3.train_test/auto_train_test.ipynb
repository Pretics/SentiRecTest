{
 "cells": [
  {
   "cell_type": "markdown",
   "metadata": {},
   "source": [
    "## Global Settings and Imports"
   ]
  },
  {
   "cell_type": "code",
   "execution_count": 1,
   "metadata": {},
   "outputs": [],
   "source": [
    "# jupyter notebook에서 import 해서 쓰는 모듈의 코드가 변경될 시, 변동 사항을 자동으로 반영해주는 기능 켜기\n",
    "%load_ext autoreload\n",
    "%autoreload 2"
   ]
  },
  {
   "cell_type": "code",
   "execution_count": 1,
   "metadata": {},
   "outputs": [
    {
     "name": "stderr",
     "output_type": "stream",
     "text": [
      "c:\\Users\\USER\\anaconda3\\envs\\newsrec\\lib\\site-packages\\tqdm\\auto.py:21: TqdmWarning: IProgress not found. Please update jupyter and ipywidgets. See https://ipywidgets.readthedocs.io/en/stable/user_install.html\n",
      "  from .autonotebook import tqdm as notebook_tqdm\n"
     ]
    }
   ],
   "source": [
    "import os\n",
    "from os import path\n",
    "import sys\n",
    "\n",
    "PROJECT_DIR = path.abspath(path.join(os.getcwd(), \"..\", \"..\"))\n",
    "sys.path.append(PROJECT_DIR)\n",
    "\n",
    "from utils.model_manager import ModelManager, ManagerArgs"
   ]
  },
  {
   "cell_type": "markdown",
   "metadata": {},
   "source": [
    "## Prepare parameters"
   ]
  },
  {
   "cell_type": "code",
   "execution_count": 2,
   "metadata": {},
   "outputs": [],
   "source": [
    "args = [\n",
    "    ManagerArgs(\n",
    "        config_path = path.join(PROJECT_DIR, \"config/model/sentirec/vader_manual1.yaml\")\n",
    "    ),\n",
    "    ManagerArgs(\n",
    "        config_path = path.join(PROJECT_DIR, \"config/model/nrms/exp_manual1.yaml\")\n",
    "    ),\n",
    "    ManagerArgs(\n",
    "        config_path = path.join(PROJECT_DIR, \"config/model/nrms/exp_demo1.yaml\")\n",
    "    ),\n",
    "]"
   ]
  },
  {
   "cell_type": "markdown",
   "metadata": {},
   "source": [
    "## 1. 다중 args 인가"
   ]
  },
  {
   "cell_type": "code",
   "execution_count": null,
   "metadata": {},
   "outputs": [
    {
     "name": "stderr",
     "output_type": "stream",
     "text": [
      "Seed set to 1234\n",
      "100%|██████████| 9357/9357 [00:00<00:00, 21929.48it/s]\n",
      "100%|██████████| 938/938 [00:00<00:00, 3151.14it/s]\n",
      "100%|██████████| 12/12 [00:00<00:00, 428.60it/s]\n",
      "100%|██████████| 938/938 [00:00<00:00, 4834.51it/s]\n",
      "100%|██████████| 3/3 [00:00<00:00, 1000.95it/s]\n",
      "GPU available: True (cuda), used: True\n",
      "TPU available: False, using: 0 TPU cores\n",
      "HPU available: False, using: 0 HPUs\n"
     ]
    }
   ],
   "source": [
    "model_manager = ModelManager(PROJECT_DIR, args, \"train\")"
   ]
  },
  {
   "cell_type": "markdown",
   "metadata": {},
   "source": [
    "## 2. Train and Test"
   ]
  },
  {
   "cell_type": "code",
   "execution_count": 4,
   "metadata": {},
   "outputs": [
    {
     "name": "stderr",
     "output_type": "stream",
     "text": [
      "Seed set to 1234\n",
      "100%|██████████| 9357/9357 [00:00<00:00, 22222.57it/s]\n",
      "100%|██████████| 938/938 [00:00<00:00, 3050.03it/s]\n",
      "100%|██████████| 12/12 [00:00<00:00, 1499.13it/s]\n",
      "100%|██████████| 938/938 [00:00<00:00, 3057.87it/s]\n",
      "100%|██████████| 3/3 [00:00<00:00, 1000.15it/s]\n",
      "GPU available: True (cuda), used: True\n",
      "TPU available: False, using: 0 TPU cores\n",
      "HPU available: False, using: 0 HPUs\n",
      "c:\\Users\\USER\\anaconda3\\envs\\newsrec\\lib\\site-packages\\pytorch_lightning\\callbacks\\model_checkpoint.py:654: Checkpoint directory C:\\Users\\USER\\Desktop\\projects\\python\\newsrecommend\\SentiRecTest\\project\\logs\\lightning_logs\\checkpoints\\sentirec\\vader_manual1 exists and is not empty.\n",
      "LOCAL_RANK: 0 - CUDA_VISIBLE_DEVICES: [0]\n",
      "\n",
      "   | Name                                   | Type             | Params | Mode \n",
      "-------------------------------------------------------------------------------------\n",
      "0  | news_encoder                           | TimeDistributed  | 3.2 M  | train\n",
      "1  | user_encoder                           | UserEncoder      | 421 K  | train\n",
      "2  | sentiment_predictor                    | Linear           | 301    | train\n",
      "3  | val_performance_metrics                | MetricCollection | 0      | train\n",
      "4  | val_sentiment_diversity_metrics_vader  | MetricCollection | 0      | train\n",
      "5  | val_sentiment_diversity_metrics_bert   | MetricCollection | 0      | train\n",
      "6  | test_performance_metrics               | MetricCollection | 0      | train\n",
      "7  | test_sentiment_diversity_metrics_vader | MetricCollection | 0      | train\n",
      "8  | test_sentiment_diversity_metrics_bert  | MetricCollection | 0      | train\n",
      "9  | test_topic_diversity_metrics           | MetricCollection | 0      | train\n",
      "10 | test_ils_senti_metrics_vader           | MetricCollection | 0      | train\n",
      "11 | test_ils_senti_metrics_bert            | MetricCollection | 0      | train\n",
      "12 | test_ils_topic_metrics                 | MetricCollection | 0      | train\n",
      "-------------------------------------------------------------------------------------\n",
      "3.7 M     Trainable params\n",
      "0         Non-trainable params\n",
      "3.7 M     Total params\n",
      "14.602    Total estimated model params size (MB)\n",
      "52        Modules in train mode\n",
      "0         Modules in eval mode\n"
     ]
    },
    {
     "name": "stdout",
     "output_type": "stream",
     "text": [
      "Sanity Checking DataLoader 0:   0%|          | 0/2 [00:00<?, ?it/s]"
     ]
    },
    {
     "name": "stderr",
     "output_type": "stream",
     "text": [
      "c:\\Users\\USER\\anaconda3\\envs\\newsrec\\lib\\site-packages\\pytorch_lightning\\trainer\\connectors\\data_connector.py:425: The 'val_dataloader' does not have many workers which may be a bottleneck. Consider increasing the value of the `num_workers` argument` to `num_workers=11` in the `DataLoader` to improve performance.\n"
     ]
    },
    {
     "name": "stdout",
     "output_type": "stream",
     "text": [
      "                                                                           "
     ]
    },
    {
     "name": "stderr",
     "output_type": "stream",
     "text": [
      "c:\\Users\\USER\\anaconda3\\envs\\newsrec\\lib\\site-packages\\pytorch_lightning\\trainer\\connectors\\data_connector.py:425: The 'train_dataloader' does not have many workers which may be a bottleneck. Consider increasing the value of the `num_workers` argument` to `num_workers=11` in the `DataLoader` to improve performance.\n",
      "c:\\Users\\USER\\anaconda3\\envs\\newsrec\\lib\\site-packages\\pytorch_lightning\\loops\\fit_loop.py:310: The number of training batches (1) is smaller than the logging interval Trainer(log_every_n_steps=50). Set a lower value for log_every_n_steps if you want to see logs for the training epoch.\n"
     ]
    },
    {
     "name": "stdout",
     "output_type": "stream",
     "text": [
      "Epoch 0: 100%|██████████| 1/1 [00:00<00:00,  2.44it/s, v_num=ual1]"
     ]
    },
    {
     "name": "stderr",
     "output_type": "stream",
     "text": [
      "Metric val_auc_epoch improved. New best score: 0.485\n",
      "Epoch 0, global step 1: 'val_auc_epoch' reached 0.48500 (best 0.48500), saving model to 'C:\\\\Users\\\\USER\\\\Desktop\\\\projects\\\\python\\\\newsrecommend\\\\SentiRecTest\\\\project\\\\logs\\\\lightning_logs\\\\checkpoints\\\\sentirec\\\\vader_manual1\\\\epoch=0-val_auc_epoch=0.4850.ckpt' as top 3\n"
     ]
    },
    {
     "name": "stdout",
     "output_type": "stream",
     "text": [
      "Epoch 1: 100%|██████████| 1/1 [00:00<00:00, 10.36it/s, v_num=ual1]"
     ]
    },
    {
     "name": "stderr",
     "output_type": "stream",
     "text": [
      "Metric val_auc_epoch improved by 0.022 >= min_delta = 0.0001. New best score: 0.507\n",
      "Epoch 1, global step 2: 'val_auc_epoch' reached 0.50680 (best 0.50680), saving model to 'C:\\\\Users\\\\USER\\\\Desktop\\\\projects\\\\python\\\\newsrecommend\\\\SentiRecTest\\\\project\\\\logs\\\\lightning_logs\\\\checkpoints\\\\sentirec\\\\vader_manual1\\\\epoch=1-val_auc_epoch=0.5068.ckpt' as top 3\n"
     ]
    },
    {
     "name": "stdout",
     "output_type": "stream",
     "text": [
      "Epoch 2: 100%|██████████| 1/1 [00:00<00:00,  9.78it/s, v_num=ual1]"
     ]
    },
    {
     "name": "stderr",
     "output_type": "stream",
     "text": [
      "Metric val_auc_epoch improved by 0.033 >= min_delta = 0.0001. New best score: 0.540\n",
      "Epoch 2, global step 3: 'val_auc_epoch' reached 0.54007 (best 0.54007), saving model to 'C:\\\\Users\\\\USER\\\\Desktop\\\\projects\\\\python\\\\newsrecommend\\\\SentiRecTest\\\\project\\\\logs\\\\lightning_logs\\\\checkpoints\\\\sentirec\\\\vader_manual1\\\\epoch=2-val_auc_epoch=0.5401.ckpt' as top 3\n"
     ]
    },
    {
     "name": "stdout",
     "output_type": "stream",
     "text": [
      "Epoch 3: 100%|██████████| 1/1 [00:00<00:00, 10.14it/s, v_num=ual1]"
     ]
    },
    {
     "name": "stderr",
     "output_type": "stream",
     "text": [
      "Metric val_auc_epoch improved by 0.006 >= min_delta = 0.0001. New best score: 0.546\n",
      "Epoch 3, global step 4: 'val_auc_epoch' reached 0.54628 (best 0.54628), saving model to 'C:\\\\Users\\\\USER\\\\Desktop\\\\projects\\\\python\\\\newsrecommend\\\\SentiRecTest\\\\project\\\\logs\\\\lightning_logs\\\\checkpoints\\\\sentirec\\\\vader_manual1\\\\epoch=3-val_auc_epoch=0.5463.ckpt' as top 3\n"
     ]
    },
    {
     "name": "stdout",
     "output_type": "stream",
     "text": [
      "Epoch 4: 100%|██████████| 1/1 [00:00<00:00, 10.99it/s, v_num=ual1]"
     ]
    },
    {
     "name": "stderr",
     "output_type": "stream",
     "text": [
      "Metric val_auc_epoch improved by 0.005 >= min_delta = 0.0001. New best score: 0.551\n",
      "Epoch 4, global step 5: 'val_auc_epoch' reached 0.55079 (best 0.55079), saving model to 'C:\\\\Users\\\\USER\\\\Desktop\\\\projects\\\\python\\\\newsrecommend\\\\SentiRecTest\\\\project\\\\logs\\\\lightning_logs\\\\checkpoints\\\\sentirec\\\\vader_manual1\\\\epoch=4-val_auc_epoch=0.5508.ckpt' as top 3\n"
     ]
    },
    {
     "name": "stdout",
     "output_type": "stream",
     "text": [
      "Epoch 5: 100%|██████████| 1/1 [00:00<00:00,  5.40it/s, v_num=ual1]"
     ]
    },
    {
     "name": "stderr",
     "output_type": "stream",
     "text": [
      "Metric val_auc_epoch improved by 0.002 >= min_delta = 0.0001. New best score: 0.553\n",
      "Epoch 5, global step 6: 'val_auc_epoch' reached 0.55326 (best 0.55326), saving model to 'C:\\\\Users\\\\USER\\\\Desktop\\\\projects\\\\python\\\\newsrecommend\\\\SentiRecTest\\\\project\\\\logs\\\\lightning_logs\\\\checkpoints\\\\sentirec\\\\vader_manual1\\\\epoch=5-val_auc_epoch=0.5533.ckpt' as top 3\n"
     ]
    },
    {
     "name": "stdout",
     "output_type": "stream",
     "text": [
      "Epoch 6: 100%|██████████| 1/1 [00:00<00:00,  6.22it/s, v_num=ual1]"
     ]
    },
    {
     "name": "stderr",
     "output_type": "stream",
     "text": [
      "Metric val_auc_epoch improved by 0.004 >= min_delta = 0.0001. New best score: 0.558\n",
      "Epoch 6, global step 7: 'val_auc_epoch' reached 0.55776 (best 0.55776), saving model to 'C:\\\\Users\\\\USER\\\\Desktop\\\\projects\\\\python\\\\newsrecommend\\\\SentiRecTest\\\\project\\\\logs\\\\lightning_logs\\\\checkpoints\\\\sentirec\\\\vader_manual1\\\\epoch=6-val_auc_epoch=0.5578.ckpt' as top 3\n"
     ]
    },
    {
     "name": "stdout",
     "output_type": "stream",
     "text": [
      "Epoch 7: 100%|██████████| 1/1 [00:00<00:00,  8.89it/s, v_num=ual1]"
     ]
    },
    {
     "name": "stderr",
     "output_type": "stream",
     "text": [
      "Metric val_auc_epoch improved by 0.003 >= min_delta = 0.0001. New best score: 0.561\n",
      "Epoch 7, global step 8: 'val_auc_epoch' reached 0.56061 (best 0.56061), saving model to 'C:\\\\Users\\\\USER\\\\Desktop\\\\projects\\\\python\\\\newsrecommend\\\\SentiRecTest\\\\project\\\\logs\\\\lightning_logs\\\\checkpoints\\\\sentirec\\\\vader_manual1\\\\epoch=7-val_auc_epoch=0.5606.ckpt' as top 3\n"
     ]
    },
    {
     "name": "stdout",
     "output_type": "stream",
     "text": [
      "Epoch 8: 100%|██████████| 1/1 [00:00<00:00, 10.93it/s, v_num=ual1]"
     ]
    },
    {
     "name": "stderr",
     "output_type": "stream",
     "text": [
      "Epoch 8, global step 9: 'val_auc_epoch' reached 0.55817 (best 0.56061), saving model to 'C:\\\\Users\\\\USER\\\\Desktop\\\\projects\\\\python\\\\newsrecommend\\\\SentiRecTest\\\\project\\\\logs\\\\lightning_logs\\\\checkpoints\\\\sentirec\\\\vader_manual1\\\\epoch=8-val_auc_epoch=0.5582.ckpt' as top 3\n"
     ]
    },
    {
     "name": "stdout",
     "output_type": "stream",
     "text": [
      "Epoch 9: 100%|██████████| 1/1 [00:00<00:00, 11.27it/s, v_num=ual1]"
     ]
    },
    {
     "name": "stderr",
     "output_type": "stream",
     "text": [
      "Metric val_auc_epoch improved by 0.013 >= min_delta = 0.0001. New best score: 0.573\n",
      "Epoch 9, global step 10: 'val_auc_epoch' reached 0.57339 (best 0.57339), saving model to 'C:\\\\Users\\\\USER\\\\Desktop\\\\projects\\\\python\\\\newsrecommend\\\\SentiRecTest\\\\project\\\\logs\\\\lightning_logs\\\\checkpoints\\\\sentirec\\\\vader_manual1\\\\epoch=9-val_auc_epoch=0.5734-v2.ckpt' as top 3\n"
     ]
    },
    {
     "name": "stdout",
     "output_type": "stream",
     "text": [
      "Epoch 10: 100%|██████████| 1/1 [00:00<00:00, 11.05it/s, v_num=ual1]"
     ]
    },
    {
     "name": "stderr",
     "output_type": "stream",
     "text": [
      "Metric val_auc_epoch improved by 0.000 >= min_delta = 0.0001. New best score: 0.574\n",
      "Epoch 10, global step 11: 'val_auc_epoch' reached 0.57380 (best 0.57380), saving model to 'C:\\\\Users\\\\USER\\\\Desktop\\\\projects\\\\python\\\\newsrecommend\\\\SentiRecTest\\\\project\\\\logs\\\\lightning_logs\\\\checkpoints\\\\sentirec\\\\vader_manual1\\\\epoch=10-val_auc_epoch=0.5738-v2.ckpt' as top 3\n"
     ]
    },
    {
     "name": "stdout",
     "output_type": "stream",
     "text": [
      "Epoch 11: 100%|██████████| 1/1 [00:00<00:00,  9.22it/s, v_num=ual1]"
     ]
    },
    {
     "name": "stderr",
     "output_type": "stream",
     "text": [
      "Epoch 11, global step 12: 'val_auc_epoch' reached 0.57095 (best 0.57380), saving model to 'C:\\\\Users\\\\USER\\\\Desktop\\\\projects\\\\python\\\\newsrecommend\\\\SentiRecTest\\\\project\\\\logs\\\\lightning_logs\\\\checkpoints\\\\sentirec\\\\vader_manual1\\\\epoch=11-val_auc_epoch=0.5709.ckpt' as top 3\n"
     ]
    },
    {
     "name": "stdout",
     "output_type": "stream",
     "text": [
      "Epoch 12: 100%|██████████| 1/1 [00:00<00:00,  9.09it/s, v_num=ual1]"
     ]
    },
    {
     "name": "stderr",
     "output_type": "stream",
     "text": [
      "Epoch 12, global step 13: 'val_auc_epoch' reached 0.57136 (best 0.57380), saving model to 'C:\\\\Users\\\\USER\\\\Desktop\\\\projects\\\\python\\\\newsrecommend\\\\SentiRecTest\\\\project\\\\logs\\\\lightning_logs\\\\checkpoints\\\\sentirec\\\\vader_manual1\\\\epoch=12-val_auc_epoch=0.5714.ckpt' as top 3\n"
     ]
    },
    {
     "name": "stdout",
     "output_type": "stream",
     "text": [
      "Epoch 13: 100%|██████████| 1/1 [00:00<00:00,  7.93it/s, v_num=ual1]"
     ]
    },
    {
     "name": "stderr",
     "output_type": "stream",
     "text": [
      "Epoch 13, global step 14: 'val_auc_epoch' was not in top 3\n"
     ]
    },
    {
     "name": "stdout",
     "output_type": "stream",
     "text": [
      "Epoch 14: 100%|██████████| 1/1 [00:00<00:00,  8.58it/s, v_num=ual1]"
     ]
    },
    {
     "name": "stderr",
     "output_type": "stream",
     "text": [
      "Epoch 14, global step 15: 'val_auc_epoch' reached 0.57177 (best 0.57380), saving model to 'C:\\\\Users\\\\USER\\\\Desktop\\\\projects\\\\python\\\\newsrecommend\\\\SentiRecTest\\\\project\\\\logs\\\\lightning_logs\\\\checkpoints\\\\sentirec\\\\vader_manual1\\\\epoch=14-val_auc_epoch=0.5718-v2.ckpt' as top 3\n"
     ]
    },
    {
     "name": "stdout",
     "output_type": "stream",
     "text": [
      "Epoch 15: 100%|██████████| 1/1 [00:00<00:00,  7.78it/s, v_num=ual1]"
     ]
    },
    {
     "name": "stderr",
     "output_type": "stream",
     "text": [
      "Monitored metric val_auc_epoch did not improve in the last 5 records. Best score: 0.574. Signaling Trainer to stop.\n",
      "Epoch 15, global step 16: 'val_auc_epoch' was not in top 3\n"
     ]
    },
    {
     "name": "stdout",
     "output_type": "stream",
     "text": [
      "Epoch 15: 100%|██████████| 1/1 [00:00<00:00,  3.53it/s, v_num=ual1]"
     ]
    },
    {
     "name": "stderr",
     "output_type": "stream",
     "text": [
      "Seed set to 1234\n"
     ]
    },
    {
     "name": "stdout",
     "output_type": "stream",
     "text": [
      "\n"
     ]
    },
    {
     "name": "stderr",
     "output_type": "stream",
     "text": [
      "100%|██████████| 9357/9357 [00:00<00:00, 22223.32it/s]\n",
      "100%|██████████| 938/938 [00:00<00:00, 3677.92it/s]\n",
      "100%|██████████| 12/12 [00:00<00:00, 1843.18it/s]\n",
      "100%|██████████| 938/938 [00:00<00:00, 3249.99it/s]\n",
      "100%|██████████| 3/3 [00:00<00:00, 739.00it/s]\n",
      "GPU available: True (cuda), used: True\n",
      "TPU available: False, using: 0 TPU cores\n",
      "HPU available: False, using: 0 HPUs\n",
      "c:\\Users\\USER\\anaconda3\\envs\\newsrec\\lib\\site-packages\\pytorch_lightning\\callbacks\\model_checkpoint.py:654: Checkpoint directory C:\\Users\\USER\\Desktop\\projects\\python\\newsrecommend\\SentiRecTest\\project\\logs\\lightning_logs\\checkpoints\\nrms\\exp_manual1 exists and is not empty.\n",
      "LOCAL_RANK: 0 - CUDA_VISIBLE_DEVICES: [0]\n",
      "\n",
      "   | Name                                   | Type             | Params | Mode \n",
      "-------------------------------------------------------------------------------------\n",
      "0  | news_encoder                           | TimeDistributed  | 3.2 M  | train\n",
      "1  | user_encoder                           | UserEncoder      | 421 K  | train\n",
      "2  | val_performance_metrics                | MetricCollection | 0      | train\n",
      "3  | val_sentiment_diversity_metrics_vader  | MetricCollection | 0      | train\n",
      "4  | val_sentiment_diversity_metrics_bert   | MetricCollection | 0      | train\n",
      "5  | test_performance_metrics               | MetricCollection | 0      | train\n",
      "6  | test_sentiment_diversity_metrics_vader | MetricCollection | 0      | train\n",
      "7  | test_sentiment_diversity_metrics_bert  | MetricCollection | 0      | train\n",
      "8  | test_topic_diversity_metrics           | MetricCollection | 0      | train\n",
      "9  | test_ils_senti_metrics_vader           | MetricCollection | 0      | train\n",
      "10 | test_ils_senti_metrics_bert            | MetricCollection | 0      | train\n",
      "11 | test_ils_topic_metrics                 | MetricCollection | 0      | train\n",
      "-------------------------------------------------------------------------------------\n",
      "3.7 M     Trainable params\n",
      "0         Non-trainable params\n",
      "3.7 M     Total params\n",
      "14.601    Total estimated model params size (MB)\n",
      "51        Modules in train mode\n",
      "0         Modules in eval mode\n"
     ]
    },
    {
     "name": "stdout",
     "output_type": "stream",
     "text": [
      "Epoch 0: 100%|██████████| 1/1 [00:00<00:00,  9.22it/s, v_num=exp1]         "
     ]
    },
    {
     "name": "stderr",
     "output_type": "stream",
     "text": [
      "Metric val_auc_epoch improved. New best score: 0.479\n",
      "Epoch 0, global step 1: 'val_auc_epoch' reached 0.47908 (best 0.47908), saving model to 'C:\\\\Users\\\\USER\\\\Desktop\\\\projects\\\\python\\\\newsrecommend\\\\SentiRecTest\\\\project\\\\logs\\\\lightning_logs\\\\checkpoints\\\\nrms\\\\exp_manual1\\\\epoch=0-val_auc_epoch=0.4791.ckpt' as top 3\n"
     ]
    },
    {
     "name": "stdout",
     "output_type": "stream",
     "text": [
      "Epoch 1: 100%|██████████| 1/1 [00:00<00:00,  9.22it/s, v_num=exp1]"
     ]
    },
    {
     "name": "stderr",
     "output_type": "stream",
     "text": [
      "Metric val_auc_epoch improved by 0.037 >= min_delta = 0.0001. New best score: 0.516\n",
      "Epoch 1, global step 2: 'val_auc_epoch' reached 0.51624 (best 0.51624), saving model to 'C:\\\\Users\\\\USER\\\\Desktop\\\\projects\\\\python\\\\newsrecommend\\\\SentiRecTest\\\\project\\\\logs\\\\lightning_logs\\\\checkpoints\\\\nrms\\\\exp_manual1\\\\epoch=1-val_auc_epoch=0.5162.ckpt' as top 3\n"
     ]
    },
    {
     "name": "stdout",
     "output_type": "stream",
     "text": [
      "Epoch 2: 100%|██████████| 1/1 [00:00<00:00, 10.58it/s, v_num=exp1]"
     ]
    },
    {
     "name": "stderr",
     "output_type": "stream",
     "text": [
      "Metric val_auc_epoch improved by 0.012 >= min_delta = 0.0001. New best score: 0.529\n",
      "Epoch 2, global step 3: 'val_auc_epoch' reached 0.52861 (best 0.52861), saving model to 'C:\\\\Users\\\\USER\\\\Desktop\\\\projects\\\\python\\\\newsrecommend\\\\SentiRecTest\\\\project\\\\logs\\\\lightning_logs\\\\checkpoints\\\\nrms\\\\exp_manual1\\\\epoch=2-val_auc_epoch=0.5286.ckpt' as top 3\n"
     ]
    },
    {
     "name": "stdout",
     "output_type": "stream",
     "text": [
      "Epoch 3: 100%|██████████| 1/1 [00:00<00:00, 10.25it/s, v_num=exp1]"
     ]
    },
    {
     "name": "stderr",
     "output_type": "stream",
     "text": [
      "Metric val_auc_epoch improved by 0.016 >= min_delta = 0.0001. New best score: 0.545\n",
      "Epoch 3, global step 4: 'val_auc_epoch' reached 0.54462 (best 0.54462), saving model to 'C:\\\\Users\\\\USER\\\\Desktop\\\\projects\\\\python\\\\newsrecommend\\\\SentiRecTest\\\\project\\\\logs\\\\lightning_logs\\\\checkpoints\\\\nrms\\\\exp_manual1\\\\epoch=3-val_auc_epoch=0.5446.ckpt' as top 3\n"
     ]
    },
    {
     "name": "stdout",
     "output_type": "stream",
     "text": [
      "Epoch 4: 100%|██████████| 1/1 [00:00<00:00, 10.06it/s, v_num=exp1]"
     ]
    },
    {
     "name": "stderr",
     "output_type": "stream",
     "text": [
      "Metric val_auc_epoch improved by 0.017 >= min_delta = 0.0001. New best score: 0.561\n",
      "Epoch 4, global step 5: 'val_auc_epoch' reached 0.56149 (best 0.56149), saving model to 'C:\\\\Users\\\\USER\\\\Desktop\\\\projects\\\\python\\\\newsrecommend\\\\SentiRecTest\\\\project\\\\logs\\\\lightning_logs\\\\checkpoints\\\\nrms\\\\exp_manual1\\\\epoch=4-val_auc_epoch=0.5615-v2.ckpt' as top 3\n"
     ]
    },
    {
     "name": "stdout",
     "output_type": "stream",
     "text": [
      "Epoch 5: 100%|██████████| 1/1 [00:00<00:00,  7.60it/s, v_num=exp1]"
     ]
    },
    {
     "name": "stderr",
     "output_type": "stream",
     "text": [
      "Metric val_auc_epoch improved by 0.000 >= min_delta = 0.0001. New best score: 0.562\n",
      "Epoch 5, global step 6: 'val_auc_epoch' reached 0.56190 (best 0.56190), saving model to 'C:\\\\Users\\\\USER\\\\Desktop\\\\projects\\\\python\\\\newsrecommend\\\\SentiRecTest\\\\project\\\\logs\\\\lightning_logs\\\\checkpoints\\\\nrms\\\\exp_manual1\\\\epoch=5-val_auc_epoch=0.5619-v2.ckpt' as top 3\n"
     ]
    },
    {
     "name": "stdout",
     "output_type": "stream",
     "text": [
      "Epoch 6: 100%|██████████| 1/1 [00:00<00:00,  9.99it/s, v_num=exp1]"
     ]
    },
    {
     "name": "stderr",
     "output_type": "stream",
     "text": [
      "Epoch 6, global step 7: 'val_auc_epoch' reached 0.55572 (best 0.56190), saving model to 'C:\\\\Users\\\\USER\\\\Desktop\\\\projects\\\\python\\\\newsrecommend\\\\SentiRecTest\\\\project\\\\logs\\\\lightning_logs\\\\checkpoints\\\\nrms\\\\exp_manual1\\\\epoch=6-val_auc_epoch=0.5557-v2.ckpt' as top 3\n"
     ]
    },
    {
     "name": "stdout",
     "output_type": "stream",
     "text": [
      "Epoch 7: 100%|██████████| 1/1 [00:00<00:00, 10.99it/s, v_num=exp1]"
     ]
    },
    {
     "name": "stderr",
     "output_type": "stream",
     "text": [
      "Epoch 7, global step 8: 'val_auc_epoch' was not in top 3\n"
     ]
    },
    {
     "name": "stdout",
     "output_type": "stream",
     "text": [
      "Epoch 8: 100%|██████████| 1/1 [00:00<00:00, 10.19it/s, v_num=exp1]"
     ]
    },
    {
     "name": "stderr",
     "output_type": "stream",
     "text": [
      "Epoch 8, global step 9: 'val_auc_epoch' was not in top 3\n"
     ]
    },
    {
     "name": "stdout",
     "output_type": "stream",
     "text": [
      "Epoch 9: 100%|██████████| 1/1 [00:00<00:00, 11.10it/s, v_num=exp1]"
     ]
    },
    {
     "name": "stderr",
     "output_type": "stream",
     "text": [
      "Epoch 9, global step 10: 'val_auc_epoch' was not in top 3\n"
     ]
    },
    {
     "name": "stdout",
     "output_type": "stream",
     "text": [
      "Epoch 10: 100%|██████████| 1/1 [00:00<00:00, 10.15it/s, v_num=exp1]"
     ]
    },
    {
     "name": "stderr",
     "output_type": "stream",
     "text": [
      "Monitored metric val_auc_epoch did not improve in the last 5 records. Best score: 0.562. Signaling Trainer to stop.\n",
      "Epoch 10, global step 11: 'val_auc_epoch' was not in top 3\n"
     ]
    },
    {
     "name": "stdout",
     "output_type": "stream",
     "text": [
      "Epoch 10: 100%|██████████| 1/1 [00:00<00:00,  4.33it/s, v_num=exp1]"
     ]
    },
    {
     "name": "stderr",
     "output_type": "stream",
     "text": [
      "Seed set to 1234\n"
     ]
    },
    {
     "name": "stdout",
     "output_type": "stream",
     "text": [
      "\n"
     ]
    },
    {
     "name": "stderr",
     "output_type": "stream",
     "text": [
      "100%|██████████| 42561/42561 [00:02<00:00, 19971.83it/s]\n",
      "100%|██████████| 26740/26740 [00:06<00:00, 4325.89it/s]\n",
      "100%|██████████| 25789/25789 [00:14<00:00, 1775.52it/s]\n",
      "100%|██████████| 26740/26740 [00:07<00:00, 3514.03it/s]\n",
      "100%|██████████| 4407/4407 [00:03<00:00, 1276.35it/s]\n",
      "GPU available: True (cuda), used: True\n",
      "TPU available: False, using: 0 TPU cores\n",
      "HPU available: False, using: 0 HPUs\n",
      "LOCAL_RANK: 0 - CUDA_VISIBLE_DEVICES: [0]\n",
      "\n",
      "   | Name                                   | Type             | Params | Mode \n",
      "-------------------------------------------------------------------------------------\n",
      "0  | news_encoder                           | TimeDistributed  | 13.2 M | train\n",
      "1  | user_encoder                           | UserEncoder      | 421 K  | train\n",
      "2  | val_performance_metrics                | MetricCollection | 0      | train\n",
      "3  | val_sentiment_diversity_metrics_vader  | MetricCollection | 0      | train\n",
      "4  | val_sentiment_diversity_metrics_bert   | MetricCollection | 0      | train\n",
      "5  | test_performance_metrics               | MetricCollection | 0      | train\n",
      "6  | test_sentiment_diversity_metrics_vader | MetricCollection | 0      | train\n",
      "7  | test_sentiment_diversity_metrics_bert  | MetricCollection | 0      | train\n",
      "8  | test_topic_diversity_metrics           | MetricCollection | 0      | train\n",
      "9  | test_ils_senti_metrics_vader           | MetricCollection | 0      | train\n",
      "10 | test_ils_senti_metrics_bert            | MetricCollection | 0      | train\n",
      "11 | test_ils_topic_metrics                 | MetricCollection | 0      | train\n",
      "-------------------------------------------------------------------------------------\n",
      "13.6 M    Trainable params\n",
      "0         Non-trainable params\n",
      "13.6 M    Total params\n",
      "54.446    Total estimated model params size (MB)\n",
      "51        Modules in train mode\n",
      "0         Modules in eval mode\n"
     ]
    },
    {
     "name": "stdout",
     "output_type": "stream",
     "text": [
      "Epoch 0: 100%|██████████| 402/402 [02:24<00:00,  2.77it/s, v_num=exp1]     "
     ]
    },
    {
     "name": "stderr",
     "output_type": "stream",
     "text": [
      "Metric val_auc_epoch improved. New best score: 0.621\n",
      "Epoch 0, global step 402: 'val_auc_epoch' reached 0.62092 (best 0.62092), saving model to 'C:\\\\Users\\\\USER\\\\Desktop\\\\projects\\\\python\\\\newsrecommend\\\\SentiRecTest\\\\project\\\\logs\\\\lightning_logs\\\\checkpoints\\\\nrms\\\\exp_demo1\\\\epoch=0-val_auc_epoch=0.6209.ckpt' as top 3\n"
     ]
    },
    {
     "name": "stdout",
     "output_type": "stream",
     "text": [
      "Epoch 1: 100%|██████████| 402/402 [02:24<00:00,  2.79it/s, v_num=exp1]"
     ]
    },
    {
     "name": "stderr",
     "output_type": "stream",
     "text": [
      "Metric val_auc_epoch improved by 0.017 >= min_delta = 0.0001. New best score: 0.638\n",
      "Epoch 1, global step 804: 'val_auc_epoch' reached 0.63753 (best 0.63753), saving model to 'C:\\\\Users\\\\USER\\\\Desktop\\\\projects\\\\python\\\\newsrecommend\\\\SentiRecTest\\\\project\\\\logs\\\\lightning_logs\\\\checkpoints\\\\nrms\\\\exp_demo1\\\\epoch=1-val_auc_epoch=0.6375.ckpt' as top 3\n"
     ]
    },
    {
     "name": "stdout",
     "output_type": "stream",
     "text": [
      "Epoch 2: 100%|██████████| 402/402 [02:24<00:00,  2.79it/s, v_num=exp1]"
     ]
    },
    {
     "name": "stderr",
     "output_type": "stream",
     "text": [
      "Metric val_auc_epoch improved by 0.010 >= min_delta = 0.0001. New best score: 0.647\n",
      "Epoch 2, global step 1206: 'val_auc_epoch' reached 0.64745 (best 0.64745), saving model to 'C:\\\\Users\\\\USER\\\\Desktop\\\\projects\\\\python\\\\newsrecommend\\\\SentiRecTest\\\\project\\\\logs\\\\lightning_logs\\\\checkpoints\\\\nrms\\\\exp_demo1\\\\epoch=2-val_auc_epoch=0.6474.ckpt' as top 3\n"
     ]
    },
    {
     "name": "stdout",
     "output_type": "stream",
     "text": [
      "Epoch 3: 100%|██████████| 402/402 [02:27<00:00,  2.72it/s, v_num=exp1]"
     ]
    },
    {
     "name": "stderr",
     "output_type": "stream",
     "text": [
      "Metric val_auc_epoch improved by 0.003 >= min_delta = 0.0001. New best score: 0.650\n",
      "Epoch 3, global step 1608: 'val_auc_epoch' reached 0.65004 (best 0.65004), saving model to 'C:\\\\Users\\\\USER\\\\Desktop\\\\projects\\\\python\\\\newsrecommend\\\\SentiRecTest\\\\project\\\\logs\\\\lightning_logs\\\\checkpoints\\\\nrms\\\\exp_demo1\\\\epoch=3-val_auc_epoch=0.6500.ckpt' as top 3\n"
     ]
    },
    {
     "name": "stdout",
     "output_type": "stream",
     "text": [
      "Epoch 4: 100%|██████████| 402/402 [02:29<00:00,  2.69it/s, v_num=exp1]"
     ]
    },
    {
     "name": "stderr",
     "output_type": "stream",
     "text": [
      "Metric val_auc_epoch improved by 0.004 >= min_delta = 0.0001. New best score: 0.654\n",
      "Epoch 4, global step 2010: 'val_auc_epoch' reached 0.65376 (best 0.65376), saving model to 'C:\\\\Users\\\\USER\\\\Desktop\\\\projects\\\\python\\\\newsrecommend\\\\SentiRecTest\\\\project\\\\logs\\\\lightning_logs\\\\checkpoints\\\\nrms\\\\exp_demo1\\\\epoch=4-val_auc_epoch=0.6538.ckpt' as top 3\n"
     ]
    },
    {
     "name": "stdout",
     "output_type": "stream",
     "text": [
      "Epoch 5: 100%|██████████| 402/402 [02:29<00:00,  2.69it/s, v_num=exp1]"
     ]
    },
    {
     "name": "stderr",
     "output_type": "stream",
     "text": [
      "Metric val_auc_epoch improved by 0.004 >= min_delta = 0.0001. New best score: 0.657\n",
      "Epoch 5, global step 2412: 'val_auc_epoch' reached 0.65734 (best 0.65734), saving model to 'C:\\\\Users\\\\USER\\\\Desktop\\\\projects\\\\python\\\\newsrecommend\\\\SentiRecTest\\\\project\\\\logs\\\\lightning_logs\\\\checkpoints\\\\nrms\\\\exp_demo1\\\\epoch=5-val_auc_epoch=0.6573.ckpt' as top 3\n"
     ]
    },
    {
     "name": "stdout",
     "output_type": "stream",
     "text": [
      "Epoch 6: 100%|██████████| 402/402 [02:29<00:00,  2.69it/s, v_num=exp1]"
     ]
    },
    {
     "name": "stderr",
     "output_type": "stream",
     "text": [
      "Metric val_auc_epoch improved by 0.008 >= min_delta = 0.0001. New best score: 0.666\n",
      "Epoch 6, global step 2814: 'val_auc_epoch' reached 0.66575 (best 0.66575), saving model to 'C:\\\\Users\\\\USER\\\\Desktop\\\\projects\\\\python\\\\newsrecommend\\\\SentiRecTest\\\\project\\\\logs\\\\lightning_logs\\\\checkpoints\\\\nrms\\\\exp_demo1\\\\epoch=6-val_auc_epoch=0.6657.ckpt' as top 3\n"
     ]
    },
    {
     "name": "stdout",
     "output_type": "stream",
     "text": [
      "Epoch 7: 100%|██████████| 402/402 [02:29<00:00,  2.69it/s, v_num=exp1]"
     ]
    },
    {
     "name": "stderr",
     "output_type": "stream",
     "text": [
      "Metric val_auc_epoch improved by 0.006 >= min_delta = 0.0001. New best score: 0.671\n",
      "Epoch 7, global step 3216: 'val_auc_epoch' reached 0.67132 (best 0.67132), saving model to 'C:\\\\Users\\\\USER\\\\Desktop\\\\projects\\\\python\\\\newsrecommend\\\\SentiRecTest\\\\project\\\\logs\\\\lightning_logs\\\\checkpoints\\\\nrms\\\\exp_demo1\\\\epoch=7-val_auc_epoch=0.6713.ckpt' as top 3\n"
     ]
    },
    {
     "name": "stdout",
     "output_type": "stream",
     "text": [
      "Epoch 8: 100%|██████████| 402/402 [02:25<00:00,  2.76it/s, v_num=exp1]"
     ]
    },
    {
     "name": "stderr",
     "output_type": "stream",
     "text": [
      "Epoch 8, global step 3618: 'val_auc_epoch' reached 0.67129 (best 0.67132), saving model to 'C:\\\\Users\\\\USER\\\\Desktop\\\\projects\\\\python\\\\newsrecommend\\\\SentiRecTest\\\\project\\\\logs\\\\lightning_logs\\\\checkpoints\\\\nrms\\\\exp_demo1\\\\epoch=8-val_auc_epoch=0.6713.ckpt' as top 3\n"
     ]
    },
    {
     "name": "stdout",
     "output_type": "stream",
     "text": [
      "Epoch 9: 100%|██████████| 402/402 [02:23<00:00,  2.79it/s, v_num=exp1]"
     ]
    },
    {
     "name": "stderr",
     "output_type": "stream",
     "text": [
      "Metric val_auc_epoch improved by 0.005 >= min_delta = 0.0001. New best score: 0.676\n",
      "Epoch 9, global step 4020: 'val_auc_epoch' reached 0.67603 (best 0.67603), saving model to 'C:\\\\Users\\\\USER\\\\Desktop\\\\projects\\\\python\\\\newsrecommend\\\\SentiRecTest\\\\project\\\\logs\\\\lightning_logs\\\\checkpoints\\\\nrms\\\\exp_demo1\\\\epoch=9-val_auc_epoch=0.6760.ckpt' as top 3\n"
     ]
    },
    {
     "name": "stdout",
     "output_type": "stream",
     "text": [
      "Epoch 10: 100%|██████████| 402/402 [02:24<00:00,  2.79it/s, v_num=exp1]"
     ]
    },
    {
     "name": "stderr",
     "output_type": "stream",
     "text": [
      "Metric val_auc_epoch improved by 0.002 >= min_delta = 0.0001. New best score: 0.678\n",
      "Epoch 10, global step 4422: 'val_auc_epoch' reached 0.67809 (best 0.67809), saving model to 'C:\\\\Users\\\\USER\\\\Desktop\\\\projects\\\\python\\\\newsrecommend\\\\SentiRecTest\\\\project\\\\logs\\\\lightning_logs\\\\checkpoints\\\\nrms\\\\exp_demo1\\\\epoch=10-val_auc_epoch=0.6781.ckpt' as top 3\n"
     ]
    },
    {
     "name": "stdout",
     "output_type": "stream",
     "text": [
      "Epoch 11: 100%|██████████| 402/402 [02:34<00:00,  2.61it/s, v_num=exp1]"
     ]
    },
    {
     "name": "stderr",
     "output_type": "stream",
     "text": [
      "Metric val_auc_epoch improved by 0.001 >= min_delta = 0.0001. New best score: 0.680\n",
      "Epoch 11, global step 4824: 'val_auc_epoch' reached 0.67955 (best 0.67955), saving model to 'C:\\\\Users\\\\USER\\\\Desktop\\\\projects\\\\python\\\\newsrecommend\\\\SentiRecTest\\\\project\\\\logs\\\\lightning_logs\\\\checkpoints\\\\nrms\\\\exp_demo1\\\\epoch=11-val_auc_epoch=0.6795.ckpt' as top 3\n"
     ]
    },
    {
     "name": "stdout",
     "output_type": "stream",
     "text": [
      "Epoch 12: 100%|██████████| 402/402 [02:35<00:00,  2.59it/s, v_num=exp1]"
     ]
    },
    {
     "name": "stderr",
     "output_type": "stream",
     "text": [
      "Metric val_auc_epoch improved by 0.007 >= min_delta = 0.0001. New best score: 0.686\n",
      "Epoch 12, global step 5226: 'val_auc_epoch' reached 0.68636 (best 0.68636), saving model to 'C:\\\\Users\\\\USER\\\\Desktop\\\\projects\\\\python\\\\newsrecommend\\\\SentiRecTest\\\\project\\\\logs\\\\lightning_logs\\\\checkpoints\\\\nrms\\\\exp_demo1\\\\epoch=12-val_auc_epoch=0.6864.ckpt' as top 3\n"
     ]
    },
    {
     "name": "stdout",
     "output_type": "stream",
     "text": [
      "Epoch 13: 100%|██████████| 402/402 [02:36<00:00,  2.57it/s, v_num=exp1]"
     ]
    },
    {
     "name": "stderr",
     "output_type": "stream",
     "text": [
      "Epoch 13, global step 5628: 'val_auc_epoch' reached 0.68290 (best 0.68636), saving model to 'C:\\\\Users\\\\USER\\\\Desktop\\\\projects\\\\python\\\\newsrecommend\\\\SentiRecTest\\\\project\\\\logs\\\\lightning_logs\\\\checkpoints\\\\nrms\\\\exp_demo1\\\\epoch=13-val_auc_epoch=0.6829.ckpt' as top 3\n"
     ]
    },
    {
     "name": "stdout",
     "output_type": "stream",
     "text": [
      "Epoch 14: 100%|██████████| 402/402 [02:25<00:00,  2.76it/s, v_num=exp1]"
     ]
    },
    {
     "name": "stderr",
     "output_type": "stream",
     "text": [
      "Metric val_auc_epoch improved by 0.004 >= min_delta = 0.0001. New best score: 0.690\n",
      "Epoch 14, global step 6030: 'val_auc_epoch' reached 0.69025 (best 0.69025), saving model to 'C:\\\\Users\\\\USER\\\\Desktop\\\\projects\\\\python\\\\newsrecommend\\\\SentiRecTest\\\\project\\\\logs\\\\lightning_logs\\\\checkpoints\\\\nrms\\\\exp_demo1\\\\epoch=14-val_auc_epoch=0.6903.ckpt' as top 3\n"
     ]
    },
    {
     "name": "stdout",
     "output_type": "stream",
     "text": [
      "Epoch 15: 100%|██████████| 402/402 [02:22<00:00,  2.82it/s, v_num=exp1]"
     ]
    },
    {
     "name": "stderr",
     "output_type": "stream",
     "text": [
      "Metric val_auc_epoch improved by 0.002 >= min_delta = 0.0001. New best score: 0.692\n",
      "Epoch 15, global step 6432: 'val_auc_epoch' reached 0.69225 (best 0.69225), saving model to 'C:\\\\Users\\\\USER\\\\Desktop\\\\projects\\\\python\\\\newsrecommend\\\\SentiRecTest\\\\project\\\\logs\\\\lightning_logs\\\\checkpoints\\\\nrms\\\\exp_demo1\\\\epoch=15-val_auc_epoch=0.6923.ckpt' as top 3\n"
     ]
    },
    {
     "name": "stdout",
     "output_type": "stream",
     "text": [
      "Epoch 16: 100%|██████████| 402/402 [02:23<00:00,  2.80it/s, v_num=exp1]"
     ]
    },
    {
     "name": "stderr",
     "output_type": "stream",
     "text": [
      "Epoch 16, global step 6834: 'val_auc_epoch' reached 0.69228 (best 0.69228), saving model to 'C:\\\\Users\\\\USER\\\\Desktop\\\\projects\\\\python\\\\newsrecommend\\\\SentiRecTest\\\\project\\\\logs\\\\lightning_logs\\\\checkpoints\\\\nrms\\\\exp_demo1\\\\epoch=16-val_auc_epoch=0.6923.ckpt' as top 3\n"
     ]
    },
    {
     "name": "stdout",
     "output_type": "stream",
     "text": [
      "Epoch 17: 100%|██████████| 402/402 [02:23<00:00,  2.81it/s, v_num=exp1]"
     ]
    },
    {
     "name": "stderr",
     "output_type": "stream",
     "text": [
      "Epoch 17, global step 7236: 'val_auc_epoch' reached 0.69210 (best 0.69228), saving model to 'C:\\\\Users\\\\USER\\\\Desktop\\\\projects\\\\python\\\\newsrecommend\\\\SentiRecTest\\\\project\\\\logs\\\\lightning_logs\\\\checkpoints\\\\nrms\\\\exp_demo1\\\\epoch=17-val_auc_epoch=0.6921.ckpt' as top 3\n"
     ]
    },
    {
     "name": "stdout",
     "output_type": "stream",
     "text": [
      "Epoch 18: 100%|██████████| 402/402 [02:24<00:00,  2.79it/s, v_num=exp1]"
     ]
    },
    {
     "name": "stderr",
     "output_type": "stream",
     "text": [
      "Metric val_auc_epoch improved by 0.001 >= min_delta = 0.0001. New best score: 0.694\n",
      "Epoch 18, global step 7638: 'val_auc_epoch' reached 0.69357 (best 0.69357), saving model to 'C:\\\\Users\\\\USER\\\\Desktop\\\\projects\\\\python\\\\newsrecommend\\\\SentiRecTest\\\\project\\\\logs\\\\lightning_logs\\\\checkpoints\\\\nrms\\\\exp_demo1\\\\epoch=18-val_auc_epoch=0.6936.ckpt' as top 3\n"
     ]
    },
    {
     "name": "stdout",
     "output_type": "stream",
     "text": [
      "Epoch 19: 100%|██████████| 402/402 [02:24<00:00,  2.78it/s, v_num=exp1]"
     ]
    },
    {
     "name": "stderr",
     "output_type": "stream",
     "text": [
      "Metric val_auc_epoch improved by 0.002 >= min_delta = 0.0001. New best score: 0.695\n",
      "Epoch 19, global step 8040: 'val_auc_epoch' reached 0.69516 (best 0.69516), saving model to 'C:\\\\Users\\\\USER\\\\Desktop\\\\projects\\\\python\\\\newsrecommend\\\\SentiRecTest\\\\project\\\\logs\\\\lightning_logs\\\\checkpoints\\\\nrms\\\\exp_demo1\\\\epoch=19-val_auc_epoch=0.6952.ckpt' as top 3\n"
     ]
    },
    {
     "name": "stdout",
     "output_type": "stream",
     "text": [
      "Epoch 20: 100%|██████████| 402/402 [02:24<00:00,  2.77it/s, v_num=exp1]"
     ]
    },
    {
     "name": "stderr",
     "output_type": "stream",
     "text": [
      "Epoch 20, global step 8442: 'val_auc_epoch' reached 0.69304 (best 0.69516), saving model to 'C:\\\\Users\\\\USER\\\\Desktop\\\\projects\\\\python\\\\newsrecommend\\\\SentiRecTest\\\\project\\\\logs\\\\lightning_logs\\\\checkpoints\\\\nrms\\\\exp_demo1\\\\epoch=20-val_auc_epoch=0.6930.ckpt' as top 3\n"
     ]
    },
    {
     "name": "stdout",
     "output_type": "stream",
     "text": [
      "Epoch 21: 100%|██████████| 402/402 [02:24<00:00,  2.77it/s, v_num=exp1]"
     ]
    },
    {
     "name": "stderr",
     "output_type": "stream",
     "text": [
      "Metric val_auc_epoch improved by 0.002 >= min_delta = 0.0001. New best score: 0.697\n",
      "Epoch 21, global step 8844: 'val_auc_epoch' reached 0.69678 (best 0.69678), saving model to 'C:\\\\Users\\\\USER\\\\Desktop\\\\projects\\\\python\\\\newsrecommend\\\\SentiRecTest\\\\project\\\\logs\\\\lightning_logs\\\\checkpoints\\\\nrms\\\\exp_demo1\\\\epoch=21-val_auc_epoch=0.6968.ckpt' as top 3\n"
     ]
    },
    {
     "name": "stdout",
     "output_type": "stream",
     "text": [
      "Epoch 22: 100%|██████████| 402/402 [02:24<00:00,  2.78it/s, v_num=exp1]"
     ]
    },
    {
     "name": "stderr",
     "output_type": "stream",
     "text": [
      "Epoch 22, global step 9246: 'val_auc_epoch' reached 0.69462 (best 0.69678), saving model to 'C:\\\\Users\\\\USER\\\\Desktop\\\\projects\\\\python\\\\newsrecommend\\\\SentiRecTest\\\\project\\\\logs\\\\lightning_logs\\\\checkpoints\\\\nrms\\\\exp_demo1\\\\epoch=22-val_auc_epoch=0.6946.ckpt' as top 3\n"
     ]
    },
    {
     "name": "stdout",
     "output_type": "stream",
     "text": [
      "Epoch 23: 100%|██████████| 402/402 [02:24<00:00,  2.78it/s, v_num=exp1]"
     ]
    },
    {
     "name": "stderr",
     "output_type": "stream",
     "text": [
      "Metric val_auc_epoch improved by 0.000 >= min_delta = 0.0001. New best score: 0.697\n",
      "Epoch 23, global step 9648: 'val_auc_epoch' reached 0.69695 (best 0.69695), saving model to 'C:\\\\Users\\\\USER\\\\Desktop\\\\projects\\\\python\\\\newsrecommend\\\\SentiRecTest\\\\project\\\\logs\\\\lightning_logs\\\\checkpoints\\\\nrms\\\\exp_demo1\\\\epoch=23-val_auc_epoch=0.6970.ckpt' as top 3\n"
     ]
    },
    {
     "name": "stdout",
     "output_type": "stream",
     "text": [
      "Epoch 24: 100%|██████████| 402/402 [02:23<00:00,  2.80it/s, v_num=exp1]"
     ]
    },
    {
     "name": "stderr",
     "output_type": "stream",
     "text": [
      "Metric val_auc_epoch improved by 0.003 >= min_delta = 0.0001. New best score: 0.700\n",
      "Epoch 24, global step 10050: 'val_auc_epoch' reached 0.69965 (best 0.69965), saving model to 'C:\\\\Users\\\\USER\\\\Desktop\\\\projects\\\\python\\\\newsrecommend\\\\SentiRecTest\\\\project\\\\logs\\\\lightning_logs\\\\checkpoints\\\\nrms\\\\exp_demo1\\\\epoch=24-val_auc_epoch=0.6996.ckpt' as top 3\n"
     ]
    },
    {
     "name": "stdout",
     "output_type": "stream",
     "text": [
      "Epoch 25: 100%|██████████| 402/402 [02:23<00:00,  2.80it/s, v_num=exp1]"
     ]
    },
    {
     "name": "stderr",
     "output_type": "stream",
     "text": [
      "Epoch 25, global step 10452: 'val_auc_epoch' reached 0.69884 (best 0.69965), saving model to 'C:\\\\Users\\\\USER\\\\Desktop\\\\projects\\\\python\\\\newsrecommend\\\\SentiRecTest\\\\project\\\\logs\\\\lightning_logs\\\\checkpoints\\\\nrms\\\\exp_demo1\\\\epoch=25-val_auc_epoch=0.6988.ckpt' as top 3\n"
     ]
    },
    {
     "name": "stdout",
     "output_type": "stream",
     "text": [
      "Epoch 26: 100%|██████████| 402/402 [02:24<00:00,  2.79it/s, v_num=exp1]"
     ]
    },
    {
     "name": "stderr",
     "output_type": "stream",
     "text": [
      "Epoch 26, global step 10854: 'val_auc_epoch' reached 0.69771 (best 0.69965), saving model to 'C:\\\\Users\\\\USER\\\\Desktop\\\\projects\\\\python\\\\newsrecommend\\\\SentiRecTest\\\\project\\\\logs\\\\lightning_logs\\\\checkpoints\\\\nrms\\\\exp_demo1\\\\epoch=26-val_auc_epoch=0.6977.ckpt' as top 3\n"
     ]
    },
    {
     "name": "stdout",
     "output_type": "stream",
     "text": [
      "Epoch 27: 100%|██████████| 402/402 [02:25<00:00,  2.76it/s, v_num=exp1]"
     ]
    },
    {
     "name": "stderr",
     "output_type": "stream",
     "text": [
      "Epoch 27, global step 11256: 'val_auc_epoch' reached 0.69880 (best 0.69965), saving model to 'C:\\\\Users\\\\USER\\\\Desktop\\\\projects\\\\python\\\\newsrecommend\\\\SentiRecTest\\\\project\\\\logs\\\\lightning_logs\\\\checkpoints\\\\nrms\\\\exp_demo1\\\\epoch=27-val_auc_epoch=0.6988.ckpt' as top 3\n"
     ]
    },
    {
     "name": "stdout",
     "output_type": "stream",
     "text": [
      "Epoch 28: 100%|██████████| 402/402 [02:23<00:00,  2.80it/s, v_num=exp1]"
     ]
    },
    {
     "name": "stderr",
     "output_type": "stream",
     "text": [
      "Epoch 28, global step 11658: 'val_auc_epoch' was not in top 3\n"
     ]
    },
    {
     "name": "stdout",
     "output_type": "stream",
     "text": [
      "Epoch 29: 100%|██████████| 402/402 [02:24<00:00,  2.79it/s, v_num=exp1]"
     ]
    },
    {
     "name": "stderr",
     "output_type": "stream",
     "text": [
      "Monitored metric val_auc_epoch did not improve in the last 5 records. Best score: 0.700. Signaling Trainer to stop.\n",
      "Epoch 29, global step 12060: 'val_auc_epoch' was not in top 3\n"
     ]
    },
    {
     "name": "stdout",
     "output_type": "stream",
     "text": [
      "Epoch 29: 100%|██████████| 402/402 [02:24<00:00,  2.78it/s, v_num=exp1]"
     ]
    },
    {
     "name": "stderr",
     "output_type": "stream",
     "text": [
      "Seed set to 1234\n"
     ]
    },
    {
     "name": "stdout",
     "output_type": "stream",
     "text": [
      "\n"
     ]
    },
    {
     "name": "stderr",
     "output_type": "stream",
     "text": [
      "100%|██████████| 9357/9357 [00:00<00:00, 21910.43it/s]\n",
      "100%|██████████| 443/443 [00:00<00:00, 3769.72it/s]\n",
      "100%|██████████| 5/5 [00:00<00:00, 714.58it/s]\n",
      "GPU available: True (cuda), used: True\n",
      "TPU available: False, using: 0 TPU cores\n",
      "HPU available: False, using: 0 HPUs\n",
      "LOCAL_RANK: 0 - CUDA_VISIBLE_DEVICES: [0]\n",
      "c:\\Users\\USER\\anaconda3\\envs\\newsrec\\lib\\site-packages\\pytorch_lightning\\trainer\\connectors\\data_connector.py:425: The 'test_dataloader' does not have many workers which may be a bottleneck. Consider increasing the value of the `num_workers` argument` to `num_workers=11` in the `DataLoader` to improve performance.\n"
     ]
    },
    {
     "name": "stdout",
     "output_type": "stream",
     "text": [
      "Testing DataLoader 0: 100%|██████████| 5/5 [00:00<00:00, 16.94it/s]"
     ]
    },
    {
     "name": "stderr",
     "output_type": "stream",
     "text": [
      "Seed set to 1234\n"
     ]
    },
    {
     "name": "stdout",
     "output_type": "stream",
     "text": [
      "\n",
      "────────────────────────────────────────────────────────────────────────────────────────────────────────────────────────\n",
      "         Test metric                 DataLoader 0\n",
      "────────────────────────────────────────────────────────────────────────────────────────────────────────────────────────\n",
      "       test_auc_epoch             0.42011767625808716\n",
      "test_ils_senti@10_bert_epoch      0.49263477325439453\n",
      "test_ils_senti@10_vader_epoch     0.24409320950508118\n",
      " test_ils_senti@5_bert_epoch      0.42856305837631226\n",
      "test_ils_senti@5_vader_epoch      0.24228398501873016\n",
      "   test_ils_topic@10_epoch       0.052063483744859695\n",
      "   test_ils_topic@5_epoch         0.03999999910593033\n",
      "       test_mrr_epoch             0.34499967098236084\n",
      "     test_ndcg@10_epoch           0.34304890036582947\n",
      "      test_ndcg@5_epoch            0.322629451751709\n",
      "  test_senti@10_bert_epoch        0.29941967129707336\n",
      "  test_senti@10_vader_epoch      0.035619162023067474\n",
      "   test_senti@5_bert_epoch        0.42622894048690796\n",
      "  test_senti@5_vader_epoch        0.05849367380142212\n",
      "  test_senti_mrr_bert_epoch       0.27609673142433167\n",
      " test_senti_mrr_vader_epoch      0.029085442423820496\n",
      "   test_topic_div@10_epoch        0.5220156311988831\n",
      "   test_topic_div@5_epoch         0.4712398648262024\n",
      "    test_topic_mrr_epoch          0.5795272588729858\n",
      "────────────────────────────────────────────────────────────────────────────────────────────────────────────────────────\n"
     ]
    },
    {
     "name": "stderr",
     "output_type": "stream",
     "text": [
      "100%|██████████| 9357/9357 [00:00<00:00, 22091.80it/s]\n",
      "100%|██████████| 443/443 [00:00<00:00, 5402.20it/s]\n",
      "100%|██████████| 5/5 [00:00<00:00, 1250.46it/s]\n",
      "GPU available: True (cuda), used: True\n",
      "TPU available: False, using: 0 TPU cores\n",
      "HPU available: False, using: 0 HPUs\n",
      "LOCAL_RANK: 0 - CUDA_VISIBLE_DEVICES: [0]\n"
     ]
    },
    {
     "name": "stdout",
     "output_type": "stream",
     "text": [
      "Testing DataLoader 0: 100%|██████████| 5/5 [00:00<00:00, 26.90it/s]"
     ]
    },
    {
     "name": "stderr",
     "output_type": "stream",
     "text": [
      "Seed set to 1234\n"
     ]
    },
    {
     "name": "stdout",
     "output_type": "stream",
     "text": [
      "\n",
      "────────────────────────────────────────────────────────────────────────────────────────────────────────────────────────\n",
      "         Test metric                 DataLoader 0\n",
      "────────────────────────────────────────────────────────────────────────────────────────────────────────────────────────\n",
      "       test_auc_epoch             0.4296722412109375\n",
      "test_ils_senti@10_bert_epoch      0.47535476088523865\n",
      "test_ils_senti@10_vader_epoch     0.23874254524707794\n",
      " test_ils_senti@5_bert_epoch      0.3915542960166931\n",
      "test_ils_senti@5_vader_epoch      0.24228398501873016\n",
      "   test_ils_topic@10_epoch        0.05650792643427849\n",
      "   test_ils_topic@5_epoch         0.06000000238418579\n",
      "       test_mrr_epoch             0.27910828590393066\n",
      "     test_ndcg@10_epoch           0.2817341983318329\n",
      "      test_ndcg@5_epoch            0.26131471991539\n",
      "  test_senti@10_bert_epoch        0.41746488213539124\n",
      "  test_senti@10_vader_epoch       0.06622888147830963\n",
      "   test_senti@5_bert_epoch        0.5763516426086426\n",
      "  test_senti@5_vader_epoch        0.05849367380142212\n",
      "  test_senti_mrr_bert_epoch       0.29668110609054565\n",
      " test_senti_mrr_vader_epoch       0.03423764556646347\n",
      "   test_topic_div@10_epoch        0.5592568516731262\n",
      "   test_topic_div@5_epoch         0.5118086338043213\n",
      "    test_topic_mrr_epoch          0.5235785841941833\n",
      "────────────────────────────────────────────────────────────────────────────────────────────────────────────────────────\n"
     ]
    },
    {
     "name": "stderr",
     "output_type": "stream",
     "text": [
      "100%|██████████| 42561/42561 [00:01<00:00, 21783.31it/s]\n",
      "100%|██████████| 18723/18723 [00:05<00:00, 3700.06it/s]\n",
      "100%|██████████| 7538/7538 [00:05<00:00, 1426.90it/s]\n",
      "GPU available: True (cuda), used: True\n",
      "TPU available: False, using: 0 TPU cores\n",
      "HPU available: False, using: 0 HPUs\n",
      "LOCAL_RANK: 0 - CUDA_VISIBLE_DEVICES: [0]\n"
     ]
    },
    {
     "name": "stdout",
     "output_type": "stream",
     "text": [
      "Testing DataLoader 0: 100%|██████████| 7538/7538 [05:04<00:00, 24.74it/s]\n",
      "────────────────────────────────────────────────────────────────────────────────────────────────────────────────────────\n",
      "         Test metric                 DataLoader 0\n",
      "────────────────────────────────────────────────────────────────────────────────────────────────────────────────────────\n",
      "       test_auc_epoch             0.6181129813194275\n",
      "test_ils_senti@10_bert_epoch      0.4910421371459961\n",
      "test_ils_senti@10_vader_epoch     0.23405000567436218\n",
      " test_ils_senti@5_bert_epoch      0.49574214220046997\n",
      "test_ils_senti@5_vader_epoch      0.22190050780773163\n",
      "   test_ils_topic@10_epoch         0.095427505671978\n",
      "   test_ils_topic@5_epoch         0.12023288756608963\n",
      "       test_mrr_epoch             0.29015666246414185\n",
      "     test_ndcg@10_epoch           0.37756600975990295\n",
      "      test_ndcg@5_epoch           0.31554168462753296\n",
      "  test_senti@10_bert_epoch        0.41836878657341003\n",
      "  test_senti@10_vader_epoch      0.040275536477565765\n",
      "   test_senti@5_bert_epoch        0.24669042229652405\n",
      "  test_senti@5_vader_epoch       0.028418663889169693\n",
      "  test_senti_mrr_bert_epoch       0.13607600331306458\n",
      " test_senti_mrr_vader_epoch       0.01368006132543087\n",
      "   test_topic_div@10_epoch        0.49259108304977417\n",
      "   test_topic_div@5_epoch         0.4272136986255646\n",
      "    test_topic_mrr_epoch          0.49351534247398376\n",
      "────────────────────────────────────────────────────────────────────────────────────────────────────────────────────────\n"
     ]
    }
   ],
   "source": [
    "test_results = model_manager.train_test_all()"
   ]
  },
  {
   "cell_type": "markdown",
   "metadata": {},
   "source": [
    "## 3. Visualizations"
   ]
  },
  {
   "cell_type": "code",
   "execution_count": 8,
   "metadata": {},
   "outputs": [
    {
     "name": "stderr",
     "output_type": "stream",
     "text": [
      "Seed set to 1234\n",
      "100%|██████████| 9357/9357 [00:00<00:00, 21780.93it/s]\n",
      "100%|██████████| 443/443 [00:00<00:00, 3198.11it/s]\n",
      "100%|██████████| 5/5 [00:00<00:00, 1666.39it/s]\n",
      "GPU available: True (cuda), used: True\n",
      "TPU available: False, using: 0 TPU cores\n",
      "HPU available: False, using: 0 HPUs\n",
      "LOCAL_RANK: 0 - CUDA_VISIBLE_DEVICES: [0]\n",
      "c:\\Users\\USER\\anaconda3\\envs\\newsrec\\lib\\site-packages\\pytorch_lightning\\trainer\\connectors\\data_connector.py:425: The 'test_dataloader' does not have many workers which may be a bottleneck. Consider increasing the value of the `num_workers` argument` to `num_workers=11` in the `DataLoader` to improve performance.\n"
     ]
    },
    {
     "name": "stdout",
     "output_type": "stream",
     "text": [
      "Testing DataLoader 0: 100%|██████████| 5/5 [00:00<00:00, 17.37it/s]"
     ]
    },
    {
     "name": "stderr",
     "output_type": "stream",
     "text": [
      "Seed set to 1234\n"
     ]
    },
    {
     "name": "stdout",
     "output_type": "stream",
     "text": [
      "\n",
      "────────────────────────────────────────────────────────────────────────────────────────────────────────────────────────\n",
      "         Test metric                 DataLoader 0\n",
      "────────────────────────────────────────────────────────────────────────────────────────────────────────────────────────\n",
      "       test_auc_epoch             0.42011767625808716\n",
      "test_ils_senti@10_bert_epoch      0.49263477325439453\n",
      "test_ils_senti@10_vader_epoch     0.24409320950508118\n",
      " test_ils_senti@5_bert_epoch      0.42856305837631226\n",
      "test_ils_senti@5_vader_epoch      0.24228398501873016\n",
      "   test_ils_topic@10_epoch       0.052063483744859695\n",
      "   test_ils_topic@5_epoch         0.03999999910593033\n",
      "       test_mrr_epoch             0.34499967098236084\n",
      "     test_ndcg@10_epoch           0.34304890036582947\n",
      "      test_ndcg@5_epoch            0.322629451751709\n",
      "  test_senti@10_bert_epoch        0.29941967129707336\n",
      "  test_senti@10_vader_epoch      0.035619162023067474\n",
      "   test_senti@5_bert_epoch        0.42622894048690796\n",
      "  test_senti@5_vader_epoch        0.05849367380142212\n",
      "  test_senti_mrr_bert_epoch       0.27609673142433167\n",
      " test_senti_mrr_vader_epoch      0.029085442423820496\n",
      "   test_topic_div@10_epoch        0.5220156311988831\n",
      "   test_topic_div@5_epoch         0.4712398648262024\n",
      "    test_topic_mrr_epoch          0.5795272588729858\n",
      "────────────────────────────────────────────────────────────────────────────────────────────────────────────────────────\n"
     ]
    },
    {
     "name": "stderr",
     "output_type": "stream",
     "text": [
      "100%|██████████| 9357/9357 [00:00<00:00, 22542.76it/s]\n",
      "100%|██████████| 443/443 [00:00<00:00, 3187.04it/s]\n",
      "100%|██████████| 5/5 [00:00<00:00, 1249.20it/s]\n",
      "GPU available: True (cuda), used: True\n",
      "TPU available: False, using: 0 TPU cores\n",
      "HPU available: False, using: 0 HPUs\n",
      "LOCAL_RANK: 0 - CUDA_VISIBLE_DEVICES: [0]\n"
     ]
    },
    {
     "name": "stdout",
     "output_type": "stream",
     "text": [
      "Testing DataLoader 0: 100%|██████████| 5/5 [00:00<00:00, 18.79it/s]"
     ]
    },
    {
     "name": "stderr",
     "output_type": "stream",
     "text": [
      "Seed set to 1234\n"
     ]
    },
    {
     "name": "stdout",
     "output_type": "stream",
     "text": [
      "\n",
      "────────────────────────────────────────────────────────────────────────────────────────────────────────────────────────\n",
      "         Test metric                 DataLoader 0\n",
      "────────────────────────────────────────────────────────────────────────────────────────────────────────────────────────\n",
      "       test_auc_epoch             0.4296722412109375\n",
      "test_ils_senti@10_bert_epoch      0.47535476088523865\n",
      "test_ils_senti@10_vader_epoch     0.23874254524707794\n",
      " test_ils_senti@5_bert_epoch      0.3915542960166931\n",
      "test_ils_senti@5_vader_epoch      0.24228398501873016\n",
      "   test_ils_topic@10_epoch        0.05650792643427849\n",
      "   test_ils_topic@5_epoch         0.06000000238418579\n",
      "       test_mrr_epoch             0.27910828590393066\n",
      "     test_ndcg@10_epoch           0.2817341983318329\n",
      "      test_ndcg@5_epoch            0.26131471991539\n",
      "  test_senti@10_bert_epoch        0.41746488213539124\n",
      "  test_senti@10_vader_epoch       0.06622888147830963\n",
      "   test_senti@5_bert_epoch        0.5763516426086426\n",
      "  test_senti@5_vader_epoch        0.05849367380142212\n",
      "  test_senti_mrr_bert_epoch       0.29668110609054565\n",
      " test_senti_mrr_vader_epoch       0.03423764556646347\n",
      "   test_topic_div@10_epoch        0.5592568516731262\n",
      "   test_topic_div@5_epoch         0.5118086338043213\n",
      "    test_topic_mrr_epoch          0.5235785841941833\n",
      "────────────────────────────────────────────────────────────────────────────────────────────────────────────────────────\n"
     ]
    },
    {
     "name": "stderr",
     "output_type": "stream",
     "text": [
      "100%|██████████| 42561/42561 [00:02<00:00, 20807.43it/s]\n",
      "100%|██████████| 18723/18723 [00:05<00:00, 3573.67it/s]\n",
      "100%|██████████| 7538/7538 [00:06<00:00, 1242.49it/s]\n",
      "GPU available: True (cuda), used: True\n",
      "TPU available: False, using: 0 TPU cores\n",
      "HPU available: False, using: 0 HPUs\n",
      "LOCAL_RANK: 0 - CUDA_VISIBLE_DEVICES: [0]\n"
     ]
    },
    {
     "name": "stdout",
     "output_type": "stream",
     "text": [
      "Testing DataLoader 0: 100%|██████████| 7538/7538 [05:13<00:00, 24.07it/s]\n",
      "────────────────────────────────────────────────────────────────────────────────────────────────────────────────────────\n",
      "         Test metric                 DataLoader 0\n",
      "────────────────────────────────────────────────────────────────────────────────────────────────────────────────────────\n",
      "       test_auc_epoch             0.6181129813194275\n",
      "test_ils_senti@10_bert_epoch      0.4910421371459961\n",
      "test_ils_senti@10_vader_epoch     0.23405000567436218\n",
      " test_ils_senti@5_bert_epoch      0.49574214220046997\n",
      "test_ils_senti@5_vader_epoch      0.22190050780773163\n",
      "   test_ils_topic@10_epoch         0.095427505671978\n",
      "   test_ils_topic@5_epoch         0.12023288756608963\n",
      "       test_mrr_epoch             0.29015666246414185\n",
      "     test_ndcg@10_epoch           0.37756600975990295\n",
      "      test_ndcg@5_epoch           0.31554168462753296\n",
      "  test_senti@10_bert_epoch        0.41836878657341003\n",
      "  test_senti@10_vader_epoch      0.040275536477565765\n",
      "   test_senti@5_bert_epoch        0.24669042229652405\n",
      "  test_senti@5_vader_epoch       0.028418663889169693\n",
      "  test_senti_mrr_bert_epoch       0.13607600331306458\n",
      " test_senti_mrr_vader_epoch       0.01368006132543087\n",
      "   test_topic_div@10_epoch        0.49259108304977417\n",
      "   test_topic_div@5_epoch         0.4272136986255646\n",
      "    test_topic_mrr_epoch          0.49351534247398376\n",
      "────────────────────────────────────────────────────────────────────────────────────────────────────────────────────────\n"
     ]
    }
   ],
   "source": [
    "ckpt_paths = [\n",
    "    'C:\\\\Users\\\\USER\\\\Desktop\\\\projects\\\\python\\\\newsrecommend\\\\SentiRecTest\\\\project\\\\logs\\\\lightning_logs\\\\checkpoints\\\\sentirec\\\\vader_manual1\\\\epoch=10-val_auc_epoch=0.5738-v2.ckpt',\n",
    "    'C:\\\\Users\\\\USER\\\\Desktop\\\\projects\\\\python\\\\newsrecommend\\\\SentiRecTest\\\\project\\\\logs\\\\lightning_logs\\\\checkpoints\\\\nrms\\\\exp_manual1\\\\epoch=5-val_auc_epoch=0.5619-v2.ckpt',\n",
    "    'C:\\\\Users\\\\USER\\\\Desktop\\\\projects\\\\python\\\\newsrecommend\\\\SentiRecTest\\\\project\\\\logs\\\\lightning_logs\\\\checkpoints\\\\nrms\\\\exp_demo1\\\\epoch=24-val_auc_epoch=0.6996.ckpt'\n",
    "]\n",
    "\n",
    "test_results = model_manager.test_all(ckpt_paths)"
   ]
  },
  {
   "cell_type": "code",
   "execution_count": 9,
   "metadata": {},
   "outputs": [
    {
     "data": {
      "text/html": [
       "<div>\n",
       "<style scoped>\n",
       "    .dataframe tbody tr th:only-of-type {\n",
       "        vertical-align: middle;\n",
       "    }\n",
       "\n",
       "    .dataframe tbody tr th {\n",
       "        vertical-align: top;\n",
       "    }\n",
       "\n",
       "    .dataframe thead th {\n",
       "        text-align: right;\n",
       "    }\n",
       "</style>\n",
       "<table border=\"1\" class=\"dataframe\">\n",
       "  <thead>\n",
       "    <tr style=\"text-align: right;\">\n",
       "      <th></th>\n",
       "      <th>sentirec#vader_manual1</th>\n",
       "      <th>nrms#exp1</th>\n",
       "      <th>nrms#exp_demo1</th>\n",
       "    </tr>\n",
       "  </thead>\n",
       "  <tbody>\n",
       "    <tr>\n",
       "      <th>test_auc_epoch</th>\n",
       "      <td>0.420118</td>\n",
       "      <td>0.429672</td>\n",
       "      <td>0.618113</td>\n",
       "    </tr>\n",
       "    <tr>\n",
       "      <th>test_mrr_epoch</th>\n",
       "      <td>0.345000</td>\n",
       "      <td>0.279108</td>\n",
       "      <td>0.290157</td>\n",
       "    </tr>\n",
       "    <tr>\n",
       "      <th>test_ndcg@10_epoch</th>\n",
       "      <td>0.343049</td>\n",
       "      <td>0.281734</td>\n",
       "      <td>0.377566</td>\n",
       "    </tr>\n",
       "    <tr>\n",
       "      <th>test_ndcg@5_epoch</th>\n",
       "      <td>0.322629</td>\n",
       "      <td>0.261315</td>\n",
       "      <td>0.315542</td>\n",
       "    </tr>\n",
       "    <tr>\n",
       "      <th>test_senti@10_vader_epoch</th>\n",
       "      <td>0.035619</td>\n",
       "      <td>0.066229</td>\n",
       "      <td>0.040276</td>\n",
       "    </tr>\n",
       "    <tr>\n",
       "      <th>test_senti@5_vader_epoch</th>\n",
       "      <td>0.058494</td>\n",
       "      <td>0.058494</td>\n",
       "      <td>0.028419</td>\n",
       "    </tr>\n",
       "    <tr>\n",
       "      <th>test_senti_mrr_vader_epoch</th>\n",
       "      <td>0.029085</td>\n",
       "      <td>0.034238</td>\n",
       "      <td>0.013680</td>\n",
       "    </tr>\n",
       "    <tr>\n",
       "      <th>test_senti@10_bert_epoch</th>\n",
       "      <td>0.299420</td>\n",
       "      <td>0.417465</td>\n",
       "      <td>0.418369</td>\n",
       "    </tr>\n",
       "    <tr>\n",
       "      <th>test_senti@5_bert_epoch</th>\n",
       "      <td>0.426229</td>\n",
       "      <td>0.576352</td>\n",
       "      <td>0.246690</td>\n",
       "    </tr>\n",
       "    <tr>\n",
       "      <th>test_senti_mrr_bert_epoch</th>\n",
       "      <td>0.276097</td>\n",
       "      <td>0.296681</td>\n",
       "      <td>0.136076</td>\n",
       "    </tr>\n",
       "    <tr>\n",
       "      <th>test_topic_div@10_epoch</th>\n",
       "      <td>0.522016</td>\n",
       "      <td>0.559257</td>\n",
       "      <td>0.492591</td>\n",
       "    </tr>\n",
       "    <tr>\n",
       "      <th>test_topic_div@5_epoch</th>\n",
       "      <td>0.471240</td>\n",
       "      <td>0.511809</td>\n",
       "      <td>0.427214</td>\n",
       "    </tr>\n",
       "    <tr>\n",
       "      <th>test_topic_mrr_epoch</th>\n",
       "      <td>0.579527</td>\n",
       "      <td>0.523579</td>\n",
       "      <td>0.493515</td>\n",
       "    </tr>\n",
       "    <tr>\n",
       "      <th>test_ils_senti@10_vader_epoch</th>\n",
       "      <td>0.244093</td>\n",
       "      <td>0.238743</td>\n",
       "      <td>0.234050</td>\n",
       "    </tr>\n",
       "    <tr>\n",
       "      <th>test_ils_senti@5_vader_epoch</th>\n",
       "      <td>0.242284</td>\n",
       "      <td>0.242284</td>\n",
       "      <td>0.221901</td>\n",
       "    </tr>\n",
       "    <tr>\n",
       "      <th>test_ils_senti@10_bert_epoch</th>\n",
       "      <td>0.492635</td>\n",
       "      <td>0.475355</td>\n",
       "      <td>0.491042</td>\n",
       "    </tr>\n",
       "    <tr>\n",
       "      <th>test_ils_senti@5_bert_epoch</th>\n",
       "      <td>0.428563</td>\n",
       "      <td>0.391554</td>\n",
       "      <td>0.495742</td>\n",
       "    </tr>\n",
       "    <tr>\n",
       "      <th>test_ils_topic@10_epoch</th>\n",
       "      <td>0.052063</td>\n",
       "      <td>0.056508</td>\n",
       "      <td>0.095428</td>\n",
       "    </tr>\n",
       "    <tr>\n",
       "      <th>test_ils_topic@5_epoch</th>\n",
       "      <td>0.040000</td>\n",
       "      <td>0.060000</td>\n",
       "      <td>0.120233</td>\n",
       "    </tr>\n",
       "  </tbody>\n",
       "</table>\n",
       "</div>"
      ],
      "text/plain": [
       "                               sentirec#vader_manual1  nrms#exp1  \\\n",
       "test_auc_epoch                               0.420118   0.429672   \n",
       "test_mrr_epoch                               0.345000   0.279108   \n",
       "test_ndcg@10_epoch                           0.343049   0.281734   \n",
       "test_ndcg@5_epoch                            0.322629   0.261315   \n",
       "test_senti@10_vader_epoch                    0.035619   0.066229   \n",
       "test_senti@5_vader_epoch                     0.058494   0.058494   \n",
       "test_senti_mrr_vader_epoch                   0.029085   0.034238   \n",
       "test_senti@10_bert_epoch                     0.299420   0.417465   \n",
       "test_senti@5_bert_epoch                      0.426229   0.576352   \n",
       "test_senti_mrr_bert_epoch                    0.276097   0.296681   \n",
       "test_topic_div@10_epoch                      0.522016   0.559257   \n",
       "test_topic_div@5_epoch                       0.471240   0.511809   \n",
       "test_topic_mrr_epoch                         0.579527   0.523579   \n",
       "test_ils_senti@10_vader_epoch                0.244093   0.238743   \n",
       "test_ils_senti@5_vader_epoch                 0.242284   0.242284   \n",
       "test_ils_senti@10_bert_epoch                 0.492635   0.475355   \n",
       "test_ils_senti@5_bert_epoch                  0.428563   0.391554   \n",
       "test_ils_topic@10_epoch                      0.052063   0.056508   \n",
       "test_ils_topic@5_epoch                       0.040000   0.060000   \n",
       "\n",
       "                               nrms#exp_demo1  \n",
       "test_auc_epoch                       0.618113  \n",
       "test_mrr_epoch                       0.290157  \n",
       "test_ndcg@10_epoch                   0.377566  \n",
       "test_ndcg@5_epoch                    0.315542  \n",
       "test_senti@10_vader_epoch            0.040276  \n",
       "test_senti@5_vader_epoch             0.028419  \n",
       "test_senti_mrr_vader_epoch           0.013680  \n",
       "test_senti@10_bert_epoch             0.418369  \n",
       "test_senti@5_bert_epoch              0.246690  \n",
       "test_senti_mrr_bert_epoch            0.136076  \n",
       "test_topic_div@10_epoch              0.492591  \n",
       "test_topic_div@5_epoch               0.427214  \n",
       "test_topic_mrr_epoch                 0.493515  \n",
       "test_ils_senti@10_vader_epoch        0.234050  \n",
       "test_ils_senti@5_vader_epoch         0.221901  \n",
       "test_ils_senti@10_bert_epoch         0.491042  \n",
       "test_ils_senti@5_bert_epoch          0.495742  \n",
       "test_ils_topic@10_epoch              0.095428  \n",
       "test_ils_topic@5_epoch               0.120233  "
      ]
     },
     "execution_count": 9,
     "metadata": {},
     "output_type": "execute_result"
    }
   ],
   "source": [
    "from utils.test_metrics_viewer import TestMetricsViewer\n",
    "\n",
    "result_viewer = TestMetricsViewer(test_results)\n",
    "result_viewer.get_result_df()"
   ]
  },
  {
   "cell_type": "code",
   "execution_count": 10,
   "metadata": {},
   "outputs": [
    {
     "data": {
      "image/png": "[encoded data removed]",
      "text/plain": [
       "<Figure size 1000x600 with 1 Axes>"
      ]
     },
     "metadata": {},
     "output_type": "display_data"
    }
   ],
   "source": [
    "result_viewer.show()"
   ]
  }
 ],
 "metadata": {
  "kernelspec": {
   "display_name": "newsrec",
   "language": "python",
   "name": "python3"
  },
  "language_info": {
   "codemirror_mode": {
    "name": "ipython",
    "version": 3
   },
   "file_extension": ".py",
   "mimetype": "text/x-python",
   "name": "python",
   "nbconvert_exporter": "python",
   "pygments_lexer": "ipython3",
   "version": "3.9.21"
  }
 },
 "nbformat": 4,
 "nbformat_minor": 2
}
