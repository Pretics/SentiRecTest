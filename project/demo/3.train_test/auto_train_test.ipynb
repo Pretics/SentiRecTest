{
 "cells": [
  {
   "cell_type": "markdown",
   "metadata": {},
   "source": [
    "## Global Settings and Imports"
   ]
  },
  {
   "cell_type": "code",
   "execution_count": 1,
   "metadata": {},
   "outputs": [],
   "source": [
    "# jupyter notebook에서 import 해서 쓰는 모듈의 코드가 변경될 시, 변동 사항을 자동으로 반영해주는 기능 켜기\n",
    "%load_ext autoreload\n",
    "%autoreload 2"
   ]
  },
  {
   "cell_type": "code",
   "execution_count": 2,
   "metadata": {},
   "outputs": [
    {
     "name": "stderr",
     "output_type": "stream",
     "text": [
      "c:\\Users\\nclud\\anaconda3\\envs\\newsrec\\lib\\site-packages\\tqdm\\auto.py:21: TqdmWarning: IProgress not found. Please update jupyter and ipywidgets. See https://ipywidgets.readthedocs.io/en/stable/user_install.html\n",
      "  from .autonotebook import tqdm as notebook_tqdm\n"
     ]
    }
   ],
   "source": [
    "import os\n",
    "from os import path\n",
    "import sys\n",
    "\n",
    "PROJECT_DIR = path.abspath(path.join(os.getcwd(), \"..\", \"..\"))\n",
    "sys.path.append(PROJECT_DIR)\n",
    "\n",
    "from utils.model_manager import ModelManager, ManagerArgs"
   ]
  },
  {
   "cell_type": "markdown",
   "metadata": {},
   "source": [
    "## Prepare parameters"
   ]
  },
  {
   "cell_type": "code",
   "execution_count": 3,
   "metadata": {},
   "outputs": [],
   "source": [
    "args = [\n",
    "    ManagerArgs(\n",
    "        config_path = path.join(PROJECT_DIR, \"config/model/sentirec/vader_manual1.yaml\")\n",
    "    ),\n",
    "    ManagerArgs(\n",
    "        config_path = path.join(PROJECT_DIR, \"config/model/nrms/exp_manual1.yaml\")\n",
    "    )\n",
    "]"
   ]
  },
  {
   "cell_type": "markdown",
   "metadata": {},
   "source": [
    "## 1. 다중 args 인가"
   ]
  },
  {
   "cell_type": "code",
   "execution_count": 11,
   "metadata": {},
   "outputs": [
    {
     "name": "stderr",
     "output_type": "stream",
     "text": [
      "Seed set to 1234\n",
      "100%|██████████| 31113/31113 [00:02<00:00, 13699.40it/s]\n",
      "100%|██████████| 938/938 [00:00<00:00, 18020.35it/s]\n",
      "100%|██████████| 12/12 [00:00<00:00, 1802.84it/s]\n",
      "100%|██████████| 938/938 [00:00<00:00, 15195.11it/s]\n",
      "100%|██████████| 3/3 [00:00<00:00, 442.39it/s]\n",
      "GPU available: True (cuda), used: True\n",
      "TPU available: False, using: 0 TPU cores\n",
      "HPU available: False, using: 0 HPUs\n"
     ]
    }
   ],
   "source": [
    "model_manager = ModelManager(PROJECT_DIR, args)"
   ]
  },
  {
   "cell_type": "markdown",
   "metadata": {},
   "source": [
    "## 2. Train and Test"
   ]
  },
  {
   "cell_type": "code",
   "execution_count": 12,
   "metadata": {},
   "outputs": [
    {
     "name": "stderr",
     "output_type": "stream",
     "text": [
      "Seed set to 1234\n",
      "100%|██████████| 31113/31113 [00:01<00:00, 16338.77it/s]\n",
      "100%|██████████| 938/938 [00:00<00:00, 21555.80it/s]\n",
      "100%|██████████| 12/12 [00:00<00:00, 3222.67it/s]\n",
      "100%|██████████| 938/938 [00:00<00:00, 20260.04it/s]\n",
      "100%|██████████| 3/3 [00:00<00:00, 516.96it/s]\n",
      "GPU available: True (cuda), used: True\n",
      "TPU available: False, using: 0 TPU cores\n",
      "HPU available: False, using: 0 HPUs\n",
      "c:\\Users\\nclud\\anaconda3\\envs\\newsrec\\lib\\site-packages\\pytorch_lightning\\callbacks\\model_checkpoint.py:654: Checkpoint directory C:\\Users\\nclud\\Desktop\\projects\\python\\NewsRecommendation\\SentiRecTest\\project\\logs\\lightning_logs\\checkpoints\\sentirec\\vader_manual1 exists and is not empty.\n",
      "LOCAL_RANK: 0 - CUDA_VISIBLE_DEVICES: [0]\n",
      "\n",
      "   | Name                                   | Type             | Params | Mode \n",
      "-------------------------------------------------------------------------------------\n",
      "0  | news_encoder                           | TimeDistributed  | 9.8 M  | train\n",
      "1  | user_encoder                           | UserEncoder      | 421 K  | train\n",
      "2  | sentiment_predictor                    | Linear           | 301    | train\n",
      "3  | val_performance_metrics                | MetricCollection | 0      | train\n",
      "4  | val_sentiment_diversity_metrics_vader  | MetricCollection | 0      | train\n",
      "5  | val_sentiment_diversity_metrics_bert   | MetricCollection | 0      | train\n",
      "6  | test_performance_metrics               | MetricCollection | 0      | train\n",
      "7  | test_sentiment_diversity_metrics_vader | MetricCollection | 0      | train\n",
      "8  | test_sentiment_diversity_metrics_bert  | MetricCollection | 0      | train\n",
      "9  | test_topic_diversity_metrics           | MetricCollection | 0      | train\n",
      "10 | test_ils_senti_metrics_vader           | MetricCollection | 0      | train\n",
      "11 | test_ils_senti_metrics_bert            | MetricCollection | 0      | train\n",
      "12 | test_ils_topic_metrics                 | MetricCollection | 0      | train\n",
      "-------------------------------------------------------------------------------------\n",
      "10.2 M    Trainable params\n",
      "0         Non-trainable params\n",
      "10.2 M    Total params\n",
      "40.710    Total estimated model params size (MB)\n",
      "52        Modules in train mode\n",
      "0         Modules in eval mode\n"
     ]
    },
    {
     "name": "stdout",
     "output_type": "stream",
     "text": [
      "Epoch 0: 100%|██████████| 1/1 [00:00<00:00,  3.86it/s, v_num=ual1]         "
     ]
    },
    {
     "name": "stderr",
     "output_type": "stream",
     "text": [
      "Metric val_auc_epoch improved. New best score: 0.395\n",
      "Epoch 0, global step 1: 'val_auc_epoch' reached 0.39534 (best 0.39534), saving model to 'C:\\\\Users\\\\nclud\\\\Desktop\\\\projects\\\\python\\\\NewsRecommendation\\\\SentiRecTest\\\\project\\\\logs\\\\lightning_logs\\\\checkpoints\\\\sentirec\\\\vader_manual1\\\\epoch=0-val_auc_epoch=0.3953.ckpt' as top 3\n"
     ]
    },
    {
     "name": "stdout",
     "output_type": "stream",
     "text": [
      "Epoch 1: 100%|██████████| 1/1 [00:00<00:00,  6.92it/s, v_num=ual1]"
     ]
    },
    {
     "name": "stderr",
     "output_type": "stream",
     "text": [
      "Metric val_auc_epoch improved by 0.058 >= min_delta = 0.0001. New best score: 0.454\n",
      "Epoch 1, global step 2: 'val_auc_epoch' reached 0.45381 (best 0.45381), saving model to 'C:\\\\Users\\\\nclud\\\\Desktop\\\\projects\\\\python\\\\NewsRecommendation\\\\SentiRecTest\\\\project\\\\logs\\\\lightning_logs\\\\checkpoints\\\\sentirec\\\\vader_manual1\\\\epoch=1-val_auc_epoch=0.4538.ckpt' as top 3\n"
     ]
    },
    {
     "name": "stdout",
     "output_type": "stream",
     "text": [
      "Epoch 2: 100%|██████████| 1/1 [00:00<00:00,  4.05it/s, v_num=ual1]"
     ]
    },
    {
     "name": "stderr",
     "output_type": "stream",
     "text": [
      "Metric val_auc_epoch improved by 0.025 >= min_delta = 0.0001. New best score: 0.479\n",
      "Epoch 2, global step 3: 'val_auc_epoch' reached 0.47920 (best 0.47920), saving model to 'C:\\\\Users\\\\nclud\\\\Desktop\\\\projects\\\\python\\\\NewsRecommendation\\\\SentiRecTest\\\\project\\\\logs\\\\lightning_logs\\\\checkpoints\\\\sentirec\\\\vader_manual1\\\\epoch=2-val_auc_epoch=0.4792.ckpt' as top 3\n"
     ]
    },
    {
     "name": "stdout",
     "output_type": "stream",
     "text": [
      "Epoch 3: 100%|██████████| 1/1 [00:00<00:00,  6.29it/s, v_num=ual1]"
     ]
    },
    {
     "name": "stderr",
     "output_type": "stream",
     "text": [
      "Metric val_auc_epoch improved by 0.012 >= min_delta = 0.0001. New best score: 0.491\n",
      "Epoch 3, global step 4: 'val_auc_epoch' reached 0.49107 (best 0.49107), saving model to 'C:\\\\Users\\\\nclud\\\\Desktop\\\\projects\\\\python\\\\NewsRecommendation\\\\SentiRecTest\\\\project\\\\logs\\\\lightning_logs\\\\checkpoints\\\\sentirec\\\\vader_manual1\\\\epoch=3-val_auc_epoch=0.4911.ckpt' as top 3\n"
     ]
    },
    {
     "name": "stdout",
     "output_type": "stream",
     "text": [
      "Epoch 4: 100%|██████████| 1/1 [00:00<00:00,  5.47it/s, v_num=ual1]"
     ]
    },
    {
     "name": "stderr",
     "output_type": "stream",
     "text": [
      "Metric val_auc_epoch improved by 0.007 >= min_delta = 0.0001. New best score: 0.498\n",
      "Epoch 4, global step 5: 'val_auc_epoch' reached 0.49763 (best 0.49763), saving model to 'C:\\\\Users\\\\nclud\\\\Desktop\\\\projects\\\\python\\\\NewsRecommendation\\\\SentiRecTest\\\\project\\\\logs\\\\lightning_logs\\\\checkpoints\\\\sentirec\\\\vader_manual1\\\\epoch=4-val_auc_epoch=0.4976.ckpt' as top 3\n"
     ]
    },
    {
     "name": "stdout",
     "output_type": "stream",
     "text": [
      "Epoch 5: 100%|██████████| 1/1 [00:00<00:00,  4.81it/s, v_num=ual1]"
     ]
    },
    {
     "name": "stderr",
     "output_type": "stream",
     "text": [
      "Metric val_auc_epoch improved by 0.007 >= min_delta = 0.0001. New best score: 0.505\n",
      "Epoch 5, global step 6: 'val_auc_epoch' reached 0.50500 (best 0.50500), saving model to 'C:\\\\Users\\\\nclud\\\\Desktop\\\\projects\\\\python\\\\NewsRecommendation\\\\SentiRecTest\\\\project\\\\logs\\\\lightning_logs\\\\checkpoints\\\\sentirec\\\\vader_manual1\\\\epoch=5-val_auc_epoch=0.5050.ckpt' as top 3\n"
     ]
    },
    {
     "name": "stdout",
     "output_type": "stream",
     "text": [
      "Epoch 6: 100%|██████████| 1/1 [00:00<00:00,  3.60it/s, v_num=ual1]"
     ]
    },
    {
     "name": "stderr",
     "output_type": "stream",
     "text": [
      "Metric val_auc_epoch improved by 0.009 >= min_delta = 0.0001. New best score: 0.514\n",
      "Epoch 6, global step 7: 'val_auc_epoch' reached 0.51398 (best 0.51398), saving model to 'C:\\\\Users\\\\nclud\\\\Desktop\\\\projects\\\\python\\\\NewsRecommendation\\\\SentiRecTest\\\\project\\\\logs\\\\lightning_logs\\\\checkpoints\\\\sentirec\\\\vader_manual1\\\\epoch=6-val_auc_epoch=0.5140.ckpt' as top 3\n"
     ]
    },
    {
     "name": "stdout",
     "output_type": "stream",
     "text": [
      "Epoch 7: 100%|██████████| 1/1 [00:00<00:00,  4.09it/s, v_num=ual1]"
     ]
    },
    {
     "name": "stderr",
     "output_type": "stream",
     "text": [
      "Metric val_auc_epoch improved by 0.001 >= min_delta = 0.0001. New best score: 0.515\n",
      "Epoch 7, global step 8: 'val_auc_epoch' reached 0.51521 (best 0.51521), saving model to 'C:\\\\Users\\\\nclud\\\\Desktop\\\\projects\\\\python\\\\NewsRecommendation\\\\SentiRecTest\\\\project\\\\logs\\\\lightning_logs\\\\checkpoints\\\\sentirec\\\\vader_manual1\\\\epoch=7-val_auc_epoch=0.5152.ckpt' as top 3\n"
     ]
    },
    {
     "name": "stdout",
     "output_type": "stream",
     "text": [
      "Epoch 8: 100%|██████████| 1/1 [00:00<00:00,  3.99it/s, v_num=ual1]"
     ]
    },
    {
     "name": "stderr",
     "output_type": "stream",
     "text": [
      "Metric val_auc_epoch improved by 0.000 >= min_delta = 0.0001. New best score: 0.516\n",
      "Epoch 8, global step 9: 'val_auc_epoch' reached 0.51562 (best 0.51562), saving model to 'C:\\\\Users\\\\nclud\\\\Desktop\\\\projects\\\\python\\\\NewsRecommendation\\\\SentiRecTest\\\\project\\\\logs\\\\lightning_logs\\\\checkpoints\\\\sentirec\\\\vader_manual1\\\\epoch=8-val_auc_epoch=0.5156.ckpt' as top 3\n"
     ]
    },
    {
     "name": "stdout",
     "output_type": "stream",
     "text": [
      "Epoch 9: 100%|██████████| 1/1 [00:00<00:00,  4.14it/s, v_num=ual1]"
     ]
    },
    {
     "name": "stderr",
     "output_type": "stream",
     "text": [
      "Epoch 9, global step 10: 'val_auc_epoch' was not in top 3\n"
     ]
    },
    {
     "name": "stdout",
     "output_type": "stream",
     "text": [
      "Epoch 10: 100%|██████████| 1/1 [00:00<00:00,  4.23it/s, v_num=ual1]"
     ]
    },
    {
     "name": "stderr",
     "output_type": "stream",
     "text": [
      "Epoch 10, global step 11: 'val_auc_epoch' reached 0.51400 (best 0.51562), saving model to 'C:\\\\Users\\\\nclud\\\\Desktop\\\\projects\\\\python\\\\NewsRecommendation\\\\SentiRecTest\\\\project\\\\logs\\\\lightning_logs\\\\checkpoints\\\\sentirec\\\\vader_manual1\\\\epoch=10-val_auc_epoch=0.5140.ckpt' as top 3\n"
     ]
    },
    {
     "name": "stdout",
     "output_type": "stream",
     "text": [
      "Epoch 11: 100%|██████████| 1/1 [00:00<00:00,  7.36it/s, v_num=ual1]"
     ]
    },
    {
     "name": "stderr",
     "output_type": "stream",
     "text": [
      "Epoch 11, global step 12: 'val_auc_epoch' reached 0.51482 (best 0.51562), saving model to 'C:\\\\Users\\\\nclud\\\\Desktop\\\\projects\\\\python\\\\NewsRecommendation\\\\SentiRecTest\\\\project\\\\logs\\\\lightning_logs\\\\checkpoints\\\\sentirec\\\\vader_manual1\\\\epoch=11-val_auc_epoch=0.5148.ckpt' as top 3\n"
     ]
    },
    {
     "name": "stdout",
     "output_type": "stream",
     "text": [
      "Epoch 12: 100%|██████████| 1/1 [00:00<00:00,  5.73it/s, v_num=ual1]"
     ]
    },
    {
     "name": "stderr",
     "output_type": "stream",
     "text": [
      "Metric val_auc_epoch improved by 0.003 >= min_delta = 0.0001. New best score: 0.518\n",
      "Epoch 12, global step 13: 'val_auc_epoch' reached 0.51850 (best 0.51850), saving model to 'C:\\\\Users\\\\nclud\\\\Desktop\\\\projects\\\\python\\\\NewsRecommendation\\\\SentiRecTest\\\\project\\\\logs\\\\lightning_logs\\\\checkpoints\\\\sentirec\\\\vader_manual1\\\\epoch=12-val_auc_epoch=0.5185.ckpt' as top 3\n"
     ]
    },
    {
     "name": "stdout",
     "output_type": "stream",
     "text": [
      "Epoch 13: 100%|██████████| 1/1 [00:00<00:00,  4.83it/s, v_num=ual1]"
     ]
    },
    {
     "name": "stderr",
     "output_type": "stream",
     "text": [
      "Metric val_auc_epoch improved by 0.001 >= min_delta = 0.0001. New best score: 0.519\n",
      "Epoch 13, global step 14: 'val_auc_epoch' reached 0.51932 (best 0.51932), saving model to 'C:\\\\Users\\\\nclud\\\\Desktop\\\\projects\\\\python\\\\NewsRecommendation\\\\SentiRecTest\\\\project\\\\logs\\\\lightning_logs\\\\checkpoints\\\\sentirec\\\\vader_manual1\\\\epoch=13-val_auc_epoch=0.5193.ckpt' as top 3\n"
     ]
    },
    {
     "name": "stdout",
     "output_type": "stream",
     "text": [
      "Epoch 14: 100%|██████████| 1/1 [00:00<00:00,  3.94it/s, v_num=ual1]"
     ]
    },
    {
     "name": "stderr",
     "output_type": "stream",
     "text": [
      "Epoch 14, global step 15: 'val_auc_epoch' reached 0.51687 (best 0.51932), saving model to 'C:\\\\Users\\\\nclud\\\\Desktop\\\\projects\\\\python\\\\NewsRecommendation\\\\SentiRecTest\\\\project\\\\logs\\\\lightning_logs\\\\checkpoints\\\\sentirec\\\\vader_manual1\\\\epoch=14-val_auc_epoch=0.5169.ckpt' as top 3\n"
     ]
    },
    {
     "name": "stdout",
     "output_type": "stream",
     "text": [
      "Epoch 15: 100%|██████████| 1/1 [00:00<00:00,  5.85it/s, v_num=ual1]"
     ]
    },
    {
     "name": "stderr",
     "output_type": "stream",
     "text": [
      "Epoch 15, global step 16: 'val_auc_epoch' reached 0.51769 (best 0.51932), saving model to 'C:\\\\Users\\\\nclud\\\\Desktop\\\\projects\\\\python\\\\NewsRecommendation\\\\SentiRecTest\\\\project\\\\logs\\\\lightning_logs\\\\checkpoints\\\\sentirec\\\\vader_manual1\\\\epoch=15-val_auc_epoch=0.5177.ckpt' as top 3\n"
     ]
    },
    {
     "name": "stdout",
     "output_type": "stream",
     "text": [
      "Epoch 16: 100%|██████████| 1/1 [00:00<00:00,  3.82it/s, v_num=ual1]"
     ]
    },
    {
     "name": "stderr",
     "output_type": "stream",
     "text": [
      "Epoch 16, global step 17: 'val_auc_epoch' reached 0.51892 (best 0.51932), saving model to 'C:\\\\Users\\\\nclud\\\\Desktop\\\\projects\\\\python\\\\NewsRecommendation\\\\SentiRecTest\\\\project\\\\logs\\\\lightning_logs\\\\checkpoints\\\\sentirec\\\\vader_manual1\\\\epoch=16-val_auc_epoch=0.5189.ckpt' as top 3\n"
     ]
    },
    {
     "name": "stdout",
     "output_type": "stream",
     "text": [
      "Epoch 17: 100%|██████████| 1/1 [00:00<00:00,  4.12it/s, v_num=ual1]"
     ]
    },
    {
     "name": "stderr",
     "output_type": "stream",
     "text": [
      "Epoch 17, global step 18: 'val_auc_epoch' reached 0.51933 (best 0.51933), saving model to 'C:\\\\Users\\\\nclud\\\\Desktop\\\\projects\\\\python\\\\NewsRecommendation\\\\SentiRecTest\\\\project\\\\logs\\\\lightning_logs\\\\checkpoints\\\\sentirec\\\\vader_manual1\\\\epoch=17-val_auc_epoch=0.5193.ckpt' as top 3\n"
     ]
    },
    {
     "name": "stdout",
     "output_type": "stream",
     "text": [
      "Epoch 18: 100%|██████████| 1/1 [00:00<00:00,  6.26it/s, v_num=ual1]"
     ]
    },
    {
     "name": "stderr",
     "output_type": "stream",
     "text": [
      "Metric val_auc_epoch improved by 0.000 >= min_delta = 0.0001. New best score: 0.520\n",
      "Epoch 18, global step 19: 'val_auc_epoch' reached 0.51974 (best 0.51974), saving model to 'C:\\\\Users\\\\nclud\\\\Desktop\\\\projects\\\\python\\\\NewsRecommendation\\\\SentiRecTest\\\\project\\\\logs\\\\lightning_logs\\\\checkpoints\\\\sentirec\\\\vader_manual1\\\\epoch=18-val_auc_epoch=0.5197.ckpt' as top 3\n"
     ]
    },
    {
     "name": "stdout",
     "output_type": "stream",
     "text": [
      "Epoch 19: 100%|██████████| 1/1 [00:00<00:00,  3.88it/s, v_num=ual1]"
     ]
    },
    {
     "name": "stderr",
     "output_type": "stream",
     "text": [
      "Epoch 19, global step 20: 'val_auc_epoch' was not in top 3\n"
     ]
    },
    {
     "name": "stdout",
     "output_type": "stream",
     "text": [
      "Epoch 20: 100%|██████████| 1/1 [00:00<00:00,  6.51it/s, v_num=ual1]"
     ]
    },
    {
     "name": "stderr",
     "output_type": "stream",
     "text": [
      "Epoch 20, global step 21: 'val_auc_epoch' was not in top 3\n"
     ]
    },
    {
     "name": "stdout",
     "output_type": "stream",
     "text": [
      "Epoch 21: 100%|██████████| 1/1 [00:00<00:00,  6.76it/s, v_num=ual1]"
     ]
    },
    {
     "name": "stderr",
     "output_type": "stream",
     "text": [
      "Epoch 21, global step 22: 'val_auc_epoch' was not in top 3\n"
     ]
    },
    {
     "name": "stdout",
     "output_type": "stream",
     "text": [
      "Epoch 22: 100%|██████████| 1/1 [00:00<00:00,  6.19it/s, v_num=ual1]"
     ]
    },
    {
     "name": "stderr",
     "output_type": "stream",
     "text": [
      "Epoch 22, global step 23: 'val_auc_epoch' was not in top 3\n"
     ]
    },
    {
     "name": "stdout",
     "output_type": "stream",
     "text": [
      "Epoch 23: 100%|██████████| 1/1 [00:00<00:00,  5.39it/s, v_num=ual1]"
     ]
    },
    {
     "name": "stderr",
     "output_type": "stream",
     "text": [
      "Monitored metric val_auc_epoch did not improve in the last 5 records. Best score: 0.520. Signaling Trainer to stop.\n",
      "Epoch 23, global step 24: 'val_auc_epoch' reached 0.51974 (best 0.51974), saving model to 'C:\\\\Users\\\\nclud\\\\Desktop\\\\projects\\\\python\\\\NewsRecommendation\\\\SentiRecTest\\\\project\\\\logs\\\\lightning_logs\\\\checkpoints\\\\sentirec\\\\vader_manual1\\\\epoch=23-val_auc_epoch=0.5197.ckpt' as top 3\n"
     ]
    },
    {
     "name": "stdout",
     "output_type": "stream",
     "text": [
      "Epoch 23: 100%|██████████| 1/1 [00:01<00:00,  0.94it/s, v_num=ual1]"
     ]
    },
    {
     "name": "stderr",
     "output_type": "stream",
     "text": [
      "Seed set to 1234\n"
     ]
    },
    {
     "name": "stdout",
     "output_type": "stream",
     "text": [
      "\n"
     ]
    },
    {
     "name": "stderr",
     "output_type": "stream",
     "text": [
      "100%|██████████| 31113/31113 [00:01<00:00, 16694.83it/s]\n",
      "100%|██████████| 938/938 [00:00<00:00, 21268.09it/s]\n",
      "100%|██████████| 12/12 [00:00<00:00, 3458.03it/s]\n",
      "100%|██████████| 938/938 [00:00<00:00, 21741.51it/s]\n",
      "100%|██████████| 3/3 [00:00<00:00, 1052.96it/s]\n",
      "GPU available: True (cuda), used: True\n",
      "TPU available: False, using: 0 TPU cores\n",
      "HPU available: False, using: 0 HPUs\n",
      "c:\\Users\\nclud\\anaconda3\\envs\\newsrec\\lib\\site-packages\\pytorch_lightning\\callbacks\\model_checkpoint.py:654: Checkpoint directory C:\\Users\\nclud\\Desktop\\projects\\python\\NewsRecommendation\\SentiRecTest\\project\\logs\\lightning_logs\\checkpoints\\nrms\\exp_manual1 exists and is not empty.\n",
      "LOCAL_RANK: 0 - CUDA_VISIBLE_DEVICES: [0]\n",
      "\n",
      "   | Name                                   | Type             | Params | Mode \n",
      "-------------------------------------------------------------------------------------\n",
      "0  | news_encoder                           | TimeDistributed  | 9.8 M  | train\n",
      "1  | user_encoder                           | UserEncoder      | 421 K  | train\n",
      "2  | val_performance_metrics                | MetricCollection | 0      | train\n",
      "3  | val_sentiment_diversity_metrics_vader  | MetricCollection | 0      | train\n",
      "4  | val_sentiment_diversity_metrics_bert   | MetricCollection | 0      | train\n",
      "5  | test_performance_metrics               | MetricCollection | 0      | train\n",
      "6  | test_sentiment_diversity_metrics_vader | MetricCollection | 0      | train\n",
      "7  | test_sentiment_diversity_metrics_bert  | MetricCollection | 0      | train\n",
      "8  | test_topic_diversity_metrics           | MetricCollection | 0      | train\n",
      "9  | test_ils_senti_metrics_vader           | MetricCollection | 0      | train\n",
      "10 | test_ils_senti_metrics_bert            | MetricCollection | 0      | train\n",
      "11 | test_ils_topic_metrics                 | MetricCollection | 0      | train\n",
      "-------------------------------------------------------------------------------------\n",
      "10.2 M    Trainable params\n",
      "0         Non-trainable params\n",
      "10.2 M    Total params\n",
      "40.708    Total estimated model params size (MB)\n",
      "51        Modules in train mode\n",
      "0         Modules in eval mode\n"
     ]
    },
    {
     "name": "stdout",
     "output_type": "stream",
     "text": [
      "Epoch 0: 100%|██████████| 1/1 [00:00<00:00,  2.25it/s, v_num=exp1]         "
     ]
    },
    {
     "name": "stderr",
     "output_type": "stream",
     "text": [
      "Metric val_auc_epoch improved. New best score: 0.448\n",
      "Epoch 0, global step 1: 'val_auc_epoch' reached 0.44766 (best 0.44766), saving model to 'C:\\\\Users\\\\nclud\\\\Desktop\\\\projects\\\\python\\\\NewsRecommendation\\\\SentiRecTest\\\\project\\\\logs\\\\lightning_logs\\\\checkpoints\\\\nrms\\\\exp_manual1\\\\epoch=0-val_auc_epoch=0.4477.ckpt' as top 3\n"
     ]
    },
    {
     "name": "stdout",
     "output_type": "stream",
     "text": [
      "Epoch 1: 100%|██████████| 1/1 [00:00<00:00,  7.04it/s, v_num=exp1]"
     ]
    },
    {
     "name": "stderr",
     "output_type": "stream",
     "text": [
      "Metric val_auc_epoch improved by 0.052 >= min_delta = 0.0001. New best score: 0.500\n",
      "Epoch 1, global step 2: 'val_auc_epoch' reached 0.50006 (best 0.50006), saving model to 'C:\\\\Users\\\\nclud\\\\Desktop\\\\projects\\\\python\\\\NewsRecommendation\\\\SentiRecTest\\\\project\\\\logs\\\\lightning_logs\\\\checkpoints\\\\nrms\\\\exp_manual1\\\\epoch=1-val_auc_epoch=0.5001.ckpt' as top 3\n"
     ]
    },
    {
     "name": "stdout",
     "output_type": "stream",
     "text": [
      "Epoch 2: 100%|██████████| 1/1 [00:00<00:00,  6.54it/s, v_num=exp1]"
     ]
    },
    {
     "name": "stderr",
     "output_type": "stream",
     "text": [
      "Metric val_auc_epoch improved by 0.009 >= min_delta = 0.0001. New best score: 0.509\n",
      "Epoch 2, global step 3: 'val_auc_epoch' reached 0.50947 (best 0.50947), saving model to 'C:\\\\Users\\\\nclud\\\\Desktop\\\\projects\\\\python\\\\NewsRecommendation\\\\SentiRecTest\\\\project\\\\logs\\\\lightning_logs\\\\checkpoints\\\\nrms\\\\exp_manual1\\\\epoch=2-val_auc_epoch=0.5095.ckpt' as top 3\n"
     ]
    },
    {
     "name": "stdout",
     "output_type": "stream",
     "text": [
      "Epoch 3: 100%|██████████| 1/1 [00:00<00:00,  6.10it/s, v_num=exp1]"
     ]
    },
    {
     "name": "stderr",
     "output_type": "stream",
     "text": [
      "Metric val_auc_epoch improved by 0.011 >= min_delta = 0.0001. New best score: 0.521\n",
      "Epoch 3, global step 4: 'val_auc_epoch' reached 0.52093 (best 0.52093), saving model to 'C:\\\\Users\\\\nclud\\\\Desktop\\\\projects\\\\python\\\\NewsRecommendation\\\\SentiRecTest\\\\project\\\\logs\\\\lightning_logs\\\\checkpoints\\\\nrms\\\\exp_manual1\\\\epoch=3-val_auc_epoch=0.5209.ckpt' as top 3\n"
     ]
    },
    {
     "name": "stdout",
     "output_type": "stream",
     "text": [
      "Epoch 4: 100%|██████████| 1/1 [00:00<00:00,  5.01it/s, v_num=exp1]"
     ]
    },
    {
     "name": "stderr",
     "output_type": "stream",
     "text": [
      "Metric val_auc_epoch improved by 0.001 >= min_delta = 0.0001. New best score: 0.522\n",
      "Epoch 4, global step 5: 'val_auc_epoch' reached 0.52175 (best 0.52175), saving model to 'C:\\\\Users\\\\nclud\\\\Desktop\\\\projects\\\\python\\\\NewsRecommendation\\\\SentiRecTest\\\\project\\\\logs\\\\lightning_logs\\\\checkpoints\\\\nrms\\\\exp_manual1\\\\epoch=4-val_auc_epoch=0.5217.ckpt' as top 3\n"
     ]
    },
    {
     "name": "stdout",
     "output_type": "stream",
     "text": [
      "Epoch 5: 100%|██████████| 1/1 [00:00<00:00,  3.54it/s, v_num=exp1]"
     ]
    },
    {
     "name": "stderr",
     "output_type": "stream",
     "text": [
      "Metric val_auc_epoch improved by 0.003 >= min_delta = 0.0001. New best score: 0.525\n",
      "Epoch 5, global step 6: 'val_auc_epoch' reached 0.52502 (best 0.52502), saving model to 'C:\\\\Users\\\\nclud\\\\Desktop\\\\projects\\\\python\\\\NewsRecommendation\\\\SentiRecTest\\\\project\\\\logs\\\\lightning_logs\\\\checkpoints\\\\nrms\\\\exp_manual1\\\\epoch=5-val_auc_epoch=0.5250.ckpt' as top 3\n"
     ]
    },
    {
     "name": "stdout",
     "output_type": "stream",
     "text": [
      "Epoch 6: 100%|██████████| 1/1 [00:00<00:00,  3.66it/s, v_num=exp1]"
     ]
    },
    {
     "name": "stderr",
     "output_type": "stream",
     "text": [
      "Metric val_auc_epoch improved by 0.002 >= min_delta = 0.0001. New best score: 0.527\n",
      "Epoch 6, global step 7: 'val_auc_epoch' reached 0.52707 (best 0.52707), saving model to 'C:\\\\Users\\\\nclud\\\\Desktop\\\\projects\\\\python\\\\NewsRecommendation\\\\SentiRecTest\\\\project\\\\logs\\\\lightning_logs\\\\checkpoints\\\\nrms\\\\exp_manual1\\\\epoch=6-val_auc_epoch=0.5271.ckpt' as top 3\n"
     ]
    },
    {
     "name": "stdout",
     "output_type": "stream",
     "text": [
      "Epoch 7: 100%|██████████| 1/1 [00:00<00:00,  5.58it/s, v_num=exp1]"
     ]
    },
    {
     "name": "stderr",
     "output_type": "stream",
     "text": [
      "Metric val_auc_epoch improved by 0.004 >= min_delta = 0.0001. New best score: 0.531\n",
      "Epoch 7, global step 8: 'val_auc_epoch' reached 0.53075 (best 0.53075), saving model to 'C:\\\\Users\\\\nclud\\\\Desktop\\\\projects\\\\python\\\\NewsRecommendation\\\\SentiRecTest\\\\project\\\\logs\\\\lightning_logs\\\\checkpoints\\\\nrms\\\\exp_manual1\\\\epoch=7-val_auc_epoch=0.5307.ckpt' as top 3\n"
     ]
    },
    {
     "name": "stdout",
     "output_type": "stream",
     "text": [
      "Epoch 8: 100%|██████████| 1/1 [00:00<00:00,  5.46it/s, v_num=exp1]"
     ]
    },
    {
     "name": "stderr",
     "output_type": "stream",
     "text": [
      "Metric val_auc_epoch improved by 0.002 >= min_delta = 0.0001. New best score: 0.532\n",
      "Epoch 8, global step 9: 'val_auc_epoch' reached 0.53239 (best 0.53239), saving model to 'C:\\\\Users\\\\nclud\\\\Desktop\\\\projects\\\\python\\\\NewsRecommendation\\\\SentiRecTest\\\\project\\\\logs\\\\lightning_logs\\\\checkpoints\\\\nrms\\\\exp_manual1\\\\epoch=8-val_auc_epoch=0.5324.ckpt' as top 3\n"
     ]
    },
    {
     "name": "stdout",
     "output_type": "stream",
     "text": [
      "Epoch 9: 100%|██████████| 1/1 [00:00<00:00,  5.15it/s, v_num=exp1]"
     ]
    },
    {
     "name": "stderr",
     "output_type": "stream",
     "text": [
      "Metric val_auc_epoch improved by 0.000 >= min_delta = 0.0001. New best score: 0.533\n",
      "Epoch 9, global step 10: 'val_auc_epoch' reached 0.53280 (best 0.53280), saving model to 'C:\\\\Users\\\\nclud\\\\Desktop\\\\projects\\\\python\\\\NewsRecommendation\\\\SentiRecTest\\\\project\\\\logs\\\\lightning_logs\\\\checkpoints\\\\nrms\\\\exp_manual1\\\\epoch=9-val_auc_epoch=0.5328.ckpt' as top 3\n"
     ]
    },
    {
     "name": "stdout",
     "output_type": "stream",
     "text": [
      "Epoch 10: 100%|██████████| 1/1 [00:00<00:00,  3.72it/s, v_num=exp1]"
     ]
    },
    {
     "name": "stderr",
     "output_type": "stream",
     "text": [
      "Metric val_auc_epoch improved by 0.001 >= min_delta = 0.0001. New best score: 0.534\n",
      "Epoch 10, global step 11: 'val_auc_epoch' reached 0.53362 (best 0.53362), saving model to 'C:\\\\Users\\\\nclud\\\\Desktop\\\\projects\\\\python\\\\NewsRecommendation\\\\SentiRecTest\\\\project\\\\logs\\\\lightning_logs\\\\checkpoints\\\\nrms\\\\exp_manual1\\\\epoch=10-val_auc_epoch=0.5336.ckpt' as top 3\n"
     ]
    },
    {
     "name": "stdout",
     "output_type": "stream",
     "text": [
      "Epoch 11: 100%|██████████| 1/1 [00:00<00:00,  3.92it/s, v_num=exp1]"
     ]
    },
    {
     "name": "stderr",
     "output_type": "stream",
     "text": [
      "Metric val_auc_epoch improved by 0.001 >= min_delta = 0.0001. New best score: 0.534\n",
      "Epoch 11, global step 12: 'val_auc_epoch' reached 0.53444 (best 0.53444), saving model to 'C:\\\\Users\\\\nclud\\\\Desktop\\\\projects\\\\python\\\\NewsRecommendation\\\\SentiRecTest\\\\project\\\\logs\\\\lightning_logs\\\\checkpoints\\\\nrms\\\\exp_manual1\\\\epoch=11-val_auc_epoch=0.5344.ckpt' as top 3\n"
     ]
    },
    {
     "name": "stdout",
     "output_type": "stream",
     "text": [
      "Epoch 12: 100%|██████████| 1/1 [00:00<00:00,  5.83it/s, v_num=exp1]"
     ]
    },
    {
     "name": "stderr",
     "output_type": "stream",
     "text": [
      "Metric val_auc_epoch improved by 0.002 >= min_delta = 0.0001. New best score: 0.536\n",
      "Epoch 12, global step 13: 'val_auc_epoch' reached 0.53608 (best 0.53608), saving model to 'C:\\\\Users\\\\nclud\\\\Desktop\\\\projects\\\\python\\\\NewsRecommendation\\\\SentiRecTest\\\\project\\\\logs\\\\lightning_logs\\\\checkpoints\\\\nrms\\\\exp_manual1\\\\epoch=12-val_auc_epoch=0.5361.ckpt' as top 3\n"
     ]
    },
    {
     "name": "stdout",
     "output_type": "stream",
     "text": [
      "Epoch 13: 100%|██████████| 1/1 [00:00<00:00,  3.77it/s, v_num=exp1]"
     ]
    },
    {
     "name": "stderr",
     "output_type": "stream",
     "text": [
      "Metric val_auc_epoch improved by 0.000 >= min_delta = 0.0001. New best score: 0.536\n",
      "Epoch 13, global step 14: 'val_auc_epoch' reached 0.53650 (best 0.53650), saving model to 'C:\\\\Users\\\\nclud\\\\Desktop\\\\projects\\\\python\\\\NewsRecommendation\\\\SentiRecTest\\\\project\\\\logs\\\\lightning_logs\\\\checkpoints\\\\nrms\\\\exp_manual1\\\\epoch=13-val_auc_epoch=0.5365.ckpt' as top 3\n"
     ]
    },
    {
     "name": "stdout",
     "output_type": "stream",
     "text": [
      "Epoch 14: 100%|██████████| 1/1 [00:00<00:00,  3.86it/s, v_num=exp1]"
     ]
    },
    {
     "name": "stderr",
     "output_type": "stream",
     "text": [
      "Metric val_auc_epoch improved by 0.004 >= min_delta = 0.0001. New best score: 0.540\n",
      "Epoch 14, global step 15: 'val_auc_epoch' reached 0.54017 (best 0.54017), saving model to 'C:\\\\Users\\\\nclud\\\\Desktop\\\\projects\\\\python\\\\NewsRecommendation\\\\SentiRecTest\\\\project\\\\logs\\\\lightning_logs\\\\checkpoints\\\\nrms\\\\exp_manual1\\\\epoch=14-val_auc_epoch=0.5402.ckpt' as top 3\n"
     ]
    },
    {
     "name": "stdout",
     "output_type": "stream",
     "text": [
      "Epoch 15: 100%|██████████| 1/1 [00:00<00:00,  6.66it/s, v_num=exp1]"
     ]
    },
    {
     "name": "stderr",
     "output_type": "stream",
     "text": [
      "Metric val_auc_epoch improved by 0.001 >= min_delta = 0.0001. New best score: 0.541\n",
      "Epoch 15, global step 16: 'val_auc_epoch' reached 0.54099 (best 0.54099), saving model to 'C:\\\\Users\\\\nclud\\\\Desktop\\\\projects\\\\python\\\\NewsRecommendation\\\\SentiRecTest\\\\project\\\\logs\\\\lightning_logs\\\\checkpoints\\\\nrms\\\\exp_manual1\\\\epoch=15-val_auc_epoch=0.5410.ckpt' as top 3\n"
     ]
    },
    {
     "name": "stdout",
     "output_type": "stream",
     "text": [
      "Epoch 16: 100%|██████████| 1/1 [00:00<00:00,  5.13it/s, v_num=exp1]"
     ]
    },
    {
     "name": "stderr",
     "output_type": "stream",
     "text": [
      "Metric val_auc_epoch improved by 0.000 >= min_delta = 0.0001. New best score: 0.541\n",
      "Epoch 16, global step 17: 'val_auc_epoch' reached 0.54141 (best 0.54141), saving model to 'C:\\\\Users\\\\nclud\\\\Desktop\\\\projects\\\\python\\\\NewsRecommendation\\\\SentiRecTest\\\\project\\\\logs\\\\lightning_logs\\\\checkpoints\\\\nrms\\\\exp_manual1\\\\epoch=16-val_auc_epoch=0.5414.ckpt' as top 3\n"
     ]
    },
    {
     "name": "stdout",
     "output_type": "stream",
     "text": [
      "Epoch 17: 100%|██████████| 1/1 [00:00<00:00,  5.27it/s, v_num=exp1]"
     ]
    },
    {
     "name": "stderr",
     "output_type": "stream",
     "text": [
      "Epoch 17, global step 18: 'val_auc_epoch' reached 0.54058 (best 0.54141), saving model to 'C:\\\\Users\\\\nclud\\\\Desktop\\\\projects\\\\python\\\\NewsRecommendation\\\\SentiRecTest\\\\project\\\\logs\\\\lightning_logs\\\\checkpoints\\\\nrms\\\\exp_manual1\\\\epoch=17-val_auc_epoch=0.5406.ckpt' as top 3\n"
     ]
    },
    {
     "name": "stdout",
     "output_type": "stream",
     "text": [
      "Epoch 18: 100%|██████████| 1/1 [00:00<00:00,  3.43it/s, v_num=exp1]"
     ]
    },
    {
     "name": "stderr",
     "output_type": "stream",
     "text": [
      "Epoch 18, global step 19: 'val_auc_epoch' was not in top 3\n"
     ]
    },
    {
     "name": "stdout",
     "output_type": "stream",
     "text": [
      "Epoch 19: 100%|██████████| 1/1 [00:00<00:00,  6.38it/s, v_num=exp1]"
     ]
    },
    {
     "name": "stderr",
     "output_type": "stream",
     "text": [
      "Epoch 19, global step 20: 'val_auc_epoch' reached 0.54099 (best 0.54141), saving model to 'C:\\\\Users\\\\nclud\\\\Desktop\\\\projects\\\\python\\\\NewsRecommendation\\\\SentiRecTest\\\\project\\\\logs\\\\lightning_logs\\\\checkpoints\\\\nrms\\\\exp_manual1\\\\epoch=19-val_auc_epoch=0.5410.ckpt' as top 3\n"
     ]
    },
    {
     "name": "stdout",
     "output_type": "stream",
     "text": [
      "Epoch 20: 100%|██████████| 1/1 [00:00<00:00,  6.90it/s, v_num=exp1]"
     ]
    },
    {
     "name": "stderr",
     "output_type": "stream",
     "text": [
      "Epoch 20, global step 21: 'val_auc_epoch' was not in top 3\n"
     ]
    },
    {
     "name": "stdout",
     "output_type": "stream",
     "text": [
      "Epoch 21: 100%|██████████| 1/1 [00:00<00:00,  6.04it/s, v_num=exp1]"
     ]
    },
    {
     "name": "stderr",
     "output_type": "stream",
     "text": [
      "Monitored metric val_auc_epoch did not improve in the last 5 records. Best score: 0.541. Signaling Trainer to stop.\n",
      "Epoch 21, global step 22: 'val_auc_epoch' was not in top 3\n"
     ]
    },
    {
     "name": "stdout",
     "output_type": "stream",
     "text": [
      "Epoch 21: 100%|██████████| 1/1 [00:00<00:00,  1.62it/s, v_num=exp1]"
     ]
    },
    {
     "name": "stderr",
     "output_type": "stream",
     "text": [
      "Seed set to 1234\n"
     ]
    },
    {
     "name": "stdout",
     "output_type": "stream",
     "text": [
      "\n"
     ]
    },
    {
     "name": "stderr",
     "output_type": "stream",
     "text": [
      "100%|██████████| 31113/31113 [00:02<00:00, 14317.53it/s]\n",
      "100%|██████████| 443/443 [00:00<00:00, 14336.90it/s]\n",
      "100%|██████████| 5/5 [00:00<00:00, 1349.35it/s]\n",
      "GPU available: True (cuda), used: True\n",
      "TPU available: False, using: 0 TPU cores\n",
      "HPU available: False, using: 0 HPUs\n",
      "LOCAL_RANK: 0 - CUDA_VISIBLE_DEVICES: [0]\n"
     ]
    },
    {
     "name": "stdout",
     "output_type": "stream",
     "text": [
      "Testing DataLoader 0: 100%|██████████| 5/5 [00:00<00:00, 14.23it/s]"
     ]
    },
    {
     "name": "stderr",
     "output_type": "stream",
     "text": [
      "Seed set to 1234\n"
     ]
    },
    {
     "name": "stdout",
     "output_type": "stream",
     "text": [
      "\n",
      "────────────────────────────────────────────────────────────────────────────────────────────────────────────────────────\n",
      "         Test metric                 DataLoader 0\n",
      "────────────────────────────────────────────────────────────────────────────────────────────────────────────────────────\n",
      "       test_auc_epoch             0.5391176342964172\n",
      "test_ils_senti@10_bert_epoch      0.47448939085006714\n",
      "test_ils_senti@10_vader_epoch     0.25742918252944946\n",
      " test_ils_senti@5_bert_epoch      0.4775465428829193\n",
      "test_ils_senti@5_vader_epoch      0.28616002202033997\n",
      "   test_ils_topic@10_epoch        0.0498412624001503\n",
      "   test_ils_topic@5_epoch        0.059999994933605194\n",
      "       test_mrr_epoch             0.2746250033378601\n",
      "     test_ndcg@10_epoch           0.3506299555301666\n",
      "      test_ndcg@5_epoch           0.22624102234840393\n",
      "  test_senti@10_bert_epoch        0.4147215485572815\n",
      "  test_senti@10_vader_epoch       0.06275632232427597\n",
      "   test_senti@5_bert_epoch        0.36382198333740234\n",
      "  test_senti@5_vader_epoch        0.04832863807678223\n",
      "  test_senti_mrr_bert_epoch       0.1787332147359848\n",
      " test_senti_mrr_vader_epoch      0.021509233862161636\n",
      "   test_topic_div@10_epoch        0.5139567852020264\n",
      "   test_topic_div@5_epoch         0.45597463846206665\n",
      "    test_topic_mrr_epoch          0.5126141309738159\n",
      "────────────────────────────────────────────────────────────────────────────────────────────────────────────────────────\n"
     ]
    },
    {
     "name": "stderr",
     "output_type": "stream",
     "text": [
      "100%|██████████| 31113/31113 [00:01<00:00, 17041.57it/s]\n",
      "100%|██████████| 443/443 [00:00<00:00, 14427.97it/s]\n",
      "100%|██████████| 5/5 [00:00<00:00, 1661.64it/s]\n",
      "GPU available: True (cuda), used: True\n",
      "TPU available: False, using: 0 TPU cores\n",
      "HPU available: False, using: 0 HPUs\n",
      "LOCAL_RANK: 0 - CUDA_VISIBLE_DEVICES: [0]\n"
     ]
    },
    {
     "name": "stdout",
     "output_type": "stream",
     "text": [
      "Testing DataLoader 0: 100%|██████████| 5/5 [00:00<00:00, 16.83it/s]\n",
      "────────────────────────────────────────────────────────────────────────────────────────────────────────────────────────\n",
      "         Test metric                 DataLoader 0\n",
      "────────────────────────────────────────────────────────────────────────────────────────────────────────────────────────\n",
      "       test_auc_epoch             0.5306302309036255\n",
      "test_ils_senti@10_bert_epoch       0.471963107585907\n",
      "test_ils_senti@10_vader_epoch      0.260619193315506\n",
      " test_ils_senti@5_bert_epoch      0.4850660264492035\n",
      "test_ils_senti@5_vader_epoch      0.25992998480796814\n",
      "   test_ils_topic@10_epoch        0.05650792643427849\n",
      "   test_ils_topic@5_epoch         0.05000000074505806\n",
      "       test_mrr_epoch             0.2746007442474365\n",
      "     test_ndcg@10_epoch           0.3309367299079895\n",
      "      test_ndcg@5_epoch           0.20000000298023224\n",
      "  test_senti@10_bert_epoch        0.4679860472679138\n",
      "  test_senti@10_vader_epoch       0.06275632232427597\n",
      "   test_senti@5_bert_epoch        0.3442094624042511\n",
      "  test_senti@5_vader_epoch       0.045052122324705124\n",
      "  test_senti_mrr_bert_epoch       0.17502185702323914\n",
      " test_senti_mrr_vader_epoch      0.022008752450346947\n",
      "   test_topic_div@10_epoch         0.556256890296936\n",
      "   test_topic_div@5_epoch         0.39295345544815063\n",
      "    test_topic_mrr_epoch          0.5171425938606262\n",
      "────────────────────────────────────────────────────────────────────────────────────────────────────────────────────────\n"
     ]
    }
   ],
   "source": [
    "test_results = model_manager.train_test_all()"
   ]
  },
  {
   "cell_type": "markdown",
   "metadata": {},
   "source": [
    "## 3. Visualizations"
   ]
  },
  {
   "cell_type": "code",
   "execution_count": 13,
   "metadata": {},
   "outputs": [
    {
     "data": {
      "text/html": [
       "<div>\n",
       "<style scoped>\n",
       "    .dataframe tbody tr th:only-of-type {\n",
       "        vertical-align: middle;\n",
       "    }\n",
       "\n",
       "    .dataframe tbody tr th {\n",
       "        vertical-align: top;\n",
       "    }\n",
       "\n",
       "    .dataframe thead th {\n",
       "        text-align: right;\n",
       "    }\n",
       "</style>\n",
       "<table border=\"1\" class=\"dataframe\">\n",
       "  <thead>\n",
       "    <tr style=\"text-align: right;\">\n",
       "      <th></th>\n",
       "      <th>sentirec#vader_manual1</th>\n",
       "      <th>nrms#exp1</th>\n",
       "    </tr>\n",
       "  </thead>\n",
       "  <tbody>\n",
       "    <tr>\n",
       "      <th>test_auc_epoch</th>\n",
       "      <td>0.539118</td>\n",
       "      <td>0.530630</td>\n",
       "    </tr>\n",
       "    <tr>\n",
       "      <th>test_mrr_epoch</th>\n",
       "      <td>0.274625</td>\n",
       "      <td>0.274601</td>\n",
       "    </tr>\n",
       "    <tr>\n",
       "      <th>test_ndcg@10_epoch</th>\n",
       "      <td>0.350630</td>\n",
       "      <td>0.330937</td>\n",
       "    </tr>\n",
       "    <tr>\n",
       "      <th>test_ndcg@5_epoch</th>\n",
       "      <td>0.226241</td>\n",
       "      <td>0.200000</td>\n",
       "    </tr>\n",
       "    <tr>\n",
       "      <th>test_senti@10_vader_epoch</th>\n",
       "      <td>0.062756</td>\n",
       "      <td>0.062756</td>\n",
       "    </tr>\n",
       "    <tr>\n",
       "      <th>test_senti@5_vader_epoch</th>\n",
       "      <td>0.048329</td>\n",
       "      <td>0.045052</td>\n",
       "    </tr>\n",
       "    <tr>\n",
       "      <th>test_senti_mrr_vader_epoch</th>\n",
       "      <td>0.021509</td>\n",
       "      <td>0.022009</td>\n",
       "    </tr>\n",
       "    <tr>\n",
       "      <th>test_senti@10_bert_epoch</th>\n",
       "      <td>0.414722</td>\n",
       "      <td>0.467986</td>\n",
       "    </tr>\n",
       "    <tr>\n",
       "      <th>test_senti@5_bert_epoch</th>\n",
       "      <td>0.363822</td>\n",
       "      <td>0.344209</td>\n",
       "    </tr>\n",
       "    <tr>\n",
       "      <th>test_senti_mrr_bert_epoch</th>\n",
       "      <td>0.178733</td>\n",
       "      <td>0.175022</td>\n",
       "    </tr>\n",
       "    <tr>\n",
       "      <th>test_topic_div@10_epoch</th>\n",
       "      <td>0.513957</td>\n",
       "      <td>0.556257</td>\n",
       "    </tr>\n",
       "    <tr>\n",
       "      <th>test_topic_div@5_epoch</th>\n",
       "      <td>0.455975</td>\n",
       "      <td>0.392953</td>\n",
       "    </tr>\n",
       "    <tr>\n",
       "      <th>test_topic_mrr_epoch</th>\n",
       "      <td>0.512614</td>\n",
       "      <td>0.517143</td>\n",
       "    </tr>\n",
       "    <tr>\n",
       "      <th>test_ils_senti@10_vader_epoch</th>\n",
       "      <td>0.257429</td>\n",
       "      <td>0.260619</td>\n",
       "    </tr>\n",
       "    <tr>\n",
       "      <th>test_ils_senti@5_vader_epoch</th>\n",
       "      <td>0.286160</td>\n",
       "      <td>0.259930</td>\n",
       "    </tr>\n",
       "    <tr>\n",
       "      <th>test_ils_senti@10_bert_epoch</th>\n",
       "      <td>0.474489</td>\n",
       "      <td>0.471963</td>\n",
       "    </tr>\n",
       "    <tr>\n",
       "      <th>test_ils_senti@5_bert_epoch</th>\n",
       "      <td>0.477547</td>\n",
       "      <td>0.485066</td>\n",
       "    </tr>\n",
       "    <tr>\n",
       "      <th>test_ils_topic@10_epoch</th>\n",
       "      <td>0.049841</td>\n",
       "      <td>0.056508</td>\n",
       "    </tr>\n",
       "    <tr>\n",
       "      <th>test_ils_topic@5_epoch</th>\n",
       "      <td>0.060000</td>\n",
       "      <td>0.050000</td>\n",
       "    </tr>\n",
       "  </tbody>\n",
       "</table>\n",
       "</div>"
      ],
      "text/plain": [
       "                               sentirec#vader_manual1  nrms#exp1\n",
       "test_auc_epoch                               0.539118   0.530630\n",
       "test_mrr_epoch                               0.274625   0.274601\n",
       "test_ndcg@10_epoch                           0.350630   0.330937\n",
       "test_ndcg@5_epoch                            0.226241   0.200000\n",
       "test_senti@10_vader_epoch                    0.062756   0.062756\n",
       "test_senti@5_vader_epoch                     0.048329   0.045052\n",
       "test_senti_mrr_vader_epoch                   0.021509   0.022009\n",
       "test_senti@10_bert_epoch                     0.414722   0.467986\n",
       "test_senti@5_bert_epoch                      0.363822   0.344209\n",
       "test_senti_mrr_bert_epoch                    0.178733   0.175022\n",
       "test_topic_div@10_epoch                      0.513957   0.556257\n",
       "test_topic_div@5_epoch                       0.455975   0.392953\n",
       "test_topic_mrr_epoch                         0.512614   0.517143\n",
       "test_ils_senti@10_vader_epoch                0.257429   0.260619\n",
       "test_ils_senti@5_vader_epoch                 0.286160   0.259930\n",
       "test_ils_senti@10_bert_epoch                 0.474489   0.471963\n",
       "test_ils_senti@5_bert_epoch                  0.477547   0.485066\n",
       "test_ils_topic@10_epoch                      0.049841   0.056508\n",
       "test_ils_topic@5_epoch                       0.060000   0.050000"
      ]
     },
     "execution_count": 13,
     "metadata": {},
     "output_type": "execute_result"
    }
   ],
   "source": [
    "from utils.test_metrics_viewer import TestMetricsViewer\n",
    "\n",
    "result_viewer = TestMetricsViewer(test_results)\n",
    "result_viewer.get_result_df()"
   ]
  },
  {
   "cell_type": "code",
   "execution_count": 14,
   "metadata": {},
   "outputs": [
    {
     "data": {
      "image/png": "[encoded data removed]",
      "text/plain": [
       "<Figure size 1000x600 with 1 Axes>"
      ]
     },
     "metadata": {},
     "output_type": "display_data"
    }
   ],
   "source": [
    "result_viewer.show()"
   ]
  }
 ],
 "metadata": {
  "kernelspec": {
   "display_name": "newsrec",
   "language": "python",
   "name": "python3"
  },
  "language_info": {
   "codemirror_mode": {
    "name": "ipython",
    "version": 3
   },
   "file_extension": ".py",
   "mimetype": "text/x-python",
   "name": "python",
   "nbconvert_exporter": "python",
   "pygments_lexer": "ipython3",
   "version": "3.9.21"
  }
 },
 "nbformat": 4,
 "nbformat_minor": 2
}
