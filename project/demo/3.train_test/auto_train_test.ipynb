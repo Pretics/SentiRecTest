{
 "cells": [
  {
   "cell_type": "markdown",
   "metadata": {},
   "source": [
    "## Global Settings and Imports"
   ]
  },
  {
   "cell_type": "code",
   "execution_count": 1,
   "metadata": {},
   "outputs": [],
   "source": [
    "# jupyter notebook에서 import 해서 쓰는 모듈의 코드가 변경될 시, 변동 사항을 자동으로 반영해주는 기능 켜기\n",
    "%load_ext autoreload\n",
    "%autoreload 2"
   ]
  },
  {
   "cell_type": "code",
   "execution_count": 1,
   "metadata": {},
   "outputs": [
    {
     "name": "stderr",
     "output_type": "stream",
     "text": [
      "c:\\Users\\nclud\\anaconda3\\envs\\newsrec\\lib\\site-packages\\tqdm\\auto.py:21: TqdmWarning: IProgress not found. Please update jupyter and ipywidgets. See https://ipywidgets.readthedocs.io/en/stable/user_install.html\n",
      "  from .autonotebook import tqdm as notebook_tqdm\n"
     ]
    }
   ],
   "source": [
    "import os\n",
    "from os import path\n",
    "import sys\n",
    "\n",
    "PROJECT_DIR = path.abspath(path.join(os.getcwd(), \"..\", \"..\"))\n",
    "sys.path.append(PROJECT_DIR)\n",
    "\n",
    "from utils.model_manager import ModelManager, ManagerArgs"
   ]
  },
  {
   "cell_type": "markdown",
   "metadata": {},
   "source": [
    "## Prepare parameters"
   ]
  },
  {
   "cell_type": "code",
   "execution_count": 2,
   "metadata": {},
   "outputs": [],
   "source": [
    "args = [\n",
    "    ManagerArgs(\n",
    "        config_path = path.join(PROJECT_DIR, \"config/model/sentirec/vader_manual1.yaml\")\n",
    "    ),\n",
    "    ManagerArgs(\n",
    "        config_path = path.join(PROJECT_DIR, \"config/model/nrms/exp_manual1.yaml\")\n",
    "    )\n",
    "]"
   ]
  },
  {
   "cell_type": "markdown",
   "metadata": {},
   "source": [
    "## 1. 다중 args 인가"
   ]
  },
  {
   "cell_type": "code",
   "execution_count": 3,
   "metadata": {},
   "outputs": [
    {
     "name": "stderr",
     "output_type": "stream",
     "text": [
      "Seed set to 1234\n"
     ]
    },
    {
     "name": "stderr",
     "output_type": "stream",
     "text": [
      "100%|██████████| 9357/9357 [00:00<00:00, 15639.32it/s]\n",
      "100%|██████████| 938/938 [00:00<00:00, 15072.34it/s]\n",
      "100%|██████████| 12/12 [00:00<00:00, 1094.40it/s]\n",
      "100%|██████████| 938/938 [00:00<00:00, 18333.15it/s]\n",
      "100%|██████████| 3/3 [00:00<00:00, 4324.02it/s]\n",
      "GPU available: True (cuda), used: True\n",
      "TPU available: False, using: 0 TPU cores\n",
      "HPU available: False, using: 0 HPUs\n"
     ]
    }
   ],
   "source": [
    "model_manager = ModelManager(PROJECT_DIR, args)"
   ]
  },
  {
   "cell_type": "markdown",
   "metadata": {},
   "source": [
    "## 2. Train and Test"
   ]
  },
  {
   "cell_type": "code",
   "execution_count": 4,
   "metadata": {},
   "outputs": [
    {
     "name": "stderr",
     "output_type": "stream",
     "text": [
      "Seed set to 1234\n",
      "100%|██████████| 9357/9357 [00:00<00:00, 14572.46it/s]\n",
      "100%|██████████| 938/938 [00:00<00:00, 19305.54it/s]\n",
      "100%|██████████| 12/12 [00:00<00:00, 1054.75it/s]\n",
      "100%|██████████| 938/938 [00:00<00:00, 17550.25it/s]\n",
      "100%|██████████| 3/3 [00:00<00:00, 323.18it/s]\n",
      "GPU available: True (cuda), used: True\n",
      "TPU available: False, using: 0 TPU cores\n",
      "HPU available: False, using: 0 HPUs\n",
      "You are using a CUDA device ('NVIDIA GeForce RTX 4060 Laptop GPU') that has Tensor Cores. To properly utilize them, you should set `torch.set_float32_matmul_precision('medium' | 'high')` which will trade-off precision for performance. For more details, read https://pytorch.org/docs/stable/generated/torch.set_float32_matmul_precision.html#torch.set_float32_matmul_precision\n",
      "LOCAL_RANK: 0 - CUDA_VISIBLE_DEVICES: [0]\n",
      "\n",
      "   | Name                                   | Type             | Params | Mode \n",
      "-------------------------------------------------------------------------------------\n",
      "0  | news_encoder                           | TimeDistributed  | 3.2 M  | train\n",
      "1  | user_encoder                           | UserEncoder      | 421 K  | train\n",
      "2  | sentiment_predictor                    | Linear           | 301    | train\n",
      "3  | val_performance_metrics                | MetricCollection | 0      | train\n",
      "4  | val_sentiment_diversity_metrics_vader  | MetricCollection | 0      | train\n",
      "5  | val_sentiment_diversity_metrics_bert   | MetricCollection | 0      | train\n",
      "6  | test_performance_metrics               | MetricCollection | 0      | train\n",
      "7  | test_sentiment_diversity_metrics_vader | MetricCollection | 0      | train\n",
      "8  | test_sentiment_diversity_metrics_bert  | MetricCollection | 0      | train\n",
      "9  | test_topic_diversity_metrics           | MetricCollection | 0      | train\n",
      "10 | test_ils_senti_metrics_vader           | MetricCollection | 0      | train\n",
      "11 | test_ils_senti_metrics_bert            | MetricCollection | 0      | train\n",
      "12 | test_ils_topic_metrics                 | MetricCollection | 0      | train\n",
      "-------------------------------------------------------------------------------------\n",
      "3.7 M     Trainable params\n",
      "0         Non-trainable params\n",
      "3.7 M     Total params\n",
      "14.602    Total estimated model params size (MB)\n",
      "52        Modules in train mode\n",
      "0         Modules in eval mode\n"
     ]
    },
    {
     "name": "stdout",
     "output_type": "stream",
     "text": [
      "Sanity Checking DataLoader 0:   0%|          | 0/2 [00:00<?, ?it/s]"
     ]
    },
    {
     "name": "stderr",
     "output_type": "stream",
     "text": [
      "c:\\Users\\nclud\\anaconda3\\envs\\newsrec\\lib\\site-packages\\pytorch_lightning\\trainer\\connectors\\data_connector.py:425: The 'val_dataloader' does not have many workers which may be a bottleneck. Consider increasing the value of the `num_workers` argument` to `num_workers=15` in the `DataLoader` to improve performance.\n"
     ]
    },
    {
     "name": "stdout",
     "output_type": "stream",
     "text": [
      "                                                                           "
     ]
    },
    {
     "name": "stderr",
     "output_type": "stream",
     "text": [
      "c:\\Users\\nclud\\anaconda3\\envs\\newsrec\\lib\\site-packages\\pytorch_lightning\\trainer\\connectors\\data_connector.py:425: The 'train_dataloader' does not have many workers which may be a bottleneck. Consider increasing the value of the `num_workers` argument` to `num_workers=15` in the `DataLoader` to improve performance.\n",
      "c:\\Users\\nclud\\anaconda3\\envs\\newsrec\\lib\\site-packages\\pytorch_lightning\\loops\\fit_loop.py:310: The number of training batches (1) is smaller than the logging interval Trainer(log_every_n_steps=50). Set a lower value for log_every_n_steps if you want to see logs for the training epoch.\n"
     ]
    },
    {
     "name": "stdout",
     "output_type": "stream",
     "text": [
      "Epoch 0: 100%|██████████| 1/1 [00:00<00:00,  2.36it/s, v_num=ual1]"
     ]
    },
    {
     "name": "stderr",
     "output_type": "stream",
     "text": [
      "Metric val_auc_epoch improved. New best score: 0.496\n",
      "Epoch 0, global step 1: 'val_auc_epoch' reached 0.49567 (best 0.49567), saving model to 'C:\\\\Users\\\\nclud\\\\Desktop\\\\projects\\\\python\\\\NewsRecommendation\\\\SentiRecTest\\\\project\\\\logs\\\\lightning_logs\\\\checkpoints\\\\sentirec\\\\vader_manual1\\\\epoch=0-val_auc_epoch=0.4957.ckpt' as top 3\n"
     ]
    },
    {
     "name": "stdout",
     "output_type": "stream",
     "text": [
      "Epoch 1: 100%|██████████| 1/1 [00:00<00:00,  5.46it/s, v_num=ual1]"
     ]
    },
    {
     "name": "stderr",
     "output_type": "stream",
     "text": [
      "Metric val_auc_epoch improved by 0.038 >= min_delta = 0.0001. New best score: 0.534\n",
      "Epoch 1, global step 2: 'val_auc_epoch' reached 0.53393 (best 0.53393), saving model to 'C:\\\\Users\\\\nclud\\\\Desktop\\\\projects\\\\python\\\\NewsRecommendation\\\\SentiRecTest\\\\project\\\\logs\\\\lightning_logs\\\\checkpoints\\\\sentirec\\\\vader_manual1\\\\epoch=1-val_auc_epoch=0.5339.ckpt' as top 3\n"
     ]
    },
    {
     "name": "stdout",
     "output_type": "stream",
     "text": [
      "Epoch 2: 100%|██████████| 1/1 [00:00<00:00,  6.87it/s, v_num=ual1]"
     ]
    },
    {
     "name": "stderr",
     "output_type": "stream",
     "text": [
      "Metric val_auc_epoch improved by 0.028 >= min_delta = 0.0001. New best score: 0.562\n",
      "Epoch 2, global step 3: 'val_auc_epoch' reached 0.56219 (best 0.56219), saving model to 'C:\\\\Users\\\\nclud\\\\Desktop\\\\projects\\\\python\\\\NewsRecommendation\\\\SentiRecTest\\\\project\\\\logs\\\\lightning_logs\\\\checkpoints\\\\sentirec\\\\vader_manual1\\\\epoch=2-val_auc_epoch=0.5622.ckpt' as top 3\n"
     ]
    },
    {
     "name": "stdout",
     "output_type": "stream",
     "text": [
      "Epoch 3: 100%|██████████| 1/1 [00:00<00:00,  6.00it/s, v_num=ual1]"
     ]
    },
    {
     "name": "stderr",
     "output_type": "stream",
     "text": [
      "Epoch 3, global step 4: 'val_auc_epoch' reached 0.56145 (best 0.56219), saving model to 'C:\\\\Users\\\\nclud\\\\Desktop\\\\projects\\\\python\\\\NewsRecommendation\\\\SentiRecTest\\\\project\\\\logs\\\\lightning_logs\\\\checkpoints\\\\sentirec\\\\vader_manual1\\\\epoch=3-val_auc_epoch=0.5615.ckpt' as top 3\n"
     ]
    },
    {
     "name": "stdout",
     "output_type": "stream",
     "text": [
      "Epoch 4: 100%|██████████| 1/1 [00:00<00:00,  6.53it/s, v_num=ual1]"
     ]
    },
    {
     "name": "stderr",
     "output_type": "stream",
     "text": [
      "Epoch 4, global step 5: 'val_auc_epoch' reached 0.56147 (best 0.56219), saving model to 'C:\\\\Users\\\\nclud\\\\Desktop\\\\projects\\\\python\\\\NewsRecommendation\\\\SentiRecTest\\\\project\\\\logs\\\\lightning_logs\\\\checkpoints\\\\sentirec\\\\vader_manual1\\\\epoch=4-val_auc_epoch=0.5615.ckpt' as top 3\n"
     ]
    },
    {
     "name": "stdout",
     "output_type": "stream",
     "text": [
      "Epoch 5: 100%|██████████| 1/1 [00:00<00:00,  6.85it/s, v_num=ual1]"
     ]
    },
    {
     "name": "stderr",
     "output_type": "stream",
     "text": [
      "Epoch 5, global step 6: 'val_auc_epoch' was not in top 3\n"
     ]
    },
    {
     "name": "stdout",
     "output_type": "stream",
     "text": [
      "Epoch 6: 100%|██████████| 1/1 [00:00<00:00,  6.08it/s, v_num=ual1]"
     ]
    },
    {
     "name": "stderr",
     "output_type": "stream",
     "text": [
      "Metric val_auc_epoch improved by 0.006 >= min_delta = 0.0001. New best score: 0.568\n",
      "Epoch 6, global step 7: 'val_auc_epoch' reached 0.56848 (best 0.56848), saving model to 'C:\\\\Users\\\\nclud\\\\Desktop\\\\projects\\\\python\\\\NewsRecommendation\\\\SentiRecTest\\\\project\\\\logs\\\\lightning_logs\\\\checkpoints\\\\sentirec\\\\vader_manual1\\\\epoch=6-val_auc_epoch=0.5685.ckpt' as top 3\n"
     ]
    },
    {
     "name": "stdout",
     "output_type": "stream",
     "text": [
      "Epoch 7: 100%|██████████| 1/1 [00:00<00:00,  6.16it/s, v_num=ual1]"
     ]
    },
    {
     "name": "stderr",
     "output_type": "stream",
     "text": [
      "Metric val_auc_epoch improved by 0.003 >= min_delta = 0.0001. New best score: 0.572\n",
      "Epoch 7, global step 8: 'val_auc_epoch' reached 0.57175 (best 0.57175), saving model to 'C:\\\\Users\\\\nclud\\\\Desktop\\\\projects\\\\python\\\\NewsRecommendation\\\\SentiRecTest\\\\project\\\\logs\\\\lightning_logs\\\\checkpoints\\\\sentirec\\\\vader_manual1\\\\epoch=7-val_auc_epoch=0.5717.ckpt' as top 3\n"
     ]
    },
    {
     "name": "stdout",
     "output_type": "stream",
     "text": [
      "Epoch 8: 100%|██████████| 1/1 [00:00<00:00,  6.34it/s, v_num=ual1]"
     ]
    },
    {
     "name": "stderr",
     "output_type": "stream",
     "text": [
      "Metric val_auc_epoch improved by 0.001 >= min_delta = 0.0001. New best score: 0.573\n",
      "Epoch 8, global step 9: 'val_auc_epoch' reached 0.57298 (best 0.57298), saving model to 'C:\\\\Users\\\\nclud\\\\Desktop\\\\projects\\\\python\\\\NewsRecommendation\\\\SentiRecTest\\\\project\\\\logs\\\\lightning_logs\\\\checkpoints\\\\sentirec\\\\vader_manual1\\\\epoch=8-val_auc_epoch=0.5730.ckpt' as top 3\n"
     ]
    },
    {
     "name": "stdout",
     "output_type": "stream",
     "text": [
      "Epoch 9: 100%|██████████| 1/1 [00:00<00:00,  5.83it/s, v_num=ual1]"
     ]
    },
    {
     "name": "stderr",
     "output_type": "stream",
     "text": [
      "Metric val_auc_epoch improved by 0.000 >= min_delta = 0.0001. New best score: 0.573\n",
      "Epoch 9, global step 10: 'val_auc_epoch' reached 0.57339 (best 0.57339), saving model to 'C:\\\\Users\\\\nclud\\\\Desktop\\\\projects\\\\python\\\\NewsRecommendation\\\\SentiRecTest\\\\project\\\\logs\\\\lightning_logs\\\\checkpoints\\\\sentirec\\\\vader_manual1\\\\epoch=9-val_auc_epoch=0.5734.ckpt' as top 3\n"
     ]
    },
    {
     "name": "stdout",
     "output_type": "stream",
     "text": [
      "Epoch 10: 100%|██████████| 1/1 [00:00<00:00,  4.88it/s, v_num=ual1]"
     ]
    },
    {
     "name": "stderr",
     "output_type": "stream",
     "text": [
      "Epoch 10, global step 11: 'val_auc_epoch' reached 0.57339 (best 0.57339), saving model to 'C:\\\\Users\\\\nclud\\\\Desktop\\\\projects\\\\python\\\\NewsRecommendation\\\\SentiRecTest\\\\project\\\\logs\\\\lightning_logs\\\\checkpoints\\\\sentirec\\\\vader_manual1\\\\epoch=10-val_auc_epoch=0.5734.ckpt' as top 3\n"
     ]
    },
    {
     "name": "stdout",
     "output_type": "stream",
     "text": [
      "Epoch 11: 100%|██████████| 1/1 [00:00<00:00,  6.33it/s, v_num=ual1]"
     ]
    },
    {
     "name": "stderr",
     "output_type": "stream",
     "text": [
      "Metric val_auc_epoch improved by 0.005 >= min_delta = 0.0001. New best score: 0.578\n",
      "Epoch 11, global step 12: 'val_auc_epoch' reached 0.57835 (best 0.57835), saving model to 'C:\\\\Users\\\\nclud\\\\Desktop\\\\projects\\\\python\\\\NewsRecommendation\\\\SentiRecTest\\\\project\\\\logs\\\\lightning_logs\\\\checkpoints\\\\sentirec\\\\vader_manual1\\\\epoch=11-val_auc_epoch=0.5784.ckpt' as top 3\n"
     ]
    },
    {
     "name": "stdout",
     "output_type": "stream",
     "text": [
      "Epoch 12: 100%|██████████| 1/1 [00:00<00:00,  6.64it/s, v_num=ual1]"
     ]
    },
    {
     "name": "stderr",
     "output_type": "stream",
     "text": [
      "Epoch 12, global step 13: 'val_auc_epoch' reached 0.57508 (best 0.57835), saving model to 'C:\\\\Users\\\\nclud\\\\Desktop\\\\projects\\\\python\\\\NewsRecommendation\\\\SentiRecTest\\\\project\\\\logs\\\\lightning_logs\\\\checkpoints\\\\sentirec\\\\vader_manual1\\\\epoch=12-val_auc_epoch=0.5751.ckpt' as top 3\n"
     ]
    },
    {
     "name": "stdout",
     "output_type": "stream",
     "text": [
      "Epoch 13: 100%|██████████| 1/1 [00:00<00:00,  6.90it/s, v_num=ual1]"
     ]
    },
    {
     "name": "stderr",
     "output_type": "stream",
     "text": [
      "Epoch 13, global step 14: 'val_auc_epoch' reached 0.57632 (best 0.57835), saving model to 'C:\\\\Users\\\\nclud\\\\Desktop\\\\projects\\\\python\\\\NewsRecommendation\\\\SentiRecTest\\\\project\\\\logs\\\\lightning_logs\\\\checkpoints\\\\sentirec\\\\vader_manual1\\\\epoch=13-val_auc_epoch=0.5763.ckpt' as top 3\n"
     ]
    },
    {
     "name": "stdout",
     "output_type": "stream",
     "text": [
      "Epoch 14: 100%|██████████| 1/1 [00:00<00:00,  5.97it/s, v_num=ual1]"
     ]
    },
    {
     "name": "stderr",
     "output_type": "stream",
     "text": [
      "Epoch 14, global step 15: 'val_auc_epoch' reached 0.57632 (best 0.57835), saving model to 'C:\\\\Users\\\\nclud\\\\Desktop\\\\projects\\\\python\\\\NewsRecommendation\\\\SentiRecTest\\\\project\\\\logs\\\\lightning_logs\\\\checkpoints\\\\sentirec\\\\vader_manual1\\\\epoch=14-val_auc_epoch=0.5763.ckpt' as top 3\n"
     ]
    },
    {
     "name": "stdout",
     "output_type": "stream",
     "text": [
      "Epoch 15: 100%|██████████| 1/1 [00:00<00:00,  5.48it/s, v_num=ual1]"
     ]
    },
    {
     "name": "stderr",
     "output_type": "stream",
     "text": [
      "Epoch 15, global step 16: 'val_auc_epoch' was not in top 3\n"
     ]
    },
    {
     "name": "stdout",
     "output_type": "stream",
     "text": [
      "Epoch 16: 100%|██████████| 1/1 [00:00<00:00,  4.53it/s, v_num=ual1]"
     ]
    },
    {
     "name": "stderr",
     "output_type": "stream",
     "text": [
      "Monitored metric val_auc_epoch did not improve in the last 5 records. Best score: 0.578. Signaling Trainer to stop.\n",
      "Epoch 16, global step 17: 'val_auc_epoch' was not in top 3\n"
     ]
    },
    {
     "name": "stdout",
     "output_type": "stream",
     "text": [
      "Epoch 16: 100%|██████████| 1/1 [00:00<00:00,  2.20it/s, v_num=ual1]"
     ]
    },
    {
     "name": "stderr",
     "output_type": "stream",
     "text": [
      "Seed set to 1234\n"
     ]
    },
    {
     "name": "stdout",
     "output_type": "stream",
     "text": [
      "\n"
     ]
    },
    {
     "name": "stderr",
     "output_type": "stream",
     "text": [
      "100%|██████████| 9357/9357 [00:00<00:00, 14710.56it/s]\n",
      "100%|██████████| 938/938 [00:00<00:00, 17701.86it/s]\n",
      "100%|██████████| 12/12 [00:00<00:00, 1886.71it/s]\n",
      "100%|██████████| 938/938 [00:00<00:00, 17248.55it/s]\n",
      "100%|██████████| 3/3 [00:00<?, ?it/s]\n",
      "GPU available: True (cuda), used: True\n",
      "TPU available: False, using: 0 TPU cores\n",
      "HPU available: False, using: 0 HPUs\n",
      "LOCAL_RANK: 0 - CUDA_VISIBLE_DEVICES: [0]\n",
      "\n",
      "   | Name                                   | Type             | Params | Mode \n",
      "-------------------------------------------------------------------------------------\n",
      "0  | news_encoder                           | TimeDistributed  | 3.2 M  | train\n",
      "1  | user_encoder                           | UserEncoder      | 421 K  | train\n",
      "2  | val_performance_metrics                | MetricCollection | 0      | train\n",
      "3  | val_sentiment_diversity_metrics_vader  | MetricCollection | 0      | train\n",
      "4  | val_sentiment_diversity_metrics_bert   | MetricCollection | 0      | train\n",
      "5  | test_performance_metrics               | MetricCollection | 0      | train\n",
      "6  | test_sentiment_diversity_metrics_vader | MetricCollection | 0      | train\n",
      "7  | test_sentiment_diversity_metrics_bert  | MetricCollection | 0      | train\n",
      "8  | test_topic_diversity_metrics           | MetricCollection | 0      | train\n",
      "9  | test_ils_senti_metrics_vader           | MetricCollection | 0      | train\n",
      "10 | test_ils_senti_metrics_bert            | MetricCollection | 0      | train\n",
      "11 | test_ils_topic_metrics                 | MetricCollection | 0      | train\n",
      "-------------------------------------------------------------------------------------\n",
      "3.7 M     Trainable params\n",
      "0         Non-trainable params\n",
      "3.7 M     Total params\n",
      "14.601    Total estimated model params size (MB)\n",
      "51        Modules in train mode\n",
      "0         Modules in eval mode\n"
     ]
    },
    {
     "name": "stdout",
     "output_type": "stream",
     "text": [
      "Epoch 0: 100%|██████████| 1/1 [00:00<00:00,  4.49it/s, v_num=exp1]         "
     ]
    },
    {
     "name": "stderr",
     "output_type": "stream",
     "text": [
      "Metric val_auc_epoch improved. New best score: 0.489\n",
      "Epoch 0, global step 1: 'val_auc_epoch' reached 0.48850 (best 0.48850), saving model to 'C:\\\\Users\\\\nclud\\\\Desktop\\\\projects\\\\python\\\\NewsRecommendation\\\\SentiRecTest\\\\project\\\\logs\\\\lightning_logs\\\\checkpoints\\\\nrms\\\\exp_manual1\\\\epoch=0-val_auc_epoch=0.4885.ckpt' as top 3\n"
     ]
    },
    {
     "name": "stdout",
     "output_type": "stream",
     "text": [
      "Epoch 1: 100%|██████████| 1/1 [00:00<00:00,  4.54it/s, v_num=exp1]"
     ]
    },
    {
     "name": "stderr",
     "output_type": "stream",
     "text": [
      "Metric val_auc_epoch improved by 0.040 >= min_delta = 0.0001. New best score: 0.528\n",
      "Epoch 1, global step 2: 'val_auc_epoch' reached 0.52816 (best 0.52816), saving model to 'C:\\\\Users\\\\nclud\\\\Desktop\\\\projects\\\\python\\\\NewsRecommendation\\\\SentiRecTest\\\\project\\\\logs\\\\lightning_logs\\\\checkpoints\\\\nrms\\\\exp_manual1\\\\epoch=1-val_auc_epoch=0.5282.ckpt' as top 3\n"
     ]
    },
    {
     "name": "stdout",
     "output_type": "stream",
     "text": [
      "Epoch 2: 100%|██████████| 1/1 [00:00<00:00,  4.90it/s, v_num=exp1]"
     ]
    },
    {
     "name": "stderr",
     "output_type": "stream",
     "text": [
      "Metric val_auc_epoch improved by 0.029 >= min_delta = 0.0001. New best score: 0.557\n",
      "Epoch 2, global step 3: 'val_auc_epoch' reached 0.55738 (best 0.55738), saving model to 'C:\\\\Users\\\\nclud\\\\Desktop\\\\projects\\\\python\\\\NewsRecommendation\\\\SentiRecTest\\\\project\\\\logs\\\\lightning_logs\\\\checkpoints\\\\nrms\\\\exp_manual1\\\\epoch=2-val_auc_epoch=0.5574.ckpt' as top 3\n"
     ]
    },
    {
     "name": "stdout",
     "output_type": "stream",
     "text": [
      "Epoch 3: 100%|██████████| 1/1 [00:00<00:00,  6.56it/s, v_num=exp1]"
     ]
    },
    {
     "name": "stderr",
     "output_type": "stream",
     "text": [
      "Metric val_auc_epoch improved by 0.005 >= min_delta = 0.0001. New best score: 0.562\n",
      "Epoch 3, global step 4: 'val_auc_epoch' reached 0.56231 (best 0.56231), saving model to 'C:\\\\Users\\\\nclud\\\\Desktop\\\\projects\\\\python\\\\NewsRecommendation\\\\SentiRecTest\\\\project\\\\logs\\\\lightning_logs\\\\checkpoints\\\\nrms\\\\exp_manual1\\\\epoch=3-val_auc_epoch=0.5623.ckpt' as top 3\n"
     ]
    },
    {
     "name": "stdout",
     "output_type": "stream",
     "text": [
      "Epoch 4: 100%|██████████| 1/1 [00:00<00:00,  6.35it/s, v_num=exp1]"
     ]
    },
    {
     "name": "stderr",
     "output_type": "stream",
     "text": [
      "Metric val_auc_epoch improved by 0.002 >= min_delta = 0.0001. New best score: 0.564\n",
      "Epoch 4, global step 5: 'val_auc_epoch' reached 0.56395 (best 0.56395), saving model to 'C:\\\\Users\\\\nclud\\\\Desktop\\\\projects\\\\python\\\\NewsRecommendation\\\\SentiRecTest\\\\project\\\\logs\\\\lightning_logs\\\\checkpoints\\\\nrms\\\\exp_manual1\\\\epoch=4-val_auc_epoch=0.5639.ckpt' as top 3\n"
     ]
    },
    {
     "name": "stdout",
     "output_type": "stream",
     "text": [
      "Epoch 5: 100%|██████████| 1/1 [00:00<00:00,  6.34it/s, v_num=exp1]"
     ]
    },
    {
     "name": "stderr",
     "output_type": "stream",
     "text": [
      "Metric val_auc_epoch improved by 0.000 >= min_delta = 0.0001. New best score: 0.564\n",
      "Epoch 5, global step 6: 'val_auc_epoch' reached 0.56436 (best 0.56436), saving model to 'C:\\\\Users\\\\nclud\\\\Desktop\\\\projects\\\\python\\\\NewsRecommendation\\\\SentiRecTest\\\\project\\\\logs\\\\lightning_logs\\\\checkpoints\\\\nrms\\\\exp_manual1\\\\epoch=5-val_auc_epoch=0.5644.ckpt' as top 3\n"
     ]
    },
    {
     "name": "stdout",
     "output_type": "stream",
     "text": [
      "Epoch 6: 100%|██████████| 1/1 [00:00<00:00,  5.59it/s, v_num=exp1]"
     ]
    },
    {
     "name": "stderr",
     "output_type": "stream",
     "text": [
      "Epoch 6, global step 7: 'val_auc_epoch' reached 0.56436 (best 0.56436), saving model to 'C:\\\\Users\\\\nclud\\\\Desktop\\\\projects\\\\python\\\\NewsRecommendation\\\\SentiRecTest\\\\project\\\\logs\\\\lightning_logs\\\\checkpoints\\\\nrms\\\\exp_manual1\\\\epoch=6-val_auc_epoch=0.5644.ckpt' as top 3\n"
     ]
    },
    {
     "name": "stdout",
     "output_type": "stream",
     "text": [
      "Epoch 7: 100%|██████████| 1/1 [00:00<00:00,  5.21it/s, v_num=exp1]"
     ]
    },
    {
     "name": "stderr",
     "output_type": "stream",
     "text": [
      "Epoch 7, global step 8: 'val_auc_epoch' was not in top 3\n"
     ]
    },
    {
     "name": "stdout",
     "output_type": "stream",
     "text": [
      "Epoch 8: 100%|██████████| 1/1 [00:00<00:00,  4.37it/s, v_num=exp1]"
     ]
    },
    {
     "name": "stderr",
     "output_type": "stream",
     "text": [
      "Epoch 8, global step 9: 'val_auc_epoch' was not in top 3\n"
     ]
    },
    {
     "name": "stdout",
     "output_type": "stream",
     "text": [
      "Epoch 9: 100%|██████████| 1/1 [00:00<00:00,  4.24it/s, v_num=exp1]"
     ]
    },
    {
     "name": "stderr",
     "output_type": "stream",
     "text": [
      "Epoch 9, global step 10: 'val_auc_epoch' was not in top 3\n"
     ]
    },
    {
     "name": "stdout",
     "output_type": "stream",
     "text": [
      "Epoch 10: 100%|██████████| 1/1 [00:00<00:00,  4.45it/s, v_num=exp1]"
     ]
    },
    {
     "name": "stderr",
     "output_type": "stream",
     "text": [
      "Metric val_auc_epoch improved by 0.005 >= min_delta = 0.0001. New best score: 0.570\n",
      "Epoch 10, global step 11: 'val_auc_epoch' reached 0.56973 (best 0.56973), saving model to 'C:\\\\Users\\\\nclud\\\\Desktop\\\\projects\\\\python\\\\NewsRecommendation\\\\SentiRecTest\\\\project\\\\logs\\\\lightning_logs\\\\checkpoints\\\\nrms\\\\exp_manual1\\\\epoch=10-val_auc_epoch=0.5697.ckpt' as top 3\n"
     ]
    },
    {
     "name": "stdout",
     "output_type": "stream",
     "text": [
      "Epoch 11: 100%|██████████| 1/1 [00:00<00:00,  4.30it/s, v_num=exp1]"
     ]
    },
    {
     "name": "stderr",
     "output_type": "stream",
     "text": [
      "Epoch 11, global step 12: 'val_auc_epoch' reached 0.56728 (best 0.56973), saving model to 'C:\\\\Users\\\\nclud\\\\Desktop\\\\projects\\\\python\\\\NewsRecommendation\\\\SentiRecTest\\\\project\\\\logs\\\\lightning_logs\\\\checkpoints\\\\nrms\\\\exp_manual1\\\\epoch=11-val_auc_epoch=0.5673.ckpt' as top 3\n"
     ]
    },
    {
     "name": "stdout",
     "output_type": "stream",
     "text": [
      "Epoch 12: 100%|██████████| 1/1 [00:00<00:00,  4.49it/s, v_num=exp1]"
     ]
    },
    {
     "name": "stderr",
     "output_type": "stream",
     "text": [
      "Epoch 12, global step 13: 'val_auc_epoch' was not in top 3\n"
     ]
    },
    {
     "name": "stdout",
     "output_type": "stream",
     "text": [
      "Epoch 13: 100%|██████████| 1/1 [00:00<00:00,  7.04it/s, v_num=exp1]"
     ]
    },
    {
     "name": "stderr",
     "output_type": "stream",
     "text": [
      "Epoch 13, global step 14: 'val_auc_epoch' was not in top 3\n"
     ]
    },
    {
     "name": "stdout",
     "output_type": "stream",
     "text": [
      "Epoch 14: 100%|██████████| 1/1 [00:00<00:00,  6.87it/s, v_num=exp1]"
     ]
    },
    {
     "name": "stderr",
     "output_type": "stream",
     "text": [
      "Epoch 14, global step 15: 'val_auc_epoch' was not in top 3\n"
     ]
    },
    {
     "name": "stdout",
     "output_type": "stream",
     "text": [
      "Epoch 15: 100%|██████████| 1/1 [00:00<00:00,  5.41it/s, v_num=exp1]"
     ]
    },
    {
     "name": "stderr",
     "output_type": "stream",
     "text": [
      "Monitored metric val_auc_epoch did not improve in the last 5 records. Best score: 0.570. Signaling Trainer to stop.\n",
      "Epoch 15, global step 16: 'val_auc_epoch' was not in top 3\n"
     ]
    },
    {
     "name": "stdout",
     "output_type": "stream",
     "text": [
      "Epoch 15: 100%|██████████| 1/1 [00:00<00:00,  2.92it/s, v_num=exp1]\n"
     ]
    },
    {
     "name": "stderr",
     "output_type": "stream",
     "text": [
      "Seed set to 1234\n",
      "100%|██████████| 9357/9357 [00:00<00:00, 13351.52it/s]\n",
      "100%|██████████| 443/443 [00:00<00:00, 15958.88it/s]\n",
      "100%|██████████| 5/5 [00:00<00:00, 1063.14it/s]\n",
      "GPU available: True (cuda), used: True\n",
      "TPU available: False, using: 0 TPU cores\n",
      "HPU available: False, using: 0 HPUs\n",
      "LOCAL_RANK: 0 - CUDA_VISIBLE_DEVICES: [0]\n",
      "c:\\Users\\nclud\\anaconda3\\envs\\newsrec\\lib\\site-packages\\pytorch_lightning\\trainer\\connectors\\data_connector.py:425: The 'test_dataloader' does not have many workers which may be a bottleneck. Consider increasing the value of the `num_workers` argument` to `num_workers=15` in the `DataLoader` to improve performance.\n"
     ]
    },
    {
     "name": "stdout",
     "output_type": "stream",
     "text": [
      "Testing DataLoader 0: 100%|██████████| 5/5 [00:00<00:00, 14.06it/s]"
     ]
    },
    {
     "name": "stderr",
     "output_type": "stream",
     "text": [
      "Seed set to 1234\n"
     ]
    },
    {
     "name": "stdout",
     "output_type": "stream",
     "text": [
      "\n",
      "────────────────────────────────────────────────────────────────────────────────────────────────────────────────────────\n",
      "         Test metric                 DataLoader 0\n",
      "────────────────────────────────────────────────────────────────────────────────────────────────────────────────────────\n",
      "       test_auc_epoch             0.43611764907836914\n",
      "test_ils_senti@10_bert_epoch      0.49263468384742737\n",
      "test_ils_senti@10_vader_epoch     0.24409320950508118\n",
      " test_ils_senti@5_bert_epoch      0.42856281995773315\n",
      "test_ils_senti@5_vader_epoch      0.24228398501873016\n",
      "   test_ils_topic@10_epoch        0.0520634762942791\n",
      "   test_ils_topic@5_epoch         0.03999999910593033\n",
      "       test_mrr_epoch             0.2963021695613861\n",
      "     test_ndcg@10_epoch           0.2977900505065918\n",
      "      test_ndcg@5_epoch           0.2773705720901489\n",
      "  test_senti@10_bert_epoch        0.2994200885295868\n",
      "  test_senti@10_vader_epoch      0.035619162023067474\n",
      "   test_senti@5_bert_epoch        0.4262292981147766\n",
      "  test_senti@5_vader_epoch        0.05849367380142212\n",
      "  test_senti_mrr_bert_epoch       0.2777943015098572\n",
      " test_senti_mrr_vader_epoch      0.030252184718847275\n",
      "   test_topic_div@10_epoch        0.5220156311988831\n",
      "   test_topic_div@5_epoch         0.4712398648262024\n",
      "    test_topic_mrr_epoch          0.5294783711433411\n",
      "────────────────────────────────────────────────────────────────────────────────────────────────────────────────────────\n"
     ]
    },
    {
     "name": "stderr",
     "output_type": "stream",
     "text": [
      "100%|██████████| 9357/9357 [00:00<00:00, 10714.46it/s]\n",
      "100%|██████████| 443/443 [00:00<00:00, 18602.90it/s]\n",
      "100%|██████████| 5/5 [00:00<00:00, 1540.32it/s]\n",
      "GPU available: True (cuda), used: True\n",
      "TPU available: False, using: 0 TPU cores\n",
      "HPU available: False, using: 0 HPUs\n",
      "LOCAL_RANK: 0 - CUDA_VISIBLE_DEVICES: [0]\n"
     ]
    },
    {
     "name": "stdout",
     "output_type": "stream",
     "text": [
      "Testing DataLoader 0: 100%|██████████| 5/5 [00:00<00:00, 15.78it/s]\n",
      "────────────────────────────────────────────────────────────────────────────────────────────────────────────────────────\n",
      "         Test metric                 DataLoader 0\n",
      "────────────────────────────────────────────────────────────────────────────────────────────────────────────────────────\n",
      "       test_auc_epoch             0.4412604868412018\n",
      "test_ils_senti@10_bert_epoch      0.47523069381713867\n",
      "test_ils_senti@10_vader_epoch     0.24721188843250275\n",
      " test_ils_senti@5_bert_epoch      0.42856281995773315\n",
      "test_ils_senti@5_vader_epoch      0.24228398501873016\n",
      "   test_ils_topic@10_epoch        0.05428571254014969\n",
      "   test_ils_topic@5_epoch         0.03999999910593033\n",
      "       test_mrr_epoch             0.29687079787254333\n",
      "     test_ndcg@10_epoch           0.2977900505065918\n",
      "      test_ndcg@5_epoch           0.2773705720901489\n",
      "  test_senti@10_bert_epoch        0.41733941435813904\n",
      "  test_senti@10_vader_epoch       0.06377649307250977\n",
      "   test_senti@5_bert_epoch         0.426229327917099\n",
      "  test_senti@5_vader_epoch        0.05849366635084152\n",
      "  test_senti_mrr_bert_epoch       0.25189530849456787\n",
      " test_senti_mrr_vader_epoch      0.038987137377262115\n",
      "   test_topic_div@10_epoch        0.5598884224891663\n",
      "   test_topic_div@5_epoch         0.4712398648262024\n",
      "    test_topic_mrr_epoch          0.5397750735282898\n",
      "────────────────────────────────────────────────────────────────────────────────────────────────────────────────────────\n"
     ]
    }
   ],
   "source": [
    "test_results = model_manager.train_test_all()"
   ]
  },
  {
   "cell_type": "markdown",
   "metadata": {},
   "source": [
    "## 3. Visualizations"
   ]
  },
  {
   "cell_type": "code",
   "execution_count": 5,
   "metadata": {},
   "outputs": [
    {
     "data": {
      "text/html": [
       "<div>\n",
       "<style scoped>\n",
       "    .dataframe tbody tr th:only-of-type {\n",
       "        vertical-align: middle;\n",
       "    }\n",
       "\n",
       "    .dataframe tbody tr th {\n",
       "        vertical-align: top;\n",
       "    }\n",
       "\n",
       "    .dataframe thead th {\n",
       "        text-align: right;\n",
       "    }\n",
       "</style>\n",
       "<table border=\"1\" class=\"dataframe\">\n",
       "  <thead>\n",
       "    <tr style=\"text-align: right;\">\n",
       "      <th></th>\n",
       "      <th>sentirec#vader_manual1</th>\n",
       "      <th>nrms#exp1</th>\n",
       "    </tr>\n",
       "  </thead>\n",
       "  <tbody>\n",
       "    <tr>\n",
       "      <th>test_auc_epoch</th>\n",
       "      <td>0.436118</td>\n",
       "      <td>0.441260</td>\n",
       "    </tr>\n",
       "    <tr>\n",
       "      <th>test_mrr_epoch</th>\n",
       "      <td>0.296302</td>\n",
       "      <td>0.296871</td>\n",
       "    </tr>\n",
       "    <tr>\n",
       "      <th>test_ndcg@10_epoch</th>\n",
       "      <td>0.297790</td>\n",
       "      <td>0.297790</td>\n",
       "    </tr>\n",
       "    <tr>\n",
       "      <th>test_ndcg@5_epoch</th>\n",
       "      <td>0.277371</td>\n",
       "      <td>0.277371</td>\n",
       "    </tr>\n",
       "    <tr>\n",
       "      <th>test_senti@10_vader_epoch</th>\n",
       "      <td>0.035619</td>\n",
       "      <td>0.063776</td>\n",
       "    </tr>\n",
       "    <tr>\n",
       "      <th>test_senti@5_vader_epoch</th>\n",
       "      <td>0.058494</td>\n",
       "      <td>0.058494</td>\n",
       "    </tr>\n",
       "    <tr>\n",
       "      <th>test_senti_mrr_vader_epoch</th>\n",
       "      <td>0.030252</td>\n",
       "      <td>0.038987</td>\n",
       "    </tr>\n",
       "    <tr>\n",
       "      <th>test_senti@10_bert_epoch</th>\n",
       "      <td>0.299420</td>\n",
       "      <td>0.417339</td>\n",
       "    </tr>\n",
       "    <tr>\n",
       "      <th>test_senti@5_bert_epoch</th>\n",
       "      <td>0.426229</td>\n",
       "      <td>0.426229</td>\n",
       "    </tr>\n",
       "    <tr>\n",
       "      <th>test_senti_mrr_bert_epoch</th>\n",
       "      <td>0.277794</td>\n",
       "      <td>0.251895</td>\n",
       "    </tr>\n",
       "    <tr>\n",
       "      <th>test_topic_div@10_epoch</th>\n",
       "      <td>0.522016</td>\n",
       "      <td>0.559888</td>\n",
       "    </tr>\n",
       "    <tr>\n",
       "      <th>test_topic_div@5_epoch</th>\n",
       "      <td>0.471240</td>\n",
       "      <td>0.471240</td>\n",
       "    </tr>\n",
       "    <tr>\n",
       "      <th>test_topic_mrr_epoch</th>\n",
       "      <td>0.529478</td>\n",
       "      <td>0.539775</td>\n",
       "    </tr>\n",
       "    <tr>\n",
       "      <th>test_ils_senti@10_vader_epoch</th>\n",
       "      <td>0.244093</td>\n",
       "      <td>0.247212</td>\n",
       "    </tr>\n",
       "    <tr>\n",
       "      <th>test_ils_senti@5_vader_epoch</th>\n",
       "      <td>0.242284</td>\n",
       "      <td>0.242284</td>\n",
       "    </tr>\n",
       "    <tr>\n",
       "      <th>test_ils_senti@10_bert_epoch</th>\n",
       "      <td>0.492635</td>\n",
       "      <td>0.475231</td>\n",
       "    </tr>\n",
       "    <tr>\n",
       "      <th>test_ils_senti@5_bert_epoch</th>\n",
       "      <td>0.428563</td>\n",
       "      <td>0.428563</td>\n",
       "    </tr>\n",
       "    <tr>\n",
       "      <th>test_ils_topic@10_epoch</th>\n",
       "      <td>0.052063</td>\n",
       "      <td>0.054286</td>\n",
       "    </tr>\n",
       "    <tr>\n",
       "      <th>test_ils_topic@5_epoch</th>\n",
       "      <td>0.040000</td>\n",
       "      <td>0.040000</td>\n",
       "    </tr>\n",
       "  </tbody>\n",
       "</table>\n",
       "</div>"
      ],
      "text/plain": [
       "                               sentirec#vader_manual1  nrms#exp1\n",
       "test_auc_epoch                               0.436118   0.441260\n",
       "test_mrr_epoch                               0.296302   0.296871\n",
       "test_ndcg@10_epoch                           0.297790   0.297790\n",
       "test_ndcg@5_epoch                            0.277371   0.277371\n",
       "test_senti@10_vader_epoch                    0.035619   0.063776\n",
       "test_senti@5_vader_epoch                     0.058494   0.058494\n",
       "test_senti_mrr_vader_epoch                   0.030252   0.038987\n",
       "test_senti@10_bert_epoch                     0.299420   0.417339\n",
       "test_senti@5_bert_epoch                      0.426229   0.426229\n",
       "test_senti_mrr_bert_epoch                    0.277794   0.251895\n",
       "test_topic_div@10_epoch                      0.522016   0.559888\n",
       "test_topic_div@5_epoch                       0.471240   0.471240\n",
       "test_topic_mrr_epoch                         0.529478   0.539775\n",
       "test_ils_senti@10_vader_epoch                0.244093   0.247212\n",
       "test_ils_senti@5_vader_epoch                 0.242284   0.242284\n",
       "test_ils_senti@10_bert_epoch                 0.492635   0.475231\n",
       "test_ils_senti@5_bert_epoch                  0.428563   0.428563\n",
       "test_ils_topic@10_epoch                      0.052063   0.054286\n",
       "test_ils_topic@5_epoch                       0.040000   0.040000"
      ]
     },
     "execution_count": 5,
     "metadata": {},
     "output_type": "execute_result"
    }
   ],
   "source": [
    "from utils.test_metrics_viewer import TestMetricsViewer\n",
    "\n",
    "result_viewer = TestMetricsViewer(test_results)\n",
    "result_viewer.get_result_df()"
   ]
  },
  {
   "cell_type": "code",
   "execution_count": 6,
   "metadata": {},
   "outputs": [
    {
     "data": {
      "image/png": "[encoded data removed]",
      "text/plain": [
       "<Figure size 1000x600 with 1 Axes>"
      ]
     },
     "metadata": {},
     "output_type": "display_data"
    }
   ],
   "source": [
    "result_viewer.show()"
   ]
  }
 ],
 "metadata": {
  "kernelspec": {
   "display_name": "newsrec",
   "language": "python",
   "name": "python3"
  },
  "language_info": {
   "codemirror_mode": {
    "name": "ipython",
    "version": 3
   },
   "file_extension": ".py",
   "mimetype": "text/x-python",
   "name": "python",
   "nbconvert_exporter": "python",
   "pygments_lexer": "ipython3",
   "version": "3.9.21"
  }
 },
 "nbformat": 4,
 "nbformat_minor": 2
}
