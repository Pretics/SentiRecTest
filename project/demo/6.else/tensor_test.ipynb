{
 "cells": [
  {
   "cell_type": "code",
   "execution_count": null,
   "id": "41cdb2e6",
   "metadata": {},
   "outputs": [],
   "source": [
    "# jupyter notebook에서 import 해서 쓰는 모듈의 코드가 변경될 시, 변동 사항을 자동으로 반영해주는 기능\n",
    "%load_ext autoreload\n",
    "%autoreload 2"
   ]
  },
  {
   "cell_type": "code",
   "execution_count": null,
   "id": "5fd507fa",
   "metadata": {},
   "outputs": [],
   "source": [
    "import torch\n",
    "import torch.nn as nn\n",
    "import torch.nn.functional as F"
   ]
  },
  {
   "cell_type": "code",
   "execution_count": null,
   "id": "75373005",
   "metadata": {},
   "outputs": [
    {
     "name": "stdout",
     "output_type": "stream",
     "text": [
      "tensor([3.1000, 2.4000, 5.5000, 6.6000, 7.7000])\n",
      "torch.Size([5])\n",
      "torch.Size([5])\n",
      "tensor([ 6.2000,  4.8000,  0.0000, 13.2000,  0.0000])\n"
     ]
    }
   ],
   "source": [
    "print(torch.tensor([3.1, 2.4, 5.5, 6.6, 7.7]))\n",
    "print(torch.tensor([3.1, 2.4, 5.5, 6.6, 7.7]).size())\n",
    "print(torch.tensor([3.1, 2.4, 5.5, 6.6, 7.7]).shape)\n",
    "print(F.dropout(torch.tensor([3.1, 2.4, 5.5, 6.6, 7.7]), p=0.5, training=True))"
   ]
  }
 ],
 "metadata": {
  "kernelspec": {
   "display_name": "newsrec",
   "language": "python",
   "name": "python3"
  },
  "language_info": {
   "name": "python",
   "version": "3.9.21"
  }
 },
 "nbformat": 4,
 "nbformat_minor": 5
}
