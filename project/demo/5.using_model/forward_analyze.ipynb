{
 "cells": [
  {
   "cell_type": "code",
   "execution_count": null,
   "metadata": {},
   "outputs": [],
   "source": [
    "import torch\n",
    "import torch.nn as nn\n",
    "import torch.nn.functional as F\n",
    "\n",
    "# model.forward 가져오기\n",
    "def forward(news_encoder, user_encoder, batch):\n",
    "    # encode candidate news\n",
    "    candidate_news_vector = news_encoder(batch[\"c_title\"])\n",
    "    \n",
    "    # encode history \n",
    "    clicked_news_vector = news_encoder(batch[\"h_title\"])\n",
    "    # encode user\n",
    "    user_vector = user_encoder(clicked_news_vector)\n",
    "    # compute scores for each candidate news\n",
    "    clicks_score = torch.bmm(\n",
    "        candidate_news_vector,\n",
    "        user_vector.unsqueeze(dim=-1)).squeeze(dim=-1)\n",
    "    \n",
    "    return clicks_score"
   ]
  },
  {
   "cell_type": "code",
   "execution_count": null,
   "metadata": {},
   "outputs": [
    {
     "name": "stdout",
     "output_type": "stream",
     "text": [
      "tensor([3.1000, 2.4000, 5.5000, 6.6000, 7.7000])\n",
      "torch.Size([5])\n",
      "torch.Size([5])\n",
      "tensor([ 6.2000,  0.0000, 11.0000,  0.0000, 15.4000])\n"
     ]
    }
   ],
   "source": [
    "print(torch.tensor([3.1, 2.4, 5.5, 6.6, 7.7]))\n",
    "print(torch.tensor([3.1, 2.4, 5.5, 6.6, 7.7]).size())\n",
    "print(torch.tensor([3.1, 2.4, 5.5, 6.6, 7.7]).shape)\n",
    "print(F.dropout(torch.tensor([3.1, 2.4, 5.5, 6.6, 7.7]), p=0.5, training=True))"
   ]
  },
  {
   "cell_type": "code",
   "execution_count": null,
   "metadata": {},
   "outputs": [],
   "source": [
    "word_embedding = nn.Embedding.from_pretrained(\n",
    "    model_manager.pretrained_word_embedding,\n",
    "    freeze=model_manager.config.freeze_word_embeddings,\n",
    "    padding_idx=0)"
   ]
  },
  {
   "cell_type": "code",
   "execution_count": null,
   "metadata": {},
   "outputs": [],
   "source": [
    "word_embedding(torch.tensor([0]))"
   ]
  },
  {
   "cell_type": "code",
   "execution_count": null,
   "metadata": {},
   "outputs": [
    {
     "data": {
      "text/plain": [
       "tensor([[  2.4618,   0.8308, -17.1481, -12.9286, -29.9921,  -8.5086,  -9.3151,\n",
       "         -24.2817,  21.9645,  -3.8677,  -8.9765,   0.3124, -12.9673, -12.2673,\n",
       "         -11.0726, -10.6365,   0.1682,   7.6042,  -6.0632, -13.7158,  14.3706,\n",
       "          21.6398,  13.3914,   3.2512,  -8.1647,  -5.4390,   4.4983,  -0.6794]],\n",
       "       device='cuda:0', grad_fn=<SqueezeBackward1>)"
      ]
     },
     "metadata": {},
     "output_type": "display_data"
    }
   ],
   "source": [
    "news_encoder = model_manager.model.news_encoder\n",
    "user_encoder = model_manager.model.user_encoder\n",
    "\n",
    "forward(news_encoder, user_encoder, batch_data)"
   ]
  },
  {
   "cell_type": "code",
   "execution_count": null,
   "metadata": {},
   "outputs": [],
   "source": [
    "# encode candidate news\n",
    "candidate_news_vector = news_encoder(batch_data[\"c_title\"])\n",
    "\n",
    "# encode history \n",
    "clicked_news_vector = news_encoder(batch_data[\"h_title\"])\n",
    "# encode user\n",
    "user_vector = user_encoder(clicked_news_vector)\n",
    "\n",
    "clicks_score = torch.bmm(\n",
    "        candidate_news_vector,\n",
    "        user_vector.unsqueeze(dim=-1)).squeeze(dim=-1)"
   ]
  },
  {
   "cell_type": "code",
   "execution_count": null,
   "metadata": {},
   "outputs": [
    {
     "name": "stdout",
     "output_type": "stream",
     "text": [
      "torch.Size([1, 28, 300])\n",
      "torch.Size([1, 50, 300])\n",
      "torch.Size([1, 300])\n",
      "torch.Size([1, 300, 1])\n",
      "torch.Size([1, 28, 1])\n",
      "torch.Size([1, 28])\n"
     ]
    }
   ],
   "source": [
    "print(candidate_news_vector.shape)\n",
    "print(clicked_news_vector.shape)\n",
    "print(user_vector.shape)\n",
    "print(user_vector.unsqueeze(dim=-1).shape)\n",
    "print(torch.bmm(\n",
    "        candidate_news_vector,\n",
    "        user_vector.unsqueeze(dim=-1)).shape)\n",
    "print(clicks_score.shape)"
   ]
  },
  {
   "cell_type": "code",
   "execution_count": null,
   "metadata": {},
   "outputs": [
    {
     "data": {
      "text/plain": [
       "tensor([[  2.4618,   0.8308, -17.1481, -12.9286, -29.9921,  -8.5086,  -9.3151,\n",
       "         -24.2817,  21.9645,  -3.8677,  -8.9765,   0.3124, -12.9673, -12.2673,\n",
       "         -11.0726, -10.6365,   0.1682,   7.6042,  -6.0632, -13.7158,  14.3706,\n",
       "          21.6398,  13.3914,   3.2512,  -8.1647,  -5.4390,   4.4983,  -0.6794]],\n",
       "       device='cuda:0', grad_fn=<SqueezeBackward1>)"
      ]
     },
     "metadata": {},
     "output_type": "display_data"
    }
   ],
   "source": [
    "torch.bmm(\n",
    "        candidate_news_vector,\n",
    "        user_vector.unsqueeze(dim=-1)).squeeze(-1)"
   ]
  }
 ],
 "metadata": {
  "kernelspec": {
   "display_name": "newsrec",
   "language": "python",
   "name": "python3"
  },
  "language_info": {
   "name": "python",
   "version": "3.9.21"
  }
 },
 "nbformat": 4,
 "nbformat_minor": 2
}
