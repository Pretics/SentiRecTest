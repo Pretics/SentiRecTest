{
 "cells": [
  {
   "cell_type": "markdown",
   "metadata": {},
   "source": [
    "forward 함수가 특정 데이터 구조에 의존하는 문제를 해결하기 위해 작동 방식을 분석해보는 파일입니다."
   ]
  },
  {
   "cell_type": "markdown",
   "metadata": {},
   "source": [
    "## 0. forward 함수의 구조"
   ]
  },
  {
   "cell_type": "code",
   "execution_count": 1,
   "metadata": {},
   "outputs": [],
   "source": [
    "# jupyter notebook에서 import 해서 쓰는 모듈의 코드가 변경될 시, 변동 사항을 자동으로 반영해주는 기능 켜기\n",
    "%load_ext autoreload\n",
    "%autoreload 2"
   ]
  },
  {
   "cell_type": "code",
   "execution_count": 2,
   "metadata": {},
   "outputs": [],
   "source": [
    "import os\n",
    "from os import path\n",
    "import sys\n",
    "\n",
    "PROJECT_DIR = path.abspath(path.join(os.getcwd(), \"..\", \"..\"))\n",
    "sys.path.append(PROJECT_DIR)\n",
    "\n",
    "import torch\n",
    "import torch.nn as nn\n",
    "from torch import Tensor\n",
    "from utils.news_viewer import NewsViewer\n",
    "\n",
    "\n",
    "# model.forward 가져와보기\n",
    "def forward(batch, news_encoder, user_encoder):\n",
    "    # encode candidate news\n",
    "    candidate_news_vector = news_encoder(batch[\"c_title\"])\n",
    "    # encode history \n",
    "    clicked_news_vector = news_encoder(batch[\"h_title\"])\n",
    "    # encode user\n",
    "    user_vector = user_encoder(clicked_news_vector)\n",
    "    # compute scores for each candidate news\n",
    "    clicks_score = torch.bmm(\n",
    "        candidate_news_vector,\n",
    "        user_vector.unsqueeze(dim=-1)).squeeze(dim=-1)\n",
    "    \n",
    "    return clicks_score"
   ]
  },
  {
   "cell_type": "code",
   "execution_count": 3,
   "metadata": {},
   "outputs": [],
   "source": [
    "news_viewer = NewsViewer(\n",
    "    path.join(PROJECT_DIR, \"data\", \"MIND\", \"demo\", \"test\", \"news.tsv\"),\n",
    "    path.join(PROJECT_DIR, \"data\", \"preprocessed_data\", \"demo\", \"test\", \"news2int.tsv\")\n",
    ")"
   ]
  },
  {
   "cell_type": "code",
   "execution_count": 5,
   "metadata": {},
   "outputs": [
    {
     "data": {
      "text/html": [
       "<div>\n",
       "<style scoped>\n",
       "    .dataframe tbody tr th:only-of-type {\n",
       "        vertical-align: middle;\n",
       "    }\n",
       "\n",
       "    .dataframe tbody tr th {\n",
       "        vertical-align: top;\n",
       "    }\n",
       "\n",
       "    .dataframe thead th {\n",
       "        text-align: right;\n",
       "    }\n",
       "</style>\n",
       "<table border=\"1\" class=\"dataframe\">\n",
       "  <thead>\n",
       "    <tr style=\"text-align: right;\">\n",
       "      <th></th>\n",
       "      <th>category</th>\n",
       "      <th>subcategory</th>\n",
       "      <th>title</th>\n",
       "      <th>abstract</th>\n",
       "      <th>url</th>\n",
       "      <th>title_entities</th>\n",
       "      <th>abstract_entities</th>\n",
       "    </tr>\n",
       "    <tr>\n",
       "      <th>news_id</th>\n",
       "      <th></th>\n",
       "      <th></th>\n",
       "      <th></th>\n",
       "      <th></th>\n",
       "      <th></th>\n",
       "      <th></th>\n",
       "      <th></th>\n",
       "    </tr>\n",
       "  </thead>\n",
       "  <tbody>\n",
       "    <tr>\n",
       "      <th>N3112</th>\n",
       "      <td>lifestyle</td>\n",
       "      <td>lifestyleroyals</td>\n",
       "      <td>The Brands Queen Elizabeth, Prince Charles, an...</td>\n",
       "      <td>Shop the notebooks, jackets, and more that the...</td>\n",
       "      <td>https://www.msn.com/en-us/lifestyle/lifestyler...</td>\n",
       "      <td>[{\"Label\": \"Prince Philip, Duke of Edinburgh\",...</td>\n",
       "      <td>[]</td>\n",
       "    </tr>\n",
       "    <tr>\n",
       "      <th>N10399</th>\n",
       "      <td>news</td>\n",
       "      <td>newsworld</td>\n",
       "      <td>The Cost of Trump's Aid Freeze in the Trenches...</td>\n",
       "      <td>Lt. Ivan Molchanets peeked over a parapet of s...</td>\n",
       "      <td>https://www.msn.com/en-us/news/world/the-cost-...</td>\n",
       "      <td>[]</td>\n",
       "      <td>[{\"Label\": \"Ukraine\", \"Type\": \"G\", \"WikidataId...</td>\n",
       "    </tr>\n",
       "    <tr>\n",
       "      <th>N12103</th>\n",
       "      <td>health</td>\n",
       "      <td>voices</td>\n",
       "      <td>I Was An NBA Wife. Here's How It Affected My M...</td>\n",
       "      <td>I felt like I was a fraud, and being an NBA wi...</td>\n",
       "      <td>https://www.msn.com/en-us/health/voices/i-was-...</td>\n",
       "      <td>[]</td>\n",
       "      <td>[{\"Label\": \"National Basketball Association\", ...</td>\n",
       "    </tr>\n",
       "    <tr>\n",
       "      <th>N20460</th>\n",
       "      <td>health</td>\n",
       "      <td>medical</td>\n",
       "      <td>How to Get Rid of Skin Tags, According to a De...</td>\n",
       "      <td>They seem harmless, but there's a very good re...</td>\n",
       "      <td>https://www.msn.com/en-us/health/medical/how-t...</td>\n",
       "      <td>[{\"Label\": \"Skin tag\", \"Type\": \"C\", \"WikidataI...</td>\n",
       "      <td>[{\"Label\": \"Skin tag\", \"Type\": \"C\", \"WikidataI...</td>\n",
       "    </tr>\n",
       "    <tr>\n",
       "      <th>N5409</th>\n",
       "      <td>weather</td>\n",
       "      <td>weathertopstories</td>\n",
       "      <td>It's been Orlando's hottest October ever so fa...</td>\n",
       "      <td>There won't be a chill down to your bones this...</td>\n",
       "      <td>https://www.msn.com/en-us/weather/weathertopst...</td>\n",
       "      <td>[{\"Label\": \"Orlando, Florida\", \"Type\": \"G\", \"W...</td>\n",
       "      <td>[{\"Label\": \"Orlando, Florida\", \"Type\": \"G\", \"W...</td>\n",
       "    </tr>\n",
       "  </tbody>\n",
       "</table>\n",
       "</div>"
      ],
      "text/plain": [
       "          category        subcategory  \\\n",
       "news_id                                 \n",
       "N3112    lifestyle    lifestyleroyals   \n",
       "N10399        news          newsworld   \n",
       "N12103      health             voices   \n",
       "N20460      health            medical   \n",
       "N5409      weather  weathertopstories   \n",
       "\n",
       "                                                     title  \\\n",
       "news_id                                                      \n",
       "N3112    The Brands Queen Elizabeth, Prince Charles, an...   \n",
       "N10399   The Cost of Trump's Aid Freeze in the Trenches...   \n",
       "N12103   I Was An NBA Wife. Here's How It Affected My M...   \n",
       "N20460   How to Get Rid of Skin Tags, According to a De...   \n",
       "N5409    It's been Orlando's hottest October ever so fa...   \n",
       "\n",
       "                                                  abstract  \\\n",
       "news_id                                                      \n",
       "N3112    Shop the notebooks, jackets, and more that the...   \n",
       "N10399   Lt. Ivan Molchanets peeked over a parapet of s...   \n",
       "N12103   I felt like I was a fraud, and being an NBA wi...   \n",
       "N20460   They seem harmless, but there's a very good re...   \n",
       "N5409    There won't be a chill down to your bones this...   \n",
       "\n",
       "                                                       url  \\\n",
       "news_id                                                      \n",
       "N3112    https://www.msn.com/en-us/lifestyle/lifestyler...   \n",
       "N10399   https://www.msn.com/en-us/news/world/the-cost-...   \n",
       "N12103   https://www.msn.com/en-us/health/voices/i-was-...   \n",
       "N20460   https://www.msn.com/en-us/health/medical/how-t...   \n",
       "N5409    https://www.msn.com/en-us/weather/weathertopst...   \n",
       "\n",
       "                                            title_entities  \\\n",
       "news_id                                                      \n",
       "N3112    [{\"Label\": \"Prince Philip, Duke of Edinburgh\",...   \n",
       "N10399                                                  []   \n",
       "N12103                                                  []   \n",
       "N20460   [{\"Label\": \"Skin tag\", \"Type\": \"C\", \"WikidataI...   \n",
       "N5409    [{\"Label\": \"Orlando, Florida\", \"Type\": \"G\", \"W...   \n",
       "\n",
       "                                         abstract_entities  \n",
       "news_id                                                     \n",
       "N3112                                                   []  \n",
       "N10399   [{\"Label\": \"Ukraine\", \"Type\": \"G\", \"WikidataId...  \n",
       "N12103   [{\"Label\": \"National Basketball Association\", ...  \n",
       "N20460   [{\"Label\": \"Skin tag\", \"Type\": \"C\", \"WikidataI...  \n",
       "N5409    [{\"Label\": \"Orlando, Florida\", \"Type\": \"G\", \"W...  "
      ]
     },
     "execution_count": 5,
     "metadata": {},
     "output_type": "execute_result"
    }
   ],
   "source": [
    "news_viewer.news.head()"
   ]
  },
  {
   "cell_type": "code",
   "execution_count": 6,
   "metadata": {},
   "outputs": [
    {
     "data": {
      "text/html": [
       "<div>\n",
       "<style scoped>\n",
       "    .dataframe tbody tr th:only-of-type {\n",
       "        vertical-align: middle;\n",
       "    }\n",
       "\n",
       "    .dataframe tbody tr th {\n",
       "        vertical-align: top;\n",
       "    }\n",
       "\n",
       "    .dataframe thead th {\n",
       "        text-align: right;\n",
       "    }\n",
       "</style>\n",
       "<table border=\"1\" class=\"dataframe\">\n",
       "  <thead>\n",
       "    <tr style=\"text-align: right;\">\n",
       "      <th></th>\n",
       "      <th>news_id</th>\n",
       "    </tr>\n",
       "    <tr>\n",
       "      <th>news_index</th>\n",
       "      <th></th>\n",
       "    </tr>\n",
       "  </thead>\n",
       "  <tbody>\n",
       "    <tr>\n",
       "      <th>1</th>\n",
       "      <td>N3112</td>\n",
       "    </tr>\n",
       "    <tr>\n",
       "      <th>2</th>\n",
       "      <td>N10399</td>\n",
       "    </tr>\n",
       "    <tr>\n",
       "      <th>3</th>\n",
       "      <td>N12103</td>\n",
       "    </tr>\n",
       "    <tr>\n",
       "      <th>4</th>\n",
       "      <td>N20460</td>\n",
       "    </tr>\n",
       "    <tr>\n",
       "      <th>5</th>\n",
       "      <td>N5409</td>\n",
       "    </tr>\n",
       "  </tbody>\n",
       "</table>\n",
       "</div>"
      ],
      "text/plain": [
       "           news_id\n",
       "news_index        \n",
       "1            N3112\n",
       "2           N10399\n",
       "3           N12103\n",
       "4           N20460\n",
       "5            N5409"
      ]
     },
     "execution_count": 6,
     "metadata": {},
     "output_type": "execute_result"
    }
   ],
   "source": [
    "news_viewer.news2int.head()"
   ]
  },
  {
   "cell_type": "code",
   "execution_count": 13,
   "metadata": {},
   "outputs": [
    {
     "name": "stdout",
     "output_type": "stream",
     "text": [
      "News ID: N23737\n",
      "Category: finance\n",
      "SubCategory: financenews\n",
      "Title: Colorado Cold Sends New Zealand Family To Goodwill: 'It Was, Like, Freezing'\n",
      "Abstract: Snow and frigid temperatures in Colorado have made Goodwill Industries of Denver a busy place.\n"
     ]
    }
   ],
   "source": [
    "news_viewer.show_news_by_index(10000)"
   ]
  },
  {
   "cell_type": "code",
   "execution_count": 14,
   "metadata": {},
   "outputs": [
    {
     "data": {
      "text/plain": [
       "{'news_index': 10000,\n",
       " 'news_id': 'N23737',\n",
       " 'category': 'finance',\n",
       " 'subcategory': 'financenews',\n",
       " 'title': 'finance',\n",
       " 'abstract': 'Snow and frigid temperatures in Colorado have made Goodwill Industries of Denver a busy place.'}"
      ]
     },
     "execution_count": 14,
     "metadata": {},
     "output_type": "execute_result"
    }
   ],
   "source": [
    "news_viewer.get_news_by_index(10000)"
   ]
  },
  {
   "cell_type": "markdown",
   "metadata": {},
   "source": [
    "## 1. 테스트에 쓸 모델 불러오기"
   ]
  },
  {
   "cell_type": "code",
   "execution_count": 15,
   "metadata": {},
   "outputs": [
    {
     "name": "stderr",
     "output_type": "stream",
     "text": [
      "c:\\Users\\USER\\anaconda3\\envs\\newsrec\\lib\\site-packages\\tqdm\\auto.py:21: TqdmWarning: IProgress not found. Please update jupyter and ipywidgets. See https://ipywidgets.readthedocs.io/en/stable/user_install.html\n",
      "  from .autonotebook import tqdm as notebook_tqdm\n",
      "Seed set to 1234\n",
      "100%|██████████| 42561/42561 [00:01<00:00, 22239.47it/s]\n",
      "100%|██████████| 18723/18723 [00:04<00:00, 4320.61it/s]\n",
      "100%|██████████| 7538/7538 [00:06<00:00, 1217.82it/s]\n",
      "GPU available: True (cuda), used: True\n",
      "TPU available: False, using: 0 TPU cores\n",
      "HPU available: False, using: 0 HPUs\n"
     ]
    }
   ],
   "source": [
    "from utils.model_manager import ModelManager\n",
    "from utils.base_manager import ManagerArgs\n",
    "\n",
    "args = ManagerArgs(\n",
    "    config_path = path.join(PROJECT_DIR, \"config/model/nrms/exp_demo1.yaml\"),\n",
    "    test_ckpt_path = path.join(PROJECT_DIR, \"logs/lightning_logs/checkpoints/nrms/exp_demo1/epoch=24-val_auc_epoch=0.6996.ckpt\")\n",
    ")\n",
    "model_manager = ModelManager(PROJECT_DIR, args, \"test\")"
   ]
  },
  {
   "cell_type": "code",
   "execution_count": 16,
   "metadata": {},
   "outputs": [
    {
     "name": "stdout",
     "output_type": "stream",
     "text": [
      "<class 'dict'>\n",
      "{\n",
      "\tuser:\ttype=Tensor, shape=(1,), inner_type=int\n",
      "\th_idxs:\ttype=Tensor, shape=(1, 50), inner_type=list[int]\n",
      "\th_title:\ttype=Tensor, shape=(1, 50, 20), inner_type=list[list[int]]\n",
      "\th_abstract:\ttype=Tensor, shape=(1, 50, 50), inner_type=list[list[int]]\n",
      "\th_category:\ttype=Tensor, shape=(1, 50), inner_type=list[int]\n",
      "\th_subcategory:\ttype=Tensor, shape=(1, 50), inner_type=list[int]\n",
      "\th_vader_sentiment:\ttype=Tensor, shape=(1, 50), inner_type=list[float]\n",
      "\th_bert_sentiment:\ttype=Tensor, shape=(1, 50), inner_type=list[float]\n",
      "\thistory_length:\ttype=Tensor, shape=(1,), inner_type=int\n",
      "\tc_idxs:\ttype=Tensor, shape=(1, 28), inner_type=list[int]\n",
      "\tc_title:\ttype=Tensor, shape=(1, 28, 20), inner_type=list[list[int]]\n",
      "\tc_abstract:\ttype=Tensor, shape=(1, 28, 50), inner_type=list[list[int]]\n",
      "\tc_category:\ttype=Tensor, shape=(1, 28), inner_type=list[int]\n",
      "\tc_subcategory:\ttype=Tensor, shape=(1, 28), inner_type=list[int]\n",
      "\tc_vader_sentiment:\ttype=Tensor, shape=(1, 28), inner_type=list[float]\n",
      "\tc_bert_sentiment:\ttype=Tensor, shape=(1, 28), inner_type=list[float]\n",
      "\tlabels:\ttype=Tensor, shape=(1, 28), inner_type=list[int]\n",
      "}\n"
     ]
    }
   ],
   "source": [
    "batch_data = model_manager.get_batch_from_dataloader(0)\n",
    "model_manager.show_batch_struct(batch_data)"
   ]
  },
  {
   "cell_type": "markdown",
   "metadata": {},
   "source": [
    "## 현재까지 word embedding 레이어에 대해 알아낸 내용\n",
    "1. nn.Embedding.from_pretrained() 함수는 모델의 word embedding 레이어를 생성한다.<br/>\n",
    "2. 해당 레이어는 `freeze: bool` param에 따라 학습 대상에 포함시킬 수 있다.<br/>\n",
    "    포함될 경우, 임베딩 레이어는 모델 학습시 가중치 업데이트의 대상이 된다.(즉 fine tuning을 진행한다.)<br/>\n",
    "3. 여기서 말하는 가중치(weights)는 embeddings 인자로 넘겨준 pretrained_word_embedding에 저장된 모든 임베딩 벡터이다.<br/>\n",
    "    (실제로 불러온 모든 임베딩 벡터는 word_embedding.weight를 통해 출력해볼 수 있다.)<br/>\n",
    "    즉 from_pretrained()를 쓸 경우, 임베딩 레이어를 사전 학습된 임베딩 테이블을 기반으로 생성한 후 현재 모델에 맞게 fine tuning을 진행하는 것이다.<br/>\n",
    "    -> 여기서 임베딩 벡터를 embedding weights라고 부르는 이유를 알 수 있는데, 실제로 모든 임베딩 벡터가 해당 레이어의 가중치(weights)이기 때문이다.<br/>\n",
    "4. 따라서 ckpt파일을 생성할 때, 모든 임베딩 벡터 또한 해당 파일에 저장된다.<br/>\n",
    "    즉 임베딩 벡터를 과도하게 불러올 시 모델이 상당히 무거워질 수 있다.<br/>\n",
    "5. 여기서 알 수 있듯 임베딩 벡터는 임베딩 레이어에서 미리 저장된 내용을 꺼내오는 것에 불과하므로, 신규 뉴스 데이터에 새로운 토큰이 등장할 경우 해당 뉴스를 그냥 쓸 수는 없고 해당 토큰의 임베딩 가중치를 레이어에 추가해 줘야 한다.<br/>\n",
    "    -> 물론 현재 레이어의 임베딩 벡터는 fine tune이 진행된 상태이기 때문에 기존의 임베딩 벡터와 의미 상의 호환이 잘 안될 가능성이 있지만, 신규 뉴스를 추천해주지 못하는 것 보다는 훨씬 나을 것이다.<br/>\n",
    "6. 실제 서비스 상황에서는 신규 뉴스 데이터를 포함시켜서 모델을 일정 주기로 재학습시켜 업데이트할 것이므로, 5번 내용은 업데이트 사이의 땜빵용으로 쓰일 수도 있을 것이다."
   ]
  },
  {
   "cell_type": "code",
   "execution_count": 17,
   "metadata": {},
   "outputs": [],
   "source": [
    "\"\"\"\n",
    "nn.embedding 레이어는 복수의 인덱스를 넣어 동시에 임베딩 벡터로 변환할 수 있습니다.\n",
    "즉 아래와 같습니다.\n",
    "(embedding_dim == 임베딩 벡터 길이)\n",
    "\n",
    "1. 특정 인덱스의 임베딩 벡터 뽑기 (단일 title)\n",
    "embedding(torch.tensor([2, 5, 7])) -> 입력의 shape는 (3)\n",
    "출력 형태: (3, embedding_dim)\n",
    "\n",
    "2. 여러 특정 인덱스의 임베딩 벡터 뽑기 (단일 history)\n",
    "embedding(torch.tensor([[2, 5, 7], [3, 6, 8]])) -> 입력의 shape는 (2, 3)\n",
    "출력 형태: (2, 3, embedding_dim)\n",
    "\"\"\"\n",
    "\n",
    "word_embedding = nn.Embedding.from_pretrained(\n",
    "    model_manager.pretrained_word_embedding,\n",
    "    freeze=model_manager.config.freeze_word_embeddings,\n",
    "    padding_idx=0)"
   ]
  },
  {
   "cell_type": "code",
   "execution_count": 18,
   "metadata": {},
   "outputs": [
    {
     "name": "stdout",
     "output_type": "stream",
     "text": [
      "torch.Size([42561, 300])\n",
      "torch.float32\n"
     ]
    }
   ],
   "source": [
    "print(word_embedding.weight.shape) # 크기\n",
    "print(word_embedding.weight.dtype) # 데이터 타입"
   ]
  },
  {
   "cell_type": "code",
   "execution_count": null,
   "metadata": {},
   "outputs": [],
   "source": [
    "# 1. word_embedding 레이어에서 1번 가중치를 가져옵니다.\n",
    "vec: Tensor = word_embedding(torch.tensor([1]))\n",
    "# 2. 해당 Tensor 데이터가 cpu, gpu중 어디에 있는지 확인합니다.\n",
    "# 만약 gpu에 있다면, .numpy()로 변환하기 전에 .cpu()를 통해 위치를 옮겨야 합니다. \n",
    "print(vec.device)\n",
    "# 3. 만약 해당 텐서가 파이토치의 학습 대상(vec.requires_grad == True)이라면, 변환 이전에 .detach()를 통해 해당 계산 그래프(autograd?)에서 분리해야 합니다.\n",
    "print(vec.requires_grad)\n",
    "# 4. 모든 요소를 포함한 코드\n",
    "# 해당 코드는 위의 조건에 따라 달라질 수 있습니다.\n",
    "vec.detach().cpu().numpy()"
   ]
  },
  {
   "cell_type": "code",
   "execution_count": 20,
   "metadata": {},
   "outputs": [
    {
     "data": {
      "text/plain": [
       "torch.Size([1, 300])"
      ]
     },
     "execution_count": 20,
     "metadata": {},
     "output_type": "execute_result"
    }
   ],
   "source": [
    "vec: Tensor = word_embedding(torch.tensor([1]))\n",
    "vec.shape"
   ]
  },
  {
   "cell_type": "markdown",
   "metadata": {},
   "source": [
    "## 핵심 기능 뽑아내기 \n",
    "1. 뉴스 데이터(ex. 제목, 본문)를 임베딩 벡터로 변환한다. (변환 형태는 matrix)\n",
    "2. 변환한 데이터를 통해 news vector를 생성한다.\n",
    "3. history를 news vector로 변환후, 이를 통해 user vector를 생성한다.\n",
    "4. 후보 뉴스를 변환한 news vector와 user vector의 내적을 통해 click score를 계산한다."
   ]
  },
  {
   "cell_type": "code",
   "execution_count": 26,
   "metadata": {},
   "outputs": [],
   "source": [
    "# 실험에 사용할 뉴스 데이터\n",
    "candidate_news = [\n",
    "    {\n",
    "        \"newsID\": \"N3112\",\n",
    "        \"category\": \"lifestyle\",\n",
    "        \"subcategory\": \"lifestyleroyals\",\n",
    "        \"title\": \"The Brands Queen Elizabeth, Prince Charles, and Prince Philip Swear By\",\n",
    "        \"abstract\": \"Shop the notebooks, jackets, and more that the royals can't live without.\",\n",
    "        \"label\": 1\n",
    "    },\n",
    "    {\n",
    "        \"newsID\": \"N10399\",\n",
    "        \"category\": \"news\",\n",
    "        \"subcategory\": \"newsworld\",\n",
    "        \"title\": \"The Cost of Trump's Aid Freeze in the Trenches of Ukraine's War\",\n",
    "        \"abstract\": \"Lt. Ivan Molchanets peeked over a parapet of sand bags at the front line of the war in Ukraine. Next to him was an empty helmet propped up to trick snipers, already perforated with multiple holes.\",\n",
    "        \"label\": 0\n",
    "    }\n",
    "]\n",
    "\n",
    "history_news = [\n",
    "    {\n",
    "        \"newsID\": \"N12103\",\n",
    "        \"category\": \"health\",\n",
    "        \"subcategory\": \"voices\",\n",
    "        \"title\": \"I Was An NBA Wife. Here's How It Affected My Mental Health.\",\n",
    "        \"abstract\": \"I felt like I was a fraud, and being an NBA wife didn't help that. In fact, it nearly destroyed me.\"\n",
    "    },\n",
    "    {\n",
    "        \"newsID\": \"N20460\",\n",
    "        \"category\": \"health\",\n",
    "        \"subcategory\": \"medical\",\n",
    "        \"title\": \"How to Get Rid of Skin Tags, According to a Dermatologist\",\n",
    "        \"abstract\": \"They seem harmless, but there's a very good reason you shouldn't ignore them. The post How to Get Rid of Skin Tags, According to a Dermatologist appeared first on Reader's Digest.\"\n",
    "    }\n",
    "]"
   ]
  },
  {
   "cell_type": "markdown",
   "metadata": {},
   "source": [
    "# NewsEncoder와 TimeDistributed 클래스의 동작 방식\n",
    "\n",
    "## 입력 데이터\n",
    "news encoder에 넣어줄 입력을 생성할 때 고려할 점은 다음과 같습니다.\n",
    "\n",
    "1. 값은 `Tensor` 타입입니다.\n",
    "2. 실제 모델의 레이어는 batch 형태의 데이터를 받으므로, 입력의 형식에 유의해야 합니다.\n",
    "3. 해당 `Tensor`는 모델과 같은 device에 위치해야 합니다.\n",
    "\n",
    "실제 batch의 title 데이터는 아래와 같은 형태입니다:\n",
    "\n",
    "- shape => (64, 28, 20)\n",
    "  - 64: batch size (고정)\n",
    "  - 28: 뉴스 개수 (impression마다 다름)\n",
    "  - 20: title의 token 개수 (고정)\n",
    "\n",
    "하지만 `NewsEncoder` 클래스는 하나의 데이터에 포함된 뉴스들을 벡터로 변환합니다.\n",
    "따라서 연산 최적화를 위해, 모델에서는 `news_encoder`를 여러 데이터를 한 번에 처리하는 `TimeDistributed`라는 wrapper 클래스로 감쌉니다.\n",
    "\n",
    "## TimeDistributed 클래스의 역할\n",
    "\n",
    "해당 클래스가 하는 일은 다음과 같습니다.  \n",
    "만약 shape가 (batch_num, news_num, title_idxs_num) 형태인 데이터를 받으면,  \n",
    "for문으로 하나씩 처리하는 대신 아래와 같이 진행합니다:\n",
    "\n",
    "- 1. 입력 데이터를  \n",
    "  `(batch_num * news_num, title_idxs_num)` 형태로 변환한 뒤,  \n",
    "  각 뉴스의 title 인덱스들을 `news_encoder`에 넣습니다.\n",
    "\n",
    "- 2. 이때 `title_idxs_num` 부분의 데이터는 인덱스로 표현된 title이며,  \n",
    "  이 인덱스들이 실제 `news_vector`로 인코딩됩니다.  \n",
    "  즉, 출력은 `(batch_num * news_vec_num, news_vec_dim)` 형태가 됩니다.  \n",
    "  여기서 `news_num`과 `news_vec_num`은 사실상 동일한 기준의 값(뉴스 개수)이지만,\n",
    "  `title_idxs_num`은 토큰 개수이고 `news_vec_dim`은 벡터의 차원입니다.\n",
    "\n",
    "- 3. 마지막으로 이 출력을 다시  \n",
    "  `(batch_num, news_num, news_vec_dim)` 형태로 reshape하여 최종 결과를 내보냅니다.\n",
    "\n",
    "## 이런 방식이 가능한 이유\n",
    "\n",
    "`nn.MultiheadAttention` 레이어의 입력 query는 기본적으로  \n",
    "**(L, N, E)** 형태로 요구됩니다.  \n",
    "- L = 시퀀스 길이 (토큰 개수)  \n",
    "- N = 배치 사이즈 (여기서는 뉴스 개수)  \n",
    "- E = 임베딩 차원\n",
    "\n",
    "즉, `NewsEncoder`가 받아야 하는 데이터의 구성은 (뉴스 개수, token 개수)입니다.\n",
    "\n",
    "따라서 NewsEncoder 내부의 흐름과 데이터 구조 변화는 다음과 같습니다:\n",
    "  - num_news = 뉴스 개수  \n",
    "  - seq_len = 토큰 개수  \n",
    "  - emb_dim = 임베딩 벡터 길이\n",
    "\n",
    "  1. 입력: `(num_news, seq_len)`  \n",
    "  2. 임베딩 적용: `(num_news, seq_len, emb_dim)`  \n",
    "  3. 차원 순서 변경 (permute): `(seq_len, num_news, emb_dim)`  \n",
    "  4. MultiheadAttention 적용: 출력은 다시 `(num_news, seq_len, emb_dim)`  \n",
    "  5. AdditiveAttention 적용: 최종적으로 `(num_news, news_vec_dim)`\n",
    "\n",
    "(batch_num * news_num, title_idxs_num)형태의 변환은 배치 내부의 모든 뉴스를 한 차원으로 쫙 펼쳐서 넣어준다는 뜻입니다.\n",
    "또한 MHSA와 AddictiveAttention 레이어에서는 각 뉴스에 대해 개별적으로 vector 변환을 진행하므로,  \n",
    "이런 변환 방식이 최종 결과에 영향을 미치지 않으며 더 빠릅니다."
   ]
  },
  {
   "cell_type": "code",
   "execution_count": 23,
   "metadata": {},
   "outputs": [],
   "source": [
    "from nltk.tokenize import word_tokenize\n",
    "from pandas import DataFrame\n",
    "from models.nrms import NRMS\n",
    "import pytorch_lightning as pl\n",
    "from torch.nn.utils.rnn import pad_sequence\n",
    "\n",
    "def get_news_vector(news_list: list, model: pl.LightningModule, word2int: DataFrame) -> Tensor:\n",
    "    # 모델의 device를 구합니다.\n",
    "    device = next(model.parameters()).device\n",
    "    \n",
    "    title_idxs = []\n",
    "    for news in news_list:\n",
    "        \"\"\"\n",
    "        title을 token 단위로 쪼갭니다.\n",
    "        해당 코드는 prep_news.py에 있는 PrepNews 클래스의 process_sentence() 함수에서 가져왔습니다.\n",
    "        \"\"\"\n",
    "        title_str: str = news['title']\n",
    "        title_tokens = word_tokenize(title_str.strip().lower())\n",
    "\n",
    "        idxs = []\n",
    "        for token in title_tokens:\n",
    "            idxs.append(word2int.loc[token, 'word_index'])\n",
    "        title_idxs.append(torch.tensor(idxs, device=device))\n",
    "\n",
    "    # Tensor 변환을 위해 마지막 차원의 길이는 모두 같아야 합니다.\n",
    "    # 따라서 pad_sequence 함수를 이용해 가장 긴 길이에 맞춰 나머지에 padding을 추가합니다.\n",
    "    title_tensor = pad_sequence(title_idxs, batch_first=True, padding_value=0)\n",
    "    # Tensor의 device를 모델과 일치 시킵니다.\n",
    "    title_tensor.to(device)\n",
    "    # news vector를 얻습니다.\n",
    "    news_vector: Tensor = model.news_encoder(title_tensor)\n",
    "\n",
    "    return news_vector\n"
   ]
  },
  {
   "cell_type": "code",
   "execution_count": 24,
   "metadata": {},
   "outputs": [
    {
     "data": {
      "text/html": [
       "<div>\n",
       "<style scoped>\n",
       "    .dataframe tbody tr th:only-of-type {\n",
       "        vertical-align: middle;\n",
       "    }\n",
       "\n",
       "    .dataframe tbody tr th {\n",
       "        vertical-align: top;\n",
       "    }\n",
       "\n",
       "    .dataframe thead th {\n",
       "        text-align: right;\n",
       "    }\n",
       "</style>\n",
       "<table border=\"1\" class=\"dataframe\">\n",
       "  <thead>\n",
       "    <tr style=\"text-align: right;\">\n",
       "      <th></th>\n",
       "      <th>word_index</th>\n",
       "    </tr>\n",
       "    <tr>\n",
       "      <th>word</th>\n",
       "      <th></th>\n",
       "    </tr>\n",
       "  </thead>\n",
       "  <tbody>\n",
       "    <tr>\n",
       "      <th>the</th>\n",
       "      <td>1</td>\n",
       "    </tr>\n",
       "    <tr>\n",
       "      <th>brands</th>\n",
       "      <td>2</td>\n",
       "    </tr>\n",
       "    <tr>\n",
       "      <th>queen</th>\n",
       "      <td>3</td>\n",
       "    </tr>\n",
       "    <tr>\n",
       "      <th>elizabeth</th>\n",
       "      <td>4</td>\n",
       "    </tr>\n",
       "    <tr>\n",
       "      <th>,</th>\n",
       "      <td>5</td>\n",
       "    </tr>\n",
       "  </tbody>\n",
       "</table>\n",
       "</div>"
      ],
      "text/plain": [
       "           word_index\n",
       "word                 \n",
       "the                 1\n",
       "brands              2\n",
       "queen               3\n",
       "elizabeth           4\n",
       ",                   5"
      ]
     },
     "execution_count": 24,
     "metadata": {},
     "output_type": "execute_result"
    }
   ],
   "source": [
    "\"\"\"\n",
    "word embedding 레이어는 불러온 모델의 임베딩 레이어를 사용합니다.\n",
    "해당 레이어는 전처리 과정에서 생성한 word2int와 인덱스가 연동되어있으므로\n",
    "해당 파일을 불러와서 title을 index로 변환하겠습니다.\n",
    "\"\"\"\n",
    "\n",
    "model: NRMS = model_manager.model\n",
    "\n",
    "word2int = model_manager.get_word2int()\n",
    "word2int.set_index('word', inplace=True)\n",
    "word2int.head()"
   ]
  },
  {
   "cell_type": "code",
   "execution_count": 27,
   "metadata": {},
   "outputs": [
    {
     "name": "stdout",
     "output_type": "stream",
     "text": [
      "torch.Size([2, 300])\n",
      "torch.Size([2, 300])\n"
     ]
    }
   ],
   "source": [
    "candidate_news_vector = get_news_vector(candidate_news, model, word2int)\n",
    "clicked_news_vector = get_news_vector(history_news, model, word2int)\n",
    "\n",
    "print(candidate_news_vector.shape)\n",
    "print(clicked_news_vector.shape)"
   ]
  },
  {
   "cell_type": "code",
   "execution_count": 28,
   "metadata": {},
   "outputs": [
    {
     "name": "stdout",
     "output_type": "stream",
     "text": [
      "torch.Size([1, 2, 300])\n",
      "torch.Size([1, 300])\n",
      "torch.Size([300])\n"
     ]
    }
   ],
   "source": [
    "# .unsqueeze(0)로 차원을 추가하여 shape를 (2, 300) -> (1, 2, 300)으로 변경합니다.\n",
    "# 즉 입력 데이터를 batch 형태로 바꿔줍니다.\n",
    "user_vector = model.user_encoder(clicked_news_vector.unsqueeze(0))\n",
    "print(clicked_news_vector.unsqueeze(0).shape)\n",
    "print(user_vector.shape)\n",
    "print(user_vector[0].shape)"
   ]
  },
  {
   "cell_type": "code",
   "execution_count": 29,
   "metadata": {},
   "outputs": [
    {
     "name": "stdout",
     "output_type": "stream",
     "text": [
      "torch.Size([1, 2, 300])\n",
      "torch.Size([1, 300, 1])\n",
      "torch.Size([1, 2, 1])\n",
      "torch.Size([1, 2])\n",
      "tensor([[ 30.2893, -15.2382]], device='cuda:0', grad_fn=<SqueezeBackward1>)\n"
     ]
    }
   ],
   "source": [
    "clicks_score = torch.bmm(\n",
    "    candidate_news_vector.unsqueeze(0), # (1, 2, 300)\n",
    "    user_vector.unsqueeze(dim=-1)       # (1, 300, 1) -> 직접 출력해보면 벡터의 숫자 300개를 한 칸씩 쪼개는 형태인 걸 알 수 있음\n",
    ")\n",
    "print(candidate_news_vector.unsqueeze(0).shape)\n",
    "print(user_vector.unsqueeze(dim=-1).shape)\n",
    "print(clicks_score.shape)\n",
    "clicks_score = clicks_score.squeeze(dim=-1)\n",
    "print(clicks_score.shape)\n",
    "print(clicks_score)"
   ]
  },
  {
   "cell_type": "code",
   "execution_count": 37,
   "metadata": {},
   "outputs": [
    {
     "name": "stdout",
     "output_type": "stream",
     "text": [
      "[30.289268493652344, -15.238170623779297] \n",
      "\n",
      "torch.Size([300])\n",
      "torch.Size([300, 2])\n",
      "[30.289268493652344, -15.238171577453613]\n"
     ]
    }
   ],
   "source": [
    "# 단순 내적과 결과 비교\n",
    "a = torch.dot(candidate_news_vector[0], user_vector[0])\n",
    "b = torch.dot(candidate_news_vector[1], user_vector[0])\n",
    "\n",
    "print(f\"[{a.item()}, {b.item()}] \\n\")\n",
    "\n",
    "# 또는 이렇게도 가능\n",
    "print(user_vector[0].shape)\n",
    "print(candidate_news_vector.T.shape)\n",
    "c = torch.matmul(user_vector[0], candidate_news_vector.T)\n",
    "print(c.tolist())"
   ]
  }
 ],
 "metadata": {
  "kernelspec": {
   "display_name": "newsrec",
   "language": "python",
   "name": "python3"
  },
  "language_info": {
   "codemirror_mode": {
    "name": "ipython",
    "version": 3
   },
   "file_extension": ".py",
   "mimetype": "text/x-python",
   "name": "python",
   "nbconvert_exporter": "python",
   "pygments_lexer": "ipython3",
   "version": "3.9.21"
  }
 },
 "nbformat": 4,
 "nbformat_minor": 2
}
