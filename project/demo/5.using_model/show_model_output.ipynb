{
 "cells": [
  {
   "cell_type": "markdown",
   "metadata": {},
   "source": [
    "## 모델 출력 확인하기\n",
    "1. 모델 학습/평가 관리용 클래스인 ModelManager의 인스턴스를 생성합니다.\n",
    "2. 학습/평가용으로 불러온 전처리 데이터는 BaseDataset 클래스로 관리합니다.\n",
    "3. 모든 모델 클래스가 상속 받는 pl.LightningModule의 구현 방식으로 인해\n",
    " 모델의 인스턴스 자체를 함수처럼 사용하면, 해당 클래스에 구현된 forward() 함수가 실행됩니다.\n",
    "4. forward 함수는 학습시 사용하는 batch데이터를 받아 "
   ]
  },
  {
   "cell_type": "code",
   "execution_count": null,
   "metadata": {},
   "outputs": [],
   "source": []
  }
 ],
 "metadata": {
  "kernelspec": {
   "display_name": "newsrec",
   "language": "python",
   "name": "python3"
  },
  "language_info": {
   "name": "python",
   "version": "3.9.21"
  }
 },
 "nbformat": 4,
 "nbformat_minor": 2
}
