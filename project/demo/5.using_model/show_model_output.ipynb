{
   "cells": [
      {
         "cell_type": "markdown",
         "metadata": {},
         "source": [
            "## 모델 출력 확인하기\n",
            "1. 모델 학습/평가 관리용 클래스인 ModelManager의 인스턴스를 생성합니다.\n",
            "2. 학습/평가용으로 불러올 전처리 데이터의 구조는 BaseDataset 클래스로 구현됩니다.\n",
            "3. BaseDataset은 torch.utils.data.Dataset 클래스를 상속받는데, 이를 통해 전처리 데이터를 DataLoader로 관리할 수 있게 됩니다.\n",
            "4. DataLoader는 BaseDataset에 구현된 데이터 구조를 batch data 형태로 바꾸기 위해 데이터의 모든 요소에 차원을 하나 추가합니다.<br/>\n",
            "   -> 상세: BaseDataset은 인스턴스 생성 시(즉 __init__함수에서) list[dict[str, Tensor]] 형태의 데이터를 생성하고 self.behaviors_parsed에 저장합니다.<br/>\n",
            "   즉 데이터를 하나 뽑으면 dict[str, Tensor] 형태의 구조를 갖습니다.<br/>\n",
            "   그런데 mini batch 학습을 위해서는 여러개의 데이터를 하나로 묶어서 batch data를 생성해야 하고, 이 기능을 DataLoader로 수행합니다.<br/>\n",
            "   DataLoader에서는 여러 데이터를 하나로 묶어 dict[str, list[Tensor]] 형태로 변경합니다.<br/>\n",
            "   list[Tensor]의 길이는 config파일의 batch_size로 정해집니다.<br/>\n",
            "   여기서 1 epoch의 총 iteration은 behaviors의 총 데이터 수 / batch_size로, 배치 데이터의 총 개수와 같습니다.<br/>\n",
            "5. 모든 모델 클래스가 상속 받는 pl.LightningModule의 구현 방식으로 인해, 모델의 인스턴스 자체를 함수처럼 사용하면 해당 클래스에 구현된 forward() 함수가 실행됩니다.\n",
            "6. forward 함수는 학습 시 사용하는 batch data를 받아, behaviors의 사용자 history를 기반으로 해당 사용자의 impression 목록의 click probability를 예측하고 반환합니다.<br/>\n",
            "   -> 상세: behaviors의 모든 데이터는 크게 유저의 history, 해당 유저의 impressions 데이터로 구성됩니다.<br/>\n",
            "   여기서 history는 해당 유저가 과거에 열람한 뉴스 목록, impressions는 이러한 history를 가진 유저에게 특정 시점에 화면에 노출된 뉴스 목록입니다.<br/>\n",
            "   여기서 impressions에는 유저가 해당 뉴스를 클릭했는지(1), 하지 않았는지(0)가 1과 0으로 라벨링 되어있습니다.<br/>\n",
            "   즉 모델이 history만으로 impressions의 모든 뉴스 목록에 대해 해당 history를 가진 유저의 클릭 가능성을 예측하고, 라벨과 비교하거나 순위를 매겨보면 해당 모델이 추천을 얼마나 정확하게 하는지를 계산할 수 있습니다. \n",
            "7. 여기서 반환 형태는 Tensor인데, 내부 데이터는 list[list[float]] 형태입니다. 즉 입력한 모든 batch data에 대한 예측 결과가 반환되는 것입니다.<br/>\n",
            "   -> 상세: 예를 들어 batch_size가 2라면, 각 배치마다 behaviors의 데이터가 2개씩 포함될 것입니다.<br/>\n",
            "    따라서 예측해야할 유저와 impression 쌍도 두개이므로, 반환하는 결과 데이터도 2개입니다."
         ]
      },
      {
         "cell_type": "code",
         "execution_count": 1,
         "metadata": {},
         "outputs": [],
         "source": [
            "# jupyter notebook에서 import 해서 쓰는 모듈의 코드가 변경될 시, 변동 사항을 자동으로 반영해주는 기능 켜기\n",
            "%load_ext autoreload\n",
            "%autoreload 2"
         ]
      },
      {
         "cell_type": "markdown",
         "metadata": {},
         "source": [
            "## 1. ckpt 파일로 모델 불러오기"
         ]
      },
      {
         "cell_type": "code",
         "execution_count": 2,
         "metadata": {},
         "outputs": [
            {
               "name": "stderr",
               "output_type": "stream",
               "text": [
                  "c:\\Users\\USER\\anaconda3\\envs\\newsrec\\lib\\site-packages\\tqdm\\auto.py:21: TqdmWarning: IProgress not found. Please update jupyter and ipywidgets. See https://ipywidgets.readthedocs.io/en/stable/user_install.html\n",
                  "  from .autonotebook import tqdm as notebook_tqdm\n"
               ]
            }
         ],
         "source": [
            "import os\n",
            "from os import path\n",
            "import sys\n",
            "\n",
            "PROJECT_DIR = path.abspath(path.join(os.getcwd(), \"..\", \"..\"))\n",
            "sys.path.append(PROJECT_DIR)\n",
            "\n",
            "from utils.model_manager import ModelManager\n",
            "from utils.base_manager import ManagerArgs\n",
            "from utils.news_viewer import NewsViewer"
         ]
      },
      {
         "cell_type": "code",
         "execution_count": 3,
         "metadata": {},
         "outputs": [
            {
               "name": "stderr",
               "output_type": "stream",
               "text": [
                  "Seed set to 1234\n",
                  "100%|██████████| 42561/42561 [00:01<00:00, 21454.18it/s]\n",
                  "100%|██████████| 18723/18723 [00:04<00:00, 4396.99it/s]\n",
                  "100%|██████████| 7538/7538 [00:05<00:00, 1279.25it/s]\n",
                  "GPU available: True (cuda), used: True\n",
                  "TPU available: False, using: 0 TPU cores\n",
                  "HPU available: False, using: 0 HPUs\n"
               ]
            }
         ],
         "source": [
            "args = ManagerArgs(\n",
            "    config_path = path.join(PROJECT_DIR, \"config/model/nrms/exp_demo1.yaml\"),\n",
            "    test_ckpt_path = path.join(PROJECT_DIR, \"logs/lightning_logs/checkpoints/nrms/exp_demo1/epoch=24-val_auc_epoch=0.6996.ckpt\")\n",
            ")\n",
            "\n",
            "model_manager = ModelManager(PROJECT_DIR, args, \"test\")\n",
            "news_viewer = NewsViewer(\n",
            "    path.join(PROJECT_DIR, \"data\", \"MIND\", \"demo\", \"test\", \"news.tsv\"),\n",
            "    path.join(PROJECT_DIR, \"data\", \"preprocessed_data\", \"demo\", \"test\", \"news2int.tsv\")\n",
            ")"
         ]
      },
      {
         "cell_type": "markdown",
         "metadata": {},
         "source": [
            "## 2. 테스트용 데이터 불러오기"
         ]
      },
      {
         "cell_type": "code",
         "execution_count": null,
         "metadata": {},
         "outputs": [
            {
               "name": "stdout",
               "output_type": "stream",
               "text": [
                  "<class 'dict'>\n",
                  "{\n",
                  "\tuser:\ttype=Tensor, shape=(1,), inner_type=int\n",
                  "\th_idxs:\ttype=Tensor, shape=(1, 50), inner_type=list[int]\n",
                  "\th_title:\ttype=Tensor, shape=(1, 50, 20), inner_type=list[list[int]]\n",
                  "\th_abstract:\ttype=Tensor, shape=(1, 50, 50), inner_type=list[list[int]]\n",
                  "\th_category:\ttype=Tensor, shape=(1, 50), inner_type=list[int]\n",
                  "\th_subcategory:\ttype=Tensor, shape=(1, 50), inner_type=list[int]\n",
                  "\th_vader_sentiment:\ttype=Tensor, shape=(1, 50), inner_type=list[float]\n",
                  "\th_bert_sentiment:\ttype=Tensor, shape=(1, 50), inner_type=list[float]\n",
                  "\thistory_length:\ttype=Tensor, shape=(1,), inner_type=int\n",
                  "\tc_idxs:\ttype=Tensor, shape=(1, 28), inner_type=list[int]\n",
                  "\tc_title:\ttype=Tensor, shape=(1, 28, 20), inner_type=list[list[int]]\n",
                  "\tc_abstract:\ttype=Tensor, shape=(1, 28, 50), inner_type=list[list[int]]\n",
                  "\tc_category:\ttype=Tensor, shape=(1, 28), inner_type=list[int]\n",
                  "\tc_subcategory:\ttype=Tensor, shape=(1, 28), inner_type=list[int]\n",
                  "\tc_vader_sentiment:\ttype=Tensor, shape=(1, 28), inner_type=list[float]\n",
                  "\tc_bert_sentiment:\ttype=Tensor, shape=(1, 28), inner_type=list[float]\n",
                  "\tlabels:\ttype=Tensor, shape=(1, 28), inner_type=list[int]\n"
               ]
            },
            {
               "ename": "AttributeError",
               "evalue": "'list' object has no attribute 'tolist'",
               "output_type": "error",
               "traceback": [
                  "\u001b[1;31m---------------------------------------------------------------------------\u001b[0m",
                  "\u001b[1;31mAttributeError\u001b[0m                            Traceback (most recent call last)",
                  "Cell \u001b[1;32mIn[4], line 15\u001b[0m\n\u001b[0;32m     13\u001b[0m batch_index \u001b[38;5;241m=\u001b[39m \u001b[38;5;241m0\u001b[39m\n\u001b[0;32m     14\u001b[0m batch_data \u001b[38;5;241m=\u001b[39m model_manager\u001b[38;5;241m.\u001b[39mget_batch_from_dataloader(batch_index)\n\u001b[1;32m---> 15\u001b[0m \u001b[43mmodel_manager\u001b[49m\u001b[38;5;241;43m.\u001b[39;49m\u001b[43mshow_batch_struct\u001b[49m\u001b[43m(\u001b[49m\u001b[43mbatch_data\u001b[49m\u001b[43m)\u001b[49m\n",
                  "File \u001b[1;32mc:\\Users\\USER\\Desktop\\projects\\python\\newsrecommend\\SentiRecTest\\project\\utils\\model_manager.py:234\u001b[0m, in \u001b[0;36mModelManager.show_batch_struct\u001b[1;34m(batch_data)\u001b[0m\n\u001b[0;32m    232\u001b[0m \u001b[38;5;28;01mfor\u001b[39;00m key \u001b[38;5;129;01min\u001b[39;00m \u001b[38;5;28mlist\u001b[39m(batch_data\u001b[38;5;241m.\u001b[39mkeys()):\n\u001b[0;32m    233\u001b[0m     value: Tensor \u001b[38;5;241m=\u001b[39m batch_data[key]\n\u001b[1;32m--> 234\u001b[0m     items \u001b[38;5;241m=\u001b[39m \u001b[43mvalue\u001b[49m\u001b[38;5;241;43m.\u001b[39;49m\u001b[43mtolist\u001b[49m()\n\u001b[0;32m    235\u001b[0m     inner_type \u001b[38;5;241m=\u001b[39m \u001b[38;5;28mtype\u001b[39m(items[\u001b[38;5;241m0\u001b[39m])\u001b[38;5;241m.\u001b[39m\u001b[38;5;18m__name__\u001b[39m\n\u001b[0;32m    236\u001b[0m     \u001b[38;5;28;01mif\u001b[39;00m inner_type \u001b[38;5;241m==\u001b[39m \u001b[38;5;124m\"\u001b[39m\u001b[38;5;124mlist\u001b[39m\u001b[38;5;124m\"\u001b[39m:\n",
                  "\u001b[1;31mAttributeError\u001b[0m: 'list' object has no attribute 'tolist'"
               ]
            }
         ],
         "source": [
            "\"\"\"\n",
            "모든 데이터의 첫 번째 차원의 shape 값은 batch size입니다.\n",
            "즉 batch data 안에 실제로 어떤 데이터가 저장되어있는지 알아보기 위해 출력해볼 때\n",
            "해당 값은 별로 의미가 없습니다. \n",
            "\n",
            "예를 들어 h_title의 shape 출력 결과의 각 숫자는 다음과 같은 의미를 지닙니다.\n",
            "(batch_size, config파일에 설정한 max_history 값, 전처리 과정에서 설정한 max_title 값 = 제목의 최대 토큰 개수)\n",
            "\n",
            "c_abstract은 다음과 같습니다.\n",
            "(batch_size, 해당 impressions 데이터에 포함된 뉴스 개수, 전처리 과정에서 설정한 max_abstract 값 = 본문 요약의 최대 토큰 개수)\n",
            "\"\"\"\n",
            "\n",
            "batch_index = 0\n",
            "batch_data = model_manager.get_batch_from_dataloader(batch_index)\n",
            "# model_manager.show_batch_struct(batch_data)"
         ]
      },
      {
         "cell_type": "markdown",
         "metadata": {},
         "source": [
            "## 3. 모델에 batch data 입력하고 출력 확인하기"
         ]
      },
      {
         "cell_type": "code",
         "execution_count": 5,
         "metadata": {},
         "outputs": [
            {
               "name": "stdout",
               "output_type": "stream",
               "text": [
                  "Rank    Score    Label  index \n",
                  "--------------------------------\n",
                  "1      21.96449    0      8   \n",
                  "2      21.63985    0      21  \n",
                  "3      14.37056    0      20  \n",
                  "4      13.39139    0      22  \n",
                  "5      7.60424     0      17  \n",
                  "6      4.49830     0      26  \n",
                  "7      3.25125     0      23  \n",
                  "8      2.46181     0      0   \n",
                  "9      0.83084     0      1   \n",
                  "10     0.31242     0      11  \n",
                  "11     0.16820     0      16  \n",
                  "12     -0.67941    0      27  \n",
                  "13     -3.86770    1      9   \n",
                  "14     -5.43905    0      25  \n",
                  "15     -6.06323    0      18  \n",
                  "16     -8.16474    0      24  \n",
                  "17     -8.50863    0      5   \n",
                  "18     -8.97648    0      10  \n",
                  "19     -9.31507    0      6   \n",
                  "20    -10.63651    0      15  \n",
                  "21    -11.07256    0      14  \n",
                  "22    -12.26732    0      13  \n",
                  "23    -12.92857    0      3   \n",
                  "24    -12.96733    0      12  \n",
                  "25    -13.71577    0      19  \n",
                  "26    -17.14813    0      2   \n",
                  "27    -24.28173    0      7   \n",
                  "28    -29.99214    0      4   \n"
               ]
            }
         ],
         "source": [
            "\"\"\"\n",
            "index를 바꿔서 원하는 데이터를 테스트해볼 수 있습니다.\n",
            "\"\"\"\n",
            "result = model_manager.show_result(0)"
         ]
      },
      {
         "cell_type": "markdown",
         "metadata": {},
         "source": [
            "## 2. 추천 순위 top 5 뉴스의 정보 출력하기"
         ]
      },
      {
         "cell_type": "code",
         "execution_count": 6,
         "metadata": {},
         "outputs": [],
         "source": [
            "def show_history(batch_index, sample_num):\n",
            "    sample_num = max(1, sample_num)\n",
            "    batch_data = model_manager.get_batch_from_dataloader(batch_index)\n",
            "    news_idxs = batch_data['h_idxs'][0].tolist()\n",
            "    print(\"================================================================\")\n",
            "    print(f\"{sample_num} Samples of History (User: {batch_data['user'].item()})\")\n",
            "    print(\"================================================================\")\n",
            "    count = 0\n",
            "    print(\"----------------------------------------------------------------\")\n",
            "    for news_idx in news_idxs:\n",
            "        if news_idx == 0:\n",
            "            continue\n",
            "        print(f\"[ Sample {count+1} ]\")\n",
            "        news_viewer.show_news_by_index(news_idx)\n",
            "        print(\"----------------------------------------------------------------\")\n",
            "        count += 1\n",
            "        if count >= sample_num:\n",
            "            break\n",
            "\n",
            "def show_topN_result(batch_index, topN):\n",
            "    topN = max(1, topN)\n",
            "    batch_data = model_manager.get_batch_from_dataloader(batch_index)\n",
            "    news_idxs = batch_data['c_idxs'][0]\n",
            "    print(\"================================================================\")\n",
            "    print(f\"Top {topN} Impressions Ranked by Model (User: {batch_data['user'].item()})\")\n",
            "    print(\"================================================================\")\n",
            "    print(\"----------------------------------------------------------------\")\n",
            "    for ranking_data in result[:min(topN, len(result))]:\n",
            "        rank = ranking_data['rank']\n",
            "        label = ranking_data['label']\n",
            "        score = ranking_data['score']\n",
            "        index = ranking_data['index']\n",
            "        news_idx = news_idxs[index].item()\n",
            "        \n",
            "        print(f\"rank: {rank}, score: {score:>.5f}, label: {label}\")\n",
            "        news_viewer.show_news_by_index(news_idx)\n",
            "        print(\"----------------------------------------------------------------\")"
         ]
      },
      {
         "cell_type": "code",
         "execution_count": 7,
         "metadata": {},
         "outputs": [
            {
               "name": "stdout",
               "output_type": "stream",
               "text": [
                  "Rank    Score    Label  index \n",
                  "--------------------------------\n",
                  "1      16.55572    0      24  \n",
                  "2      13.30618    0      9   \n",
                  "3      12.90063    0      34  \n",
                  "4      9.68928     0      19  \n",
                  "5      9.54487     0      60  \n",
                  "6      9.49449     0      11  \n",
                  "7      9.01754     0      40  \n",
                  "8      8.86234     0      41  \n",
                  "9      8.18778     0      1   \n",
                  "10     8.09063     0      25  \n",
                  "11     7.01228     0      53  \n",
                  "12     5.77802     0      6   \n",
                  "13     5.61280     0      51  \n",
                  "14     5.54765     0      39  \n",
                  "15     5.52212     0      27  \n",
                  "16     5.37015     0      5   \n",
                  "17     5.27092     0      14  \n",
                  "18     4.40056     0      58  \n",
                  "19     4.30785     0      31  \n",
                  "20     3.51065     0      59  \n",
                  "21     2.59219     0      46  \n",
                  "22     1.64392     0      21  \n",
                  "23     0.76598     0      29  \n",
                  "24     0.72754     0      18  \n",
                  "25     -0.13379    0      15  \n",
                  "26     -0.20651    0      32  \n",
                  "27     -0.43332    0      16  \n",
                  "28     -0.86846    0      57  \n",
                  "29     -0.91166    0      7   \n",
                  "30     -1.64432    0      8   \n",
                  "31     -1.65618    0      12  \n",
                  "32     -1.73323    0      35  \n",
                  "33     -1.93793    0      52  \n",
                  "34     -2.90687    0      44  \n",
                  "35     -3.55591    0      36  \n",
                  "36     -3.58327    0      48  \n",
                  "37     -3.63706    0      55  \n",
                  "38     -3.99467    0      10  \n",
                  "39     -4.91655    0      49  \n",
                  "40     -4.93782    0      4   \n",
                  "41     -5.03846    0      3   \n",
                  "42     -5.71063    0      2   \n",
                  "43     -6.00079    0      42  \n",
                  "44     -6.02900    0      23  \n",
                  "45     -6.18521    0      47  \n",
                  "46     -6.48711    0      37  \n",
                  "47     -6.89056    0      13  \n",
                  "48     -6.89105    0      43  \n",
                  "49     -7.41683    1      17  \n",
                  "50     -7.72217    0      28  \n",
                  "51     -7.76081    0      0   \n",
                  "52     -9.23593    0      38  \n",
                  "53     -9.62795    0      26  \n",
                  "54     -9.74934    0      50  \n",
                  "55    -10.89425    0      54  \n",
                  "56    -12.26630    0      56  \n",
                  "57    -13.15134    0      33  \n",
                  "58    -16.18830    0      22  \n",
                  "59    -16.45086    0      45  \n",
                  "60    -17.92205    0      30  \n",
                  "61    -18.95746    0      20  \n",
                  "\n",
                  "\n",
                  "\n",
                  "================================================================\n",
                  "5 Samples of History (User: 1361)\n",
                  "================================================================\n",
                  "----------------------------------------------------------------\n",
                  "[ Sample 1 ]\n",
                  "News ID: N16469\n",
                  "Category: news\n",
                  "SubCategory: newscrime\n",
                  "Title: 'Serial Stowaway' Marilyn Hartman Held Without Bail After Latest Arrest At O'Hare\n",
                  "Abstract: Serial stowaway Marilyn Hartman was ordered held without bail after being arrested again at O'Hare International Airport.\n",
                  "----------------------------------------------------------------\n",
                  "[ Sample 2 ]\n",
                  "News ID: N4202\n",
                  "Category: news\n",
                  "SubCategory: newscrime\n",
                  "Title: A Texas mom is going to prison after putting her son through unnecessary medical procedures\n",
                  "Abstract: A Dallas mother made her son go through unnecessary medical procedures throughout the first years of his life, court documents say.\n",
                  "----------------------------------------------------------------\n",
                  "[ Sample 3 ]\n",
                  "News ID: N4202\n",
                  "Category: news\n",
                  "SubCategory: newscrime\n",
                  "Title: A Texas mom is going to prison after putting her son through unnecessary medical procedures\n",
                  "Abstract: A Dallas mother made her son go through unnecessary medical procedures throughout the first years of his life, court documents say.\n",
                  "----------------------------------------------------------------\n",
                  "[ Sample 4 ]\n",
                  "News ID: N21816\n",
                  "Category: news\n",
                  "SubCategory: newsworld\n",
                  "Title: Cartel gunmen terrorize Mexican city, free El Chapo's son\n",
                  "Abstract: Mexican security forces captured one of notorious drug lord Joaquin 'El Chapo' Guzman's sons on Thursday, media reports said, after rumors of the detention led to fierce gunbattles in the city of Culiacan, a stronghold of the Sinaloa cartel.\n",
                  "----------------------------------------------------------------\n",
                  "[ Sample 5 ]\n",
                  "News ID: N12992\n",
                  "Category: news\n",
                  "SubCategory: newscrime\n",
                  "Title: Police: Cincinnati man says he stole ambulance to escape being held against his will\n",
                  "Abstract: Police have made an arrest after a man who broke into a Clearcreek fire station and stole an ambulance said he did so to escape being tortured and held against his will at a home across the street. The incident took place Oct. 19 around 12 p.m. when officers were called to the scene for a report that the fire station had been burglarized and an ambulance stolen. Officers at the scene discovered a broken window and were later notified that the...\n",
                  "----------------------------------------------------------------\n",
                  "\n",
                  "\n",
                  "\n",
                  "================================================================\n",
                  "Top 5 Impressions Ranked by Model (User: 1361)\n",
                  "================================================================\n",
                  "----------------------------------------------------------------\n",
                  "rank: 1, score: 21.96449, label: 0\n",
                  "News ID: N21325\n",
                  "Category: lifestyle\n",
                  "SubCategory: lifestyleroyals\n",
                  "Title: Meghan Markle and Hillary Clinton Secretly Spent the Afternoon Together at Frogmore Cottage\n",
                  "Abstract: Meghan Markle Invites Hillary Clinton to Her Frogmore Cottage Home\n",
                  "----------------------------------------------------------------\n",
                  "rank: 2, score: 21.63985, label: 0\n",
                  "News ID: N20088\n",
                  "Category: lifestyle\n",
                  "SubCategory: lifestyleroyals\n",
                  "Title: Kate Middleton Shows Off Motherly Side as She Bonds with Families at Opening of Children's Hospice\n",
                  "Abstract: Kate Middleton Celebrates Opening of Children's Hospice\n",
                  "----------------------------------------------------------------\n",
                  "rank: 3, score: 14.37056, label: 0\n",
                  "News ID: N3513\n",
                  "Category: music\n",
                  "SubCategory: music-celebrity\n",
                  "Title: Camila Cabello Explains the Sweet Meaning Behind Her First Tattoo\n",
                  "Abstract: The singer is sharing the significance behind her new ink.\n",
                  "----------------------------------------------------------------\n",
                  "rank: 4, score: 13.39139, label: 0\n",
                  "News ID: N20917\n",
                  "Category: autos\n",
                  "SubCategory: autossports\n",
                  "Title: End Of An Era As Chevy Has Built The Last Front-Engined Corvette\n",
                  "Abstract: It's a Z06 coupe previously sold for $2.7 million for a noble cause.\n",
                  "----------------------------------------------------------------\n",
                  "rank: 5, score: 7.60424, label: 0\n",
                  "News ID: N19829\n",
                  "Category: news\n",
                  "SubCategory: newsus\n",
                  "Title: New Cajun/Creole spot RedHook Cajun Seafood & Bar debuts in San Antonio\n",
                  "Abstract: If you've got Cajun/Creole on the mind, we've got you covered. Check out this newly opened business, with top menu items, hours and more.\n",
                  "----------------------------------------------------------------\n"
               ]
            }
         ],
         "source": [
            "batch_index = 1\n",
            "sample_num = 5\n",
            "topN = 5\n",
            "\n",
            "model_manager.show_result(batch_index)\n",
            "print(\"\\n\\n\")\n",
            "show_history(batch_index, sample_num)\n",
            "print(\"\\n\\n\")\n",
            "show_topN_result(batch_index, topN)"
         ]
      }
   ],
   "metadata": {
      "kernelspec": {
         "display_name": "newsrec",
         "language": "python",
         "name": "python3"
      },
      "language_info": {
         "codemirror_mode": {
            "name": "ipython",
            "version": 3
         },
         "file_extension": ".py",
         "mimetype": "text/x-python",
         "name": "python",
         "nbconvert_exporter": "python",
         "pygments_lexer": "ipython3",
         "version": "3.9.21"
      }
   },
   "nbformat": 4,
   "nbformat_minor": 2
}
