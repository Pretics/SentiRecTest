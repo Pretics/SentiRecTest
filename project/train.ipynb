{
 "cells": [
  {
   "cell_type": "markdown",
   "metadata": {},
   "source": [
    "## Global Settings and Imports"
   ]
  },
  {
   "cell_type": "code",
   "execution_count": 8,
   "metadata": {},
   "outputs": [],
   "source": [
    "# jupyter notebook에서 import 해서 쓰는 모듈의 코드가 변경될 시, 변동 사항을 자동으로 반영해주는 기능 켜기\n",
    "%load_ext autoreload\n",
    "%autoreload 2"
   ]
  },
  {
   "cell_type": "code",
   "execution_count": 1,
   "metadata": {},
   "outputs": [],
   "source": [
    "import for_train"
   ]
  },
  {
   "cell_type": "markdown",
   "metadata": {},
   "source": [
    "## Prepare parameters"
   ]
  },
  {
   "cell_type": "code",
   "execution_count": 2,
   "metadata": {},
   "outputs": [
    {
     "name": "stderr",
     "output_type": "stream",
     "text": [
      "Seed set to 1234\n"
     ]
    }
   ],
   "source": [
    "args = for_train.TrainArgs(\n",
    "    config = \"config/model/sentirec/vader_manual1.yaml\",\n",
    "    resume = None\n",
    ")\n",
    "\n",
    "config = for_train.load_model_config(args)"
   ]
  },
  {
   "cell_type": "markdown",
   "metadata": {},
   "source": [
    "## Load data"
   ]
  },
  {
   "cell_type": "code",
   "execution_count": 3,
   "metadata": {},
   "outputs": [
    {
     "name": "stderr",
     "output_type": "stream",
     "text": [
      "100%|██████████| 235/235 [00:00<00:00, 17394.54it/s]\n",
      "100%|██████████| 1/1 [00:00<00:00, 999.36it/s]\n",
      "100%|██████████| 235/235 [00:00<00:00, 16760.95it/s]\n",
      "100%|██████████| 1/1 [00:00<00:00, 1000.31it/s]\n"
     ]
    }
   ],
   "source": [
    "# load data\n",
    "train_dataset, train_loader = for_train.create_train_dataloader(config)\n",
    "val_dataset, val_loader = for_train.create_val_dataloader(config)"
   ]
  },
  {
   "cell_type": "code",
   "execution_count": 4,
   "metadata": {},
   "outputs": [
    {
     "name": "stderr",
     "output_type": "stream",
     "text": [
      "100%|██████████| 3246/3246 [00:00<00:00, 19343.36it/s]\n"
     ]
    }
   ],
   "source": [
    "# load embedding pre-trained embedding weights\n",
    "pretrained_word_embedding = for_train.load_embedding_weights(config)"
   ]
  },
  {
   "cell_type": "markdown",
   "metadata": {},
   "source": [
    "## Create model"
   ]
  },
  {
   "cell_type": "code",
   "execution_count": 5,
   "metadata": {},
   "outputs": [
    {
     "name": "stdout",
     "output_type": "stream",
     "text": [
      "sentirec\n"
     ]
    }
   ],
   "source": [
    "print(config.name)\n",
    "model = for_train.create_model(config, pretrained_word_embedding)"
   ]
  },
  {
   "cell_type": "markdown",
   "metadata": {},
   "source": [
    "## Train model"
   ]
  },
  {
   "cell_type": "code",
   "execution_count": 6,
   "metadata": {},
   "outputs": [
    {
     "name": "stderr",
     "output_type": "stream",
     "text": [
      "GPU available: True (cuda), used: True\n",
      "TPU available: False, using: 0 TPU cores\n",
      "HPU available: False, using: 0 HPUs\n"
     ]
    }
   ],
   "source": [
    "trainer = for_train.create_train_trainer(config)"
   ]
  },
  {
   "cell_type": "code",
   "execution_count": 7,
   "metadata": {},
   "outputs": [
    {
     "name": "stderr",
     "output_type": "stream",
     "text": [
      "c:\\Users\\USER\\anaconda3\\envs\\newsrec\\lib\\site-packages\\pytorch_lightning\\callbacks\\model_checkpoint.py:654: Checkpoint directory C:\\Users\\USER\\Desktop\\projects\\python\\newsrecommend\\SentiRecTest\\project\\logs\\lightning_logs\\checkpoints\\sentirec\\vader_manual1 exists and is not empty.\n",
      "LOCAL_RANK: 0 - CUDA_VISIBLE_DEVICES: [0]\n",
      "\n",
      "   | Name                                   | Type             | Params | Mode \n",
      "-------------------------------------------------------------------------------------\n",
      "0  | news_encoder                           | TimeDistributed  | 1.4 M  | train\n",
      "1  | user_encoder                           | UserEncoder      | 421 K  | train\n",
      "2  | sentiment_predictor                    | Linear           | 301    | train\n",
      "3  | val_performance_metrics                | MetricCollection | 0      | train\n",
      "4  | val_sentiment_diversity_metrics_vader  | MetricCollection | 0      | train\n",
      "5  | val_sentiment_diversity_metrics_bert   | MetricCollection | 0      | train\n",
      "6  | test_performance_metrics               | MetricCollection | 0      | train\n",
      "7  | test_sentiment_diversity_metrics_vader | MetricCollection | 0      | train\n",
      "8  | test_sentiment_diversity_metrics_bert  | MetricCollection | 0      | train\n",
      "9  | test_topic_diversity_metrics           | MetricCollection | 0      | train\n",
      "10 | test_ils_senti_metrics_vader           | MetricCollection | 0      | train\n",
      "11 | test_ils_senti_metrics_bert            | MetricCollection | 0      | train\n",
      "12 | test_ils_topic_metrics                 | MetricCollection | 0      | train\n",
      "-------------------------------------------------------------------------------------\n",
      "1.8 M     Trainable params\n",
      "0         Non-trainable params\n",
      "1.8 M     Total params\n",
      "7.269     Total estimated model params size (MB)\n",
      "52        Modules in train mode\n",
      "0         Modules in eval mode\n"
     ]
    },
    {
     "data": {
      "application/vnd.jupyter.widget-view+json": {
       "model_id": "c3577b7e9d2f439f836e6b464ca4c23f",
       "version_major": 2,
       "version_minor": 0
      },
      "text/plain": [
       "Sanity Checking: |          | 0/? [00:00<?, ?it/s]"
      ]
     },
     "metadata": {},
     "output_type": "display_data"
    },
    {
     "name": "stderr",
     "output_type": "stream",
     "text": [
      "c:\\Users\\USER\\anaconda3\\envs\\newsrec\\lib\\site-packages\\pytorch_lightning\\trainer\\connectors\\data_connector.py:425: The 'val_dataloader' does not have many workers which may be a bottleneck. Consider increasing the value of the `num_workers` argument` to `num_workers=11` in the `DataLoader` to improve performance.\n",
      "c:\\Users\\USER\\anaconda3\\envs\\newsrec\\lib\\site-packages\\pytorch_lightning\\trainer\\connectors\\data_connector.py:425: The 'train_dataloader' does not have many workers which may be a bottleneck. Consider increasing the value of the `num_workers` argument` to `num_workers=11` in the `DataLoader` to improve performance.\n",
      "c:\\Users\\USER\\anaconda3\\envs\\newsrec\\lib\\site-packages\\pytorch_lightning\\loops\\fit_loop.py:310: The number of training batches (1) is smaller than the logging interval Trainer(log_every_n_steps=50). Set a lower value for log_every_n_steps if you want to see logs for the training epoch.\n"
     ]
    },
    {
     "data": {
      "application/vnd.jupyter.widget-view+json": {
       "model_id": "982545fc7b0b4cc1b14bc02976cf3aea",
       "version_major": 2,
       "version_minor": 0
      },
      "text/plain": [
       "Training: |          | 0/? [00:00<?, ?it/s]"
      ]
     },
     "metadata": {},
     "output_type": "display_data"
    },
    {
     "data": {
      "application/vnd.jupyter.widget-view+json": {
       "model_id": "96c52acef8c2459c866176ac26a4d38c",
       "version_major": 2,
       "version_minor": 0
      },
      "text/plain": [
       "Validation: |          | 0/? [00:00<?, ?it/s]"
      ]
     },
     "metadata": {},
     "output_type": "display_data"
    },
    {
     "name": "stderr",
     "output_type": "stream",
     "text": [
      "Metric val_auc_epoch improved. New best score: 0.178\n",
      "Epoch 0, global step 1: 'val_auc_epoch' reached 0.17778 (best 0.17778), saving model to 'C:\\\\Users\\\\USER\\\\Desktop\\\\projects\\\\python\\\\newsrecommend\\\\SentiRecTest\\\\project\\\\logs\\\\lightning_logs\\\\checkpoints\\\\sentirec\\\\vader_manual1\\\\epoch=0-val_auc_epoch=0.1778.ckpt' as top 3\n"
     ]
    },
    {
     "data": {
      "application/vnd.jupyter.widget-view+json": {
       "model_id": "c3606e861cf8472289e2f390bc997473",
       "version_major": 2,
       "version_minor": 0
      },
      "text/plain": [
       "Validation: |          | 0/? [00:00<?, ?it/s]"
      ]
     },
     "metadata": {},
     "output_type": "display_data"
    },
    {
     "name": "stderr",
     "output_type": "stream",
     "text": [
      "Metric val_auc_epoch improved by 0.044 >= min_delta = 0.0001. New best score: 0.222\n",
      "Epoch 1, global step 2: 'val_auc_epoch' reached 0.22222 (best 0.22222), saving model to 'C:\\\\Users\\\\USER\\\\Desktop\\\\projects\\\\python\\\\newsrecommend\\\\SentiRecTest\\\\project\\\\logs\\\\lightning_logs\\\\checkpoints\\\\sentirec\\\\vader_manual1\\\\epoch=1-val_auc_epoch=0.2222.ckpt' as top 3\n"
     ]
    },
    {
     "data": {
      "application/vnd.jupyter.widget-view+json": {
       "model_id": "4b183aecb0164561b25f13c7088c6f30",
       "version_major": 2,
       "version_minor": 0
      },
      "text/plain": [
       "Validation: |          | 0/? [00:00<?, ?it/s]"
      ]
     },
     "metadata": {},
     "output_type": "display_data"
    },
    {
     "name": "stderr",
     "output_type": "stream",
     "text": [
      "Metric val_auc_epoch improved by 0.156 >= min_delta = 0.0001. New best score: 0.378\n",
      "Epoch 2, global step 3: 'val_auc_epoch' reached 0.37778 (best 0.37778), saving model to 'C:\\\\Users\\\\USER\\\\Desktop\\\\projects\\\\python\\\\newsrecommend\\\\SentiRecTest\\\\project\\\\logs\\\\lightning_logs\\\\checkpoints\\\\sentirec\\\\vader_manual1\\\\epoch=2-val_auc_epoch=0.3778.ckpt' as top 3\n"
     ]
    },
    {
     "data": {
      "application/vnd.jupyter.widget-view+json": {
       "model_id": "1e574d1d05f143e3a7c18a8e766bbf4c",
       "version_major": 2,
       "version_minor": 0
      },
      "text/plain": [
       "Validation: |          | 0/? [00:00<?, ?it/s]"
      ]
     },
     "metadata": {},
     "output_type": "display_data"
    },
    {
     "name": "stderr",
     "output_type": "stream",
     "text": [
      "Metric val_auc_epoch improved by 0.311 >= min_delta = 0.0001. New best score: 0.689\n",
      "Epoch 3, global step 4: 'val_auc_epoch' reached 0.68889 (best 0.68889), saving model to 'C:\\\\Users\\\\USER\\\\Desktop\\\\projects\\\\python\\\\newsrecommend\\\\SentiRecTest\\\\project\\\\logs\\\\lightning_logs\\\\checkpoints\\\\sentirec\\\\vader_manual1\\\\epoch=3-val_auc_epoch=0.6889.ckpt' as top 3\n"
     ]
    },
    {
     "data": {
      "application/vnd.jupyter.widget-view+json": {
       "model_id": "90cf632fa796445b8105b3a859888f11",
       "version_major": 2,
       "version_minor": 0
      },
      "text/plain": [
       "Validation: |          | 0/? [00:00<?, ?it/s]"
      ]
     },
     "metadata": {},
     "output_type": "display_data"
    },
    {
     "name": "stderr",
     "output_type": "stream",
     "text": [
      "Metric val_auc_epoch improved by 0.044 >= min_delta = 0.0001. New best score: 0.733\n",
      "Epoch 4, global step 5: 'val_auc_epoch' reached 0.73333 (best 0.73333), saving model to 'C:\\\\Users\\\\USER\\\\Desktop\\\\projects\\\\python\\\\newsrecommend\\\\SentiRecTest\\\\project\\\\logs\\\\lightning_logs\\\\checkpoints\\\\sentirec\\\\vader_manual1\\\\epoch=4-val_auc_epoch=0.7333.ckpt' as top 3\n"
     ]
    },
    {
     "data": {
      "application/vnd.jupyter.widget-view+json": {
       "model_id": "33a6aa99d3174549bf6e29ea92007fe8",
       "version_major": 2,
       "version_minor": 0
      },
      "text/plain": [
       "Validation: |          | 0/? [00:00<?, ?it/s]"
      ]
     },
     "metadata": {},
     "output_type": "display_data"
    },
    {
     "name": "stderr",
     "output_type": "stream",
     "text": [
      "Metric val_auc_epoch improved by 0.044 >= min_delta = 0.0001. New best score: 0.778\n",
      "Epoch 5, global step 6: 'val_auc_epoch' reached 0.77778 (best 0.77778), saving model to 'C:\\\\Users\\\\USER\\\\Desktop\\\\projects\\\\python\\\\newsrecommend\\\\SentiRecTest\\\\project\\\\logs\\\\lightning_logs\\\\checkpoints\\\\sentirec\\\\vader_manual1\\\\epoch=5-val_auc_epoch=0.7778.ckpt' as top 3\n"
     ]
    },
    {
     "data": {
      "application/vnd.jupyter.widget-view+json": {
       "model_id": "d1049f72b20141c7b2d026d295ed7595",
       "version_major": 2,
       "version_minor": 0
      },
      "text/plain": [
       "Validation: |          | 0/? [00:00<?, ?it/s]"
      ]
     },
     "metadata": {},
     "output_type": "display_data"
    },
    {
     "name": "stderr",
     "output_type": "stream",
     "text": [
      "Metric val_auc_epoch improved by 0.044 >= min_delta = 0.0001. New best score: 0.822\n",
      "Epoch 6, global step 7: 'val_auc_epoch' reached 0.82222 (best 0.82222), saving model to 'C:\\\\Users\\\\USER\\\\Desktop\\\\projects\\\\python\\\\newsrecommend\\\\SentiRecTest\\\\project\\\\logs\\\\lightning_logs\\\\checkpoints\\\\sentirec\\\\vader_manual1\\\\epoch=6-val_auc_epoch=0.8222.ckpt' as top 3\n"
     ]
    },
    {
     "data": {
      "application/vnd.jupyter.widget-view+json": {
       "model_id": "3d7c9c97cfd94632b203d43889701d31",
       "version_major": 2,
       "version_minor": 0
      },
      "text/plain": [
       "Validation: |          | 0/? [00:00<?, ?it/s]"
      ]
     },
     "metadata": {},
     "output_type": "display_data"
    },
    {
     "name": "stderr",
     "output_type": "stream",
     "text": [
      "Epoch 7, global step 8: 'val_auc_epoch' reached 0.82222 (best 0.82222), saving model to 'C:\\\\Users\\\\USER\\\\Desktop\\\\projects\\\\python\\\\newsrecommend\\\\SentiRecTest\\\\project\\\\logs\\\\lightning_logs\\\\checkpoints\\\\sentirec\\\\vader_manual1\\\\epoch=7-val_auc_epoch=0.8222.ckpt' as top 3\n"
     ]
    },
    {
     "data": {
      "application/vnd.jupyter.widget-view+json": {
       "model_id": "cd5fe0beac6e4487a2bc6516bb1d31bf",
       "version_major": 2,
       "version_minor": 0
      },
      "text/plain": [
       "Validation: |          | 0/? [00:00<?, ?it/s]"
      ]
     },
     "metadata": {},
     "output_type": "display_data"
    },
    {
     "name": "stderr",
     "output_type": "stream",
     "text": [
      "Epoch 8, global step 9: 'val_auc_epoch' reached 0.82222 (best 0.82222), saving model to 'C:\\\\Users\\\\USER\\\\Desktop\\\\projects\\\\python\\\\newsrecommend\\\\SentiRecTest\\\\project\\\\logs\\\\lightning_logs\\\\checkpoints\\\\sentirec\\\\vader_manual1\\\\epoch=8-val_auc_epoch=0.8222.ckpt' as top 3\n"
     ]
    },
    {
     "data": {
      "application/vnd.jupyter.widget-view+json": {
       "model_id": "51726beeec2d43bba06da837aaf4f632",
       "version_major": 2,
       "version_minor": 0
      },
      "text/plain": [
       "Validation: |          | 0/? [00:00<?, ?it/s]"
      ]
     },
     "metadata": {},
     "output_type": "display_data"
    },
    {
     "name": "stderr",
     "output_type": "stream",
     "text": [
      "Metric val_auc_epoch improved by 0.022 >= min_delta = 0.0001. New best score: 0.844\n",
      "Epoch 9, global step 10: 'val_auc_epoch' reached 0.84444 (best 0.84444), saving model to 'C:\\\\Users\\\\USER\\\\Desktop\\\\projects\\\\python\\\\newsrecommend\\\\SentiRecTest\\\\project\\\\logs\\\\lightning_logs\\\\checkpoints\\\\sentirec\\\\vader_manual1\\\\epoch=9-val_auc_epoch=0.8444.ckpt' as top 3\n"
     ]
    },
    {
     "data": {
      "application/vnd.jupyter.widget-view+json": {
       "model_id": "656af671d8414c97937b4fefcad2da6c",
       "version_major": 2,
       "version_minor": 0
      },
      "text/plain": [
       "Validation: |          | 0/? [00:00<?, ?it/s]"
      ]
     },
     "metadata": {},
     "output_type": "display_data"
    },
    {
     "name": "stderr",
     "output_type": "stream",
     "text": [
      "Epoch 10, global step 11: 'val_auc_epoch' reached 0.84444 (best 0.84444), saving model to 'C:\\\\Users\\\\USER\\\\Desktop\\\\projects\\\\python\\\\newsrecommend\\\\SentiRecTest\\\\project\\\\logs\\\\lightning_logs\\\\checkpoints\\\\sentirec\\\\vader_manual1\\\\epoch=10-val_auc_epoch=0.8444-v1.ckpt' as top 3\n"
     ]
    },
    {
     "data": {
      "application/vnd.jupyter.widget-view+json": {
       "model_id": "cf32b348df4c430b965233b6c3825e62",
       "version_major": 2,
       "version_minor": 0
      },
      "text/plain": [
       "Validation: |          | 0/? [00:00<?, ?it/s]"
      ]
     },
     "metadata": {},
     "output_type": "display_data"
    },
    {
     "name": "stderr",
     "output_type": "stream",
     "text": [
      "Epoch 11, global step 12: 'val_auc_epoch' reached 0.84444 (best 0.84444), saving model to 'C:\\\\Users\\\\USER\\\\Desktop\\\\projects\\\\python\\\\newsrecommend\\\\SentiRecTest\\\\project\\\\logs\\\\lightning_logs\\\\checkpoints\\\\sentirec\\\\vader_manual1\\\\epoch=11-val_auc_epoch=0.8444-v1.ckpt' as top 3\n"
     ]
    },
    {
     "data": {
      "application/vnd.jupyter.widget-view+json": {
       "model_id": "dba50777793747bea071b006758eeed5",
       "version_major": 2,
       "version_minor": 0
      },
      "text/plain": [
       "Validation: |          | 0/? [00:00<?, ?it/s]"
      ]
     },
     "metadata": {},
     "output_type": "display_data"
    },
    {
     "name": "stderr",
     "output_type": "stream",
     "text": [
      "Metric val_auc_epoch improved by 0.022 >= min_delta = 0.0001. New best score: 0.867\n",
      "Epoch 12, global step 13: 'val_auc_epoch' reached 0.86667 (best 0.86667), saving model to 'C:\\\\Users\\\\USER\\\\Desktop\\\\projects\\\\python\\\\newsrecommend\\\\SentiRecTest\\\\project\\\\logs\\\\lightning_logs\\\\checkpoints\\\\sentirec\\\\vader_manual1\\\\epoch=12-val_auc_epoch=0.8667-v1.ckpt' as top 3\n"
     ]
    },
    {
     "data": {
      "application/vnd.jupyter.widget-view+json": {
       "model_id": "45bd417593c24650bd062912a044e1d0",
       "version_major": 2,
       "version_minor": 0
      },
      "text/plain": [
       "Validation: |          | 0/? [00:00<?, ?it/s]"
      ]
     },
     "metadata": {},
     "output_type": "display_data"
    },
    {
     "name": "stderr",
     "output_type": "stream",
     "text": [
      "Epoch 13, global step 14: 'val_auc_epoch' was not in top 3\n"
     ]
    },
    {
     "data": {
      "application/vnd.jupyter.widget-view+json": {
       "model_id": "387dd6a7e1b647c78f07d65a66e7c8ce",
       "version_major": 2,
       "version_minor": 0
      },
      "text/plain": [
       "Validation: |          | 0/? [00:00<?, ?it/s]"
      ]
     },
     "metadata": {},
     "output_type": "display_data"
    },
    {
     "name": "stderr",
     "output_type": "stream",
     "text": [
      "Epoch 14, global step 15: 'val_auc_epoch' was not in top 3\n"
     ]
    },
    {
     "data": {
      "application/vnd.jupyter.widget-view+json": {
       "model_id": "bd166e971c664c16bab3bcae4219537c",
       "version_major": 2,
       "version_minor": 0
      },
      "text/plain": [
       "Validation: |          | 0/? [00:00<?, ?it/s]"
      ]
     },
     "metadata": {},
     "output_type": "display_data"
    },
    {
     "name": "stderr",
     "output_type": "stream",
     "text": [
      "Epoch 15, global step 16: 'val_auc_epoch' was not in top 3\n"
     ]
    },
    {
     "data": {
      "application/vnd.jupyter.widget-view+json": {
       "model_id": "af574fceab6040d88978057523446cbd",
       "version_major": 2,
       "version_minor": 0
      },
      "text/plain": [
       "Validation: |          | 0/? [00:00<?, ?it/s]"
      ]
     },
     "metadata": {},
     "output_type": "display_data"
    },
    {
     "name": "stderr",
     "output_type": "stream",
     "text": [
      "Epoch 16, global step 17: 'val_auc_epoch' was not in top 3\n"
     ]
    },
    {
     "data": {
      "application/vnd.jupyter.widget-view+json": {
       "model_id": "8f58c2d53784439ab69260bfdd17ee8b",
       "version_major": 2,
       "version_minor": 0
      },
      "text/plain": [
       "Validation: |          | 0/? [00:00<?, ?it/s]"
      ]
     },
     "metadata": {},
     "output_type": "display_data"
    },
    {
     "name": "stderr",
     "output_type": "stream",
     "text": [
      "Monitored metric val_auc_epoch did not improve in the last 5 records. Best score: 0.867. Signaling Trainer to stop.\n",
      "Epoch 17, global step 18: 'val_auc_epoch' was not in top 3\n"
     ]
    }
   ],
   "source": [
    "for_train.start_train(args, model, trainer, train_loader, val_loader)"
   ]
  },
  {
   "cell_type": "code",
   "execution_count": 8,
   "metadata": {},
   "outputs": [
    {
     "data": {
      "text/plain": [
       "200"
      ]
     },
     "execution_count": 8,
     "metadata": {},
     "output_type": "execute_result"
    }
   ],
   "source": [
    "# 한 impression 데이터의 history에 포함된\n",
    "# 모든 뉴스의 제목이 저장된 배치 데이터의 길이.\n",
    "# history가 설정값보다 더 적을 경우,\n",
    "# 빈 공간은 padding값(0)으로 채워집니다.\n",
    "len(train_dataset[0]['h_title'])"
   ]
  },
  {
   "cell_type": "code",
   "execution_count": 9,
   "metadata": {},
   "outputs": [
    {
     "data": {
      "text/plain": [
       "100"
      ]
     },
     "execution_count": 9,
     "metadata": {},
     "output_type": "execute_result"
    }
   ],
   "source": [
    "# 모든 뉴스의 token 길이 또한 고정됩니다.\n",
    "# 마찬가지로 모든 빈칸은 padding값(0)으로 채워집니다. \n",
    "len(train_dataset[0]['h_title'][0])"
   ]
  }
 ],
 "metadata": {
  "kernelspec": {
   "display_name": "newsrec",
   "language": "python",
   "name": "python3"
  },
  "language_info": {
   "codemirror_mode": {
    "name": "ipython",
    "version": 3
   },
   "file_extension": ".py",
   "mimetype": "text/x-python",
   "name": "python",
   "nbconvert_exporter": "python",
   "pygments_lexer": "ipython3",
   "version": "3.9.21"
  }
 },
 "nbformat": 4,
 "nbformat_minor": 2
}
