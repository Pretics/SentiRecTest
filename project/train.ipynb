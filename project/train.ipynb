{
 "cells": [
  {
   "cell_type": "markdown",
   "metadata": {},
   "source": [
    "## Global Settings and Imports"
   ]
  },
  {
   "cell_type": "code",
   "execution_count": 1,
   "metadata": {},
   "outputs": [],
   "source": [
    "# jupyter notebook에서 import 해서 쓰는 모듈의 코드가 변경될 시, 변동 사항을 자동으로 반영해주는 기능 켜기\n",
    "%load_ext autoreload\n",
    "%autoreload 2"
   ]
  },
  {
   "cell_type": "code",
   "execution_count": null,
   "metadata": {},
   "outputs": [],
   "source": [
    "from utils.train_manager import TrainManager, TrainArgs"
   ]
  },
  {
   "cell_type": "markdown",
   "metadata": {},
   "source": [
    "## Prepare parameters"
   ]
  },
  {
   "cell_type": "code",
   "execution_count": null,
   "metadata": {},
   "outputs": [],
   "source": [
    "args = TrainArgs(\n",
    "    config = \"config/model/sentirec/vader_manual1.yaml\",\n",
    "    resume = None\n",
    ")"
   ]
  },
  {
   "cell_type": "markdown",
   "metadata": {},
   "source": [
    "## 1. 원클릭 학습"
   ]
  },
  {
   "cell_type": "code",
   "execution_count": 3,
   "metadata": {},
   "outputs": [
    {
     "name": "stderr",
     "output_type": "stream",
     "text": [
      "Seed set to 1234\n",
      "100%|██████████| 235/235 [00:00<00:00, 18262.80it/s]\n",
      "100%|██████████| 1/1 [00:00<00:00, 999.83it/s]\n",
      "100%|██████████| 235/235 [00:00<00:00, 20866.30it/s]\n",
      "100%|██████████| 1/1 [00:00<00:00, 663.45it/s]\n",
      "100%|██████████| 3246/3246 [00:00<00:00, 22316.34it/s]\n",
      "GPU available: True (cuda), used: True\n",
      "TPU available: False, using: 0 TPU cores\n",
      "HPU available: False, using: 0 HPUs\n"
     ]
    }
   ],
   "source": [
    "train_manager = TrainManager(args)"
   ]
  },
  {
   "cell_type": "code",
   "execution_count": 4,
   "metadata": {},
   "outputs": [
    {
     "name": "stderr",
     "output_type": "stream",
     "text": [
      "c:\\Users\\USER\\anaconda3\\envs\\newsrec\\lib\\site-packages\\pytorch_lightning\\callbacks\\model_checkpoint.py:654: Checkpoint directory C:\\Users\\USER\\Desktop\\projects\\python\\newsrecommend\\SentiRecTest\\project\\logs\\lightning_logs\\checkpoints\\sentirec\\vader_manual1 exists and is not empty.\n",
      "LOCAL_RANK: 0 - CUDA_VISIBLE_DEVICES: [0]\n",
      "\n",
      "   | Name                                   | Type             | Params | Mode \n",
      "-------------------------------------------------------------------------------------\n",
      "0  | news_encoder                           | TimeDistributed  | 1.4 M  | train\n",
      "1  | user_encoder                           | UserEncoder      | 421 K  | train\n",
      "2  | sentiment_predictor                    | Linear           | 301    | train\n",
      "3  | val_performance_metrics                | MetricCollection | 0      | train\n",
      "4  | val_sentiment_diversity_metrics_vader  | MetricCollection | 0      | train\n",
      "5  | val_sentiment_diversity_metrics_bert   | MetricCollection | 0      | train\n",
      "6  | test_performance_metrics               | MetricCollection | 0      | train\n",
      "7  | test_sentiment_diversity_metrics_vader | MetricCollection | 0      | train\n",
      "8  | test_sentiment_diversity_metrics_bert  | MetricCollection | 0      | train\n",
      "9  | test_topic_diversity_metrics           | MetricCollection | 0      | train\n",
      "10 | test_ils_senti_metrics_vader           | MetricCollection | 0      | train\n",
      "11 | test_ils_senti_metrics_bert            | MetricCollection | 0      | train\n",
      "12 | test_ils_topic_metrics                 | MetricCollection | 0      | train\n",
      "-------------------------------------------------------------------------------------\n",
      "1.8 M     Trainable params\n",
      "0         Non-trainable params\n",
      "1.8 M     Total params\n",
      "7.269     Total estimated model params size (MB)\n",
      "52        Modules in train mode\n",
      "0         Modules in eval mode\n"
     ]
    },
    {
     "data": {
      "application/vnd.jupyter.widget-view+json": {
       "model_id": "64197476c601408f819ad1b1ed124012",
       "version_major": 2,
       "version_minor": 0
      },
      "text/plain": [
       "Sanity Checking: |          | 0/? [00:00<?, ?it/s]"
      ]
     },
     "metadata": {},
     "output_type": "display_data"
    },
    {
     "name": "stderr",
     "output_type": "stream",
     "text": [
      "c:\\Users\\USER\\anaconda3\\envs\\newsrec\\lib\\site-packages\\pytorch_lightning\\trainer\\connectors\\data_connector.py:425: The 'val_dataloader' does not have many workers which may be a bottleneck. Consider increasing the value of the `num_workers` argument` to `num_workers=11` in the `DataLoader` to improve performance.\n",
      "c:\\Users\\USER\\anaconda3\\envs\\newsrec\\lib\\site-packages\\pytorch_lightning\\trainer\\connectors\\data_connector.py:425: The 'train_dataloader' does not have many workers which may be a bottleneck. Consider increasing the value of the `num_workers` argument` to `num_workers=11` in the `DataLoader` to improve performance.\n",
      "c:\\Users\\USER\\anaconda3\\envs\\newsrec\\lib\\site-packages\\pytorch_lightning\\loops\\fit_loop.py:310: The number of training batches (1) is smaller than the logging interval Trainer(log_every_n_steps=50). Set a lower value for log_every_n_steps if you want to see logs for the training epoch.\n"
     ]
    },
    {
     "data": {
      "application/vnd.jupyter.widget-view+json": {
       "model_id": "82c71d7d41724142841b7f15507d3fe2",
       "version_major": 2,
       "version_minor": 0
      },
      "text/plain": [
       "Training: |          | 0/? [00:00<?, ?it/s]"
      ]
     },
     "metadata": {},
     "output_type": "display_data"
    },
    {
     "data": {
      "application/vnd.jupyter.widget-view+json": {
       "model_id": "f20e79daecf5475f952e500e6bc26250",
       "version_major": 2,
       "version_minor": 0
      },
      "text/plain": [
       "Validation: |          | 0/? [00:00<?, ?it/s]"
      ]
     },
     "metadata": {},
     "output_type": "display_data"
    },
    {
     "name": "stderr",
     "output_type": "stream",
     "text": [
      "Metric val_auc_epoch improved. New best score: 0.178\n",
      "Epoch 0, global step 1: 'val_auc_epoch' reached 0.17778 (best 0.17778), saving model to 'C:\\\\Users\\\\USER\\\\Desktop\\\\projects\\\\python\\\\newsrecommend\\\\SentiRecTest\\\\project\\\\logs\\\\lightning_logs\\\\checkpoints\\\\sentirec\\\\vader_manual1\\\\epoch=0-val_auc_epoch=0.1778.ckpt' as top 3\n"
     ]
    },
    {
     "data": {
      "application/vnd.jupyter.widget-view+json": {
       "model_id": "7a246f5dfdb04472b068d83cc019fe8d",
       "version_major": 2,
       "version_minor": 0
      },
      "text/plain": [
       "Validation: |          | 0/? [00:00<?, ?it/s]"
      ]
     },
     "metadata": {},
     "output_type": "display_data"
    },
    {
     "name": "stderr",
     "output_type": "stream",
     "text": [
      "Metric val_auc_epoch improved by 0.044 >= min_delta = 0.0001. New best score: 0.222\n",
      "Epoch 1, global step 2: 'val_auc_epoch' reached 0.22222 (best 0.22222), saving model to 'C:\\\\Users\\\\USER\\\\Desktop\\\\projects\\\\python\\\\newsrecommend\\\\SentiRecTest\\\\project\\\\logs\\\\lightning_logs\\\\checkpoints\\\\sentirec\\\\vader_manual1\\\\epoch=1-val_auc_epoch=0.2222.ckpt' as top 3\n"
     ]
    },
    {
     "data": {
      "application/vnd.jupyter.widget-view+json": {
       "model_id": "3b9c09e1554f40aa9e6b354e7d23d3b6",
       "version_major": 2,
       "version_minor": 0
      },
      "text/plain": [
       "Validation: |          | 0/? [00:00<?, ?it/s]"
      ]
     },
     "metadata": {},
     "output_type": "display_data"
    },
    {
     "name": "stderr",
     "output_type": "stream",
     "text": [
      "Metric val_auc_epoch improved by 0.156 >= min_delta = 0.0001. New best score: 0.378\n",
      "Epoch 2, global step 3: 'val_auc_epoch' reached 0.37778 (best 0.37778), saving model to 'C:\\\\Users\\\\USER\\\\Desktop\\\\projects\\\\python\\\\newsrecommend\\\\SentiRecTest\\\\project\\\\logs\\\\lightning_logs\\\\checkpoints\\\\sentirec\\\\vader_manual1\\\\epoch=2-val_auc_epoch=0.3778.ckpt' as top 3\n"
     ]
    },
    {
     "data": {
      "application/vnd.jupyter.widget-view+json": {
       "model_id": "1026a0663a9f4f2bb621b5b0f36be833",
       "version_major": 2,
       "version_minor": 0
      },
      "text/plain": [
       "Validation: |          | 0/? [00:00<?, ?it/s]"
      ]
     },
     "metadata": {},
     "output_type": "display_data"
    },
    {
     "name": "stderr",
     "output_type": "stream",
     "text": [
      "Metric val_auc_epoch improved by 0.311 >= min_delta = 0.0001. New best score: 0.689\n",
      "Epoch 3, global step 4: 'val_auc_epoch' reached 0.68889 (best 0.68889), saving model to 'C:\\\\Users\\\\USER\\\\Desktop\\\\projects\\\\python\\\\newsrecommend\\\\SentiRecTest\\\\project\\\\logs\\\\lightning_logs\\\\checkpoints\\\\sentirec\\\\vader_manual1\\\\epoch=3-val_auc_epoch=0.6889.ckpt' as top 3\n"
     ]
    },
    {
     "data": {
      "application/vnd.jupyter.widget-view+json": {
       "model_id": "d214a0f60c3040138dfbfeb95941be23",
       "version_major": 2,
       "version_minor": 0
      },
      "text/plain": [
       "Validation: |          | 0/? [00:00<?, ?it/s]"
      ]
     },
     "metadata": {},
     "output_type": "display_data"
    },
    {
     "name": "stderr",
     "output_type": "stream",
     "text": [
      "Metric val_auc_epoch improved by 0.044 >= min_delta = 0.0001. New best score: 0.733\n",
      "Epoch 4, global step 5: 'val_auc_epoch' reached 0.73333 (best 0.73333), saving model to 'C:\\\\Users\\\\USER\\\\Desktop\\\\projects\\\\python\\\\newsrecommend\\\\SentiRecTest\\\\project\\\\logs\\\\lightning_logs\\\\checkpoints\\\\sentirec\\\\vader_manual1\\\\epoch=4-val_auc_epoch=0.7333.ckpt' as top 3\n"
     ]
    },
    {
     "data": {
      "application/vnd.jupyter.widget-view+json": {
       "model_id": "afd8d38d6b3949bd8193e4450cf49937",
       "version_major": 2,
       "version_minor": 0
      },
      "text/plain": [
       "Validation: |          | 0/? [00:00<?, ?it/s]"
      ]
     },
     "metadata": {},
     "output_type": "display_data"
    },
    {
     "name": "stderr",
     "output_type": "stream",
     "text": [
      "Metric val_auc_epoch improved by 0.044 >= min_delta = 0.0001. New best score: 0.778\n",
      "Epoch 5, global step 6: 'val_auc_epoch' reached 0.77778 (best 0.77778), saving model to 'C:\\\\Users\\\\USER\\\\Desktop\\\\projects\\\\python\\\\newsrecommend\\\\SentiRecTest\\\\project\\\\logs\\\\lightning_logs\\\\checkpoints\\\\sentirec\\\\vader_manual1\\\\epoch=5-val_auc_epoch=0.7778.ckpt' as top 3\n"
     ]
    },
    {
     "data": {
      "application/vnd.jupyter.widget-view+json": {
       "model_id": "71ea340fa4734089b8516370cca0d28a",
       "version_major": 2,
       "version_minor": 0
      },
      "text/plain": [
       "Validation: |          | 0/? [00:00<?, ?it/s]"
      ]
     },
     "metadata": {},
     "output_type": "display_data"
    },
    {
     "name": "stderr",
     "output_type": "stream",
     "text": [
      "Metric val_auc_epoch improved by 0.044 >= min_delta = 0.0001. New best score: 0.822\n",
      "Epoch 6, global step 7: 'val_auc_epoch' reached 0.82222 (best 0.82222), saving model to 'C:\\\\Users\\\\USER\\\\Desktop\\\\projects\\\\python\\\\newsrecommend\\\\SentiRecTest\\\\project\\\\logs\\\\lightning_logs\\\\checkpoints\\\\sentirec\\\\vader_manual1\\\\epoch=6-val_auc_epoch=0.8222.ckpt' as top 3\n"
     ]
    },
    {
     "data": {
      "application/vnd.jupyter.widget-view+json": {
       "model_id": "36488b2923a54b479d4f19d371c4c383",
       "version_major": 2,
       "version_minor": 0
      },
      "text/plain": [
       "Validation: |          | 0/? [00:00<?, ?it/s]"
      ]
     },
     "metadata": {},
     "output_type": "display_data"
    },
    {
     "name": "stderr",
     "output_type": "stream",
     "text": [
      "Epoch 7, global step 8: 'val_auc_epoch' reached 0.82222 (best 0.82222), saving model to 'C:\\\\Users\\\\USER\\\\Desktop\\\\projects\\\\python\\\\newsrecommend\\\\SentiRecTest\\\\project\\\\logs\\\\lightning_logs\\\\checkpoints\\\\sentirec\\\\vader_manual1\\\\epoch=7-val_auc_epoch=0.8222.ckpt' as top 3\n"
     ]
    },
    {
     "data": {
      "application/vnd.jupyter.widget-view+json": {
       "model_id": "ed0c9ef391914e77b9307f2ed28ff581",
       "version_major": 2,
       "version_minor": 0
      },
      "text/plain": [
       "Validation: |          | 0/? [00:00<?, ?it/s]"
      ]
     },
     "metadata": {},
     "output_type": "display_data"
    },
    {
     "name": "stderr",
     "output_type": "stream",
     "text": [
      "Epoch 8, global step 9: 'val_auc_epoch' reached 0.82222 (best 0.82222), saving model to 'C:\\\\Users\\\\USER\\\\Desktop\\\\projects\\\\python\\\\newsrecommend\\\\SentiRecTest\\\\project\\\\logs\\\\lightning_logs\\\\checkpoints\\\\sentirec\\\\vader_manual1\\\\epoch=8-val_auc_epoch=0.8222.ckpt' as top 3\n"
     ]
    },
    {
     "data": {
      "application/vnd.jupyter.widget-view+json": {
       "model_id": "aba44dac8a344085a09b426726191022",
       "version_major": 2,
       "version_minor": 0
      },
      "text/plain": [
       "Validation: |          | 0/? [00:00<?, ?it/s]"
      ]
     },
     "metadata": {},
     "output_type": "display_data"
    },
    {
     "name": "stderr",
     "output_type": "stream",
     "text": [
      "Metric val_auc_epoch improved by 0.022 >= min_delta = 0.0001. New best score: 0.844\n",
      "Epoch 9, global step 10: 'val_auc_epoch' reached 0.84444 (best 0.84444), saving model to 'C:\\\\Users\\\\USER\\\\Desktop\\\\projects\\\\python\\\\newsrecommend\\\\SentiRecTest\\\\project\\\\logs\\\\lightning_logs\\\\checkpoints\\\\sentirec\\\\vader_manual1\\\\epoch=9-val_auc_epoch=0.8444.ckpt' as top 3\n"
     ]
    },
    {
     "data": {
      "application/vnd.jupyter.widget-view+json": {
       "model_id": "dc348ef1a0b041c7a41c13ab6bd452dc",
       "version_major": 2,
       "version_minor": 0
      },
      "text/plain": [
       "Validation: |          | 0/? [00:00<?, ?it/s]"
      ]
     },
     "metadata": {},
     "output_type": "display_data"
    },
    {
     "name": "stderr",
     "output_type": "stream",
     "text": [
      "Epoch 10, global step 11: 'val_auc_epoch' reached 0.84444 (best 0.84444), saving model to 'C:\\\\Users\\\\USER\\\\Desktop\\\\projects\\\\python\\\\newsrecommend\\\\SentiRecTest\\\\project\\\\logs\\\\lightning_logs\\\\checkpoints\\\\sentirec\\\\vader_manual1\\\\epoch=10-val_auc_epoch=0.8444-v4.ckpt' as top 3\n"
     ]
    },
    {
     "data": {
      "application/vnd.jupyter.widget-view+json": {
       "model_id": "a0d71524997a4dda887878433ead22ae",
       "version_major": 2,
       "version_minor": 0
      },
      "text/plain": [
       "Validation: |          | 0/? [00:00<?, ?it/s]"
      ]
     },
     "metadata": {},
     "output_type": "display_data"
    },
    {
     "name": "stderr",
     "output_type": "stream",
     "text": [
      "Epoch 11, global step 12: 'val_auc_epoch' reached 0.84444 (best 0.84444), saving model to 'C:\\\\Users\\\\USER\\\\Desktop\\\\projects\\\\python\\\\newsrecommend\\\\SentiRecTest\\\\project\\\\logs\\\\lightning_logs\\\\checkpoints\\\\sentirec\\\\vader_manual1\\\\epoch=11-val_auc_epoch=0.8444-v4.ckpt' as top 3\n"
     ]
    },
    {
     "data": {
      "application/vnd.jupyter.widget-view+json": {
       "model_id": "ea29c6932b6e4667ad7bab44854581bd",
       "version_major": 2,
       "version_minor": 0
      },
      "text/plain": [
       "Validation: |          | 0/? [00:00<?, ?it/s]"
      ]
     },
     "metadata": {},
     "output_type": "display_data"
    },
    {
     "name": "stderr",
     "output_type": "stream",
     "text": [
      "Metric val_auc_epoch improved by 0.022 >= min_delta = 0.0001. New best score: 0.867\n",
      "Epoch 12, global step 13: 'val_auc_epoch' reached 0.86667 (best 0.86667), saving model to 'C:\\\\Users\\\\USER\\\\Desktop\\\\projects\\\\python\\\\newsrecommend\\\\SentiRecTest\\\\project\\\\logs\\\\lightning_logs\\\\checkpoints\\\\sentirec\\\\vader_manual1\\\\epoch=12-val_auc_epoch=0.8667-v4.ckpt' as top 3\n"
     ]
    },
    {
     "data": {
      "application/vnd.jupyter.widget-view+json": {
       "model_id": "693649b82eaa42eb835fc020312b1164",
       "version_major": 2,
       "version_minor": 0
      },
      "text/plain": [
       "Validation: |          | 0/? [00:00<?, ?it/s]"
      ]
     },
     "metadata": {},
     "output_type": "display_data"
    },
    {
     "name": "stderr",
     "output_type": "stream",
     "text": [
      "Epoch 13, global step 14: 'val_auc_epoch' was not in top 3\n"
     ]
    },
    {
     "data": {
      "application/vnd.jupyter.widget-view+json": {
       "model_id": "ea7d08c890e24c2e9def9c416518f43f",
       "version_major": 2,
       "version_minor": 0
      },
      "text/plain": [
       "Validation: |          | 0/? [00:00<?, ?it/s]"
      ]
     },
     "metadata": {},
     "output_type": "display_data"
    },
    {
     "name": "stderr",
     "output_type": "stream",
     "text": [
      "Epoch 14, global step 15: 'val_auc_epoch' was not in top 3\n"
     ]
    },
    {
     "data": {
      "application/vnd.jupyter.widget-view+json": {
       "model_id": "9d6e6364faa0486abe8e1d6c194e30d8",
       "version_major": 2,
       "version_minor": 0
      },
      "text/plain": [
       "Validation: |          | 0/? [00:00<?, ?it/s]"
      ]
     },
     "metadata": {},
     "output_type": "display_data"
    },
    {
     "name": "stderr",
     "output_type": "stream",
     "text": [
      "Epoch 15, global step 16: 'val_auc_epoch' was not in top 3\n"
     ]
    },
    {
     "data": {
      "application/vnd.jupyter.widget-view+json": {
       "model_id": "dd63abc5fa71473cae47ee7ffe14118d",
       "version_major": 2,
       "version_minor": 0
      },
      "text/plain": [
       "Validation: |          | 0/? [00:00<?, ?it/s]"
      ]
     },
     "metadata": {},
     "output_type": "display_data"
    },
    {
     "name": "stderr",
     "output_type": "stream",
     "text": [
      "Epoch 16, global step 17: 'val_auc_epoch' was not in top 3\n"
     ]
    },
    {
     "data": {
      "application/vnd.jupyter.widget-view+json": {
       "model_id": "b046464cf6564455a921cb4a9a81cbd3",
       "version_major": 2,
       "version_minor": 0
      },
      "text/plain": [
       "Validation: |          | 0/? [00:00<?, ?it/s]"
      ]
     },
     "metadata": {},
     "output_type": "display_data"
    },
    {
     "name": "stderr",
     "output_type": "stream",
     "text": [
      "Monitored metric val_auc_epoch did not improve in the last 5 records. Best score: 0.867. Signaling Trainer to stop.\n",
      "Epoch 17, global step 18: 'val_auc_epoch' was not in top 3\n"
     ]
    }
   ],
   "source": [
    "train_manager.fit()"
   ]
  },
  {
   "cell_type": "markdown",
   "metadata": {},
   "source": [
    "## 2. 내부 작동 방식 훑어보기"
   ]
  },
  {
   "cell_type": "code",
   "execution_count": null,
   "metadata": {},
   "outputs": [],
   "source": [
    "train_manager = TrainManager()"
   ]
  },
  {
   "cell_type": "markdown",
   "metadata": {},
   "source": [
    "## Load data"
   ]
  },
  {
   "cell_type": "code",
   "execution_count": null,
   "metadata": {},
   "outputs": [
    {
     "name": "stderr",
     "output_type": "stream",
     "text": [
      "100%|██████████| 235/235 [00:00<00:00, 11176.44it/s]\n",
      "100%|██████████| 1/1 [00:00<00:00, 848.02it/s]\n",
      "100%|██████████| 235/235 [00:00<00:00, 16197.15it/s]\n",
      "100%|██████████| 1/1 [00:00<00:00, 1000.55it/s]\n"
     ]
    }
   ],
   "source": [
    "# load config\n",
    "config = train_manager.load_model_config(args)\n",
    "\n",
    "# load data\n",
    "train_dataset, train_loader = train_manager.create_train_dataloader(config)\n",
    "val_dataset, val_loader = train_manager.create_val_dataloader(config)\n",
    "\n",
    "# load embedding pre-trained embedding weights\n",
    "pretrained_word_embedding = train_manager.load_embedding_weights(config)"
   ]
  },
  {
   "cell_type": "markdown",
   "metadata": {},
   "source": [
    "## Create model"
   ]
  },
  {
   "cell_type": "code",
   "execution_count": null,
   "metadata": {},
   "outputs": [
    {
     "name": "stdout",
     "output_type": "stream",
     "text": [
      "sentirec\n"
     ]
    }
   ],
   "source": [
    "print(config.name)\n",
    "model = train_manager.create_model(config, pretrained_word_embedding)"
   ]
  },
  {
   "cell_type": "code",
   "execution_count": 6,
   "metadata": {},
   "outputs": [
    {
     "name": "stderr",
     "output_type": "stream",
     "text": [
      "GPU available: True (cuda), used: True\n",
      "TPU available: False, using: 0 TPU cores\n",
      "HPU available: False, using: 0 HPUs\n"
     ]
    }
   ],
   "source": [
    "trainer = train_manager.create_train_trainer(config)"
   ]
  },
  {
   "cell_type": "markdown",
   "metadata": {},
   "source": [
    "## Train model"
   ]
  },
  {
   "cell_type": "code",
   "execution_count": null,
   "metadata": {},
   "outputs": [
    {
     "name": "stderr",
     "output_type": "stream",
     "text": [
      "c:\\Users\\USER\\anaconda3\\envs\\newsrec\\lib\\site-packages\\pytorch_lightning\\callbacks\\model_checkpoint.py:654: Checkpoint directory C:\\Users\\USER\\Desktop\\projects\\python\\newsrecommend\\SentiRecTest\\project\\logs\\lightning_logs\\checkpoints\\sentirec\\vader_manual1 exists and is not empty.\n",
      "LOCAL_RANK: 0 - CUDA_VISIBLE_DEVICES: [0]\n",
      "\n",
      "   | Name                                   | Type             | Params | Mode \n",
      "-------------------------------------------------------------------------------------\n",
      "0  | news_encoder                           | TimeDistributed  | 1.4 M  | train\n",
      "1  | user_encoder                           | UserEncoder      | 421 K  | train\n",
      "2  | sentiment_predictor                    | Linear           | 301    | train\n",
      "3  | val_performance_metrics                | MetricCollection | 0      | train\n",
      "4  | val_sentiment_diversity_metrics_vader  | MetricCollection | 0      | train\n",
      "5  | val_sentiment_diversity_metrics_bert   | MetricCollection | 0      | train\n",
      "6  | test_performance_metrics               | MetricCollection | 0      | train\n",
      "7  | test_sentiment_diversity_metrics_vader | MetricCollection | 0      | train\n",
      "8  | test_sentiment_diversity_metrics_bert  | MetricCollection | 0      | train\n",
      "9  | test_topic_diversity_metrics           | MetricCollection | 0      | train\n",
      "10 | test_ils_senti_metrics_vader           | MetricCollection | 0      | train\n",
      "11 | test_ils_senti_metrics_bert            | MetricCollection | 0      | train\n",
      "12 | test_ils_topic_metrics                 | MetricCollection | 0      | train\n",
      "-------------------------------------------------------------------------------------\n",
      "1.8 M     Trainable params\n",
      "0         Non-trainable params\n",
      "1.8 M     Total params\n",
      "7.269     Total estimated model params size (MB)\n",
      "52        Modules in train mode\n",
      "0         Modules in eval mode\n"
     ]
    },
    {
     "data": {
      "application/vnd.jupyter.widget-view+json": {
       "model_id": "e65de93323ad4b4187e1db18bedece6d",
       "version_major": 2,
       "version_minor": 0
      },
      "text/plain": [
       "Sanity Checking: |          | 0/? [00:00<?, ?it/s]"
      ]
     },
     "metadata": {},
     "output_type": "display_data"
    },
    {
     "name": "stderr",
     "output_type": "stream",
     "text": [
      "c:\\Users\\USER\\anaconda3\\envs\\newsrec\\lib\\site-packages\\pytorch_lightning\\trainer\\connectors\\data_connector.py:425: The 'val_dataloader' does not have many workers which may be a bottleneck. Consider increasing the value of the `num_workers` argument` to `num_workers=11` in the `DataLoader` to improve performance.\n",
      "c:\\Users\\USER\\anaconda3\\envs\\newsrec\\lib\\site-packages\\pytorch_lightning\\trainer\\connectors\\data_connector.py:425: The 'train_dataloader' does not have many workers which may be a bottleneck. Consider increasing the value of the `num_workers` argument` to `num_workers=11` in the `DataLoader` to improve performance.\n",
      "c:\\Users\\USER\\anaconda3\\envs\\newsrec\\lib\\site-packages\\pytorch_lightning\\loops\\fit_loop.py:310: The number of training batches (1) is smaller than the logging interval Trainer(log_every_n_steps=50). Set a lower value for log_every_n_steps if you want to see logs for the training epoch.\n"
     ]
    },
    {
     "data": {
      "application/vnd.jupyter.widget-view+json": {
       "model_id": "29658b0188184e899704635d05d62f5f",
       "version_major": 2,
       "version_minor": 0
      },
      "text/plain": [
       "Training: |          | 0/? [00:00<?, ?it/s]"
      ]
     },
     "metadata": {},
     "output_type": "display_data"
    },
    {
     "data": {
      "application/vnd.jupyter.widget-view+json": {
       "model_id": "4855dc4739764e059d7ebbb328a6badd",
       "version_major": 2,
       "version_minor": 0
      },
      "text/plain": [
       "Validation: |          | 0/? [00:00<?, ?it/s]"
      ]
     },
     "metadata": {},
     "output_type": "display_data"
    },
    {
     "name": "stderr",
     "output_type": "stream",
     "text": [
      "Metric val_auc_epoch improved. New best score: 0.178\n",
      "Epoch 0, global step 1: 'val_auc_epoch' reached 0.17778 (best 0.17778), saving model to 'C:\\\\Users\\\\USER\\\\Desktop\\\\projects\\\\python\\\\newsrecommend\\\\SentiRecTest\\\\project\\\\logs\\\\lightning_logs\\\\checkpoints\\\\sentirec\\\\vader_manual1\\\\epoch=0-val_auc_epoch=0.1778.ckpt' as top 3\n"
     ]
    },
    {
     "data": {
      "application/vnd.jupyter.widget-view+json": {
       "model_id": "4ea422ac5a744e3d8d2b114a80ee2ffd",
       "version_major": 2,
       "version_minor": 0
      },
      "text/plain": [
       "Validation: |          | 0/? [00:00<?, ?it/s]"
      ]
     },
     "metadata": {},
     "output_type": "display_data"
    },
    {
     "name": "stderr",
     "output_type": "stream",
     "text": [
      "Metric val_auc_epoch improved by 0.044 >= min_delta = 0.0001. New best score: 0.222\n",
      "Epoch 1, global step 2: 'val_auc_epoch' reached 0.22222 (best 0.22222), saving model to 'C:\\\\Users\\\\USER\\\\Desktop\\\\projects\\\\python\\\\newsrecommend\\\\SentiRecTest\\\\project\\\\logs\\\\lightning_logs\\\\checkpoints\\\\sentirec\\\\vader_manual1\\\\epoch=1-val_auc_epoch=0.2222.ckpt' as top 3\n"
     ]
    },
    {
     "data": {
      "application/vnd.jupyter.widget-view+json": {
       "model_id": "d2b32ddf50b84e6695c0f4649efcbe9a",
       "version_major": 2,
       "version_minor": 0
      },
      "text/plain": [
       "Validation: |          | 0/? [00:00<?, ?it/s]"
      ]
     },
     "metadata": {},
     "output_type": "display_data"
    },
    {
     "name": "stderr",
     "output_type": "stream",
     "text": [
      "Metric val_auc_epoch improved by 0.156 >= min_delta = 0.0001. New best score: 0.378\n",
      "Epoch 2, global step 3: 'val_auc_epoch' reached 0.37778 (best 0.37778), saving model to 'C:\\\\Users\\\\USER\\\\Desktop\\\\projects\\\\python\\\\newsrecommend\\\\SentiRecTest\\\\project\\\\logs\\\\lightning_logs\\\\checkpoints\\\\sentirec\\\\vader_manual1\\\\epoch=2-val_auc_epoch=0.3778.ckpt' as top 3\n"
     ]
    },
    {
     "data": {
      "application/vnd.jupyter.widget-view+json": {
       "model_id": "f67797233db14a269189362eb82f7c9e",
       "version_major": 2,
       "version_minor": 0
      },
      "text/plain": [
       "Validation: |          | 0/? [00:00<?, ?it/s]"
      ]
     },
     "metadata": {},
     "output_type": "display_data"
    },
    {
     "name": "stderr",
     "output_type": "stream",
     "text": [
      "Metric val_auc_epoch improved by 0.311 >= min_delta = 0.0001. New best score: 0.689\n",
      "Epoch 3, global step 4: 'val_auc_epoch' reached 0.68889 (best 0.68889), saving model to 'C:\\\\Users\\\\USER\\\\Desktop\\\\projects\\\\python\\\\newsrecommend\\\\SentiRecTest\\\\project\\\\logs\\\\lightning_logs\\\\checkpoints\\\\sentirec\\\\vader_manual1\\\\epoch=3-val_auc_epoch=0.6889.ckpt' as top 3\n"
     ]
    },
    {
     "data": {
      "application/vnd.jupyter.widget-view+json": {
       "model_id": "e1795a1b76044ea0a72aa847c9a86394",
       "version_major": 2,
       "version_minor": 0
      },
      "text/plain": [
       "Validation: |          | 0/? [00:00<?, ?it/s]"
      ]
     },
     "metadata": {},
     "output_type": "display_data"
    },
    {
     "name": "stderr",
     "output_type": "stream",
     "text": [
      "Metric val_auc_epoch improved by 0.044 >= min_delta = 0.0001. New best score: 0.733\n",
      "Epoch 4, global step 5: 'val_auc_epoch' reached 0.73333 (best 0.73333), saving model to 'C:\\\\Users\\\\USER\\\\Desktop\\\\projects\\\\python\\\\newsrecommend\\\\SentiRecTest\\\\project\\\\logs\\\\lightning_logs\\\\checkpoints\\\\sentirec\\\\vader_manual1\\\\epoch=4-val_auc_epoch=0.7333.ckpt' as top 3\n"
     ]
    },
    {
     "data": {
      "application/vnd.jupyter.widget-view+json": {
       "model_id": "7c42d22f474d450b9d91f51f448d7202",
       "version_major": 2,
       "version_minor": 0
      },
      "text/plain": [
       "Validation: |          | 0/? [00:00<?, ?it/s]"
      ]
     },
     "metadata": {},
     "output_type": "display_data"
    },
    {
     "name": "stderr",
     "output_type": "stream",
     "text": [
      "Metric val_auc_epoch improved by 0.044 >= min_delta = 0.0001. New best score: 0.778\n",
      "Epoch 5, global step 6: 'val_auc_epoch' reached 0.77778 (best 0.77778), saving model to 'C:\\\\Users\\\\USER\\\\Desktop\\\\projects\\\\python\\\\newsrecommend\\\\SentiRecTest\\\\project\\\\logs\\\\lightning_logs\\\\checkpoints\\\\sentirec\\\\vader_manual1\\\\epoch=5-val_auc_epoch=0.7778.ckpt' as top 3\n"
     ]
    },
    {
     "data": {
      "application/vnd.jupyter.widget-view+json": {
       "model_id": "398fa6a4db3743a2adab6b0f3b6e8726",
       "version_major": 2,
       "version_minor": 0
      },
      "text/plain": [
       "Validation: |          | 0/? [00:00<?, ?it/s]"
      ]
     },
     "metadata": {},
     "output_type": "display_data"
    },
    {
     "name": "stderr",
     "output_type": "stream",
     "text": [
      "Metric val_auc_epoch improved by 0.044 >= min_delta = 0.0001. New best score: 0.822\n",
      "Epoch 6, global step 7: 'val_auc_epoch' reached 0.82222 (best 0.82222), saving model to 'C:\\\\Users\\\\USER\\\\Desktop\\\\projects\\\\python\\\\newsrecommend\\\\SentiRecTest\\\\project\\\\logs\\\\lightning_logs\\\\checkpoints\\\\sentirec\\\\vader_manual1\\\\epoch=6-val_auc_epoch=0.8222.ckpt' as top 3\n"
     ]
    },
    {
     "data": {
      "application/vnd.jupyter.widget-view+json": {
       "model_id": "840bd657c2a148abbde303f9d526a3a5",
       "version_major": 2,
       "version_minor": 0
      },
      "text/plain": [
       "Validation: |          | 0/? [00:00<?, ?it/s]"
      ]
     },
     "metadata": {},
     "output_type": "display_data"
    },
    {
     "name": "stderr",
     "output_type": "stream",
     "text": [
      "Epoch 7, global step 8: 'val_auc_epoch' reached 0.82222 (best 0.82222), saving model to 'C:\\\\Users\\\\USER\\\\Desktop\\\\projects\\\\python\\\\newsrecommend\\\\SentiRecTest\\\\project\\\\logs\\\\lightning_logs\\\\checkpoints\\\\sentirec\\\\vader_manual1\\\\epoch=7-val_auc_epoch=0.8222.ckpt' as top 3\n"
     ]
    },
    {
     "data": {
      "application/vnd.jupyter.widget-view+json": {
       "model_id": "d5243cf8bcdd428d9a5a085c311a5c19",
       "version_major": 2,
       "version_minor": 0
      },
      "text/plain": [
       "Validation: |          | 0/? [00:00<?, ?it/s]"
      ]
     },
     "metadata": {},
     "output_type": "display_data"
    },
    {
     "name": "stderr",
     "output_type": "stream",
     "text": [
      "Epoch 8, global step 9: 'val_auc_epoch' reached 0.82222 (best 0.82222), saving model to 'C:\\\\Users\\\\USER\\\\Desktop\\\\projects\\\\python\\\\newsrecommend\\\\SentiRecTest\\\\project\\\\logs\\\\lightning_logs\\\\checkpoints\\\\sentirec\\\\vader_manual1\\\\epoch=8-val_auc_epoch=0.8222.ckpt' as top 3\n"
     ]
    },
    {
     "data": {
      "application/vnd.jupyter.widget-view+json": {
       "model_id": "5b6ea87fa0dd489aa5e0dc3cf29bc0ac",
       "version_major": 2,
       "version_minor": 0
      },
      "text/plain": [
       "Validation: |          | 0/? [00:00<?, ?it/s]"
      ]
     },
     "metadata": {},
     "output_type": "display_data"
    },
    {
     "name": "stderr",
     "output_type": "stream",
     "text": [
      "Metric val_auc_epoch improved by 0.022 >= min_delta = 0.0001. New best score: 0.844\n",
      "Epoch 9, global step 10: 'val_auc_epoch' reached 0.84444 (best 0.84444), saving model to 'C:\\\\Users\\\\USER\\\\Desktop\\\\projects\\\\python\\\\newsrecommend\\\\SentiRecTest\\\\project\\\\logs\\\\lightning_logs\\\\checkpoints\\\\sentirec\\\\vader_manual1\\\\epoch=9-val_auc_epoch=0.8444.ckpt' as top 3\n"
     ]
    },
    {
     "data": {
      "application/vnd.jupyter.widget-view+json": {
       "model_id": "ffa2f6dffa584ddab4929cacea056ff5",
       "version_major": 2,
       "version_minor": 0
      },
      "text/plain": [
       "Validation: |          | 0/? [00:00<?, ?it/s]"
      ]
     },
     "metadata": {},
     "output_type": "display_data"
    },
    {
     "name": "stderr",
     "output_type": "stream",
     "text": [
      "Epoch 10, global step 11: 'val_auc_epoch' reached 0.84444 (best 0.84444), saving model to 'C:\\\\Users\\\\USER\\\\Desktop\\\\projects\\\\python\\\\newsrecommend\\\\SentiRecTest\\\\project\\\\logs\\\\lightning_logs\\\\checkpoints\\\\sentirec\\\\vader_manual1\\\\epoch=10-val_auc_epoch=0.8444-v2.ckpt' as top 3\n"
     ]
    },
    {
     "data": {
      "application/vnd.jupyter.widget-view+json": {
       "model_id": "708a0f385e3b4fbe98c81483b27f7626",
       "version_major": 2,
       "version_minor": 0
      },
      "text/plain": [
       "Validation: |          | 0/? [00:00<?, ?it/s]"
      ]
     },
     "metadata": {},
     "output_type": "display_data"
    },
    {
     "name": "stderr",
     "output_type": "stream",
     "text": [
      "Epoch 11, global step 12: 'val_auc_epoch' reached 0.84444 (best 0.84444), saving model to 'C:\\\\Users\\\\USER\\\\Desktop\\\\projects\\\\python\\\\newsrecommend\\\\SentiRecTest\\\\project\\\\logs\\\\lightning_logs\\\\checkpoints\\\\sentirec\\\\vader_manual1\\\\epoch=11-val_auc_epoch=0.8444-v2.ckpt' as top 3\n"
     ]
    },
    {
     "data": {
      "application/vnd.jupyter.widget-view+json": {
       "model_id": "55d715650682417787c8291cfb323b04",
       "version_major": 2,
       "version_minor": 0
      },
      "text/plain": [
       "Validation: |          | 0/? [00:00<?, ?it/s]"
      ]
     },
     "metadata": {},
     "output_type": "display_data"
    },
    {
     "name": "stderr",
     "output_type": "stream",
     "text": [
      "Metric val_auc_epoch improved by 0.022 >= min_delta = 0.0001. New best score: 0.867\n",
      "Epoch 12, global step 13: 'val_auc_epoch' reached 0.86667 (best 0.86667), saving model to 'C:\\\\Users\\\\USER\\\\Desktop\\\\projects\\\\python\\\\newsrecommend\\\\SentiRecTest\\\\project\\\\logs\\\\lightning_logs\\\\checkpoints\\\\sentirec\\\\vader_manual1\\\\epoch=12-val_auc_epoch=0.8667-v2.ckpt' as top 3\n"
     ]
    },
    {
     "data": {
      "application/vnd.jupyter.widget-view+json": {
       "model_id": "e5822ae4266a4cbf9d3d1ab96c3c3eb9",
       "version_major": 2,
       "version_minor": 0
      },
      "text/plain": [
       "Validation: |          | 0/? [00:00<?, ?it/s]"
      ]
     },
     "metadata": {},
     "output_type": "display_data"
    },
    {
     "name": "stderr",
     "output_type": "stream",
     "text": [
      "Epoch 13, global step 14: 'val_auc_epoch' was not in top 3\n"
     ]
    },
    {
     "data": {
      "application/vnd.jupyter.widget-view+json": {
       "model_id": "a2e6a79c0faa406da38e7ee8b5583b21",
       "version_major": 2,
       "version_minor": 0
      },
      "text/plain": [
       "Validation: |          | 0/? [00:00<?, ?it/s]"
      ]
     },
     "metadata": {},
     "output_type": "display_data"
    },
    {
     "name": "stderr",
     "output_type": "stream",
     "text": [
      "Epoch 14, global step 15: 'val_auc_epoch' was not in top 3\n"
     ]
    },
    {
     "data": {
      "application/vnd.jupyter.widget-view+json": {
       "model_id": "8cbcabd469e541fda22a80d2e19eb001",
       "version_major": 2,
       "version_minor": 0
      },
      "text/plain": [
       "Validation: |          | 0/? [00:00<?, ?it/s]"
      ]
     },
     "metadata": {},
     "output_type": "display_data"
    },
    {
     "name": "stderr",
     "output_type": "stream",
     "text": [
      "Epoch 15, global step 16: 'val_auc_epoch' was not in top 3\n"
     ]
    },
    {
     "data": {
      "application/vnd.jupyter.widget-view+json": {
       "model_id": "37c92bff96884be49a5fe4a3924224e3",
       "version_major": 2,
       "version_minor": 0
      },
      "text/plain": [
       "Validation: |          | 0/? [00:00<?, ?it/s]"
      ]
     },
     "metadata": {},
     "output_type": "display_data"
    },
    {
     "name": "stderr",
     "output_type": "stream",
     "text": [
      "Epoch 16, global step 17: 'val_auc_epoch' was not in top 3\n"
     ]
    },
    {
     "data": {
      "application/vnd.jupyter.widget-view+json": {
       "model_id": "d3397d0c4b1b4825aaaf2c79aa7ea05a",
       "version_major": 2,
       "version_minor": 0
      },
      "text/plain": [
       "Validation: |          | 0/? [00:00<?, ?it/s]"
      ]
     },
     "metadata": {},
     "output_type": "display_data"
    },
    {
     "name": "stderr",
     "output_type": "stream",
     "text": [
      "Monitored metric val_auc_epoch did not improve in the last 5 records. Best score: 0.867. Signaling Trainer to stop.\n",
      "Epoch 17, global step 18: 'val_auc_epoch' was not in top 3\n"
     ]
    }
   ],
   "source": [
    "train_manager.start_train(args, model, trainer, train_loader, val_loader)"
   ]
  },
  {
   "cell_type": "markdown",
   "metadata": {},
   "source": [
    "### 기타 테스트용 코드"
   ]
  },
  {
   "cell_type": "code",
   "execution_count": 8,
   "metadata": {},
   "outputs": [
    {
     "data": {
      "text/plain": [
       "200"
      ]
     },
     "execution_count": 8,
     "metadata": {},
     "output_type": "execute_result"
    }
   ],
   "source": [
    "# 한 impression 데이터의 history에 포함된\n",
    "# 모든 뉴스의 제목이 저장된 배치 데이터의 길이.\n",
    "# history가 설정값보다 더 적을 경우,\n",
    "# 빈 공간은 padding값(0)으로 채워집니다.\n",
    "len(train_dataset[0]['h_title'])"
   ]
  },
  {
   "cell_type": "code",
   "execution_count": 9,
   "metadata": {},
   "outputs": [
    {
     "data": {
      "text/plain": [
       "100"
      ]
     },
     "execution_count": 9,
     "metadata": {},
     "output_type": "execute_result"
    }
   ],
   "source": [
    "# 모든 뉴스의 token 길이 또한 고정됩니다.\n",
    "# 마찬가지로 모든 빈칸은 padding값(0)으로 채워집니다. \n",
    "len(train_dataset[0]['h_title'][0])"
   ]
  }
 ],
 "metadata": {
  "kernelspec": {
   "display_name": "newsrec",
   "language": "python",
   "name": "python3"
  },
  "language_info": {
   "codemirror_mode": {
    "name": "ipython",
    "version": 3
   },
   "file_extension": ".py",
   "mimetype": "text/x-python",
   "name": "python",
   "nbconvert_exporter": "python",
   "pygments_lexer": "ipython3",
   "version": "3.9.21"
  }
 },
 "nbformat": 4,
 "nbformat_minor": 2
}
