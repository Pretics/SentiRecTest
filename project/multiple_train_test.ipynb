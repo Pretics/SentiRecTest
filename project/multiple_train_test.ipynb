{
 "cells": [
  {
   "cell_type": "markdown",
   "metadata": {},
   "source": [
    "## Global Settings and Imports"
   ]
  },
  {
   "cell_type": "code",
   "execution_count": 1,
   "metadata": {},
   "outputs": [],
   "source": [
    "# jupyter notebook에서 import 해서 쓰는 모듈의 코드가 변경될 시, 변동 사항을 자동으로 반영해주는 기능 켜기\n",
    "%load_ext autoreload\n",
    "%autoreload 2"
   ]
  },
  {
   "cell_type": "code",
   "execution_count": 17,
   "metadata": {},
   "outputs": [],
   "source": [
    "from utils.model_manager import ModelManager, ManagerArgs"
   ]
  },
  {
   "cell_type": "markdown",
   "metadata": {},
   "source": [
    "## Prepare parameters"
   ]
  },
  {
   "cell_type": "code",
   "execution_count": 18,
   "metadata": {},
   "outputs": [],
   "source": [
    "args = [\n",
    "    ManagerArgs(\n",
    "        config_path = \"config/model/sentirec/vader_manual1.yaml\"\n",
    "    ),\n",
    "    ManagerArgs(\n",
    "        config_path = \"config/model/nrms/exp_manual1.yaml\"\n",
    "    )\n",
    "]"
   ]
  },
  {
   "cell_type": "markdown",
   "metadata": {},
   "source": [
    "## 1. 다중 args 인가"
   ]
  },
  {
   "cell_type": "code",
   "execution_count": 20,
   "metadata": {},
   "outputs": [
    {
     "name": "stderr",
     "output_type": "stream",
     "text": [
      "Seed set to 1234\n",
      "100%|██████████| 35990/35990 [00:01<00:00, 22463.62it/s]\n",
      "100%|██████████| 17890/17890 [00:00<00:00, 24948.76it/s]\n",
      "100%|██████████| 3935/3935 [00:00<00:00, 4678.75it/s]\n",
      "100%|██████████| 17890/17890 [00:00<00:00, 24962.62it/s]\n",
      "100%|██████████| 300/300 [00:00<00:00, 2716.93it/s]\n",
      "GPU available: True (cuda), used: True\n",
      "TPU available: False, using: 0 TPU cores\n",
      "HPU available: False, using: 0 HPUs\n"
     ]
    }
   ],
   "source": [
    "model_manager = ModelManager(args)"
   ]
  },
  {
   "cell_type": "markdown",
   "metadata": {},
   "source": [
    "## 2. Train and Test"
   ]
  },
  {
   "cell_type": "code",
   "execution_count": 21,
   "metadata": {},
   "outputs": [
    {
     "name": "stderr",
     "output_type": "stream",
     "text": [
      "Seed set to 1234\n",
      "100%|██████████| 35990/35990 [00:01<00:00, 22545.31it/s]\n",
      "100%|██████████| 17890/17890 [00:00<00:00, 24629.21it/s]\n",
      "100%|██████████| 3935/3935 [00:00<00:00, 4673.54it/s]\n",
      "100%|██████████| 17890/17890 [00:00<00:00, 24743.39it/s]\n",
      "100%|██████████| 300/300 [00:00<00:00, 2691.83it/s]\n",
      "GPU available: True (cuda), used: True\n",
      "TPU available: False, using: 0 TPU cores\n",
      "HPU available: False, using: 0 HPUs\n",
      "c:\\Users\\USER\\anaconda3\\envs\\newsrec\\lib\\site-packages\\pytorch_lightning\\callbacks\\model_checkpoint.py:654: Checkpoint directory C:\\Users\\USER\\Desktop\\projects\\python\\newsrecommend\\SentiRecTest\\project\\logs\\lightning_logs\\checkpoints\\sentirec\\vader_manual1 exists and is not empty.\n",
      "LOCAL_RANK: 0 - CUDA_VISIBLE_DEVICES: [0]\n",
      "\n",
      "   | Name                                   | Type             | Params | Mode \n",
      "-------------------------------------------------------------------------------------\n",
      "0  | news_encoder                           | TimeDistributed  | 11.2 M | train\n",
      "1  | user_encoder                           | UserEncoder      | 421 K  | train\n",
      "2  | sentiment_predictor                    | Linear           | 301    | train\n",
      "3  | val_performance_metrics                | MetricCollection | 0      | train\n",
      "4  | val_sentiment_diversity_metrics_vader  | MetricCollection | 0      | train\n",
      "5  | val_sentiment_diversity_metrics_bert   | MetricCollection | 0      | train\n",
      "6  | test_performance_metrics               | MetricCollection | 0      | train\n",
      "7  | test_sentiment_diversity_metrics_vader | MetricCollection | 0      | train\n",
      "8  | test_sentiment_diversity_metrics_bert  | MetricCollection | 0      | train\n",
      "9  | test_topic_diversity_metrics           | MetricCollection | 0      | train\n",
      "10 | test_ils_senti_metrics_vader           | MetricCollection | 0      | train\n",
      "11 | test_ils_senti_metrics_bert            | MetricCollection | 0      | train\n",
      "12 | test_ils_topic_metrics                 | MetricCollection | 0      | train\n",
      "-------------------------------------------------------------------------------------\n",
      "11.6 M    Trainable params\n",
      "0         Non-trainable params\n",
      "11.6 M    Total params\n",
      "46.562    Total estimated model params size (MB)\n",
      "52        Modules in train mode\n",
      "0         Modules in eval mode\n"
     ]
    },
    {
     "name": "stdout",
     "output_type": "stream",
     "text": [
      "Sanity Checking DataLoader 0:  50%|█████     | 1/2 [00:00<00:00, 17.52it/s]"
     ]
    },
    {
     "name": "stderr",
     "output_type": "stream",
     "text": [
      "c:\\Users\\USER\\anaconda3\\envs\\newsrec\\lib\\site-packages\\pytorch_lightning\\trainer\\connectors\\data_connector.py:425: The 'val_dataloader' does not have many workers which may be a bottleneck. Consider increasing the value of the `num_workers` argument` to `num_workers=11` in the `DataLoader` to improve performance.\n"
     ]
    },
    {
     "name": "stdout",
     "output_type": "stream",
     "text": [
      "                                                                           "
     ]
    },
    {
     "name": "stderr",
     "output_type": "stream",
     "text": [
      "c:\\Users\\USER\\anaconda3\\envs\\newsrec\\lib\\site-packages\\pytorch_lightning\\trainer\\connectors\\data_connector.py:425: The 'train_dataloader' does not have many workers which may be a bottleneck. Consider increasing the value of the `num_workers` argument` to `num_workers=11` in the `DataLoader` to improve performance.\n"
     ]
    },
    {
     "name": "stdout",
     "output_type": "stream",
     "text": [
      "Epoch 0: 100%|██████████| 491/491 [00:14<00:00, 34.15it/s, v_num=ual1]"
     ]
    },
    {
     "name": "stderr",
     "output_type": "stream",
     "text": [
      "Metric val_auc_epoch improved. New best score: 0.535\n",
      "Epoch 0, global step 491: 'val_auc_epoch' reached 0.53477 (best 0.53477), saving model to 'C:\\\\Users\\\\USER\\\\Desktop\\\\projects\\\\python\\\\newsrecommend\\\\SentiRecTest\\\\project\\\\logs\\\\lightning_logs\\\\checkpoints\\\\sentirec\\\\vader_manual1\\\\epoch=0-val_auc_epoch=0.5348.ckpt' as top 3\n"
     ]
    },
    {
     "name": "stdout",
     "output_type": "stream",
     "text": [
      "Epoch 1: 100%|██████████| 491/491 [00:14<00:00, 34.85it/s, v_num=ual1]"
     ]
    },
    {
     "name": "stderr",
     "output_type": "stream",
     "text": [
      "Metric val_auc_epoch improved by 0.013 >= min_delta = 0.0001. New best score: 0.548\n",
      "Epoch 1, global step 982: 'val_auc_epoch' reached 0.54756 (best 0.54756), saving model to 'C:\\\\Users\\\\USER\\\\Desktop\\\\projects\\\\python\\\\newsrecommend\\\\SentiRecTest\\\\project\\\\logs\\\\lightning_logs\\\\checkpoints\\\\sentirec\\\\vader_manual1\\\\epoch=1-val_auc_epoch=0.5476.ckpt' as top 3\n"
     ]
    },
    {
     "name": "stdout",
     "output_type": "stream",
     "text": [
      "Epoch 2: 100%|██████████| 491/491 [00:15<00:00, 31.61it/s, v_num=ual1]"
     ]
    },
    {
     "name": "stderr",
     "output_type": "stream",
     "text": [
      "Metric val_auc_epoch improved by 0.002 >= min_delta = 0.0001. New best score: 0.550\n",
      "Epoch 2, global step 1473: 'val_auc_epoch' reached 0.55003 (best 0.55003), saving model to 'C:\\\\Users\\\\USER\\\\Desktop\\\\projects\\\\python\\\\newsrecommend\\\\SentiRecTest\\\\project\\\\logs\\\\lightning_logs\\\\checkpoints\\\\sentirec\\\\vader_manual1\\\\epoch=2-val_auc_epoch=0.5500.ckpt' as top 3\n"
     ]
    },
    {
     "name": "stdout",
     "output_type": "stream",
     "text": [
      "Epoch 3: 100%|██████████| 491/491 [00:14<00:00, 34.73it/s, v_num=ual1]"
     ]
    },
    {
     "name": "stderr",
     "output_type": "stream",
     "text": [
      "Metric val_auc_epoch improved by 0.008 >= min_delta = 0.0001. New best score: 0.558\n",
      "Epoch 3, global step 1964: 'val_auc_epoch' reached 0.55765 (best 0.55765), saving model to 'C:\\\\Users\\\\USER\\\\Desktop\\\\projects\\\\python\\\\newsrecommend\\\\SentiRecTest\\\\project\\\\logs\\\\lightning_logs\\\\checkpoints\\\\sentirec\\\\vader_manual1\\\\epoch=3-val_auc_epoch=0.5577.ckpt' as top 3\n"
     ]
    },
    {
     "name": "stdout",
     "output_type": "stream",
     "text": [
      "Epoch 4: 100%|██████████| 491/491 [00:16<00:00, 29.61it/s, v_num=ual1]"
     ]
    },
    {
     "name": "stderr",
     "output_type": "stream",
     "text": [
      "Metric val_auc_epoch improved by 0.008 >= min_delta = 0.0001. New best score: 0.565\n",
      "Epoch 4, global step 2455: 'val_auc_epoch' reached 0.56547 (best 0.56547), saving model to 'C:\\\\Users\\\\USER\\\\Desktop\\\\projects\\\\python\\\\newsrecommend\\\\SentiRecTest\\\\project\\\\logs\\\\lightning_logs\\\\checkpoints\\\\sentirec\\\\vader_manual1\\\\epoch=4-val_auc_epoch=0.5655.ckpt' as top 3\n"
     ]
    },
    {
     "name": "stdout",
     "output_type": "stream",
     "text": [
      "Epoch 5: 100%|██████████| 491/491 [00:15<00:00, 31.01it/s, v_num=ual1]"
     ]
    },
    {
     "name": "stderr",
     "output_type": "stream",
     "text": [
      "Metric val_auc_epoch improved by 0.011 >= min_delta = 0.0001. New best score: 0.576\n",
      "Epoch 5, global step 2946: 'val_auc_epoch' reached 0.57621 (best 0.57621), saving model to 'C:\\\\Users\\\\USER\\\\Desktop\\\\projects\\\\python\\\\newsrecommend\\\\SentiRecTest\\\\project\\\\logs\\\\lightning_logs\\\\checkpoints\\\\sentirec\\\\vader_manual1\\\\epoch=5-val_auc_epoch=0.5762.ckpt' as top 3\n"
     ]
    },
    {
     "name": "stdout",
     "output_type": "stream",
     "text": [
      "Epoch 6: 100%|██████████| 491/491 [00:15<00:00, 32.72it/s, v_num=ual1]"
     ]
    },
    {
     "name": "stderr",
     "output_type": "stream",
     "text": [
      "Metric val_auc_epoch improved by 0.009 >= min_delta = 0.0001. New best score: 0.585\n",
      "Epoch 6, global step 3437: 'val_auc_epoch' reached 0.58513 (best 0.58513), saving model to 'C:\\\\Users\\\\USER\\\\Desktop\\\\projects\\\\python\\\\newsrecommend\\\\SentiRecTest\\\\project\\\\logs\\\\lightning_logs\\\\checkpoints\\\\sentirec\\\\vader_manual1\\\\epoch=6-val_auc_epoch=0.5851.ckpt' as top 3\n"
     ]
    },
    {
     "name": "stdout",
     "output_type": "stream",
     "text": [
      "Epoch 7: 100%|██████████| 491/491 [00:15<00:00, 31.50it/s, v_num=ual1]"
     ]
    },
    {
     "name": "stderr",
     "output_type": "stream",
     "text": [
      "Metric val_auc_epoch improved by 0.029 >= min_delta = 0.0001. New best score: 0.614\n",
      "Epoch 7, global step 3928: 'val_auc_epoch' reached 0.61364 (best 0.61364), saving model to 'C:\\\\Users\\\\USER\\\\Desktop\\\\projects\\\\python\\\\newsrecommend\\\\SentiRecTest\\\\project\\\\logs\\\\lightning_logs\\\\checkpoints\\\\sentirec\\\\vader_manual1\\\\epoch=7-val_auc_epoch=0.6136.ckpt' as top 3\n"
     ]
    },
    {
     "name": "stdout",
     "output_type": "stream",
     "text": [
      "Epoch 8: 100%|██████████| 491/491 [00:16<00:00, 30.61it/s, v_num=ual1]"
     ]
    },
    {
     "name": "stderr",
     "output_type": "stream",
     "text": [
      "Epoch 8, global step 4419: 'val_auc_epoch' reached 0.61057 (best 0.61364), saving model to 'C:\\\\Users\\\\USER\\\\Desktop\\\\projects\\\\python\\\\newsrecommend\\\\SentiRecTest\\\\project\\\\logs\\\\lightning_logs\\\\checkpoints\\\\sentirec\\\\vader_manual1\\\\epoch=8-val_auc_epoch=0.6106.ckpt' as top 3\n"
     ]
    },
    {
     "name": "stdout",
     "output_type": "stream",
     "text": [
      "Epoch 9: 100%|██████████| 491/491 [00:15<00:00, 31.38it/s, v_num=ual1]"
     ]
    },
    {
     "name": "stderr",
     "output_type": "stream",
     "text": [
      "Epoch 9, global step 4910: 'val_auc_epoch' reached 0.61198 (best 0.61364), saving model to 'C:\\\\Users\\\\USER\\\\Desktop\\\\projects\\\\python\\\\newsrecommend\\\\SentiRecTest\\\\project\\\\logs\\\\lightning_logs\\\\checkpoints\\\\sentirec\\\\vader_manual1\\\\epoch=9-val_auc_epoch=0.6120.ckpt' as top 3\n"
     ]
    },
    {
     "name": "stdout",
     "output_type": "stream",
     "text": [
      "Epoch 10: 100%|██████████| 491/491 [00:15<00:00, 31.98it/s, v_num=ual1]"
     ]
    },
    {
     "name": "stderr",
     "output_type": "stream",
     "text": [
      "Metric val_auc_epoch improved by 0.007 >= min_delta = 0.0001. New best score: 0.621\n",
      "Epoch 10, global step 5401: 'val_auc_epoch' reached 0.62058 (best 0.62058), saving model to 'C:\\\\Users\\\\USER\\\\Desktop\\\\projects\\\\python\\\\newsrecommend\\\\SentiRecTest\\\\project\\\\logs\\\\lightning_logs\\\\checkpoints\\\\sentirec\\\\vader_manual1\\\\epoch=10-val_auc_epoch=0.6206.ckpt' as top 3\n"
     ]
    },
    {
     "name": "stdout",
     "output_type": "stream",
     "text": [
      "Epoch 11: 100%|██████████| 491/491 [00:14<00:00, 33.57it/s, v_num=ual1]"
     ]
    },
    {
     "name": "stderr",
     "output_type": "stream",
     "text": [
      "Metric val_auc_epoch improved by 0.006 >= min_delta = 0.0001. New best score: 0.627\n",
      "Epoch 11, global step 5892: 'val_auc_epoch' reached 0.62671 (best 0.62671), saving model to 'C:\\\\Users\\\\USER\\\\Desktop\\\\projects\\\\python\\\\newsrecommend\\\\SentiRecTest\\\\project\\\\logs\\\\lightning_logs\\\\checkpoints\\\\sentirec\\\\vader_manual1\\\\epoch=11-val_auc_epoch=0.6267.ckpt' as top 3\n"
     ]
    },
    {
     "name": "stdout",
     "output_type": "stream",
     "text": [
      "Epoch 12: 100%|██████████| 491/491 [00:15<00:00, 31.07it/s, v_num=ual1]"
     ]
    },
    {
     "name": "stderr",
     "output_type": "stream",
     "text": [
      "Epoch 12, global step 6383: 'val_auc_epoch' reached 0.62473 (best 0.62671), saving model to 'C:\\\\Users\\\\USER\\\\Desktop\\\\projects\\\\python\\\\newsrecommend\\\\SentiRecTest\\\\project\\\\logs\\\\lightning_logs\\\\checkpoints\\\\sentirec\\\\vader_manual1\\\\epoch=12-val_auc_epoch=0.6247.ckpt' as top 3\n"
     ]
    },
    {
     "name": "stdout",
     "output_type": "stream",
     "text": [
      "Epoch 13: 100%|██████████| 491/491 [00:15<00:00, 30.97it/s, v_num=ual1]"
     ]
    },
    {
     "name": "stderr",
     "output_type": "stream",
     "text": [
      "Metric val_auc_epoch improved by 0.003 >= min_delta = 0.0001. New best score: 0.629\n",
      "Epoch 13, global step 6874: 'val_auc_epoch' reached 0.62924 (best 0.62924), saving model to 'C:\\\\Users\\\\USER\\\\Desktop\\\\projects\\\\python\\\\newsrecommend\\\\SentiRecTest\\\\project\\\\logs\\\\lightning_logs\\\\checkpoints\\\\sentirec\\\\vader_manual1\\\\epoch=13-val_auc_epoch=0.6292.ckpt' as top 3\n"
     ]
    },
    {
     "name": "stdout",
     "output_type": "stream",
     "text": [
      "Epoch 14: 100%|██████████| 491/491 [00:15<00:00, 31.84it/s, v_num=ual1]"
     ]
    },
    {
     "name": "stderr",
     "output_type": "stream",
     "text": [
      "Epoch 14, global step 7365: 'val_auc_epoch' was not in top 3\n"
     ]
    },
    {
     "name": "stdout",
     "output_type": "stream",
     "text": [
      "Epoch 15: 100%|██████████| 491/491 [00:14<00:00, 32.81it/s, v_num=ual1]"
     ]
    },
    {
     "name": "stderr",
     "output_type": "stream",
     "text": [
      "Metric val_auc_epoch improved by 0.012 >= min_delta = 0.0001. New best score: 0.641\n",
      "Epoch 15, global step 7856: 'val_auc_epoch' reached 0.64083 (best 0.64083), saving model to 'C:\\\\Users\\\\USER\\\\Desktop\\\\projects\\\\python\\\\newsrecommend\\\\SentiRecTest\\\\project\\\\logs\\\\lightning_logs\\\\checkpoints\\\\sentirec\\\\vader_manual1\\\\epoch=15-val_auc_epoch=0.6408.ckpt' as top 3\n"
     ]
    },
    {
     "name": "stdout",
     "output_type": "stream",
     "text": [
      "Epoch 16: 100%|██████████| 491/491 [00:16<00:00, 29.83it/s, v_num=ual1]"
     ]
    },
    {
     "name": "stderr",
     "output_type": "stream",
     "text": [
      "Metric val_auc_epoch improved by 0.001 >= min_delta = 0.0001. New best score: 0.641\n",
      "Epoch 16, global step 8347: 'val_auc_epoch' reached 0.64143 (best 0.64143), saving model to 'C:\\\\Users\\\\USER\\\\Desktop\\\\projects\\\\python\\\\newsrecommend\\\\SentiRecTest\\\\project\\\\logs\\\\lightning_logs\\\\checkpoints\\\\sentirec\\\\vader_manual1\\\\epoch=16-val_auc_epoch=0.6414.ckpt' as top 3\n"
     ]
    },
    {
     "name": "stdout",
     "output_type": "stream",
     "text": [
      "Epoch 17: 100%|██████████| 491/491 [00:13<00:00, 35.33it/s, v_num=ual1]"
     ]
    },
    {
     "name": "stderr",
     "output_type": "stream",
     "text": [
      "Epoch 17, global step 8838: 'val_auc_epoch' reached 0.63489 (best 0.64143), saving model to 'C:\\\\Users\\\\USER\\\\Desktop\\\\projects\\\\python\\\\newsrecommend\\\\SentiRecTest\\\\project\\\\logs\\\\lightning_logs\\\\checkpoints\\\\sentirec\\\\vader_manual1\\\\epoch=17-val_auc_epoch=0.6349.ckpt' as top 3\n"
     ]
    },
    {
     "name": "stdout",
     "output_type": "stream",
     "text": [
      "Epoch 18: 100%|██████████| 491/491 [00:13<00:00, 35.86it/s, v_num=ual1]"
     ]
    },
    {
     "name": "stderr",
     "output_type": "stream",
     "text": [
      "Epoch 18, global step 9329: 'val_auc_epoch' was not in top 3\n"
     ]
    },
    {
     "name": "stdout",
     "output_type": "stream",
     "text": [
      "Epoch 19: 100%|██████████| 491/491 [00:14<00:00, 34.72it/s, v_num=ual1]"
     ]
    },
    {
     "name": "stderr",
     "output_type": "stream",
     "text": [
      "Epoch 19, global step 9820: 'val_auc_epoch' was not in top 3\n"
     ]
    },
    {
     "name": "stdout",
     "output_type": "stream",
     "text": [
      "Epoch 20: 100%|██████████| 491/491 [00:13<00:00, 35.10it/s, v_num=ual1]"
     ]
    },
    {
     "name": "stderr",
     "output_type": "stream",
     "text": [
      "Epoch 20, global step 10311: 'val_auc_epoch' was not in top 3\n"
     ]
    },
    {
     "name": "stdout",
     "output_type": "stream",
     "text": [
      "Epoch 21: 100%|██████████| 491/491 [00:14<00:00, 35.04it/s, v_num=ual1]"
     ]
    },
    {
     "name": "stderr",
     "output_type": "stream",
     "text": [
      "Monitored metric val_auc_epoch did not improve in the last 5 records. Best score: 0.641. Signaling Trainer to stop.\n",
      "Epoch 21, global step 10802: 'val_auc_epoch' reached 0.63665 (best 0.64143), saving model to 'C:\\\\Users\\\\USER\\\\Desktop\\\\projects\\\\python\\\\newsrecommend\\\\SentiRecTest\\\\project\\\\logs\\\\lightning_logs\\\\checkpoints\\\\sentirec\\\\vader_manual1\\\\epoch=21-val_auc_epoch=0.6366.ckpt' as top 3\n"
     ]
    },
    {
     "name": "stdout",
     "output_type": "stream",
     "text": [
      "Epoch 21: 100%|██████████| 491/491 [00:14<00:00, 33.47it/s, v_num=ual1]"
     ]
    },
    {
     "name": "stderr",
     "output_type": "stream",
     "text": [
      "Seed set to 1234\n"
     ]
    },
    {
     "name": "stdout",
     "output_type": "stream",
     "text": [
      "\n"
     ]
    },
    {
     "name": "stderr",
     "output_type": "stream",
     "text": [
      "100%|██████████| 35990/35990 [00:01<00:00, 22228.52it/s]\n",
      "100%|██████████| 17890/17890 [00:00<00:00, 24709.93it/s]\n",
      "100%|██████████| 3935/3935 [00:00<00:00, 4684.54it/s]\n",
      "100%|██████████| 17890/17890 [00:00<00:00, 23946.98it/s]\n",
      "100%|██████████| 300/300 [00:00<00:00, 2654.84it/s]\n",
      "GPU available: True (cuda), used: True\n",
      "TPU available: False, using: 0 TPU cores\n",
      "HPU available: False, using: 0 HPUs\n",
      "c:\\Users\\USER\\anaconda3\\envs\\newsrec\\lib\\site-packages\\pytorch_lightning\\callbacks\\model_checkpoint.py:654: Checkpoint directory C:\\Users\\USER\\Desktop\\projects\\python\\newsrecommend\\SentiRecTest\\project\\logs\\lightning_logs\\checkpoints\\nrms\\exp_manual1 exists and is not empty.\n",
      "LOCAL_RANK: 0 - CUDA_VISIBLE_DEVICES: [0]\n",
      "\n",
      "   | Name                                   | Type             | Params | Mode \n",
      "-------------------------------------------------------------------------------------\n",
      "0  | news_encoder                           | TimeDistributed  | 11.2 M | train\n",
      "1  | user_encoder                           | UserEncoder      | 421 K  | train\n",
      "2  | val_performance_metrics                | MetricCollection | 0      | train\n",
      "3  | val_sentiment_diversity_metrics_vader  | MetricCollection | 0      | train\n",
      "4  | val_sentiment_diversity_metrics_bert   | MetricCollection | 0      | train\n",
      "5  | test_performance_metrics               | MetricCollection | 0      | train\n",
      "6  | test_sentiment_diversity_metrics_vader | MetricCollection | 0      | train\n",
      "7  | test_sentiment_diversity_metrics_bert  | MetricCollection | 0      | train\n",
      "8  | test_topic_diversity_metrics           | MetricCollection | 0      | train\n",
      "9  | test_ils_senti_metrics_vader           | MetricCollection | 0      | train\n",
      "10 | test_ils_senti_metrics_bert            | MetricCollection | 0      | train\n",
      "11 | test_ils_topic_metrics                 | MetricCollection | 0      | train\n",
      "-------------------------------------------------------------------------------------\n",
      "11.6 M    Trainable params\n",
      "0         Non-trainable params\n",
      "11.6 M    Total params\n",
      "46.561    Total estimated model params size (MB)\n",
      "51        Modules in train mode\n",
      "0         Modules in eval mode\n"
     ]
    },
    {
     "name": "stdout",
     "output_type": "stream",
     "text": [
      "Epoch 0: 100%|██████████| 491/491 [00:15<00:00, 32.61it/s, v_num=exp1]     "
     ]
    },
    {
     "name": "stderr",
     "output_type": "stream",
     "text": [
      "Metric val_auc_epoch improved. New best score: 0.596\n",
      "Epoch 0, global step 491: 'val_auc_epoch' reached 0.59630 (best 0.59630), saving model to 'C:\\\\Users\\\\USER\\\\Desktop\\\\projects\\\\python\\\\newsrecommend\\\\SentiRecTest\\\\project\\\\logs\\\\lightning_logs\\\\checkpoints\\\\nrms\\\\exp_manual1\\\\epoch=0-val_auc_epoch=0.5963.ckpt' as top 3\n"
     ]
    },
    {
     "name": "stdout",
     "output_type": "stream",
     "text": [
      "Epoch 1: 100%|██████████| 491/491 [00:15<00:00, 31.77it/s, v_num=exp1]"
     ]
    },
    {
     "name": "stderr",
     "output_type": "stream",
     "text": [
      "Metric val_auc_epoch improved by 0.030 >= min_delta = 0.0001. New best score: 0.627\n",
      "Epoch 1, global step 982: 'val_auc_epoch' reached 0.62652 (best 0.62652), saving model to 'C:\\\\Users\\\\USER\\\\Desktop\\\\projects\\\\python\\\\newsrecommend\\\\SentiRecTest\\\\project\\\\logs\\\\lightning_logs\\\\checkpoints\\\\nrms\\\\exp_manual1\\\\epoch=1-val_auc_epoch=0.6265.ckpt' as top 3\n"
     ]
    },
    {
     "name": "stdout",
     "output_type": "stream",
     "text": [
      "Epoch 2: 100%|██████████| 491/491 [00:15<00:00, 32.43it/s, v_num=exp1]"
     ]
    },
    {
     "name": "stderr",
     "output_type": "stream",
     "text": [
      "Metric val_auc_epoch improved by 0.011 >= min_delta = 0.0001. New best score: 0.637\n",
      "Epoch 2, global step 1473: 'val_auc_epoch' reached 0.63731 (best 0.63731), saving model to 'C:\\\\Users\\\\USER\\\\Desktop\\\\projects\\\\python\\\\newsrecommend\\\\SentiRecTest\\\\project\\\\logs\\\\lightning_logs\\\\checkpoints\\\\nrms\\\\exp_manual1\\\\epoch=2-val_auc_epoch=0.6373.ckpt' as top 3\n"
     ]
    },
    {
     "name": "stdout",
     "output_type": "stream",
     "text": [
      "Epoch 3: 100%|██████████| 491/491 [00:14<00:00, 33.04it/s, v_num=exp1]"
     ]
    },
    {
     "name": "stderr",
     "output_type": "stream",
     "text": [
      "Metric val_auc_epoch improved by 0.002 >= min_delta = 0.0001. New best score: 0.639\n",
      "Epoch 3, global step 1964: 'val_auc_epoch' reached 0.63919 (best 0.63919), saving model to 'C:\\\\Users\\\\USER\\\\Desktop\\\\projects\\\\python\\\\newsrecommend\\\\SentiRecTest\\\\project\\\\logs\\\\lightning_logs\\\\checkpoints\\\\nrms\\\\exp_manual1\\\\epoch=3-val_auc_epoch=0.6392.ckpt' as top 3\n"
     ]
    },
    {
     "name": "stdout",
     "output_type": "stream",
     "text": [
      "Epoch 4: 100%|██████████| 491/491 [00:14<00:00, 33.16it/s, v_num=exp1]"
     ]
    },
    {
     "name": "stderr",
     "output_type": "stream",
     "text": [
      "Epoch 4, global step 2455: 'val_auc_epoch' reached 0.63278 (best 0.63919), saving model to 'C:\\\\Users\\\\USER\\\\Desktop\\\\projects\\\\python\\\\newsrecommend\\\\SentiRecTest\\\\project\\\\logs\\\\lightning_logs\\\\checkpoints\\\\nrms\\\\exp_manual1\\\\epoch=4-val_auc_epoch=0.6328.ckpt' as top 3\n"
     ]
    },
    {
     "name": "stdout",
     "output_type": "stream",
     "text": [
      "Epoch 5: 100%|██████████| 491/491 [00:14<00:00, 32.91it/s, v_num=exp1]"
     ]
    },
    {
     "name": "stderr",
     "output_type": "stream",
     "text": [
      "Metric val_auc_epoch improved by 0.005 >= min_delta = 0.0001. New best score: 0.644\n",
      "Epoch 5, global step 2946: 'val_auc_epoch' reached 0.64409 (best 0.64409), saving model to 'C:\\\\Users\\\\USER\\\\Desktop\\\\projects\\\\python\\\\newsrecommend\\\\SentiRecTest\\\\project\\\\logs\\\\lightning_logs\\\\checkpoints\\\\nrms\\\\exp_manual1\\\\epoch=5-val_auc_epoch=0.6441.ckpt' as top 3\n"
     ]
    },
    {
     "name": "stdout",
     "output_type": "stream",
     "text": [
      "Epoch 6: 100%|██████████| 491/491 [00:14<00:00, 33.45it/s, v_num=exp1]"
     ]
    },
    {
     "name": "stderr",
     "output_type": "stream",
     "text": [
      "Epoch 6, global step 3437: 'val_auc_epoch' was not in top 3\n"
     ]
    },
    {
     "name": "stdout",
     "output_type": "stream",
     "text": [
      "Epoch 7: 100%|██████████| 491/491 [00:14<00:00, 33.43it/s, v_num=exp1]"
     ]
    },
    {
     "name": "stderr",
     "output_type": "stream",
     "text": [
      "Epoch 7, global step 3928: 'val_auc_epoch' reached 0.63981 (best 0.64409), saving model to 'C:\\\\Users\\\\USER\\\\Desktop\\\\projects\\\\python\\\\newsrecommend\\\\SentiRecTest\\\\project\\\\logs\\\\lightning_logs\\\\checkpoints\\\\nrms\\\\exp_manual1\\\\epoch=7-val_auc_epoch=0.6398.ckpt' as top 3\n"
     ]
    },
    {
     "name": "stdout",
     "output_type": "stream",
     "text": [
      "Epoch 8: 100%|██████████| 491/491 [00:14<00:00, 33.16it/s, v_num=exp1]"
     ]
    },
    {
     "name": "stderr",
     "output_type": "stream",
     "text": [
      "Epoch 8, global step 4419: 'val_auc_epoch' reached 0.64335 (best 0.64409), saving model to 'C:\\\\Users\\\\USER\\\\Desktop\\\\projects\\\\python\\\\newsrecommend\\\\SentiRecTest\\\\project\\\\logs\\\\lightning_logs\\\\checkpoints\\\\nrms\\\\exp_manual1\\\\epoch=8-val_auc_epoch=0.6433.ckpt' as top 3\n"
     ]
    },
    {
     "name": "stdout",
     "output_type": "stream",
     "text": [
      "Epoch 9: 100%|██████████| 491/491 [00:14<00:00, 32.80it/s, v_num=exp1]"
     ]
    },
    {
     "name": "stderr",
     "output_type": "stream",
     "text": [
      "Epoch 9, global step 4910: 'val_auc_epoch' reached 0.64116 (best 0.64409), saving model to 'C:\\\\Users\\\\USER\\\\Desktop\\\\projects\\\\python\\\\newsrecommend\\\\SentiRecTest\\\\project\\\\logs\\\\lightning_logs\\\\checkpoints\\\\nrms\\\\exp_manual1\\\\epoch=9-val_auc_epoch=0.6412.ckpt' as top 3\n"
     ]
    },
    {
     "name": "stdout",
     "output_type": "stream",
     "text": [
      "Epoch 10: 100%|██████████| 491/491 [00:14<00:00, 33.18it/s, v_num=exp1]"
     ]
    },
    {
     "name": "stderr",
     "output_type": "stream",
     "text": [
      "Monitored metric val_auc_epoch did not improve in the last 5 records. Best score: 0.644. Signaling Trainer to stop.\n",
      "Epoch 10, global step 5401: 'val_auc_epoch' reached 0.64403 (best 0.64409), saving model to 'C:\\\\Users\\\\USER\\\\Desktop\\\\projects\\\\python\\\\newsrecommend\\\\SentiRecTest\\\\project\\\\logs\\\\lightning_logs\\\\checkpoints\\\\nrms\\\\exp_manual1\\\\epoch=10-val_auc_epoch=0.6440.ckpt' as top 3\n"
     ]
    },
    {
     "name": "stdout",
     "output_type": "stream",
     "text": [
      "Epoch 10: 100%|██████████| 491/491 [00:15<00:00, 31.72it/s, v_num=exp1]"
     ]
    },
    {
     "name": "stderr",
     "output_type": "stream",
     "text": [
      "Seed set to 1234\n"
     ]
    },
    {
     "name": "stdout",
     "output_type": "stream",
     "text": [
      "\n"
     ]
    },
    {
     "name": "stderr",
     "output_type": "stream",
     "text": [
      "100%|██████████| 35990/35990 [00:01<00:00, 22318.06it/s]\n",
      "100%|██████████| 12790/12790 [00:00<00:00, 20130.99it/s]\n",
      "100%|██████████| 2000/2000 [00:00<00:00, 3268.91it/s]\n",
      "GPU available: True (cuda), used: True\n",
      "TPU available: False, using: 0 TPU cores\n",
      "HPU available: False, using: 0 HPUs\n",
      "LOCAL_RANK: 0 - CUDA_VISIBLE_DEVICES: [0]\n",
      "c:\\Users\\USER\\anaconda3\\envs\\newsrec\\lib\\site-packages\\pytorch_lightning\\trainer\\connectors\\data_connector.py:425: The 'test_dataloader' does not have many workers which may be a bottleneck. Consider increasing the value of the `num_workers` argument` to `num_workers=11` in the `DataLoader` to improve performance.\n"
     ]
    },
    {
     "name": "stdout",
     "output_type": "stream",
     "text": [
      "Testing DataLoader 0: 100%|██████████| 2000/2000 [01:18<00:00, 25.36it/s]\n",
      "────────────────────────────────────────────────────────────────────────────────────────────────────────────────────────\n",
      "         Test metric                 DataLoader 0\n",
      "────────────────────────────────────────────────────────────────────────────────────────────────────────────────────────\n",
      "       test_auc_epoch             0.5223917961120605\n",
      "test_ils_senti@10_bert_epoch      0.4892381727695465\n",
      "test_ils_senti@10_vader_epoch     0.23166944086551666\n",
      " test_ils_senti@5_bert_epoch      0.45543593168258667\n",
      "test_ils_senti@5_vader_epoch      0.22210276126861572\n",
      "   test_ils_topic@10_epoch        0.08109567314386368\n",
      "   test_ils_topic@5_epoch         0.08181719481945038\n",
      "       test_mrr_epoch             0.22787021100521088\n",
      "     test_ndcg@10_epoch           0.3007391691207886\n",
      "      test_ndcg@5_epoch           0.23669597506523132\n",
      "  test_senti@10_bert_epoch        0.4624275863170624\n",
      "  test_senti@10_vader_epoch       0.04349327087402344\n",
      "   test_senti@5_bert_epoch        0.33538347482681274\n",
      "  test_senti@5_vader_epoch        0.03663685917854309\n",
      "  test_senti_mrr_bert_epoch       0.19485200941562653\n",
      " test_senti_mrr_vader_epoch      0.018557723611593246\n",
      "   test_topic_div@10_epoch        0.4729844629764557\n",
      "   test_topic_div@5_epoch         0.40251249074935913\n",
      "    test_topic_mrr_epoch          0.4647386074066162\n",
      "────────────────────────────────────────────────────────────────────────────────────────────────────────────────────────\n"
     ]
    },
    {
     "name": "stderr",
     "output_type": "stream",
     "text": [
      "Seed set to 1234\n",
      "100%|██████████| 35990/35990 [00:01<00:00, 22173.58it/s]\n",
      "100%|██████████| 12790/12790 [00:00<00:00, 34289.53it/s]\n",
      "100%|██████████| 2000/2000 [00:00<00:00, 2406.74it/s]\n",
      "GPU available: True (cuda), used: True\n",
      "TPU available: False, using: 0 TPU cores\n",
      "HPU available: False, using: 0 HPUs\n",
      "LOCAL_RANK: 0 - CUDA_VISIBLE_DEVICES: [0]\n"
     ]
    },
    {
     "name": "stdout",
     "output_type": "stream",
     "text": [
      "Testing DataLoader 0: 100%|██████████| 2000/2000 [01:19<00:00, 25.26it/s]\n",
      "────────────────────────────────────────────────────────────────────────────────────────────────────────────────────────\n",
      "         Test metric                 DataLoader 0\n",
      "────────────────────────────────────────────────────────────────────────────────────────────────────────────────────────\n",
      "       test_auc_epoch             0.5442725419998169\n",
      "test_ils_senti@10_bert_epoch      0.4180573523044586\n",
      "test_ils_senti@10_vader_epoch     0.23760807514190674\n",
      " test_ils_senti@5_bert_epoch      0.31159892678260803\n",
      "test_ils_senti@5_vader_epoch      0.23289895057678223\n",
      "   test_ils_topic@10_epoch        0.09594550728797913\n",
      "   test_ils_topic@5_epoch         0.10106735676527023\n",
      "       test_mrr_epoch             0.23117172718048096\n",
      "     test_ndcg@10_epoch           0.31035086512565613\n",
      "      test_ndcg@5_epoch           0.2446606606245041\n",
      "  test_senti@10_bert_epoch        0.6291056871414185\n",
      "  test_senti@10_vader_epoch       0.04394543915987015\n",
      "   test_senti@5_bert_epoch        0.46034279465675354\n",
      "  test_senti@5_vader_epoch       0.034551460295915604\n",
      "  test_senti_mrr_bert_epoch        0.272402286529541\n",
      " test_senti_mrr_vader_epoch      0.017831536009907722\n",
      "   test_topic_div@10_epoch        0.4621110260486603\n",
      "   test_topic_div@5_epoch         0.3900642693042755\n",
      "    test_topic_mrr_epoch          0.43722283840179443\n",
      "────────────────────────────────────────────────────────────────────────────────────────────────────────────────────────\n"
     ]
    }
   ],
   "source": [
    "test_results = model_manager.train_test_all()"
   ]
  },
  {
   "cell_type": "markdown",
   "metadata": {},
   "source": [
    "## 3. Visualizations"
   ]
  },
  {
   "cell_type": "code",
   "execution_count": 22,
   "metadata": {},
   "outputs": [
    {
     "data": {
      "text/html": [
       "<div>\n",
       "<style scoped>\n",
       "    .dataframe tbody tr th:only-of-type {\n",
       "        vertical-align: middle;\n",
       "    }\n",
       "\n",
       "    .dataframe tbody tr th {\n",
       "        vertical-align: top;\n",
       "    }\n",
       "\n",
       "    .dataframe thead th {\n",
       "        text-align: right;\n",
       "    }\n",
       "</style>\n",
       "<table border=\"1\" class=\"dataframe\">\n",
       "  <thead>\n",
       "    <tr style=\"text-align: right;\">\n",
       "      <th></th>\n",
       "      <th>sentirec#vader_manual1</th>\n",
       "      <th>nrms#exp1</th>\n",
       "    </tr>\n",
       "  </thead>\n",
       "  <tbody>\n",
       "    <tr>\n",
       "      <th>test_auc_epoch</th>\n",
       "      <td>0.522392</td>\n",
       "      <td>0.544273</td>\n",
       "    </tr>\n",
       "    <tr>\n",
       "      <th>test_mrr_epoch</th>\n",
       "      <td>0.227870</td>\n",
       "      <td>0.231172</td>\n",
       "    </tr>\n",
       "    <tr>\n",
       "      <th>test_ndcg@10_epoch</th>\n",
       "      <td>0.300739</td>\n",
       "      <td>0.310351</td>\n",
       "    </tr>\n",
       "    <tr>\n",
       "      <th>test_ndcg@5_epoch</th>\n",
       "      <td>0.236696</td>\n",
       "      <td>0.244661</td>\n",
       "    </tr>\n",
       "    <tr>\n",
       "      <th>test_senti@10_vader_epoch</th>\n",
       "      <td>0.043493</td>\n",
       "      <td>0.043945</td>\n",
       "    </tr>\n",
       "    <tr>\n",
       "      <th>test_senti@5_vader_epoch</th>\n",
       "      <td>0.036637</td>\n",
       "      <td>0.034551</td>\n",
       "    </tr>\n",
       "    <tr>\n",
       "      <th>test_senti_mrr_vader_epoch</th>\n",
       "      <td>0.018558</td>\n",
       "      <td>0.017832</td>\n",
       "    </tr>\n",
       "    <tr>\n",
       "      <th>test_senti@10_bert_epoch</th>\n",
       "      <td>0.462428</td>\n",
       "      <td>0.629106</td>\n",
       "    </tr>\n",
       "    <tr>\n",
       "      <th>test_senti@5_bert_epoch</th>\n",
       "      <td>0.335383</td>\n",
       "      <td>0.460343</td>\n",
       "    </tr>\n",
       "    <tr>\n",
       "      <th>test_senti_mrr_bert_epoch</th>\n",
       "      <td>0.194852</td>\n",
       "      <td>0.272402</td>\n",
       "    </tr>\n",
       "    <tr>\n",
       "      <th>test_topic_div@10_epoch</th>\n",
       "      <td>0.472984</td>\n",
       "      <td>0.462111</td>\n",
       "    </tr>\n",
       "    <tr>\n",
       "      <th>test_topic_div@5_epoch</th>\n",
       "      <td>0.402512</td>\n",
       "      <td>0.390064</td>\n",
       "    </tr>\n",
       "    <tr>\n",
       "      <th>test_topic_mrr_epoch</th>\n",
       "      <td>0.464739</td>\n",
       "      <td>0.437223</td>\n",
       "    </tr>\n",
       "    <tr>\n",
       "      <th>test_ils_senti@10_vader_epoch</th>\n",
       "      <td>0.231669</td>\n",
       "      <td>0.237608</td>\n",
       "    </tr>\n",
       "    <tr>\n",
       "      <th>test_ils_senti@5_vader_epoch</th>\n",
       "      <td>0.222103</td>\n",
       "      <td>0.232899</td>\n",
       "    </tr>\n",
       "    <tr>\n",
       "      <th>test_ils_senti@10_bert_epoch</th>\n",
       "      <td>0.489238</td>\n",
       "      <td>0.418057</td>\n",
       "    </tr>\n",
       "    <tr>\n",
       "      <th>test_ils_senti@5_bert_epoch</th>\n",
       "      <td>0.455436</td>\n",
       "      <td>0.311599</td>\n",
       "    </tr>\n",
       "    <tr>\n",
       "      <th>test_ils_topic@10_epoch</th>\n",
       "      <td>0.081096</td>\n",
       "      <td>0.095946</td>\n",
       "    </tr>\n",
       "    <tr>\n",
       "      <th>test_ils_topic@5_epoch</th>\n",
       "      <td>0.081817</td>\n",
       "      <td>0.101067</td>\n",
       "    </tr>\n",
       "  </tbody>\n",
       "</table>\n",
       "</div>"
      ],
      "text/plain": [
       "                               sentirec#vader_manual1  nrms#exp1\n",
       "test_auc_epoch                               0.522392   0.544273\n",
       "test_mrr_epoch                               0.227870   0.231172\n",
       "test_ndcg@10_epoch                           0.300739   0.310351\n",
       "test_ndcg@5_epoch                            0.236696   0.244661\n",
       "test_senti@10_vader_epoch                    0.043493   0.043945\n",
       "test_senti@5_vader_epoch                     0.036637   0.034551\n",
       "test_senti_mrr_vader_epoch                   0.018558   0.017832\n",
       "test_senti@10_bert_epoch                     0.462428   0.629106\n",
       "test_senti@5_bert_epoch                      0.335383   0.460343\n",
       "test_senti_mrr_bert_epoch                    0.194852   0.272402\n",
       "test_topic_div@10_epoch                      0.472984   0.462111\n",
       "test_topic_div@5_epoch                       0.402512   0.390064\n",
       "test_topic_mrr_epoch                         0.464739   0.437223\n",
       "test_ils_senti@10_vader_epoch                0.231669   0.237608\n",
       "test_ils_senti@5_vader_epoch                 0.222103   0.232899\n",
       "test_ils_senti@10_bert_epoch                 0.489238   0.418057\n",
       "test_ils_senti@5_bert_epoch                  0.455436   0.311599\n",
       "test_ils_topic@10_epoch                      0.081096   0.095946\n",
       "test_ils_topic@5_epoch                       0.081817   0.101067"
      ]
     },
     "execution_count": 22,
     "metadata": {},
     "output_type": "execute_result"
    }
   ],
   "source": [
    "from utils.test_metrics_viewer import TestMetricsViewer\n",
    "\n",
    "result_viewer = TestMetricsViewer(test_results)\n",
    "result_viewer.get_result_df()"
   ]
  },
  {
   "cell_type": "code",
   "execution_count": 23,
   "metadata": {},
   "outputs": [
    {
     "data": {
      "image/png": "[encoded data removed]",
      "text/plain": [
       "<Figure size 1000x600 with 1 Axes>"
      ]
     },
     "metadata": {},
     "output_type": "display_data"
    }
   ],
   "source": [
    "result_viewer.show()"
   ]
  }
 ],
 "metadata": {
  "kernelspec": {
   "display_name": "newsrec",
   "language": "python",
   "name": "python3"
  },
  "language_info": {
   "codemirror_mode": {
    "name": "ipython",
    "version": 3
   },
   "file_extension": ".py",
   "mimetype": "text/x-python",
   "name": "python",
   "nbconvert_exporter": "python",
   "pygments_lexer": "ipython3",
   "version": "3.9.21"
  }
 },
 "nbformat": 4,
 "nbformat_minor": 2
}
