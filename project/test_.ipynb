{
 "cells": [
  {
   "cell_type": "markdown",
   "metadata": {},
   "source": [
    "## Global Settings and Imports"
   ]
  },
  {
   "cell_type": "code",
   "execution_count": 1,
   "metadata": {},
   "outputs": [],
   "source": [
    "# jupyter notebook에서 import 해서 쓰는 .py 모듈의 코드가 변경될 시, 변동 사항을 자동으로 반영해주는 기능 ON\n",
    "%load_ext autoreload\n",
    "%autoreload 2"
   ]
  },
  {
   "cell_type": "code",
   "execution_count": 2,
   "metadata": {},
   "outputs": [],
   "source": [
    "import argparse\n",
    "import yaml\n",
    "from dotmap import DotMap\n",
    "from os import path\n",
    "import numpy as np\n",
    "import torch\n",
    "from torch.utils.data import DataLoader\n",
    "import pytorch_lightning as pl\n",
    "from pytorch_lightning.callbacks import ModelCheckpoint, EarlyStopping\n",
    "from pytorch_lightning.loggers import TensorBoardLogger\n",
    "from pytorch_lightning import Trainer\n",
    "from models.lstur import LSTUR\n",
    "from models.nrms import NRMS\n",
    "from models.naml import NAML\n",
    "from models.naml_simple import NAML_Simple\n",
    "from models.sentirec import SENTIREC\n",
    "from models.robust_sentirec import ROBUST_SENTIREC\n",
    "from data.dataset import BaseDataset\n",
    "from tqdm import tqdm"
   ]
  },
  {
   "cell_type": "markdown",
   "metadata": {},
   "source": [
    "## Prepare parameters"
   ]
  },
  {
   "cell_type": "code",
   "execution_count": 3,
   "metadata": {},
   "outputs": [
    {
     "name": "stderr",
     "output_type": "stream",
     "text": [
      "Seed set to 1234\n"
     ]
    }
   ],
   "source": [
    "args = argparse.Namespace(\n",
    "    config = \"config/model/sentirec/vader_lambda0p4_mu10.yaml\",\n",
    "    ckpt = \"logs/lightning_logs/checkpoints/sentirec/vader_lambda0p4_mu10/epoch=20-val_auc_epoch=0.6618.ckpt\"\n",
    ")\n",
    "\n",
    "with open(args.config, 'r') as ymlfile:\n",
    "    config = yaml.load(ymlfile, Loader=yaml.FullLoader)\n",
    "    config = DotMap(config)\n",
    "\n",
    "assert(config.name in [\"lstur\", \"nrms\", \"naml\", \"naml_simple\", \"sentirec\", \"robust_sentirec\"])\n",
    "\n",
    "pl.seed_everything(1234)\n",
    "\n",
    "logger = TensorBoardLogger(\n",
    "    **config.logger\n",
    ")"
   ]
  },
  {
   "cell_type": "markdown",
   "metadata": {},
   "source": [
    "## Load data"
   ]
  },
  {
   "cell_type": "code",
   "execution_count": 4,
   "metadata": {},
   "outputs": [
    {
     "name": "stderr",
     "output_type": "stream",
     "text": [
      "100%|██████████| 18723/18723 [00:01<00:00, 14035.01it/s]\n",
      "100%|██████████| 7538/7538 [00:05<00:00, 1391.57it/s]\n"
     ]
    }
   ],
   "source": [
    "preprocess_path = f\"{config.preprocess_data_path}/{config.dataset_size}/\"\n",
    "\n",
    "test_dataset = BaseDataset(\n",
    "    path.join(preprocess_path + config.test_behavior),\n",
    "    path.join(preprocess_path + config.test_news), \n",
    "    config)\n",
    "test_loader = DataLoader(\n",
    "    test_dataset,\n",
    "    **config.test_dataloader)"
   ]
  },
  {
   "cell_type": "code",
   "execution_count": 5,
   "metadata": {},
   "outputs": [
    {
     "name": "stderr",
     "output_type": "stream",
     "text": [
      "100%|██████████| 42562/42562 [00:03<00:00, 13440.62it/s]\n"
     ]
    }
   ],
   "source": [
    "# load embedding pre-trained embedding weights\n",
    "embedding_weights=[]\n",
    "with open(path.join(preprocess_path + config.embedding_weights), 'r') as file: \n",
    "    lines = file.readlines()\n",
    "    for line in tqdm(lines):\n",
    "        weights = [float(w) for w in line.split(\" \")]\n",
    "        embedding_weights.append(weights)\n",
    "pretrained_word_embedding = torch.from_numpy(\n",
    "    np.array(embedding_weights, dtype=np.float32)\n",
    ")"
   ]
  },
  {
   "cell_type": "markdown",
   "metadata": {},
   "source": [
    "## Load model from checkpoint"
   ]
  },
  {
   "cell_type": "code",
   "execution_count": 6,
   "metadata": {},
   "outputs": [
    {
     "name": "stdout",
     "output_type": "stream",
     "text": [
      "logs/lightning_logs/checkpoints/sentirec/vader_lambda0p4_mu10/epoch=20-val_auc_epoch=0.6618.ckpt\n",
      "<module 'ntpath' from 'c:\\\\Users\\\\nclud\\\\anaconda3\\\\envs\\\\newsrec\\\\lib\\\\ntpath.py'>\n"
     ]
    }
   ],
   "source": [
    "import os\n",
    "\n",
    "print(args.ckpt)  # 경로 출력\n",
    "print(path)  # 파일 여부 확인"
   ]
  },
  {
   "cell_type": "code",
   "execution_count": 7,
   "metadata": {},
   "outputs": [],
   "source": [
    "if config.name == \"lstur\":\n",
    "    model = LSTUR.load_from_checkpoint(\n",
    "        args.ckpt, \n",
    "        config=config, \n",
    "        pretrained_word_embedding=pretrained_word_embedding\n",
    "    )\n",
    "elif config.name == \"nrms\":\n",
    "    model = NRMS.load_from_checkpoint(\n",
    "        args.ckpt, \n",
    "        config=config, \n",
    "        pretrained_word_embedding=pretrained_word_embedding\n",
    "    )\n",
    "elif config.name == \"naml\":\n",
    "    model = NAML.load_from_checkpoint(\n",
    "        args.ckpt, \n",
    "        config=config, \n",
    "        pretrained_word_embedding=pretrained_word_embedding\n",
    "    )\n",
    "elif config.name == \"naml_simple\":\n",
    "    model = NAML_Simple.load_from_checkpoint(\n",
    "        args.ckpt, \n",
    "        config=config, \n",
    "        pretrained_word_embedding=pretrained_word_embedding\n",
    "    )\n",
    "elif config.name == \"sentirec\":\n",
    "    model = SENTIREC.load_from_checkpoint(\n",
    "        args.ckpt, \n",
    "        config=config, \n",
    "        pretrained_word_embedding=pretrained_word_embedding\n",
    "    )\n",
    "elif config.name == \"robust_sentirec\":\n",
    "    model = ROBUST_SENTIREC.load_from_checkpoint(\n",
    "        args.ckpt, \n",
    "        config=config, \n",
    "        pretrained_word_embedding=pretrained_word_embedding\n",
    "    )\n",
    "# elif:\n",
    "    # UPCOMING MODELS"
   ]
  },
  {
   "cell_type": "markdown",
   "metadata": {},
   "source": [
    "## Test model"
   ]
  },
  {
   "cell_type": "code",
   "execution_count": null,
   "metadata": {},
   "outputs": [
    {
     "name": "stderr",
     "output_type": "stream",
     "text": [
      "GPU available: True (cuda), used: True\n",
      "TPU available: False, using: 0 TPU cores\n",
      "HPU available: False, using: 0 HPUs\n"
     ]
    }
   ],
   "source": [
    "trainer = Trainer(\n",
    "    **config.trainer,\n",
    "    logger=logger\n",
    ")"
   ]
  },
  {
   "cell_type": "code",
   "execution_count": 21,
   "metadata": {},
   "outputs": [
    {
     "name": "stderr",
     "output_type": "stream",
     "text": [
      "LOCAL_RANK: 0 - CUDA_VISIBLE_DEVICES: [0]\n",
      "c:\\Users\\USER\\anaconda3\\envs\\newsrec\\lib\\site-packages\\pytorch_lightning\\trainer\\connectors\\data_connector.py:425: The 'test_dataloader' does not have many workers which may be a bottleneck. Consider increasing the value of the `num_workers` argument` to `num_workers=11` in the `DataLoader` to improve performance.\n"
     ]
    },
    {
     "name": "stdout",
     "output_type": "stream",
     "text": [
      "Testing DataLoader 0: 100%|██████████| 7538/7538 [05:44<00:00, 21.89it/s]\n",
      "────────────────────────────────────────────────────────────────────────────────────────────────────────────────────────\n",
      "         Test metric                 DataLoader 0\n",
      "────────────────────────────────────────────────────────────────────────────────────────────────────────────────────────\n",
      "       test_auc_epoch             0.5661918520927429\n",
      "test_ils_senti@10_bert_epoch       0.480234831571579\n",
      "test_ils_senti@10_vader_epoch     0.22790543735027313\n",
      " test_ils_senti@5_bert_epoch      0.46508610248565674\n",
      "test_ils_senti@5_vader_epoch      0.22426888346672058\n",
      "   test_ils_topic@10_epoch        0.08412498235702515\n",
      "   test_ils_topic@5_epoch         0.09400947391986847\n",
      "       test_mrr_epoch             0.24936088919639587\n",
      "     test_ndcg@10_epoch           0.33303865790367126\n",
      "      test_ndcg@5_epoch           0.26616060733795166\n",
      "  test_senti@10_bert_epoch        0.46898961067199707\n",
      "  test_senti@10_vader_epoch       0.04810909926891327\n",
      "   test_senti@5_bert_epoch        0.3051859736442566\n",
      "  test_senti@5_vader_epoch       0.036427032202482224\n",
      "  test_senti_mrr_bert_epoch       0.19709980487823486\n",
      " test_senti_mrr_vader_epoch      0.024893416091799736\n",
      "   test_topic_div@10_epoch        0.4452049136161804\n",
      "   test_topic_div@5_epoch         0.36226359009742737\n",
      "    test_topic_mrr_epoch          0.43979042768478394\n",
      "────────────────────────────────────────────────────────────────────────────────────────────────────────────────────────\n"
     ]
    },
    {
     "data": {
      "text/plain": [
       "[{'test_auc_epoch': 0.5661918520927429,\n",
       "  'test_mrr_epoch': 0.24936088919639587,\n",
       "  'test_ndcg@10_epoch': 0.33303865790367126,\n",
       "  'test_ndcg@5_epoch': 0.26616060733795166,\n",
       "  'test_senti@10_vader_epoch': 0.04810909926891327,\n",
       "  'test_senti@5_vader_epoch': 0.036427032202482224,\n",
       "  'test_senti_mrr_vader_epoch': 0.024893416091799736,\n",
       "  'test_senti@10_bert_epoch': 0.46898961067199707,\n",
       "  'test_senti@5_bert_epoch': 0.3051859736442566,\n",
       "  'test_senti_mrr_bert_epoch': 0.19709980487823486,\n",
       "  'test_topic_div@10_epoch': 0.4452049136161804,\n",
       "  'test_topic_div@5_epoch': 0.36226359009742737,\n",
       "  'test_topic_mrr_epoch': 0.43979042768478394,\n",
       "  'test_ils_senti@10_vader_epoch': 0.22790543735027313,\n",
       "  'test_ils_senti@5_vader_epoch': 0.22426888346672058,\n",
       "  'test_ils_senti@10_bert_epoch': 0.480234831571579,\n",
       "  'test_ils_senti@5_bert_epoch': 0.46508610248565674,\n",
       "  'test_ils_topic@10_epoch': 0.08412498235702515,\n",
       "  'test_ils_topic@5_epoch': 0.09400947391986847}]"
      ]
     },
     "execution_count": 21,
     "metadata": {},
     "output_type": "execute_result"
    }
   ],
   "source": [
    "trainer.test(\n",
    "    model=model, \n",
    "    dataloaders=test_loader\n",
    ")"
   ]
  },
  {
   "cell_type": "code",
   "execution_count": 22,
   "metadata": {},
   "outputs": [
    {
     "data": {
      "text/plain": [
       "{'user': tensor(629),\n",
       " 'h_title': tensor([[    0,     0,     0,     0,     0,     0,     0,     0,     0,     0,\n",
       "              0,     0,     0,     0,     0,     0,     0,     0,     0,     0],\n",
       "         [    0,     0,     0,     0,     0,     0,     0,     0,     0,     0,\n",
       "              0,     0,     0,     0,     0,     0,     0,     0,     0,     0],\n",
       "         [    0,     0,     0,     0,     0,     0,     0,     0,     0,     0,\n",
       "              0,     0,     0,     0,     0,     0,     0,     0,     0,     0],\n",
       "         [    0,     0,     0,     0,     0,     0,     0,     0,     0,     0,\n",
       "              0,     0,     0,     0,     0,     0,     0,     0,     0,     0],\n",
       "         [    0,     0,     0,     0,     0,     0,     0,     0,     0,     0,\n",
       "              0,     0,     0,     0,     0,     0,     0,     0,     0,     0],\n",
       "         [    0,     0,     0,     0,     0,     0,     0,     0,     0,     0,\n",
       "              0,     0,     0,     0,     0,     0,     0,     0,     0,     0],\n",
       "         [    0,     0,     0,     0,     0,     0,     0,     0,     0,     0,\n",
       "              0,     0,     0,     0,     0,     0,     0,     0,     0,     0],\n",
       "         [    0,     0,     0,     0,     0,     0,     0,     0,     0,     0,\n",
       "              0,     0,     0,     0,     0,     0,     0,     0,     0,     0],\n",
       "         [    0,     0,     0,     0,     0,     0,     0,     0,     0,     0,\n",
       "              0,     0,     0,     0,     0,     0,     0,     0,     0,     0],\n",
       "         [    0,     0,     0,     0,     0,     0,     0,     0,     0,     0,\n",
       "              0,     0,     0,     0,     0,     0,     0,     0,     0,     0],\n",
       "         [    0,     0,     0,     0,     0,     0,     0,     0,     0,     0,\n",
       "              0,     0,     0,     0,     0,     0,     0,     0,     0,     0],\n",
       "         [ 3298,  2250,  7888,   131, 12180,  4174,  4007,   164,   637,  2609,\n",
       "           2435,     0,     0,     0,     0,     0,     0,     0,     0,     0],\n",
       "         [  817,  1435,   480,    95,   115,  4561,   181,     1,  4120,     0,\n",
       "              0,     0,     0,     0,     0,     0,     0,     0,     0,     0],\n",
       "         [ 3731,   427,  5215,     5,   443,     5,     8,   597,  2164,     5,\n",
       "           1444,    29, 21775,    11,  7557,    57, 21776,  1799,     0,     0],\n",
       "         [   25,  1655,    45,  5511,  1581, 14754,   151,    29,  3303,     5,\n",
       "             48, 14755,    16,   859,  3338,    57,   357,  8348,     0,     0],\n",
       "         [ 1642,  2986,  1469,    29,  4193,   268,  2743,     5, 13826,   131,\n",
       "           1472,     0,     0,     0,     0,     0,     0,     0,     0,     0],\n",
       "         [    1,  2886,  1946,    24,  6492,  6493,    26,  2310,   131,    65,\n",
       "             26,    71,   273,    37,   376,   644,  1409,   273,     0,     0],\n",
       "         [ 1867,  4630, 24467,  2990,  4721,     0,     0,     0,     0,     0,\n",
       "              0,     0,     0,     0,     0,     0,     0,     0,     0,     0],\n",
       "         [ 7264,    24,  4383,   893,  1741,   194,    22,  2301,   151,  5485,\n",
       "              0,     0,     0,     0,     0,     0,     0,     0,     0,     0],\n",
       "         [16444,   700,  8327, 16445,    29, 16446,     0,     0,     0,     0,\n",
       "              0,     0,     0,     0,     0,     0,     0,     0,     0,     0],\n",
       "         [ 7264,    24,  4383,   893,  1741,   194,    22,  2301,   151,  5485,\n",
       "              0,     0,     0,     0,     0,     0,     0,     0,     0,     0],\n",
       "         [  788,   213, 17029,    24,   817,   352,  1552,     0,     0,     0,\n",
       "              0,     0,     0,     0,     0,     0,     0,     0,     0,     0],\n",
       "         [ 3908,   311,  9372,   164,   250,  2057,   817,  2523,    41,     1,\n",
       "            200,  4120,     5,   126,  2974,    22,  2637,    45,   309,   310],\n",
       "         [ 2218,   358, 15200, 17981,    24,   290,    41,  2223,  2733, 12484,\n",
       "              0,     0,     0,     0,     0,     0,     0,     0,     0,     0],\n",
       "         [14612, 14613,     5,     7, 14614,     5,  8429,  4216,  2831,    61,\n",
       "             26,  2218,  7996,     0,     0,     0,     0,     0,     0,     0],\n",
       "         [ 4337,   254,  1531,    24,  1552,  4321,   270, 12276,  7343,  7346,\n",
       "              0,     0,     0,     0,     0,     0,     0,     0,     0,     0],\n",
       "         [ 2257,  2379,  8106,  3610,   164,  1311,   273,     0,     0,     0,\n",
       "              0,     0,     0,     0,     0,     0,     0,     0,     0,     0],\n",
       "         [ 7011,    26,   352,  1326,   817,  4333,     5,   142,  2815,     0,\n",
       "              0,     0,     0,     0,     0,     0,     0,     0,     0,     0],\n",
       "         [   25,    26,    32,   101,     1,   280,   273,  4472,   729,    46,\n",
       "              0,     0,     0,     0,     0,     0,     0,     0,     0,     0],\n",
       "         [  589, 18535,  4893,  1502,  2622,   101,  1312,     0,     0,     0,\n",
       "              0,     0,     0,     0,     0,     0,     0,     0,     0,     0],\n",
       "         [11131,   646,   131,    64,   509,  8013,    26,  7905,  4118,   925,\n",
       "            597,  4882,   288,     0,     0,     0,     0,     0,     0,     0],\n",
       "         [ 1428,  3674,  8890,  9525,    26,  2616,   605, 13627,  2679,  2218,\n",
       "           6291, 17505,     0,     0,     0,     0,     0,     0,     0,     0],\n",
       "         [ 8081,   725,  5930,  4381,   273,  5042,    29,  5876,     0,     0,\n",
       "              0,     0,     0,     0,     0,     0,     0,     0,     0,     0],\n",
       "         [16296,  4127,  4138,  1673,   501,     1, 10836,     8,    31,     0,\n",
       "              0,     0,     0,     0,     0,     0,     0,     0,     0,     0],\n",
       "         [   77,   270, 30448,  1330,    24,  9700,     8,  1253, 20973,    11,\n",
       "            290,  7078,  5418,     0,     0,     0,     0,     0,     0,     0],\n",
       "         [ 1581,  3306,   757,  1076,  4491,  3648,   164,   446,    29,  2299,\n",
       "           3269,   131,  6607,     5, 18497,   906,     0,     0,     0,     0],\n",
       "         [ 3305,  1949,  4156,    45,  3304,  1837,     0,     0,     0,     0,\n",
       "              0,     0,     0,     0,     0,     0,     0,     0,     0,     0],\n",
       "         [29599,   304, 11670, 15455, 19881,    16,   228,    75, 12446,  9301,\n",
       "           2124,     0,     0,     0,     0,     0,     0,     0,     0,     0],\n",
       "         [   64,     1,   311,    32,     8,    37,  2390,  2218,   151, 24353,\n",
       "           1356,  2584,     0,     0,     0,     0,     0,     0,     0,     0],\n",
       "         [ 3768,     5,  1552,     5, 15857,  5853,    29,  1471,  1024,  5156,\n",
       "             29,   419,  5259,   101,  3622,  2212,  1857,  7239,    29,  1931],\n",
       "         [  609,   131,   724,    26,   128,  3298,  2250,   824,  6677,     0,\n",
       "              0,     0,     0,     0,     0,     0,     0,     0,     0,     0],\n",
       "         [  173,  3646,  5916,   164,  3585,  5917,  1918,   101,   184,  5918,\n",
       "              0,     0,     0,     0,     0,     0,     0,     0,     0,     0],\n",
       "         [  827,  3067,    37,   664,    22,   910,     5,    86,   865,   198,\n",
       "           9101,     0,     0,     0,     0,     0,     0,     0,     0,     0],\n",
       "         [  946,   824,  6932,    26,   100,  2855,  1116,     1,   100,  2001,\n",
       "             29,   845,  2831,   501,  2977,     0,     0,     0,     0,     0],\n",
       "         [  385,   280,     5,  6425,   132, 12173,   946,   824,  6932,  2855,\n",
       "           1857,  3033,    41,   458,    22,   134,     0,     0,     0,     0],\n",
       "         [25237, 36889,   901, 11166,  7698,  4761,    41,    37,  1146,   164,\n",
       "            270, 36903,  1365,   394,   696,   506,     0,     0,     0,     0],\n",
       "         [ 2218,    26,   311,    57,   290,  5969,    29,   107,  1348, 10655,\n",
       "              0,     0,     0,     0,     0,     0,     0,     0,     0,     0],\n",
       "         [ 6074,  3262, 22109,  1671, 36241,    24, 13878,    26,  3358,  3418,\n",
       "              0,     0,     0,     0,     0,     0,     0,     0,     0,     0],\n",
       "         [ 1434,    25,  2074,   480,  9029,    45,    31,  4665,  3823,   330,\n",
       "           1098,    47,  1570,    24,  9171,     0,     0,     0,     0,     0],\n",
       "         [ 7613,   204,  1136,   104,  7096,   273,   131,   310,  1104,   801,\n",
       "            372,  1807,    46,    29, 12290,    24,  1534,  1115,     0,     0]]),\n",
       " 'h_abstract': tensor([[    0,     0,     0,  ...,     0,     0,     0],\n",
       "         [    0,     0,     0,  ...,     0,     0,     0],\n",
       "         [    0,     0,     0,  ...,     0,     0,     0],\n",
       "         ...,\n",
       "         [    1,   782,    26,  ...,     0,     0,     0],\n",
       "         [ 6098,  3613,  1108,  ...,     0,     0,     0],\n",
       "         [38535,  1865,  4126,  ...,     0,     0,     0]]),\n",
       " 'h_category': tensor([ 0,  0,  0,  0,  0,  0,  0,  0,  0,  0,  0, 21, 21,  3,  3,  3,  3,  3,\n",
       "          3, 54,  3, 21, 21,  3, 21,  3,  3, 21,  3,  3, 21,  3,  1,  3,  3,  3,\n",
       "          3,  3, 47,  3, 21,  3, 21, 21, 21, 29, 47, 21,  3, 21]),\n",
       " 'h_subcategory': tensor([  0,   0,   0,   0,   0,   0,   0,   0,   0,   0,   0, 124,  22,  88,\n",
       "           4,   4,   4,   4,  23, 128,  23,  22,  22,   4,  26,  88,  88,  22,\n",
       "          23,  88,  56,   4,  38, 116,  88,   4,   4,  88,  94,  74, 124,   4,\n",
       "          22,  56,  56,  33,  94,  56,  23,  22]),\n",
       " 'h_vader_sentiment': tensor([ 0.0000,  0.0000,  0.0000,  0.0000,  0.0000,  0.0000,  0.0000,  0.0000,\n",
       "          0.0000,  0.0000,  0.0000,  0.0000,  0.0000, -0.2960,  0.0000, -0.6705,\n",
       "          0.3182, -0.7906, -0.1027,  0.0000, -0.1027, -0.4588,  0.0000,  0.1280,\n",
       "          0.0000,  0.5719, -0.3400,  0.0000, -0.5994,  0.0000, -0.2500, -0.3400,\n",
       "          0.0000,  0.0000,  0.2263,  0.0000,  0.2263,  0.4019, -0.5994, -0.2960,\n",
       "          0.6369, -0.4404,  0.0000,  0.0000,  0.2023, -0.3802, -0.4310, -0.5106,\n",
       "         -0.7783, -0.4019]),\n",
       " 'h_bert_sentiment': tensor([ 0.0000,  0.0000,  0.0000,  0.0000,  0.0000,  0.0000,  0.0000,  0.0000,\n",
       "          0.0000,  0.0000,  0.0000,  0.9965, -0.9741, -0.9886, -0.7961, -0.9090,\n",
       "         -0.9989, -0.9994, -0.9930,  0.9427, -0.9930, -0.9994,  0.2502, -0.9677,\n",
       "          0.8531,  0.9948, -0.9986, -0.4903, -0.9855, -0.9318, -0.9983, -0.9840,\n",
       "          0.9583, -0.9702, -0.9890, -0.8855, -0.9308,  0.9041,  0.9702, -0.9581,\n",
       "          0.9995, -0.9708, -0.9979,  0.5794,  0.9733, -0.9966, -0.9992, -0.9859,\n",
       "         -0.9899, -0.9970]),\n",
       " 'history_length': tensor(50),\n",
       " 'c_title': tensor([[ 2053,  2283,  1554,  4612,   605,    37,   534,    24,  1147,  2387,\n",
       "            711,    37,  1276, 10890, 19600,     0,     0,     0,     0,     0],\n",
       "         [  383,     8,    77,   301,  4071,   475,   600, 14406,    25,  2148,\n",
       "            164,     1,   560,    45,  1656, 16257,  1399,     0,     0,     0],\n",
       "         [    1, 12627,  2816,  2309,    36,   273,   564,   722,  5408,    29,\n",
       "           3356,     0,     0,     0,     0,     0,     0,     0,     0,     0],\n",
       "         [  660,    74,  3523,  3528,  1471,  3829,   288,  1499,  2266,   164,\n",
       "          15334,     0,     0,     0,     0,     0,     0,     0,     0,     0],\n",
       "         [  512,     8,   910,   131,   525,   250,   118,   726,  5697,  1425,\n",
       "            151,  1143,   483,     0,     0,     0,     0,     0,     0,     0],\n",
       "         [   60,   326,   104,  8308,   501,  4042,   775,   164,    37,   398,\n",
       "              8,  2078,  5539,   486,  9601,    29,    37, 42543,   853,    45],\n",
       "         [   26,  7663,   273,  1425,   131,   704,   151,    86,   910,   288,\n",
       "              0,     0,     0,     0,     0,     0,     0,     0,     0,     0],\n",
       "         [    1,   637,   322,   501,  3103,  1670,    24,     1, 14601,     0,\n",
       "              0,     0,     0,     0,     0,     0,     0,     0,     0,     0],\n",
       "         [ 1434,  2678,  4349,   280,     5,    61,  2480,  1478, 41673,  2243,\n",
       "             29, 11096,     5,  1472,   476,     0,     0,     0,     0,     0],\n",
       "         [ 1581,   273,   101,  1389, 14773,    57,  2679,  2680,   194,  2678,\n",
       "           5572, 12010,     0,     0,     0,     0,     0,     0,     0,     0],\n",
       "         [  701,   231,   660,    26,  3736, 18075,  6227,   367,   164, 13742,\n",
       "           1276,   409,   273,    29,     1,   419, 30682,     0,     0,     0],\n",
       "         [ 1954,  1955, 16217,  3166,   815,    41,   422, 10773,     5,  3646,\n",
       "           1098,    26,  1289, 20426,   270, 37661,  1365,    29, 22217, 31131],\n",
       "         [    1,  5908,   543,    24,    67,   564,    26,   491,   911,     0,\n",
       "              0,     0,     0,     0,     0,     0,     0,     0,     0,     0],\n",
       "         [   64,  1593, 41466,    57,   251,  2266, 25002,     8,   407,   118,\n",
       "           1407,     0,     0,     0,     0,     0,     0,     0,     0,     0],\n",
       "         [ 7444, 12291,  1051,    11,  5877,  8953,  1444,  3925,    89,    64,\n",
       "            288,     0,     0,     0,     0,     0,     0,     0,     0,     0],\n",
       "         [12773,  7192, 18768,   164,   100,   595,     5,  7878, 42501,  2598,\n",
       "          10129,     0,     0,     0,     0,     0,     0,     0,     0,     0],\n",
       "         [  120, 11394,   853,   173,  1162,     1,   882,   966,   579,     0,\n",
       "              0,     0,     0,     0,     0,     0,     0,     0,     0,     0],\n",
       "         [ 2450, 12053,     8,    25,  7963,   311,   883,  8784,   754,   892,\n",
       "           1838,     0,     0,     0,     0,     0,     0,     0,     0,     0],\n",
       "         [ 4986,  6802,     5, 11196, 11197,   151,   539,     5,   190,    45,\n",
       "           1255, 11388,   273,     0,     0,     0,     0,     0,     0,     0],\n",
       "         [21022,  1564,  5818,  4664,  1775,   859,   115,  9653,    45,  9088,\n",
       "              0,     0,     0,     0,     0,     0,     0,     0,     0,     0],\n",
       "         [  146,   131,  1472,  1926,  1932,    26,  2703,   605,   801,   273,\n",
       "           2480, 35754,   417,   549,    45,  1496,     0,     0,     0,     0],\n",
       "         [ 3005,  2963,   131,   327,  6274,   273,   382,    48,    61,   304,\n",
       "            859,   163, 20719,  1478,     0,     0,     0,     0,     0,     0],\n",
       "         [ 5081,   131,   817,   327,   458,  2051,    89,    45,  5903,    37,\n",
       "           3291,  1800,    57,  5830, 19956,     0,     0,     0,     0,     0],\n",
       "         [ 1398,  6612,  2072,  6651,    26,  1795,    45,  1836,  7652,  2864,\n",
       "              0,     0,     0,     0,     0,     0,     0,     0,     0,     0],\n",
       "         [  667, 19167,  2662,   131,     1,  6380,   884,    41,     1,  1156,\n",
       "             24,     1, 17675, 25081, 41664,  4621,     0,     0,     0,     0],\n",
       "         [ 4127,  3053,   126,  7670,    26,  7108,     0,     0,     0,     0,\n",
       "              0,     0,     0,     0,     0,     0,     0,     0,     0,     0],\n",
       "         [ 1221,  4744,  3765, 17474, 17824,  5129,   805,  5128,     0,     0,\n",
       "              0,     0,     0,     0,     0,     0,     0,     0,     0,     0],\n",
       "         [   90,    26,    37,   802,    29,     1,   290,   704,   251,   104,\n",
       "             36,  1970, 11116,  2342,  3125,     0,     0,     0,     0,     0]]),\n",
       " 'c_abstract': tensor([[3223,  181,   86,  ...,    0,    0,    0],\n",
       "         [ 383,    8,   77,  ...,   22,    0,    0],\n",
       "         [6311,   26, 2816,  ...,    0,    0,    0],\n",
       "         ...,\n",
       "         [ 250,    1, 1671,  ...,    0,    0,    0],\n",
       "         [   1, 1221, 3765,  ...,    0,    0,    0],\n",
       "         [   1,  170, 2405,  ...,    0,    0,    0]]),\n",
       " 'c_category': tensor([ 3,  3, 29,  3, 10,  1, 35, 35, 21,  3, 35, 79, 27, 47,  1, 47, 47,  3,\n",
       "         29,  1, 21, 21, 21,  3, 14,  3,  3,  8]),\n",
       " 'c_subcategory': tensor([ 88,  88,  33,  88,  44,   6,  36,  36, 124,   4, 120, 122,  28,  48,\n",
       "          38,  94,  68,  23,  33,  81,  22,  26,  22,  23,  15,  23,  74,   9]),\n",
       " 'c_vader_sentiment': tensor([-0.4767,  0.0000, -0.5423,  0.0000,  0.4588,  0.0000,  0.0000,  0.0000,\n",
       "          0.0000,  0.2263,  0.0000,  0.2023,  0.0000,  0.0000,  0.2023,  0.7964,\n",
       "          0.0000, -0.4215, -0.2732,  0.6369, -0.5994, -0.3612, -0.3612,  0.2732,\n",
       "          0.5106,  0.0000,  0.2263,  0.0000]),\n",
       " 'c_bert_sentiment': tensor([-0.9898, -0.9620, -0.9962, -0.9962,  0.9984,  0.2318, -0.9719,  0.9990,\n",
       "         -0.9977,  0.9411, -0.9885, -0.9938,  0.9989, -0.9994, -0.9806,  0.9983,\n",
       "         -0.4348, -0.9850, -0.9946,  0.9997, -0.9596, -0.9846, -0.9801, -0.6421,\n",
       "         -0.9767,  0.9658, -0.9818, -0.0486]),\n",
       " 'labels': tensor([0, 0, 0, 0, 0, 0, 0, 0, 0, 1, 0, 0, 0, 0, 0, 0, 0, 0, 0, 0, 0, 0, 0, 0,\n",
       "         0, 0, 0, 0])}"
      ]
     },
     "execution_count": 22,
     "metadata": {},
     "output_type": "execute_result"
    }
   ],
   "source": [
    "test_dataset[0]"
   ]
  },
  {
   "cell_type": "code",
   "execution_count": 30,
   "metadata": {},
   "outputs": [
    {
     "data": {
      "text/plain": [
       "tensor([[ 2679,  4349,  4726,  2851,   550,    29,  5067,   164,  3585, 10645,\n",
       "          2250,  1471,     0,     0,     0,     0,     0,     0,     0,     0],\n",
       "        [  887,   128,  3392,  1401,  1764,   126,  4545,     0,     0,     0,\n",
       "             0,     0,     0,     0,     0,     0,     0,     0,     0,     0]])"
      ]
     },
     "execution_count": 30,
     "metadata": {},
     "output_type": "execute_result"
    }
   ],
   "source": [
    "test_dataset[11]['c_title']"
   ]
  }
 ],
 "metadata": {
  "kernelspec": {
   "display_name": "newsrec",
   "language": "python",
   "name": "python3"
  },
  "language_info": {
   "codemirror_mode": {
    "name": "ipython",
    "version": 3
   },
   "file_extension": ".py",
   "mimetype": "text/x-python",
   "name": "python",
   "nbconvert_exporter": "python",
   "pygments_lexer": "ipython3",
   "version": "3.9.21"
  }
 },
 "nbformat": 4,
 "nbformat_minor": 2
}
